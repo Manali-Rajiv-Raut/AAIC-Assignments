{
  "nbformat": 4,
  "nbformat_minor": 0,
  "metadata": {
    "colab": {
      "name": "manaliraut2_gmail_com_mandatory_15.ipynb",
      "provenance": [],
      "collapsed_sections": []
    },
    "kernelspec": {
      "display_name": "Python 3",
      "language": "python",
      "name": "python3"
    },
    "language_info": {
      "codemirror_mode": {
        "name": "ipython",
        "version": 3
      },
      "file_extension": ".py",
      "mimetype": "text/x-python",
      "name": "python",
      "nbconvert_exporter": "python",
      "pygments_lexer": "ipython3",
      "version": "3.7.3"
    }
  },
  "cells": [
    {
      "cell_type": "markdown",
      "metadata": {
        "colab_type": "text",
        "id": "g6VKU2B6UuDK"
      },
      "source": [
        "## Social network Graph Link Prediction - Facebook Challenge"
      ]
    },
    {
      "cell_type": "markdown",
      "metadata": {
        "colab_type": "text",
        "id": "wX9flDjlUuDQ"
      },
      "source": [
        "### Problem Statement : Given a directed social graph, have to predict missing links to recommend users."
      ]
    },
    {
      "cell_type": "code",
      "metadata": {
        "colab_type": "code",
        "id": "GN65uexUUuDT",
        "colab": {}
      },
      "source": [
        "#Importing Libraries\n",
        "# please do go through this python notebook: \n",
        "import warnings\n",
        "warnings.filterwarnings(\"ignore\")\n",
        "\n",
        "import csv\n",
        "import pandas as pd#pandas to create small dataframes \n",
        "import datetime #Convert to unix time\n",
        "import time #Convert to unix time\n",
        "# if numpy is not installed already : pip3 install numpy\n",
        "import numpy as np#Do aritmetic operations on arrays\n",
        "# matplotlib: used to plot graphs\n",
        "import matplotlib\n",
        "import matplotlib.pylab as plt\n",
        "import seaborn as sns#Plots\n",
        "from matplotlib import rcParams#Size of plots  \n",
        "from sklearn.cluster import MiniBatchKMeans, KMeans#Clustering\n",
        "import math\n",
        "import pickle\n",
        "import os\n",
        "# to install xgboost: pip3 install xgboost\n",
        "import xgboost as xgb\n",
        "\n",
        "import warnings\n",
        "import networkx as nx\n",
        "import pdb\n",
        "import pickle\n",
        "from scipy.sparse.linalg import svds, eigs"
      ],
      "execution_count": 0,
      "outputs": []
    },
    {
      "cell_type": "code",
      "metadata": {
        "colab_type": "code",
        "id": "4ue1CP4vVGTL",
        "outputId": "677b686f-d1d4-4f6c-e497-9a245a6c1fb8",
        "colab": {
          "base_uri": "https://localhost:8080/",
          "height": 121
        }
      },
      "source": [
        "from google.colab import drive\n",
        "drive.mount('/content/drive')"
      ],
      "execution_count": 2,
      "outputs": [
        {
          "output_type": "stream",
          "text": [
            "Go to this URL in a browser: https://accounts.google.com/o/oauth2/auth?client_id=947318989803-6bn6qk8qdgf4n4g3pfee6491hc0brc4i.apps.googleusercontent.com&redirect_uri=urn%3aietf%3awg%3aoauth%3a2.0%3aoob&response_type=code&scope=email%20https%3a%2f%2fwww.googleapis.com%2fauth%2fdocs.test%20https%3a%2f%2fwww.googleapis.com%2fauth%2fdrive%20https%3a%2f%2fwww.googleapis.com%2fauth%2fdrive.photos.readonly%20https%3a%2f%2fwww.googleapis.com%2fauth%2fpeopleapi.readonly\n",
            "\n",
            "Enter your authorization code:\n",
            "··········\n",
            "Mounted at /content/drive\n"
          ],
          "name": "stdout"
        }
      ]
    },
    {
      "cell_type": "code",
      "metadata": {
        "colab_type": "code",
        "id": "DwKskQXcbkMR",
        "outputId": "110546e8-c5f9-4f33-e173-2f60aabc368e",
        "colab": {
          "base_uri": "https://localhost:8080/",
          "height": 34
        }
      },
      "source": [
        "!ls"
      ],
      "execution_count": 3,
      "outputs": [
        {
          "output_type": "stream",
          "text": [
            "drive  sample_data\n"
          ],
          "name": "stdout"
        }
      ]
    },
    {
      "cell_type": "code",
      "metadata": {
        "colab_type": "code",
        "id": "N_4VAWh_UuDe",
        "outputId": "708602d2-7f4d-4a3d-a460-a2632d4240ba",
        "colab": {
          "base_uri": "https://localhost:8080/",
          "height": 118
        }
      },
      "source": [
        "#reading graph\n",
        "if not os.path.isfile('/content/drive/My Drive/mandatory_15/train_woheader.csv'):\n",
        "    traincsv = pd.read_csv('/content/drive/My Drive/mandatory_15/train.csv')\n",
        "    print(traincsv[traincsv.isna().any(1)])\n",
        "    print(traincsv.info())\n",
        "    print(\"Number of diplicate entries: \",sum(traincsv.duplicated()))\n",
        "    traincsv.to_csv('/content/drive/My Drive/mandatory_15/train_woheader.csv',header=False,index=False)\n",
        "    print(\"saved the graph into file\")\n",
        "else:\n",
        "    g=nx.read_edgelist('/content/drive/My Drive/mandatory_15/train_woheader.csv',delimiter=',',create_using=nx.DiGraph(),nodetype=int)\n",
        "    print(nx.info(g))"
      ],
      "execution_count": 4,
      "outputs": [
        {
          "output_type": "stream",
          "text": [
            "Name: \n",
            "Type: DiGraph\n",
            "Number of nodes: 1862220\n",
            "Number of edges: 9437519\n",
            "Average in degree:   5.0679\n",
            "Average out degree:   5.0679\n"
          ],
          "name": "stdout"
        }
      ]
    },
    {
      "cell_type": "code",
      "metadata": {
        "colab_type": "code",
        "id": "pua2Hrb4UuDn",
        "outputId": "195b5354-013c-48f0-8084-15743a6649c7",
        "colab": {
          "base_uri": "https://localhost:8080/",
          "height": 420
        }
      },
      "source": [
        "# Displaying a sub graph\n",
        "if not os.path.isfile('train_woheader_sample.csv'):\n",
        "    pd.read_csv('/content/drive/My Drive/mandatory_15/train.csv', nrows=50).to_csv('train_woheader_sample.csv',header=False,index=False)\n",
        "    \n",
        "subgraph=nx.read_edgelist('train_woheader_sample.csv',delimiter=',',create_using=nx.DiGraph(),nodetype=int)\n",
        "# https://stackoverflow.com/questions/9402255/drawing-a-huge-graph-with-networkx-and-matplotlib\n",
        "\n",
        "pos=nx.spring_layout(subgraph)\n",
        "nx.draw(subgraph,pos,node_color='#A0CBE2',edge_color='#00bb5e',width=1,edge_cmap=plt.cm.Blues,with_labels=True)\n",
        "plt.savefig(\"graph_sample.pdf\")\n",
        "print(nx.info(subgraph))"
      ],
      "execution_count": 5,
      "outputs": [
        {
          "output_type": "stream",
          "text": [
            "Name: \n",
            "Type: DiGraph\n",
            "Number of nodes: 66\n",
            "Number of edges: 50\n",
            "Average in degree:   0.7576\n",
            "Average out degree:   0.7576\n"
          ],
          "name": "stdout"
        },
        {
          "output_type": "display_data",
          "data": {
            "image/png": "[encoded data removed]",
            "text/plain": [
              "<Figure size 432x288 with 1 Axes>"
            ]
          },
          "metadata": {
            "tags": []
          }
        }
      ]
    },
    {
      "cell_type": "markdown",
      "metadata": {
        "colab_type": "text",
        "id": "-7k6_KDLUuDu"
      },
      "source": [
        "## 1. Exploratory Data Analysis"
      ]
    },
    {
      "cell_type": "code",
      "metadata": {
        "colab_type": "code",
        "id": "xcskytzqUuDw",
        "outputId": "861ef01c-32d1-4e5b-9bc3-6697dd4af2af",
        "colab": {
          "base_uri": "https://localhost:8080/",
          "height": 34
        }
      },
      "source": [
        "# No of Unique persons \n",
        "print(\"The number of unique persons\",len(g.nodes()))"
      ],
      "execution_count": 0,
      "outputs": [
        {
          "output_type": "stream",
          "text": [
            "The number of unique persons 1862220\n"
          ],
          "name": "stdout"
        }
      ]
    },
    {
      "cell_type": "markdown",
      "metadata": {
        "colab_type": "text",
        "id": "mT1oMtBZUuD4"
      },
      "source": [
        "### 1.1 No of followers for each person"
      ]
    },
    {
      "cell_type": "code",
      "metadata": {
        "colab_type": "code",
        "id": "u1h7i_-mUuD6",
        "outputId": "39dfc076-82b7-49c8-963b-f3cc2a27ba6c",
        "colab": {
          "base_uri": "https://localhost:8080/",
          "height": 388
        }
      },
      "source": [
        "indegree_dist = list(dict(g.in_degree()).values())\n",
        "indegree_dist.sort()\n",
        "plt.figure(figsize=(10,6))\n",
        "plt.plot(indegree_dist)\n",
        "plt.xlabel('Index No')\n",
        "plt.ylabel('No Of Followers')\n",
        "plt.show()"
      ],
      "execution_count": 0,
      "outputs": [
        {
          "output_type": "display_data",
          "data": {
            "image/png": "[encoded data removed]",
            "text/plain": [
              "<Figure size 720x432 with 1 Axes>"
            ]
          },
          "metadata": {
            "tags": []
          }
        }
      ]
    },
    {
      "cell_type": "code",
      "metadata": {
        "colab_type": "code",
        "id": "1GaSTAV0UuEB",
        "outputId": "cada4487-98bf-4740-aa55-869ca30788fd",
        "colab": {
          "base_uri": "https://localhost:8080/",
          "height": 388
        }
      },
      "source": [
        "indegree_dist = list(dict(g.in_degree()).values())\n",
        "indegree_dist.sort()\n",
        "plt.figure(figsize=(10,6))\n",
        "plt.plot(indegree_dist[0:1500000])\n",
        "plt.xlabel('Index No')\n",
        "plt.ylabel('No Of Followers')\n",
        "plt.show()"
      ],
      "execution_count": 0,
      "outputs": [
        {
          "output_type": "display_data",
          "data": {
            "image/png": "[encoded data removed]",
            "text/plain": [
              "<Figure size 720x432 with 1 Axes>"
            ]
          },
          "metadata": {
            "tags": []
          }
        }
      ]
    },
    {
      "cell_type": "code",
      "metadata": {
        "colab_type": "code",
        "id": "csrY1cL_UuEH",
        "outputId": "b9765a3e-090a-4167-987d-5433b5b3a522",
        "colab": {
          "base_uri": "https://localhost:8080/",
          "height": 265
        }
      },
      "source": [
        "plt.boxplot(indegree_dist)\n",
        "plt.ylabel('No Of Followers')\n",
        "plt.show()"
      ],
      "execution_count": 0,
      "outputs": [
        {
          "output_type": "display_data",
          "data": {
            "image/png": "[encoded data removed]",
            "text/plain": [
              "<Figure size 432x288 with 1 Axes>"
            ]
          },
          "metadata": {
            "tags": []
          }
        }
      ]
    },
    {
      "cell_type": "code",
      "metadata": {
        "colab_type": "code",
        "id": "4DD4slR7UuEN",
        "outputId": "956a540a-e8cb-4acc-f014-d869141393c3",
        "colab": {
          "base_uri": "https://localhost:8080/",
          "height": 202
        }
      },
      "source": [
        "### 90-100 percentile\n",
        "for i in range(0,11):\n",
        "    print(90+i,'percentile value is',np.percentile(indegree_dist,90+i))"
      ],
      "execution_count": 0,
      "outputs": [
        {
          "output_type": "stream",
          "text": [
            "90 percentile value is 12.0\n",
            "91 percentile value is 13.0\n",
            "92 percentile value is 14.0\n",
            "93 percentile value is 15.0\n",
            "94 percentile value is 17.0\n",
            "95 percentile value is 19.0\n",
            "96 percentile value is 21.0\n",
            "97 percentile value is 24.0\n",
            "98 percentile value is 29.0\n",
            "99 percentile value is 40.0\n",
            "100 percentile value is 552.0\n"
          ],
          "name": "stdout"
        }
      ]
    },
    {
      "cell_type": "code",
      "metadata": {
        "colab_type": "code",
        "id": "FPIZWrBtUuEW",
        "outputId": "e17774d2-6224-451e-927c-2e9099749f14",
        "colab": {
          "base_uri": "https://localhost:8080/",
          "height": 185
        }
      },
      "source": [
        "### 99-100 percentile\n",
        "for i in range(10,110,10):\n",
        "    print(99+(i/100),'percentile value is',np.percentile(indegree_dist,99+(i/100)))"
      ],
      "execution_count": 0,
      "outputs": [
        {
          "output_type": "stream",
          "text": [
            "99.1 percentile value is 42.0\n",
            "99.2 percentile value is 44.0\n",
            "99.3 percentile value is 47.0\n",
            "99.4 percentile value is 50.0\n",
            "99.5 percentile value is 55.0\n",
            "99.6 percentile value is 61.0\n",
            "99.7 percentile value is 70.0\n",
            "99.8 percentile value is 84.0\n",
            "99.9 percentile value is 112.0\n",
            "100.0 percentile value is 552.0\n"
          ],
          "name": "stdout"
        }
      ]
    },
    {
      "cell_type": "code",
      "metadata": {
        "colab_type": "code",
        "id": "inP-9DJqUuEc",
        "outputId": "c0cda69e-ce26-49d9-f85c-7ae0db5d5a6e",
        "colab": {
          "base_uri": "https://localhost:8080/",
          "height": 511
        }
      },
      "source": [
        "%matplotlib inline\n",
        "sns.set_style('ticks')\n",
        "fig, ax = plt.subplots()\n",
        "fig.set_size_inches(11.7, 8.27)\n",
        "sns.distplot(indegree_dist, color='#16A085')\n",
        "plt.xlabel('PDF of Indegree')\n",
        "sns.despine()\n",
        "#plt.show()"
      ],
      "execution_count": 0,
      "outputs": [
        {
          "output_type": "display_data",
          "data": {
            "image/png": "[encoded data removed]",
            "text/plain": [
              "<Figure size 842.4x595.44 with 1 Axes>"
            ]
          },
          "metadata": {
            "tags": []
          }
        }
      ]
    },
    {
      "cell_type": "markdown",
      "metadata": {
        "colab_type": "text",
        "id": "smpe_aS6UuEi"
      },
      "source": [
        "## 1.2 No of people each person is following"
      ]
    },
    {
      "cell_type": "code",
      "metadata": {
        "colab_type": "code",
        "id": "dyNJEb3NUuEj",
        "outputId": "35362cfc-71dc-4720-e61e-b04a689c2870",
        "colab": {
          "base_uri": "https://localhost:8080/",
          "height": 388
        }
      },
      "source": [
        "outdegree_dist = list(dict(g.out_degree()).values())\n",
        "outdegree_dist.sort()\n",
        "plt.figure(figsize=(10,6))\n",
        "plt.plot(outdegree_dist)\n",
        "plt.xlabel('Index No')\n",
        "plt.ylabel('No Of people each person is following')\n",
        "plt.show()"
      ],
      "execution_count": 0,
      "outputs": [
        {
          "output_type": "display_data",
          "data": {
            "image/png": "[encoded data removed]",
            "text/plain": [
              "<Figure size 720x432 with 1 Axes>"
            ]
          },
          "metadata": {
            "tags": []
          }
        }
      ]
    },
    {
      "cell_type": "code",
      "metadata": {
        "colab_type": "code",
        "id": "p3RYL6vMUuEp",
        "outputId": "98a8f049-8ad9-4416-e855-c725ce6ac49f",
        "colab": {
          "base_uri": "https://localhost:8080/",
          "height": 388
        }
      },
      "source": [
        "indegree_dist = list(dict(g.in_degree()).values())\n",
        "indegree_dist.sort()\n",
        "plt.figure(figsize=(10,6))\n",
        "plt.plot(outdegree_dist[0:1500000])\n",
        "plt.xlabel('Index No')\n",
        "plt.ylabel('No Of people each person is following')\n",
        "plt.show()"
      ],
      "execution_count": 0,
      "outputs": [
        {
          "output_type": "display_data",
          "data": {
            "image/png": "[encoded data removed]",
            "text/plain": [
              "<Figure size 720x432 with 1 Axes>"
            ]
          },
          "metadata": {
            "tags": []
          }
        }
      ]
    },
    {
      "cell_type": "code",
      "metadata": {
        "colab_type": "code",
        "id": "cW7bm62EUuEw",
        "outputId": "bc570775-9d09-4542-a178-4fb461fccd8e",
        "colab": {
          "base_uri": "https://localhost:8080/",
          "height": 265
        }
      },
      "source": [
        "plt.boxplot(indegree_dist)\n",
        "plt.ylabel('No Of people each person is following')\n",
        "plt.show()"
      ],
      "execution_count": 0,
      "outputs": [
        {
          "output_type": "display_data",
          "data": {
            "image/png": "[encoded data removed]",
            "text/plain": [
              "<Figure size 432x288 with 1 Axes>"
            ]
          },
          "metadata": {
            "tags": []
          }
        }
      ]
    },
    {
      "cell_type": "code",
      "metadata": {
        "colab_type": "code",
        "id": "DtYdRU0aUuE2",
        "outputId": "10ce3ee0-f41f-4af5-9083-56e5ca4372e2",
        "colab": {
          "base_uri": "https://localhost:8080/",
          "height": 202
        }
      },
      "source": [
        "### 90-100 percentile\n",
        "for i in range(0,11):\n",
        "    print(90+i,'percentile value is',np.percentile(outdegree_dist,90+i))"
      ],
      "execution_count": 0,
      "outputs": [
        {
          "output_type": "stream",
          "text": [
            "90 percentile value is 12.0\n",
            "91 percentile value is 13.0\n",
            "92 percentile value is 14.0\n",
            "93 percentile value is 15.0\n",
            "94 percentile value is 17.0\n",
            "95 percentile value is 19.0\n",
            "96 percentile value is 21.0\n",
            "97 percentile value is 24.0\n",
            "98 percentile value is 29.0\n",
            "99 percentile value is 40.0\n",
            "100 percentile value is 1566.0\n"
          ],
          "name": "stdout"
        }
      ]
    },
    {
      "cell_type": "code",
      "metadata": {
        "colab_type": "code",
        "id": "h_m0axo_UuE8",
        "outputId": "8147b40a-fefa-427e-9ba2-cef456d54fac",
        "colab": {
          "base_uri": "https://localhost:8080/",
          "height": 185
        }
      },
      "source": [
        "### 99-100 percentile\n",
        "for i in range(10,110,10):\n",
        "    print(99+(i/100),'percentile value is',np.percentile(outdegree_dist,99+(i/100)))"
      ],
      "execution_count": 0,
      "outputs": [
        {
          "output_type": "stream",
          "text": [
            "99.1 percentile value is 42.0\n",
            "99.2 percentile value is 45.0\n",
            "99.3 percentile value is 48.0\n",
            "99.4 percentile value is 52.0\n",
            "99.5 percentile value is 56.0\n",
            "99.6 percentile value is 63.0\n",
            "99.7 percentile value is 73.0\n",
            "99.8 percentile value is 90.0\n",
            "99.9 percentile value is 123.0\n",
            "100.0 percentile value is 1566.0\n"
          ],
          "name": "stdout"
        }
      ]
    },
    {
      "cell_type": "code",
      "metadata": {
        "colab_type": "code",
        "id": "oK74jbOVUuFC",
        "outputId": "86d21c12-94f7-4689-818c-a009efc1c7b4",
        "colab": {
          "base_uri": "https://localhost:8080/",
          "height": 511
        }
      },
      "source": [
        "sns.set_style('ticks')\n",
        "fig, ax = plt.subplots()\n",
        "fig.set_size_inches(11.7, 8.27)\n",
        "sns.distplot(outdegree_dist, color='#16A085')\n",
        "plt.xlabel('PDF of Outdegree')\n",
        "sns.despine()"
      ],
      "execution_count": 0,
      "outputs": [
        {
          "output_type": "display_data",
          "data": {
            "image/png": "[encoded data removed]",
            "text/plain": [
              "<Figure size 842.4x595.44 with 1 Axes>"
            ]
          },
          "metadata": {
            "tags": []
          }
        }
      ]
    },
    {
      "cell_type": "code",
      "metadata": {
        "colab_type": "code",
        "id": "8BzysxyRUuFH",
        "outputId": "a4f2999a-83e9-4408-e42c-fcd80a75e497",
        "colab": {
          "base_uri": "https://localhost:8080/",
          "height": 34
        }
      },
      "source": [
        "print('No of persons those are not following anyone are' ,sum(np.array(outdegree_dist)==0),'and % is',\n",
        "                                sum(np.array(outdegree_dist)==0)*100/len(outdegree_dist) )"
      ],
      "execution_count": 0,
      "outputs": [
        {
          "output_type": "stream",
          "text": [
            "No of persons those are not following anyone are 274512 and % is 14.741115442858524\n"
          ],
          "name": "stdout"
        }
      ]
    },
    {
      "cell_type": "code",
      "metadata": {
        "colab_type": "code",
        "id": "gdgW4T2zUuFN",
        "outputId": "92680567-32c2-417d-80ed-61a87b070229",
        "colab": {
          "base_uri": "https://localhost:8080/",
          "height": 34
        }
      },
      "source": [
        "print('No of persons having zero followers are' ,sum(np.array(indegree_dist)==0),'and % is',\n",
        "                                sum(np.array(indegree_dist)==0)*100/len(indegree_dist) )"
      ],
      "execution_count": 0,
      "outputs": [
        {
          "output_type": "stream",
          "text": [
            "No of persons having zero followers are 188043 and % is 10.097786512871734\n"
          ],
          "name": "stdout"
        }
      ]
    },
    {
      "cell_type": "code",
      "metadata": {
        "colab_type": "code",
        "id": "jHgpIKTiUuFS",
        "outputId": "147471c8-dd70-4cb3-e0a2-f8278b9f6480",
        "colab": {
          "base_uri": "https://localhost:8080/",
          "height": 34
        }
      },
      "source": [
        "count=0\n",
        "for i in g.nodes():\n",
        "    if len(list(g.predecessors(i)))==0 :\n",
        "        if len(list(g.successors(i)))==0:\n",
        "            count+=1\n",
        "print('No of persons those are not not following anyone and also not having any followers are',count)"
      ],
      "execution_count": 0,
      "outputs": [
        {
          "output_type": "stream",
          "text": [
            "No of persons those are not not following anyone and also not having any followers are 0\n"
          ],
          "name": "stdout"
        }
      ]
    },
    {
      "cell_type": "markdown",
      "metadata": {
        "colab_type": "text",
        "id": "tEQQlg6sUuFY"
      },
      "source": [
        "## 1.3 both followers + following"
      ]
    },
    {
      "cell_type": "code",
      "metadata": {
        "colab_type": "code",
        "id": "rFYzn5UhUuFa",
        "colab": {}
      },
      "source": [
        "from collections import Counter\n",
        "dict_in = dict(g.in_degree())\n",
        "dict_out = dict(g.out_degree())\n",
        "d = Counter(dict_in) + Counter(dict_out)\n",
        "in_out_degree = np.array(list(d.values()))"
      ],
      "execution_count": 0,
      "outputs": []
    },
    {
      "cell_type": "code",
      "metadata": {
        "colab_type": "code",
        "id": "P0zkR63hUuFf",
        "outputId": "f1e2eefc-1625-4e67-d224-94f196179c9f",
        "colab": {
          "base_uri": "https://localhost:8080/",
          "height": 388
        }
      },
      "source": [
        "in_out_degree_sort = sorted(in_out_degree)\n",
        "plt.figure(figsize=(10,6))\n",
        "plt.plot(in_out_degree_sort)\n",
        "plt.xlabel('Index No')\n",
        "plt.ylabel('No Of people each person is following + followers')\n",
        "plt.show()"
      ],
      "execution_count": 0,
      "outputs": [
        {
          "output_type": "display_data",
          "data": {
            "image/png": "[encoded data removed]",
            "text/plain": [
              "<Figure size 720x432 with 1 Axes>"
            ]
          },
          "metadata": {
            "tags": []
          }
        }
      ]
    },
    {
      "cell_type": "code",
      "metadata": {
        "colab_type": "code",
        "id": "HRuKvN3fUuFk",
        "outputId": "f7f17fb1-78dd-4369-c4db-a519641ea5e0",
        "colab": {
          "base_uri": "https://localhost:8080/",
          "height": 388
        }
      },
      "source": [
        "in_out_degree_sort = sorted(in_out_degree)\n",
        "plt.figure(figsize=(10,6))\n",
        "plt.plot(in_out_degree_sort[0:1500000])\n",
        "plt.xlabel('Index No')\n",
        "plt.ylabel('No Of people each person is following + followers')\n",
        "plt.show()"
      ],
      "execution_count": 0,
      "outputs": [
        {
          "output_type": "display_data",
          "data": {
            "image/png": "[encoded data removed]",
            "text/plain": [
              "<Figure size 720x432 with 1 Axes>"
            ]
          },
          "metadata": {
            "tags": []
          }
        }
      ]
    },
    {
      "cell_type": "code",
      "metadata": {
        "colab_type": "code",
        "id": "lj_PUDx0UuFq",
        "outputId": "f18f6b07-420c-492f-8ab5-7e5a5fcd2aeb",
        "colab": {
          "base_uri": "https://localhost:8080/",
          "height": 202
        }
      },
      "source": [
        "### 90-100 percentile\n",
        "for i in range(0,11):\n",
        "    print(90+i,'percentile value is',np.percentile(in_out_degree_sort,90+i))"
      ],
      "execution_count": 0,
      "outputs": [
        {
          "output_type": "stream",
          "text": [
            "90 percentile value is 24.0\n",
            "91 percentile value is 26.0\n",
            "92 percentile value is 28.0\n",
            "93 percentile value is 31.0\n",
            "94 percentile value is 33.0\n",
            "95 percentile value is 37.0\n",
            "96 percentile value is 41.0\n",
            "97 percentile value is 48.0\n",
            "98 percentile value is 58.0\n",
            "99 percentile value is 79.0\n",
            "100 percentile value is 1579.0\n"
          ],
          "name": "stdout"
        }
      ]
    },
    {
      "cell_type": "code",
      "metadata": {
        "colab_type": "code",
        "id": "IY2Q90h8UuFv",
        "outputId": "0db8a1d7-6819-473e-aa4f-d77a1b76ff01",
        "colab": {
          "base_uri": "https://localhost:8080/",
          "height": 185
        }
      },
      "source": [
        "### 99-100 percentile\n",
        "for i in range(10,110,10):\n",
        "    print(99+(i/100),'percentile value is',np.percentile(in_out_degree_sort,99+(i/100)))"
      ],
      "execution_count": 0,
      "outputs": [
        {
          "output_type": "stream",
          "text": [
            "99.1 percentile value is 83.0\n",
            "99.2 percentile value is 87.0\n",
            "99.3 percentile value is 93.0\n",
            "99.4 percentile value is 99.0\n",
            "99.5 percentile value is 108.0\n",
            "99.6 percentile value is 120.0\n",
            "99.7 percentile value is 138.0\n",
            "99.8 percentile value is 168.0\n",
            "99.9 percentile value is 221.0\n",
            "100.0 percentile value is 1579.0\n"
          ],
          "name": "stdout"
        }
      ]
    },
    {
      "cell_type": "code",
      "metadata": {
        "colab_type": "code",
        "id": "umNbf7rPUuF1",
        "outputId": "cf40938f-5847-468e-feae-909016072747",
        "colab": {
          "base_uri": "https://localhost:8080/",
          "height": 50
        }
      },
      "source": [
        "print('Min of no of followers + following is',in_out_degree.min())\n",
        "print(np.sum(in_out_degree==in_out_degree.min()),' persons having minimum no of followers + following')"
      ],
      "execution_count": 0,
      "outputs": [
        {
          "output_type": "stream",
          "text": [
            "Min of no of followers + following is 1\n",
            "334291  persons having minimum no of followers + following\n"
          ],
          "name": "stdout"
        }
      ]
    },
    {
      "cell_type": "code",
      "metadata": {
        "colab_type": "code",
        "id": "wDSNUTSYUuF6",
        "outputId": "182d4993-699d-4f00-c1b9-b293f68e9a0d",
        "colab": {
          "base_uri": "https://localhost:8080/",
          "height": 50
        }
      },
      "source": [
        "print('Max of no of followers + following is',in_out_degree.max())\n",
        "print(np.sum(in_out_degree==in_out_degree.max()),' persons having maximum no of followers + following')"
      ],
      "execution_count": 0,
      "outputs": [
        {
          "output_type": "stream",
          "text": [
            "Max of no of followers + following is 1579\n",
            "1  persons having maximum no of followers + following\n"
          ],
          "name": "stdout"
        }
      ]
    },
    {
      "cell_type": "code",
      "metadata": {
        "colab_type": "code",
        "id": "4wKg7MXUUuF_",
        "outputId": "f7e9ed53-3169-4049-d545-22bad2ebe243",
        "colab": {
          "base_uri": "https://localhost:8080/",
          "height": 34
        }
      },
      "source": [
        "print('No of persons having followers + following less than 10 are',np.sum(in_out_degree<10))"
      ],
      "execution_count": 0,
      "outputs": [
        {
          "output_type": "stream",
          "text": [
            "No of persons having followers + following less than 10 are 1320326\n"
          ],
          "name": "stdout"
        }
      ]
    },
    {
      "cell_type": "code",
      "metadata": {
        "colab_type": "code",
        "id": "p83OaSgSUuGE",
        "outputId": "249642dc-f355-4e1b-c173-705ecd3e60a8",
        "colab": {
          "base_uri": "https://localhost:8080/",
          "height": 50
        }
      },
      "source": [
        "print('No of weakly connected components',len(list(nx.weakly_connected_components(g))))\n",
        "count=0\n",
        "for i in list(nx.weakly_connected_components(g)):\n",
        "    if len(i)==2:\n",
        "        count+=1\n",
        "print('weakly connected components wit 2 nodes',count)"
      ],
      "execution_count": 0,
      "outputs": [
        {
          "output_type": "stream",
          "text": [
            "No of weakly connected components 45558\n",
            "weakly connected components wit 2 nodes 32195\n"
          ],
          "name": "stdout"
        }
      ]
    },
    {
      "cell_type": "markdown",
      "metadata": {
        "colab_type": "text",
        "id": "RmkMNjdDUuGK"
      },
      "source": [
        "# 2. Posing a problem as classification problem"
      ]
    },
    {
      "cell_type": "markdown",
      "metadata": {
        "colab_type": "text",
        "id": "76AtZzUrUuGM"
      },
      "source": [
        "## 2.1 Generating some edges which are not present in graph for supervised learning"
      ]
    },
    {
      "cell_type": "markdown",
      "metadata": {
        "colab_type": "text",
        "id": "aUinBz0eUuGO"
      },
      "source": [
        "### Generated Bad links from graph which are not in graph and whose shortest path is greater than 2."
      ]
    },
    {
      "cell_type": "code",
      "metadata": {
        "colab_type": "code",
        "id": "ExPUmLQ5UuGQ",
        "outputId": "0e3f0ac3-fb37-4174-ff65-9d9814aa2f4b",
        "colab": {
          "base_uri": "https://localhost:8080/",
          "height": 50
        }
      },
      "source": [
        "%%time\n",
        "###generating bad edges from given graph\n",
        "\n",
        "import random\n",
        "\n",
        "if not os.path.isfile('/content/drive/My Drive/mandatory_15/missing_edges_final.p'):\n",
        "    #getting all set of edges\n",
        "    r = csv.reader(open('/content/drive/My Drive/mandatory_15/train_woheader.csv','r'))\n",
        "    edges = dict()\n",
        "    for edge in r:\n",
        "        edges[(edge[0], edge[1])] = 1\n",
        "        \n",
        "        \n",
        "    missing_edges = set([])\n",
        "    while (len(missing_edges)<9437519):\n",
        "        a=random.randint(1, 1862220)\n",
        "        b=random.randint(1, 1862220)\n",
        "        tmp = edges.get((a,b),-1)\n",
        "        if tmp == -1 and a!=b:\n",
        "            try:\n",
        "                if nx.shortest_path_length(g,source=a,target=b) > 2: \n",
        "\n",
        "                    missing_edges.add((a,b))\n",
        "                else:\n",
        "                    continue  \n",
        "            except:  \n",
        "                    missing_edges.add((a,b))              \n",
        "        else:\n",
        "            continue\n",
        "    pickle.dump(missing_edges,open('/content/drive/My Drive/mandatory_15/missing_edges_final.p','wb'))\n",
        "else:\n",
        "    missing_edges = pickle.load(open('/content/drive/My Drive/mandatory_15/missing_edges_final.p','rb'))\n"
      ],
      "execution_count": 6,
      "outputs": [
        {
          "output_type": "stream",
          "text": [
            "CPU times: user 2.01 s, sys: 1.52 s, total: 3.53 s\n",
            "Wall time: 4.93 s\n"
          ],
          "name": "stdout"
        }
      ]
    },
    {
      "cell_type": "code",
      "metadata": {
        "colab_type": "code",
        "id": "vxAAHfJuUuGW",
        "outputId": "01f802c6-9212-4aa4-cd5f-d4aa50251f96",
        "colab": {
          "base_uri": "https://localhost:8080/",
          "height": 34
        }
      },
      "source": [
        "missing_edges = pickle.load(open('/content/drive/My Drive/mandatory_15/missing_edges_final.p','rb'))\n",
        "len(missing_edges)"
      ],
      "execution_count": 8,
      "outputs": [
        {
          "output_type": "execute_result",
          "data": {
            "text/plain": [
              "9437519"
            ]
          },
          "metadata": {
            "tags": []
          },
          "execution_count": 8
        }
      ]
    },
    {
      "cell_type": "markdown",
      "metadata": {
        "colab_type": "text",
        "id": "G-fci0qpUuGc"
      },
      "source": [
        "## 2.2 Training and Test data split:"
      ]
    },
    {
      "cell_type": "markdown",
      "metadata": {
        "colab_type": "text",
        "id": "PDAquG4tUuGd"
      },
      "source": [
        "### Removed edges from Graph and used as test data and after removing used that graph for creating features for Train and test data"
      ]
    },
    {
      "cell_type": "code",
      "metadata": {
        "colab_type": "code",
        "id": "WzRRzv-BUuGf",
        "colab": {}
      },
      "source": [
        "from sklearn.model_selection import train_test_split\n",
        "if (not os.path.isfile('/content/drive/My Drive/mandatory_15/train_pos_after_eda.csv')) and (not os.path.isfile('/content/drive/My Drive/mandatory_15/test_pos_after_eda.csv')):\n",
        "    #reading total data df\n",
        "    df_pos = pd.read_csv('/content/drive/My Drive/mandatory_15/train.csv')\n",
        "    df_neg = pd.DataFrame(list(missing_edges), columns=['source_node', 'destination_node'])\n",
        "    \n",
        "    print(\"Number of nodes in the graph with edges\", df_pos.shape[0])\n",
        "    print(\"Number of nodes in the graph without edges\", df_neg.shape[0])\n",
        "    \n",
        "    #Trian test split \n",
        "    #Spiltted data into 80-20 \n",
        "    #positive links and negative links seperatly because we need positive training data only for creating graph \n",
        "    #and for feature generation\n",
        "    X_train_pos, X_test_pos, y_train_pos, y_test_pos  = train_test_split(df_pos,np.ones(len(df_pos)),test_size=0.2, random_state=9)\n",
        "    X_train_neg, X_test_neg, y_train_neg, y_test_neg  = train_test_split(df_neg,np.zeros(len(df_neg)),test_size=0.2, random_state=9)\n",
        "    \n",
        "    print('='*60)\n",
        "    print(\"Number of nodes in the train data graph with edges\", X_train_pos.shape[0],\"=\",y_train_pos.shape[0])\n",
        "    print(\"Number of nodes in the train data graph without edges\", X_train_neg.shape[0],\"=\", y_train_neg.shape[0])\n",
        "    print('='*60)\n",
        "    print(\"Number of nodes in the test data graph with edges\", X_test_pos.shape[0],\"=\",y_test_pos.shape[0])\n",
        "    print(\"Number of nodes in the test data graph without edges\", X_test_neg.shape[0],\"=\",y_test_neg.shape[0])\n",
        "\n",
        "    #removing header and saving\n",
        "    X_train_pos.to_csv('/content/drive/My Drive/mandatory_15/train_pos_after_eda.csv',header=False, index=False)\n",
        "    X_test_pos.to_csv('/content/drive/My Drive/mandatory_15/test_pos_after_eda.csv',header=False, index=False)\n",
        "    X_train_neg.to_csv('/content/drive/My Drive/mandatory_15/train_neg_after_eda.csv',header=False, index=False)\n",
        "    X_test_neg.to_csv('/content/drive/My Drive/mandatory_15/test_neg_after_eda.csv',header=False, index=False)\n",
        "else:\n",
        "    #Graph from Traing data only \n",
        "    del missing_edges"
      ],
      "execution_count": 0,
      "outputs": []
    },
    {
      "cell_type": "code",
      "metadata": {
        "colab_type": "code",
        "id": "k85xSE7-UuGk",
        "colab": {
          "base_uri": "https://localhost:8080/",
          "height": 286
        },
        "outputId": "d939fd41-8f42-4343-a948-4b3bda99ee32"
      },
      "source": [
        "if (os.path.isfile('/content/drive/My Drive/mandatory_15/train_pos_after_eda.csv')) and (os.path.isfile('/content/drive/My Drive/mandatory_15/test_pos_after_eda.csv')):        \n",
        "    train_graph=nx.read_edgelist('/content/drive/My Drive/mandatory_15/train_pos_after_eda.csv',delimiter=',',create_using=nx.DiGraph(),nodetype=int)\n",
        "    test_graph=nx.read_edgelist('/content/drive/My Drive/mandatory_15/test_pos_after_eda.csv',delimiter=',',create_using=nx.DiGraph(),nodetype=int)\n",
        "    print(nx.info(train_graph))\n",
        "    print(nx.info(test_graph))\n",
        "    \n",
        "    # finding the unique nodes in the both train and test graphs\n",
        "    train_nodes_pos = set(train_graph.nodes())\n",
        "    test_nodes_pos = set(test_graph.nodes())\n",
        "\n",
        "    trY_teY = len(train_nodes_pos.intersection(test_nodes_pos))\n",
        "    trY_teN = len(train_nodes_pos - test_nodes_pos)\n",
        "    teY_trN = len(test_nodes_pos - train_nodes_pos)\n",
        "\n",
        "    print('no of people common in train and test -- ',trY_teY)\n",
        "    print('no of people present in train but not present in test -- ',trY_teN)\n",
        "\n",
        "    print('no of people present in test but not present in train -- ',teY_trN)\n",
        "    print(' % of people not there in Train but exist in Test in total Test data are {} %'.format(teY_trN/len(test_nodes_pos)*100))"
      ],
      "execution_count": 10,
      "outputs": [
        {
          "output_type": "stream",
          "text": [
            "Name: \n",
            "Type: DiGraph\n",
            "Number of nodes: 1780722\n",
            "Number of edges: 7550015\n",
            "Average in degree:   4.2399\n",
            "Average out degree:   4.2399\n",
            "Name: \n",
            "Type: DiGraph\n",
            "Number of nodes: 1144623\n",
            "Number of edges: 1887504\n",
            "Average in degree:   1.6490\n",
            "Average out degree:   1.6490\n",
            "no of people common in train and test --  1063125\n",
            "no of people present in train but not present in test --  717597\n",
            "no of people present in test but not present in train --  81498\n",
            " % of people not there in Train but exist in Test in total Test data are 7.1200735962845405 %\n"
          ],
          "name": "stdout"
        }
      ]
    },
    {
      "cell_type": "code",
      "metadata": {
        "colab_type": "code",
        "id": "8w7skzAGUuGt",
        "colab": {}
      },
      "source": [
        "#final train and test data sets\n",
        "if (not os.path.isfile('/content/drive/My Drive/mandatory_15/train_after_eda.csv')) and \\\n",
        "(not os.path.isfile('/content/drive/My Drive/mandatory_15/test_after_eda.csv')) and \\\n",
        "(not os.path.isfile('/content/drive/My Drive/mandatory_15/test_y.csv')) and \\\n",
        "(not os.path.isfile('/content/drive/My Drive/mandatory_15/train_y.csv')) and \\\n",
        "(os.path.isfile('/content/drive/My Drive/mandatory_15/train_pos_after_eda.csv')) and \\\n",
        "(os.path.isfile('/content/drive/My Drive/mandatory_15/test_pos_after_eda.csv')) and \\\n",
        "(os.path.isfile('/content/drive/My Drive/mandatory_15/train_neg_after_eda.csv')) and \\\n",
        "(os.path.isfile('/content/drive/My Drive/mandatory_15/test_neg_after_eda.csv')):\n",
        "    \n",
        "    X_train_pos = pd.read_csv('/content/drive/My Drive/mandatory_15/train_pos_after_eda.csv', names=['source_node', 'destination_node'])\n",
        "    X_test_pos = pd.read_csv('/content/drive/My Drive/mandatory_15/test_pos_after_eda.csv', names=['source_node', 'destination_node'])\n",
        "    X_train_neg = pd.read_csv('/content/drive/My Drive/mandatory_15/train_neg_after_eda.csv', names=['source_node', 'destination_node'])\n",
        "    X_test_neg = pd.read_csv('/content/drive/My Drive/mandatory_15/test_neg_after_eda.csv', names=['source_node', 'destination_node'])\n",
        "\n",
        "    print('='*60)\n",
        "    print(\"Number of nodes in the train data graph with edges\", X_train_pos.shape[0])\n",
        "    print(\"Number of nodes in the train data graph without edges\", X_train_neg.shape[0])\n",
        "    print('='*60)\n",
        "    print(\"Number of nodes in the test data graph with edges\", X_test_pos.shape[0])\n",
        "    print(\"Number of nodes in the test data graph without edges\", X_test_neg.shape[0])\n",
        "\n",
        "    X_train = X_train_pos.append(X_train_neg,ignore_index=True)\n",
        "    y_train = np.concatenate((y_train_pos,y_train_neg))\n",
        "    X_test = X_test_pos.append(X_test_neg,ignore_index=True)\n",
        "    y_test = np.concatenate((y_test_pos,y_test_neg)) \n",
        "    \n",
        "    X_train.to_csv('/content/drive/My Drive/mandatory_15/train_after_eda.csv',header=False,index=False)\n",
        "    X_test.to_csv('/content/drive/My Drive/mandatory_15/test_after_eda.csv',header=False,index=False)\n",
        "    pd.DataFrame(y_train.astype(int)).to_csv('/content/drive/My Drive/mandatory_15/train_y.csv',header=False,index=False)\n",
        "    pd.DataFrame(y_test.astype(int)).to_csv('/content/drive/My Drive/mandatory_15/test_y.csv',header=False,index=False)"
      ],
      "execution_count": 0,
      "outputs": []
    },
    {
      "cell_type": "code",
      "metadata": {
        "colab_type": "code",
        "id": "gV5LJBWCUuGx",
        "outputId": "d9b4605a-3668-46b1-d8b3-f24957a76987",
        "colab": {
          "base_uri": "https://localhost:8080/",
          "height": 84
        }
      },
      "source": [
        "X_train = pd.read_csv('/content/drive/My Drive/mandatory_15/train_after_eda.csv')\n",
        "X_test = pd.read_csv('/content/drive/My Drive/mandatory_15/test_after_eda.csv')\n",
        "y_train = pd.read_csv('/content/drive/My Drive/mandatory_15/train_y.csv')\n",
        "y_test = pd.read_csv('/content/drive/My Drive/mandatory_15/test_y.csv')\n",
        "print(\"Data points in train data\",X_train.shape)\n",
        "print(\"Data points in test data\",X_test.shape)\n",
        "print(\"Shape of traget variable in train\",y_train.shape)\n",
        "print(\"Shape of traget variable in test\", y_test.shape)"
      ],
      "execution_count": 12,
      "outputs": [
        {
          "output_type": "stream",
          "text": [
            "Data points in train data (15100029, 2)\n",
            "Data points in test data (3775007, 2)\n",
            "Shape of traget variable in train (15100029, 1)\n",
            "Shape of traget variable in test (3775007, 1)\n"
          ],
          "name": "stdout"
        }
      ]
    },
    {
      "cell_type": "markdown",
      "metadata": {
        "colab_type": "text",
        "id": "kIpkw70KUuG3"
      },
      "source": [
        "# 3. Reading Data"
      ]
    },
    {
      "cell_type": "code",
      "metadata": {
        "colab_type": "code",
        "id": "lFm3yuEvUuG4",
        "outputId": "2f891094-4521-4c31-a191-2ab3b76bcc49",
        "colab": {
          "base_uri": "https://localhost:8080/",
          "height": 118
        }
      },
      "source": [
        "train_graph=nx.read_edgelist('/content/drive/My Drive/mandatory_15/train_pos_after_eda.csv',delimiter=',',create_using=nx.DiGraph(),nodetype=int)\n",
        "print(nx.info(train_graph))"
      ],
      "execution_count": 3,
      "outputs": [
        {
          "output_type": "stream",
          "text": [
            "Name: \n",
            "Type: DiGraph\n",
            "Number of nodes: 1780722\n",
            "Number of edges: 7550015\n",
            "Average in degree:   4.2399\n",
            "Average out degree:   4.2399\n"
          ],
          "name": "stdout"
        }
      ]
    },
    {
      "cell_type": "markdown",
      "metadata": {
        "colab_type": "text",
        "id": "f1CZVFu3UuG9"
      },
      "source": [
        "# 4. Similarity Measures "
      ]
    },
    {
      "cell_type": "markdown",
      "metadata": {
        "colab_type": "text",
        "id": "Hu6TgT66UuG-"
      },
      "source": [
        "### 4.1 Jaccard Distance:\\begin{equation}\n",
        "j = \\frac{|X\\cap Y|}{|X \\cup Y|} \n",
        "\\end{equation}"
      ]
    },
    {
      "cell_type": "code",
      "metadata": {
        "colab_type": "code",
        "id": "rk4kzSABUuG_",
        "colab": {}
      },
      "source": [
        "#for followees\n",
        "def jaccard_for_followees(a,b):\n",
        "    try:\n",
        "        if len(set(train_graph.successors(a))) == 0  | len(set(train_graph.successors(b))) == 0:\n",
        "            return 0\n",
        "        sim = (len(set(train_graph.successors(a)).intersection(set(train_graph.successors(b)))))/\\\n",
        "                                    (len(set(train_graph.successors(a)).union(set(train_graph.successors(b)))))\n",
        "    except:\n",
        "        return 0\n",
        "    return sim"
      ],
      "execution_count": 0,
      "outputs": []
    },
    {
      "cell_type": "code",
      "metadata": {
        "colab_type": "code",
        "id": "mV2LUWrUUuHF",
        "outputId": "77c4065c-737a-434e-a507-2e240e142794",
        "colab": {
          "base_uri": "https://localhost:8080/",
          "height": 34
        }
      },
      "source": [
        "#one test case\n",
        "print(jaccard_for_followees(273084,1505602))"
      ],
      "execution_count": 5,
      "outputs": [
        {
          "output_type": "stream",
          "text": [
            "0.0\n"
          ],
          "name": "stdout"
        }
      ]
    },
    {
      "cell_type": "code",
      "metadata": {
        "colab_type": "code",
        "id": "i3KxUlyjUuHL",
        "outputId": "a633964a-8aa0-4e1d-d22f-ef4776b05aad",
        "colab": {
          "base_uri": "https://localhost:8080/",
          "height": 34
        }
      },
      "source": [
        "#node 1635354 not in graph \n",
        "print(jaccard_for_followees(273084,1505602))"
      ],
      "execution_count": 6,
      "outputs": [
        {
          "output_type": "stream",
          "text": [
            "0.0\n"
          ],
          "name": "stdout"
        }
      ]
    },
    {
      "cell_type": "code",
      "metadata": {
        "colab_type": "code",
        "id": "MVZcH24aUuHR",
        "colab": {}
      },
      "source": [
        "#for followers\n",
        "def jaccard_for_followers(a,b):\n",
        "    try:\n",
        "        if len(set(train_graph.predecessors(a))) == 0  | len(set(g.predecessors(b))) == 0:\n",
        "            return 0\n",
        "        sim = (len(set(train_graph.predecessors(a)).intersection(set(train_graph.predecessors(b)))))/\\\n",
        "                                 (len(set(train_graph.predecessors(a)).union(set(train_graph.predecessors(b)))))\n",
        "        return sim\n",
        "    except:\n",
        "        return 0"
      ],
      "execution_count": 0,
      "outputs": []
    },
    {
      "cell_type": "code",
      "metadata": {
        "colab_type": "code",
        "id": "HxCAGmlVUuHW",
        "outputId": "7c8f55d9-705c-44ef-ff5b-fcee6169d2f5",
        "colab": {
          "base_uri": "https://localhost:8080/",
          "height": 34
        }
      },
      "source": [
        "print(jaccard_for_followers(273084,470294))"
      ],
      "execution_count": 0,
      "outputs": [
        {
          "output_type": "stream",
          "text": [
            "0.0\n"
          ],
          "name": "stdout"
        }
      ]
    },
    {
      "cell_type": "code",
      "metadata": {
        "colab_type": "code",
        "id": "7R5JoFiEUuHb",
        "outputId": "12aba0c7-106f-4aba-de50-e3f7a084ea58",
        "colab": {
          "base_uri": "https://localhost:8080/",
          "height": 34
        }
      },
      "source": [
        "#node 1635354 not in graph \n",
        "print(jaccard_for_followees(669354,1635354))"
      ],
      "execution_count": 0,
      "outputs": [
        {
          "output_type": "stream",
          "text": [
            "0\n"
          ],
          "name": "stdout"
        }
      ]
    },
    {
      "cell_type": "markdown",
      "metadata": {
        "colab_type": "text",
        "id": "wCUgguyuUuHk"
      },
      "source": [
        "### 4.2 Cosine distance \\begin{equation}\n",
        "CosineDistance = \\frac{|X\\cap Y|}{|X|\\cdot|Y|} \n",
        "\\end{equation}"
      ]
    },
    {
      "cell_type": "code",
      "metadata": {
        "colab_type": "code",
        "id": "pXIZXnQ1UuHm",
        "colab": {}
      },
      "source": [
        "#for followees\n",
        "def cosine_for_followees(a,b):\n",
        "    try:\n",
        "        if len(set(train_graph.successors(a))) == 0  | len(set(train_graph.successors(b))) == 0:\n",
        "            return 0\n",
        "        sim = (len(set(train_graph.successors(a)).intersection(set(train_graph.successors(b)))))/\\\n",
        "                                    (math.sqrt(len(set(train_graph.successors(a)))*len((set(train_graph.successors(b))))))\n",
        "        return sim\n",
        "    except:\n",
        "        return 0"
      ],
      "execution_count": 0,
      "outputs": []
    },
    {
      "cell_type": "code",
      "metadata": {
        "colab_type": "code",
        "id": "9CUXOIK3UuHu",
        "outputId": "9eea8586-da34-4bd8-c6f1-e4e46ca37fe0",
        "colab": {
          "base_uri": "https://localhost:8080/",
          "height": 34
        }
      },
      "source": [
        "print(cosine_for_followees(273084,1505602))"
      ],
      "execution_count": 0,
      "outputs": [
        {
          "output_type": "stream",
          "text": [
            "0.0\n"
          ],
          "name": "stdout"
        }
      ]
    },
    {
      "cell_type": "code",
      "metadata": {
        "colab_type": "code",
        "id": "I2E19yVcUuHz",
        "outputId": "ec4daf79-4af1-4ef8-f13e-e757093e6dc1",
        "colab": {
          "base_uri": "https://localhost:8080/",
          "height": 34
        }
      },
      "source": [
        "print(cosine_for_followees(273084,1635354))"
      ],
      "execution_count": 0,
      "outputs": [
        {
          "output_type": "stream",
          "text": [
            "0\n"
          ],
          "name": "stdout"
        }
      ]
    },
    {
      "cell_type": "code",
      "metadata": {
        "colab_type": "code",
        "id": "QTczPHn8UuH4",
        "colab": {}
      },
      "source": [
        "def cosine_for_followers(a,b):\n",
        "    try:\n",
        "        \n",
        "        if len(set(train_graph.predecessors(a))) == 0  | len(set(train_graph.predecessors(b))) == 0:\n",
        "            return 0\n",
        "        sim = (len(set(train_graph.predecessors(a)).intersection(set(train_graph.predecessors(b)))))/\\\n",
        "                                     (math.sqrt(len(set(train_graph.predecessors(a))))*(len(set(train_graph.predecessors(b)))))\n",
        "        return sim\n",
        "    except:\n",
        "        return 0"
      ],
      "execution_count": 0,
      "outputs": []
    },
    {
      "cell_type": "code",
      "metadata": {
        "colab_type": "code",
        "id": "PWk2AOKAUuH8",
        "outputId": "ba15d32b-736c-4ace-a0c0-3a26961c1cd5",
        "colab": {
          "base_uri": "https://localhost:8080/",
          "height": 34
        }
      },
      "source": [
        "print(cosine_for_followers(2,470294))"
      ],
      "execution_count": 0,
      "outputs": [
        {
          "output_type": "stream",
          "text": [
            "0.02886751345948129\n"
          ],
          "name": "stdout"
        }
      ]
    },
    {
      "cell_type": "code",
      "metadata": {
        "colab_type": "code",
        "id": "l3dsvFYTUuIB",
        "outputId": "2a46e831-41f3-49b4-d5ec-f09795fb87e2",
        "colab": {
          "base_uri": "https://localhost:8080/",
          "height": 34
        }
      },
      "source": [
        "print(cosine_for_followers(669354,1635354))"
      ],
      "execution_count": 0,
      "outputs": [
        {
          "output_type": "stream",
          "text": [
            "0\n"
          ],
          "name": "stdout"
        }
      ]
    },
    {
      "cell_type": "markdown",
      "metadata": {
        "colab_type": "text",
        "id": "_E_9_An3UuII"
      },
      "source": [
        "# 5. Ranking Measures"
      ]
    },
    {
      "cell_type": "markdown",
      "metadata": {
        "colab_type": "text",
        "id": "nfuaDfY-UuIK"
      },
      "source": [
        "# 5.1 Page Ranking"
      ]
    },
    {
      "cell_type": "code",
      "metadata": {
        "colab_type": "code",
        "id": "VI2j-Z2QUuIN",
        "colab": {}
      },
      "source": [
        "if not os.path.isfile('/content/drive/My Drive/mandatory_15/page_rank.p'):\n",
        "    pr = nx.pagerank(train_graph, alpha=0.85)\n",
        "    pickle.dump(pr,open('/content/drive/My Drive/mandatory_15/page_rank.p','wb'))\n",
        "else:\n",
        "    pr = pickle.load(open('/content/drive/My Drive/mandatory_15/page_rank.p','rb'))"
      ],
      "execution_count": 0,
      "outputs": []
    },
    {
      "cell_type": "code",
      "metadata": {
        "colab_type": "code",
        "id": "GrrmK2lzUuIR",
        "outputId": "4a417e59-171e-4c1d-d631-0fac95153d7c",
        "colab": {
          "base_uri": "https://localhost:8080/",
          "height": 67
        }
      },
      "source": [
        "print('min',pr[min(pr, key=pr.get)])\n",
        "print('max',pr[max(pr, key=pr.get)])\n",
        "print('mean',float(sum(pr.values())) / len(pr))"
      ],
      "execution_count": 0,
      "outputs": [
        {
          "output_type": "stream",
          "text": [
            "min 1.6556497245737814e-07\n",
            "max 2.7098251341935827e-05\n",
            "mean 5.615699699389075e-07\n"
          ],
          "name": "stdout"
        }
      ]
    },
    {
      "cell_type": "code",
      "metadata": {
        "colab_type": "code",
        "id": "DhOi_9mBUuIV",
        "outputId": "5321167e-44ae-49fe-9098-ec428fd21d28",
        "colab": {
          "base_uri": "https://localhost:8080/",
          "height": 34
        }
      },
      "source": [
        "#for imputing to nodes which are not there in Train data\n",
        "mean_pr = float(sum(pr.values())) / len(pr)\n",
        "print(mean_pr)"
      ],
      "execution_count": 35,
      "outputs": [
        {
          "output_type": "stream",
          "text": [
            "5.615699699389075e-07\n"
          ],
          "name": "stdout"
        }
      ]
    },
    {
      "cell_type": "markdown",
      "metadata": {
        "colab_type": "text",
        "id": "ancS8lppUuIY"
      },
      "source": [
        "# 6.Other Graph Features"
      ]
    },
    {
      "cell_type": "markdown",
      "metadata": {
        "colab_type": "text",
        "id": "3i1GtIqHUuIZ"
      },
      "source": [
        "### 6.1 Shortest Path"
      ]
    },
    {
      "cell_type": "code",
      "metadata": {
        "colab_type": "code",
        "id": "YqZhO_KuUuIa",
        "colab": {}
      },
      "source": [
        "#if has direct edge then deleting that edge and calculating shortest path\n",
        "def compute_shortest_path_length(a,b):\n",
        "    p=-1\n",
        "    try:\n",
        "        if train_graph.has_edge(a,b):\n",
        "            train_graph.remove_edge(a,b)\n",
        "            p= nx.shortest_path_length(train_graph,source=a,target=b)\n",
        "            train_graph.add_edge(a,b)\n",
        "        else:\n",
        "            p= nx.shortest_path_length(train_graph,source=a,target=b)\n",
        "        return p\n",
        "    except:\n",
        "        return -1"
      ],
      "execution_count": 0,
      "outputs": []
    },
    {
      "cell_type": "code",
      "metadata": {
        "colab_type": "code",
        "id": "QHhwipP6UuIe",
        "outputId": "d858c18a-0980-4ad2-988b-02a608401637",
        "colab": {
          "base_uri": "https://localhost:8080/",
          "height": 34
        }
      },
      "source": [
        "#testing\n",
        "compute_shortest_path_length(77697, 826021)"
      ],
      "execution_count": 0,
      "outputs": [
        {
          "output_type": "execute_result",
          "data": {
            "text/plain": [
              "10"
            ]
          },
          "metadata": {
            "tags": []
          },
          "execution_count": 72
        }
      ]
    },
    {
      "cell_type": "code",
      "metadata": {
        "colab_type": "code",
        "id": "DTLUhljUUuIj",
        "outputId": "32214653-5f25-4a82-c620-b3de803fc3d0",
        "colab": {
          "base_uri": "https://localhost:8080/",
          "height": 34
        }
      },
      "source": [
        "#testing\n",
        "compute_shortest_path_length(669354,1635354)"
      ],
      "execution_count": 0,
      "outputs": [
        {
          "output_type": "execute_result",
          "data": {
            "text/plain": [
              "-1"
            ]
          },
          "metadata": {
            "tags": []
          },
          "execution_count": 73
        }
      ]
    },
    {
      "cell_type": "markdown",
      "metadata": {
        "colab_type": "text",
        "id": "gHhxrof1UuIn"
      },
      "source": [
        "### 6. Checking for same community"
      ]
    },
    {
      "cell_type": "code",
      "metadata": {
        "colab_type": "code",
        "id": "sgXWuOQEUuIo",
        "colab": {}
      },
      "source": [
        "#getting weekly connected edges from graph \n",
        "wcc=list(nx.weakly_connected_components(train_graph))\n",
        "def belongs_to_same_wcc(a,b):\n",
        "    index = []\n",
        "    if train_graph.has_edge(b,a):\n",
        "        return 1\n",
        "    if train_graph.has_edge(a,b):\n",
        "            for i in wcc:\n",
        "                if a in i:\n",
        "                    index= i\n",
        "                    break\n",
        "            if (b in index):\n",
        "                train_graph.remove_edge(a,b)\n",
        "                if compute_shortest_path_length(a,b)==-1:\n",
        "                    train_graph.add_edge(a,b)\n",
        "                    return 0\n",
        "                else:\n",
        "                    train_graph.add_edge(a,b)\n",
        "                    return 1\n",
        "            else:\n",
        "                return 0\n",
        "    else:\n",
        "            for i in wcc:\n",
        "                if a in i:\n",
        "                    index= i\n",
        "                    break\n",
        "            if(b in index):\n",
        "                return 1\n",
        "            else:\n",
        "                return 0"
      ],
      "execution_count": 0,
      "outputs": []
    },
    {
      "cell_type": "code",
      "metadata": {
        "colab_type": "code",
        "id": "icoJXkWgUuIv",
        "outputId": "91655c2b-0668-492b-88cf-feb6580a2681",
        "colab": {
          "base_uri": "https://localhost:8080/",
          "height": 34
        }
      },
      "source": [
        "belongs_to_same_wcc(861, 1659750)"
      ],
      "execution_count": 0,
      "outputs": [
        {
          "output_type": "execute_result",
          "data": {
            "text/plain": [
              "0"
            ]
          },
          "metadata": {
            "tags": []
          },
          "execution_count": 75
        }
      ]
    },
    {
      "cell_type": "code",
      "metadata": {
        "colab_type": "code",
        "id": "FEEdFY4HUuIz",
        "outputId": "f4f03ffc-69d5-411b-ce9b-33a358de9ffd",
        "colab": {
          "base_uri": "https://localhost:8080/",
          "height": 34
        }
      },
      "source": [
        "belongs_to_same_wcc(669354,1635354)"
      ],
      "execution_count": 0,
      "outputs": [
        {
          "output_type": "execute_result",
          "data": {
            "text/plain": [
              "0"
            ]
          },
          "metadata": {
            "tags": []
          },
          "execution_count": 76
        }
      ]
    },
    {
      "cell_type": "markdown",
      "metadata": {
        "colab_type": "text",
        "id": "K13uEZgqUuI2"
      },
      "source": [
        "### 6.3 Adamic/Adar Index:\n",
        "\n",
        "Adamic/Adar measures is defined as inverted sum of degrees of common neighbours for given two vertices.\n",
        "$$A(x,y)=\\sum_{u \\in N(x) \\cap N(y)}\\frac{1}{log(|N(u)|)}$$"
      ]
    },
    {
      "cell_type": "code",
      "metadata": {
        "colab_type": "code",
        "id": "Lplx8Mt6UuI3",
        "colab": {}
      },
      "source": [
        "#adar index\n",
        "def calc_adar_in(a,b):\n",
        "    sum=0\n",
        "    try:\n",
        "        n=list(set(train_graph.successors(a)).intersection(set(train_graph.successors(b))))\n",
        "        if len(n)!=0:\n",
        "            for i in n:\n",
        "                sum=sum+(1/np.log10(len(list(train_graph.predecessors(i)))))\n",
        "            return sum\n",
        "        else:\n",
        "            return 0\n",
        "    except:\n",
        "        return 0"
      ],
      "execution_count": 0,
      "outputs": []
    },
    {
      "cell_type": "code",
      "metadata": {
        "colab_type": "code",
        "id": "TByT5m16UuI9",
        "outputId": "72556105-2f68-4b5e-afc9-d559093cab1d",
        "colab": {
          "base_uri": "https://localhost:8080/",
          "height": 34
        }
      },
      "source": [
        "calc_adar_in(1,189226)"
      ],
      "execution_count": 0,
      "outputs": [
        {
          "output_type": "execute_result",
          "data": {
            "text/plain": [
              "0"
            ]
          },
          "metadata": {
            "tags": []
          },
          "execution_count": 78
        }
      ]
    },
    {
      "cell_type": "code",
      "metadata": {
        "colab_type": "code",
        "id": "BbDZpjXwUuJB",
        "outputId": "b4b671ee-1f4d-4b91-cc6d-971fbf3c2c05",
        "colab": {
          "base_uri": "https://localhost:8080/",
          "height": 34
        }
      },
      "source": [
        "calc_adar_in(669354,1635354)"
      ],
      "execution_count": 0,
      "outputs": [
        {
          "output_type": "execute_result",
          "data": {
            "text/plain": [
              "0"
            ]
          },
          "metadata": {
            "tags": []
          },
          "execution_count": 79
        }
      ]
    },
    {
      "cell_type": "markdown",
      "metadata": {
        "colab_type": "text",
        "id": "CBbupJpeUuJE"
      },
      "source": [
        "### 6.4 Is persion was following back"
      ]
    },
    {
      "cell_type": "code",
      "metadata": {
        "colab_type": "code",
        "id": "1Vld9o5XUuJF",
        "colab": {}
      },
      "source": [
        "def follows_back(a,b):\n",
        "    if train_graph.has_edge(b,a):\n",
        "        return 1\n",
        "    else:\n",
        "        return 0"
      ],
      "execution_count": 0,
      "outputs": []
    },
    {
      "cell_type": "code",
      "metadata": {
        "colab_type": "code",
        "id": "_Dd-FaXrUuJI",
        "outputId": "e2575a81-f5a2-468d-85b6-4d069fbb9ff5",
        "colab": {
          "base_uri": "https://localhost:8080/",
          "height": 34
        }
      },
      "source": [
        "follows_back(1,189226)"
      ],
      "execution_count": 0,
      "outputs": [
        {
          "output_type": "execute_result",
          "data": {
            "text/plain": [
              "1"
            ]
          },
          "metadata": {
            "tags": []
          },
          "execution_count": 81
        }
      ]
    },
    {
      "cell_type": "code",
      "metadata": {
        "colab_type": "code",
        "id": "YNarcwzcUuJP",
        "outputId": "a0ed6652-0b8c-4d18-a9d6-009651d7fd39",
        "colab": {
          "base_uri": "https://localhost:8080/",
          "height": 34
        }
      },
      "source": [
        "follows_back(669354,1635354)"
      ],
      "execution_count": 0,
      "outputs": [
        {
          "output_type": "execute_result",
          "data": {
            "text/plain": [
              "0"
            ]
          },
          "metadata": {
            "tags": []
          },
          "execution_count": 82
        }
      ]
    },
    {
      "cell_type": "markdown",
      "metadata": {
        "colab_type": "text",
        "id": "QwcbfIDgUuJS"
      },
      "source": [
        "### 6.5 Katz Centrality"
      ]
    },
    {
      "cell_type": "code",
      "metadata": {
        "colab_type": "code",
        "id": "T-pb6d3pUuJT",
        "colab": {}
      },
      "source": [
        "if not os.path.isfile('/content/drive/My Drive/mandatory_15/katz.p'):\n",
        "    katz = nx.katz.katz_centrality(train_graph,alpha=0.005,beta=1)\n",
        "    pickle.dump(katz,open('/content/drive/My Drive/mandatory_15/katz.p','wb'))\n",
        "else:\n",
        "    katz = pickle.load(open('/content/drive/My Drive/mandatory_15/katz.p','rb'))"
      ],
      "execution_count": 0,
      "outputs": []
    },
    {
      "cell_type": "code",
      "metadata": {
        "colab_type": "code",
        "id": "MwiGFikpUuJX",
        "outputId": "76498797-c417-45a5-cff3-0b2745210890",
        "colab": {
          "base_uri": "https://localhost:8080/",
          "height": 67
        }
      },
      "source": [
        "print('min',katz[min(katz, key=katz.get)])\n",
        "print('max',katz[max(katz, key=katz.get)])\n",
        "print('mean',float(sum(katz.values())) / len(katz))"
      ],
      "execution_count": 0,
      "outputs": [
        {
          "output_type": "stream",
          "text": [
            "min 0.0007313532484065916\n",
            "max 0.003394554981699122\n",
            "mean 0.0007483800935562018\n"
          ],
          "name": "stdout"
        }
      ]
    },
    {
      "cell_type": "code",
      "metadata": {
        "colab_type": "code",
        "id": "WXB_ES_KUuJa",
        "outputId": "59eefeff-6efb-4742-8012-ec606cdcb4b9",
        "colab": {
          "base_uri": "https://localhost:8080/",
          "height": 34
        }
      },
      "source": [
        "mean_katz = float(sum(katz.values())) / len(katz)\n",
        "print(mean_katz)"
      ],
      "execution_count": 37,
      "outputs": [
        {
          "output_type": "stream",
          "text": [
            "0.0007483800935562018\n"
          ],
          "name": "stdout"
        }
      ]
    },
    {
      "cell_type": "markdown",
      "metadata": {
        "colab_type": "text",
        "id": "BDEcwkRiUuJf"
      },
      "source": [
        "### 6.6 Hits Score"
      ]
    },
    {
      "cell_type": "code",
      "metadata": {
        "colab_type": "code",
        "id": "vi9AG3BcUuJh",
        "colab": {}
      },
      "source": [
        "if not os.path.isfile('/content/drive/My Drive/mandatory_15/hits.p'):\n",
        "    hits = nx.hits(train_graph, max_iter=100, tol=1e-08, nstart=None, normalized=True)\n",
        "    pickle.dump(hits,open('/content/drive/My Drive/mandatory_15/hits.p','wb'))\n",
        "else:\n",
        "    hits = pickle.load(open('/content/drive/My Drive/mandatory_15/hits.p','rb'))"
      ],
      "execution_count": 0,
      "outputs": []
    },
    {
      "cell_type": "code",
      "metadata": {
        "colab_type": "code",
        "id": "GwjDG5hSUuJk",
        "outputId": "6648d038-bdcd-45b5-bf14-4bbce0fac1d6",
        "colab": {
          "base_uri": "https://localhost:8080/",
          "height": 67
        }
      },
      "source": [
        "print('min',hits[0][min(hits[0], key=hits[0].get)])\n",
        "print('max',hits[0][max(hits[0], key=hits[0].get)])\n",
        "print('mean',float(sum(hits[0].values())) / len(hits[0]))"
      ],
      "execution_count": 0,
      "outputs": [
        {
          "output_type": "stream",
          "text": [
            "min 0.0\n",
            "max 0.004868653378780953\n",
            "mean 5.615699699344123e-07\n"
          ],
          "name": "stdout"
        }
      ]
    },
    {
      "cell_type": "markdown",
      "metadata": {
        "colab_type": "text",
        "id": "nqOUmvF_UuJp"
      },
      "source": [
        "# 7. Featurization "
      ]
    },
    {
      "cell_type": "markdown",
      "metadata": {
        "colab_type": "text",
        "id": "CH0b2E9nUuJq"
      },
      "source": [
        "### 7.1 Reading a sample of Data from both train and test"
      ]
    },
    {
      "cell_type": "code",
      "metadata": {
        "colab_type": "code",
        "id": "RV1AwDrpUuJr",
        "colab": {}
      },
      "source": [
        "import random\n",
        "if os.path.isfile('/content/drive/My Drive/mandatory_15/train_after_eda.csv'):\n",
        "    filename = \"train_after_eda.csv\"\n",
        "    # you uncomment this line, if you dont know the lentgh of the file name\n",
        "    # here we have hardcoded the number of lines as 15100030\n",
        "    #n_train = sum(1 for line in open(filename)) #number of records in file (excludes header)\n",
        "    n_train =  15100028\n",
        "    s = 100000 #desired sample size\n",
        "    skip_train = sorted(random.sample(range(1,n_train+1),n_train-s))\n",
        "    #https://stackoverflow.com/a/22259008/4084039"
      ],
      "execution_count": 0,
      "outputs": []
    },
    {
      "cell_type": "code",
      "metadata": {
        "colab_type": "code",
        "id": "VPPlqP-CUuJ1",
        "colab": {}
      },
      "source": [
        "if os.path.isfile('/content/drive/My Drive/mandatory_15/test_after_eda.csv'):\n",
        "    filename = \"test_after_eda.csv\"\n",
        "    # you uncomment this line, if you dont know the lentgh of the file name\n",
        "    # here we have hardcoded the number of lines as 3775008\n",
        "    # n_test = sum(1 for line in open(filename)) #number of records in file (excludes header)\n",
        "    n_test = 3775006\n",
        "    s = 50000 #desired sample size\n",
        "    skip_test = sorted(random.sample(range(1,n_test+1),n_test-s))\n",
        "    #https://stackoverflow.com/a/22259008/4084039"
      ],
      "execution_count": 0,
      "outputs": []
    },
    {
      "cell_type": "code",
      "metadata": {
        "colab_type": "code",
        "id": "ivVGEZzIUuJ4",
        "outputId": "cd2bd914-72c2-4134-e051-7effd7a005e6",
        "colab": {
          "base_uri": "https://localhost:8080/",
          "height": 84
        }
      },
      "source": [
        "print(\"Number of rows in the train data file:\", n_train)\n",
        "print(\"Number of rows we are going to elimiate in train data are\",len(skip_train))\n",
        "print(\"Number of rows in the test data file:\", n_test)\n",
        "print(\"Number of rows we are going to elimiate in test data are\",len(skip_test))"
      ],
      "execution_count": 19,
      "outputs": [
        {
          "output_type": "stream",
          "text": [
            "Number of rows in the train data file: 15100028\n",
            "Number of rows we are going to elimiate in train data are 15000028\n",
            "Number of rows in the test data file: 3775006\n",
            "Number of rows we are going to elimiate in test data are 3725006\n"
          ],
          "name": "stdout"
        }
      ]
    },
    {
      "cell_type": "code",
      "metadata": {
        "colab_type": "code",
        "id": "eNPRCaGCUuJ_",
        "outputId": "69b7b37d-8266-4c4d-afe3-6b42d85a2662",
        "colab": {
          "base_uri": "https://localhost:8080/",
          "height": 123
        }
      },
      "source": [
        "df_final_train = pd.read_csv('/content/drive/My Drive/mandatory_15/train_after_eda.csv', skiprows=skip_train, names=['source_node', 'destination_node'])\n",
        "df_final_train['indicator_link'] = pd.read_csv('/content/drive/My Drive/mandatory_15/train_y.csv', skiprows=skip_train, names=['indicator_link'])\n",
        "print(\"Our train matrix size \",df_final_train.shape)\n",
        "df_final_train.head(2)"
      ],
      "execution_count": 20,
      "outputs": [
        {
          "output_type": "stream",
          "text": [
            "Our train matrix size  (100002, 3)\n"
          ],
          "name": "stdout"
        },
        {
          "output_type": "execute_result",
          "data": {
            "text/html": [
              "<div>\n",
              "<style scoped>\n",
              "    .dataframe tbody tr th:only-of-type {\n",
              "        vertical-align: middle;\n",
              "    }\n",
              "\n",
              "    .dataframe tbody tr th {\n",
              "        vertical-align: top;\n",
              "    }\n",
              "\n",
              "    .dataframe thead th {\n",
              "        text-align: right;\n",
              "    }\n",
              "</style>\n",
              "<table border=\"1\" class=\"dataframe\">\n",
              "  <thead>\n",
              "    <tr style=\"text-align: right;\">\n",
              "      <th></th>\n",
              "      <th>source_node</th>\n",
              "      <th>destination_node</th>\n",
              "      <th>indicator_link</th>\n",
              "    </tr>\n",
              "  </thead>\n",
              "  <tbody>\n",
              "    <tr>\n",
              "      <th>0</th>\n",
              "      <td>273084</td>\n",
              "      <td>1505602</td>\n",
              "      <td>1</td>\n",
              "    </tr>\n",
              "    <tr>\n",
              "      <th>1</th>\n",
              "      <td>427712</td>\n",
              "      <td>363634</td>\n",
              "      <td>1</td>\n",
              "    </tr>\n",
              "  </tbody>\n",
              "</table>\n",
              "</div>"
            ],
            "text/plain": [
              "   source_node  destination_node  indicator_link\n",
              "0       273084           1505602               1\n",
              "1       427712            363634               1"
            ]
          },
          "metadata": {
            "tags": []
          },
          "execution_count": 20
        }
      ]
    },
    {
      "cell_type": "code",
      "metadata": {
        "colab_type": "code",
        "id": "fmN_8rSOUuKC",
        "outputId": "5f857b67-8052-44ba-a5e7-08076b118809",
        "colab": {
          "base_uri": "https://localhost:8080/",
          "height": 123
        }
      },
      "source": [
        "df_final_test = pd.read_csv('/content/drive/My Drive/mandatory_15/test_after_eda.csv', skiprows=skip_test, names=['source_node', 'destination_node'])\n",
        "df_final_test['indicator_link'] = pd.read_csv('/content/drive/My Drive/mandatory_15/test_y.csv', skiprows=skip_test, names=['indicator_link'])\n",
        "print(\"Our test matrix size \",df_final_test.shape)\n",
        "df_final_test.head(2)"
      ],
      "execution_count": 21,
      "outputs": [
        {
          "output_type": "stream",
          "text": [
            "Our test matrix size  (50002, 3)\n"
          ],
          "name": "stdout"
        },
        {
          "output_type": "execute_result",
          "data": {
            "text/html": [
              "<div>\n",
              "<style scoped>\n",
              "    .dataframe tbody tr th:only-of-type {\n",
              "        vertical-align: middle;\n",
              "    }\n",
              "\n",
              "    .dataframe tbody tr th {\n",
              "        vertical-align: top;\n",
              "    }\n",
              "\n",
              "    .dataframe thead th {\n",
              "        text-align: right;\n",
              "    }\n",
              "</style>\n",
              "<table border=\"1\" class=\"dataframe\">\n",
              "  <thead>\n",
              "    <tr style=\"text-align: right;\">\n",
              "      <th></th>\n",
              "      <th>source_node</th>\n",
              "      <th>destination_node</th>\n",
              "      <th>indicator_link</th>\n",
              "    </tr>\n",
              "  </thead>\n",
              "  <tbody>\n",
              "    <tr>\n",
              "      <th>0</th>\n",
              "      <td>848424</td>\n",
              "      <td>784690</td>\n",
              "      <td>1</td>\n",
              "    </tr>\n",
              "    <tr>\n",
              "      <th>1</th>\n",
              "      <td>466950</td>\n",
              "      <td>1318835</td>\n",
              "      <td>1</td>\n",
              "    </tr>\n",
              "  </tbody>\n",
              "</table>\n",
              "</div>"
            ],
            "text/plain": [
              "   source_node  destination_node  indicator_link\n",
              "0       848424            784690               1\n",
              "1       466950           1318835               1"
            ]
          },
          "metadata": {
            "tags": []
          },
          "execution_count": 21
        }
      ]
    },
    {
      "cell_type": "markdown",
      "metadata": {
        "colab_type": "text",
        "id": "NWBApfqRUuKF"
      },
      "source": [
        "## 7.2 Adding a set of features"
      ]
    },
    {
      "cell_type": "markdown",
      "metadata": {
        "colab_type": "text",
        "id": "9NBGMeQlUuKG"
      },
      "source": [
        "__we will create these each of these features for both train and test data points__\n",
        "<ol>\n",
        "<li>jaccard_followers</li>\n",
        "<li>jaccard_followees</li>\n",
        "<li>cosine_followers</li>\n",
        "<li>cosine_followees</li>\n",
        "<li>num_followers_s</li>\n",
        "<li>num_followees_s</li>\n",
        "<li>num_followers_d</li>\n",
        "<li>num_followees_d</li>\n",
        "<li>inter_followers</li>\n",
        "<li>inter_followees</li>\n",
        "</ol>"
      ]
    },
    {
      "cell_type": "code",
      "metadata": {
        "colab_type": "code",
        "id": "L9fGKCOnUuKG",
        "colab": {}
      },
      "source": [
        "if not os.path.isfile('/content/drive/My Drive/mandatory_15/storage_sample_stage1.h5'):\n",
        "    #mapping jaccrd followers to train and test data\n",
        "    df_final_train['jaccard_followers'] = df_final_train.apply(lambda row:\n",
        "                                            jaccard_for_followers(row['source_node'],row['destination_node']),axis=1)\n",
        "    df_final_test['jaccard_followers'] = df_final_test.apply(lambda row:\n",
        "                                            jaccard_for_followers(row['source_node'],row['destination_node']),axis=1)\n",
        "\n",
        "    #mapping jaccrd followees to train and test data\n",
        "    df_final_train['jaccard_followees'] = df_final_train.apply(lambda row:\n",
        "                                            jaccard_for_followees(row['source_node'],row['destination_node']),axis=1)\n",
        "    df_final_test['jaccard_followees'] = df_final_test.apply(lambda row:\n",
        "                                            jaccard_for_followees(row['source_node'],row['destination_node']),axis=1)\n",
        "    \n",
        "\n",
        "        #mapping jaccrd followers to train and test data\n",
        "    df_final_train['cosine_followers'] = df_final_train.apply(lambda row:\n",
        "                                            cosine_for_followers(row['source_node'],row['destination_node']),axis=1)\n",
        "    df_final_test['cosine_followers'] = df_final_test.apply(lambda row:\n",
        "                                            cosine_for_followers(row['source_node'],row['destination_node']),axis=1)\n",
        "\n",
        "    #mapping jaccrd followees to train and test data\n",
        "    df_final_train['cosine_followees'] = df_final_train.apply(lambda row:\n",
        "                                            cosine_for_followees(row['source_node'],row['destination_node']),axis=1)\n",
        "    df_final_test['cosine_followees'] = df_final_test.apply(lambda row:\n",
        "                                            cosine_for_followees(row['source_node'],row['destination_node']),axis=1)"
      ],
      "execution_count": 0,
      "outputs": []
    },
    {
      "cell_type": "code",
      "metadata": {
        "colab_type": "code",
        "id": "sEZ36KTpUuKJ",
        "colab": {}
      },
      "source": [
        "def compute_features_stage1(df_final):\n",
        "    #calculating no of followers followees for source and destination\n",
        "    #calculating intersection of followers and followees for source and destination\n",
        "    num_followers_s=[]\n",
        "    num_followees_s=[]\n",
        "    num_followers_d=[]\n",
        "    num_followees_d=[]\n",
        "    inter_followers=[]\n",
        "    inter_followees=[]\n",
        "    for i,row in df_final.iterrows():\n",
        "        try:\n",
        "            s1=set(train_graph.predecessors(row['source_node']))\n",
        "            s2=set(train_graph.successors(row['source_node']))\n",
        "        except:\n",
        "            s1 = set()\n",
        "            s2 = set()\n",
        "        try:\n",
        "            d1=set(train_graph.predecessors(row['destination_node']))\n",
        "            d2=set(train_graph.successors(row['destination_node']))\n",
        "        except:\n",
        "            d1 = set()\n",
        "            d2 = set()\n",
        "        num_followers_s.append(len(s1))\n",
        "        num_followees_s.append(len(s2))\n",
        "\n",
        "        num_followers_d.append(len(d1))\n",
        "        num_followees_d.append(len(d2))\n",
        "\n",
        "        inter_followers.append(len(s1.intersection(d1)))\n",
        "        inter_followees.append(len(s2.intersection(d2)))\n",
        "    \n",
        "    return num_followers_s,num_followers_d , num_followees_s, num_followees_d, inter_followers, inter_followees"
      ],
      "execution_count": 0,
      "outputs": []
    },
    {
      "cell_type": "code",
      "metadata": {
        "colab_type": "code",
        "id": "jFBHLONqUuKN",
        "colab": {}
      },
      "source": [
        "from pandas import HDFStore,DataFrame\n",
        "from pandas import read_hdf\n",
        "if not os.path.isfile('/content/drive/My Drive/mandatory_15/storage_sample_stage1.h5'):\n",
        "    df_final_train['num_followers_s'], df_final_train['num_followers_d'], \\\n",
        "    df_final_train['num_followees_s'], df_final_train['num_followees_d'], \\\n",
        "    df_final_train['inter_followers'], df_final_train['inter_followees']= compute_features_stage1(df_final_train)\n",
        "    \n",
        "    df_final_test['num_followers_s'], df_final_test['num_followers_d'], \\\n",
        "    df_final_test['num_followees_s'], df_final_test['num_followees_d'], \\\n",
        "    df_final_test['inter_followers'], df_final_test['inter_followees']= compute_features_stage1(df_final_test)\n",
        "    \n",
        "    hdf = HDFStore('/content/drive/My Drive/mandatory_15/storage_sample_stage1.h5')\n",
        "    hdf.put('train_df',df_final_train, format='table', data_columns=True)\n",
        "    hdf.put('test_df',df_final_test, format='table', data_columns=True)\n",
        "    #hdf.close()\n",
        "else:\n",
        "    df_final_train = read_hdf('/content/drive/My Drive/mandatory_15/storage_sample_stage1.h5', 'train_df',mode='r')\n",
        "    df_final_test = read_hdf('/content/drive/My Drive/mandatory_15/storage_sample_stage1.h5', 'test_df',mode='r')"
      ],
      "execution_count": 0,
      "outputs": []
    },
    {
      "cell_type": "markdown",
      "metadata": {
        "colab_type": "text",
        "id": "37mp2fhpUuKP"
      },
      "source": [
        "### 7.3 Adding new set of features"
      ]
    },
    {
      "cell_type": "markdown",
      "metadata": {
        "colab_type": "text",
        "id": "hQ8Ae3elUuKQ"
      },
      "source": [
        "__we will create these each of these features for both train and test data points__\n",
        "<ol>\n",
        "<li>adar index</li>\n",
        "<li>is following back</li>\n",
        "<li>belongs to same weakly connect components</li>\n",
        "<li>shortest path between source and destination</li>\n",
        "</ol>"
      ]
    },
    {
      "cell_type": "code",
      "metadata": {
        "colab_type": "code",
        "id": "BG-rInxWUuKR",
        "colab": {}
      },
      "source": [
        "if not os.path.isfile('/content/drive/My Drive/mandatory_15/storage_sample_stage2.h5'):\n",
        "    #mapping adar index on train\n",
        "    df_final_train['adar_index'] = df_final_train.apply(lambda row: calc_adar_in(row['source_node'],row['destination_node']),axis=1)\n",
        "    #mapping adar index on test\n",
        "    df_final_test['adar_index'] = df_final_test.apply(lambda row: calc_adar_in(row['source_node'],row['destination_node']),axis=1)\n",
        "\n",
        "    #--------------------------------------------------------------------------------------------------------\n",
        "    #mapping followback or not on train\n",
        "    df_final_train['follows_back'] = df_final_train.apply(lambda row: follows_back(row['source_node'],row['destination_node']),axis=1)\n",
        "\n",
        "    #mapping followback or not on test\n",
        "    df_final_test['follows_back'] = df_final_test.apply(lambda row: follows_back(row['source_node'],row['destination_node']),axis=1)\n",
        "\n",
        "    #--------------------------------------------------------------------------------------------------------\n",
        "    #mapping same component of wcc or not on train\n",
        "    df_final_train['same_comp'] = df_final_train.apply(lambda row: belongs_to_same_wcc(row['source_node'],row['destination_node']),axis=1)\n",
        "\n",
        "    ##mapping same component of wcc or not on train\n",
        "    df_final_test['same_comp'] = df_final_test.apply(lambda row: belongs_to_same_wcc(row['source_node'],row['destination_node']),axis=1)\n",
        "    \n",
        "    #--------------------------------------------------------------------------------------------------------\n",
        "    #mapping shortest path on train \n",
        "    df_final_train['shortest_path'] = df_final_train.apply(lambda row: compute_shortest_path_length(row['source_node'],row['destination_node']),axis=1)\n",
        "    #mapping shortest path on test\n",
        "    df_final_test['shortest_path'] = df_final_test.apply(lambda row: compute_shortest_path_length(row['source_node'],row['destination_node']),axis=1)\n",
        "\n",
        "    hdf = pd.HDFStore('/content/drive/My Drive/mandatory_15/storage_sample_stage2.h5')\n",
        "    hdf.put('train_df',df_final_train, format='table', data_columns=True)\n",
        "    hdf.put('test_df',df_final_test, format='table', data_columns=True)\n",
        "    #hdf.close()\n",
        "else:\n",
        "    df_final_train = read_hdf('/content/drive/My Drive/mandatory_15/storage_sample_stage2.h5', 'train_df',mode='r')\n",
        "    df_final_test = read_hdf('/content/drive/My Drive/mandatory_15/storage_sample_stage2.h5', 'test_df',mode='r')"
      ],
      "execution_count": 0,
      "outputs": []
    },
    {
      "cell_type": "markdown",
      "metadata": {
        "colab_type": "text",
        "id": "YASLW3rgUuKU"
      },
      "source": [
        "### 7.4 Adding new set of features"
      ]
    },
    {
      "cell_type": "markdown",
      "metadata": {
        "colab_type": "text",
        "id": "hI_T_wPbUuKV"
      },
      "source": [
        "__we will create these each of these features for both train and test data points__\n",
        "<ol>\n",
        "<li>Weight Features\n",
        "    <ul>\n",
        "        <li>weight of incoming edges</li>\n",
        "        <li>weight of outgoing edges</li>\n",
        "        <li>weight of incoming edges + weight of outgoing edges</li>\n",
        "        <li>weight of incoming edges * weight of outgoing edges</li>\n",
        "        <li>2*weight of incoming edges + weight of outgoing edges</li>\n",
        "        <li>weight of incoming edges + 2*weight of outgoing edges</li>\n",
        "    </ul>\n",
        "</li>\n",
        "<li>Page Ranking of source</li>\n",
        "<li>Page Ranking of dest</li>\n",
        "<li>katz of source</li>\n",
        "<li>katz of dest</li>\n",
        "<li>hubs of source</li>\n",
        "<li>hubs of dest</li>\n",
        "<li>authorities_s of source</li>\n",
        "<li>authorities_s of dest</li>\n",
        "</ol>"
      ]
    },
    {
      "cell_type": "code",
      "metadata": {
        "colab_type": "code",
        "id": "0z52lWljUuKW",
        "outputId": "b18ec13a-7a4c-4493-b0ac-66dac7199e83",
        "colab": {
          "base_uri": "https://localhost:8080/",
          "height": 34
        }
      },
      "source": [
        "#weight for source and destination of each link\n",
        "import tqdm\n",
        "Weight_in = {}\n",
        "Weight_out = {}\n",
        "for i in tqdm.tqdm(train_graph.nodes()):\n",
        "    s1=set(train_graph.predecessors(i))\n",
        "    w_in = 1.0/(np.sqrt(1+len(s1)))\n",
        "    Weight_in[i]=w_in\n",
        "    \n",
        "    s2=set(train_graph.successors(i))\n",
        "    w_out = 1.0/(np.sqrt(1+len(s2)))\n",
        "    Weight_out[i]=w_out\n",
        "    \n",
        "#for imputing with mean\n",
        "mean_weight_in = np.mean(list(Weight_in.values()))\n",
        "mean_weight_out = np.mean(list(Weight_out.values()))"
      ],
      "execution_count": 32,
      "outputs": [
        {
          "output_type": "stream",
          "text": [
            "100%|██████████| 1780722/1780722 [00:16<00:00, 110761.80it/s]\n"
          ],
          "name": "stderr"
        }
      ]
    },
    {
      "cell_type": "code",
      "metadata": {
        "colab_type": "code",
        "id": "axfPt2mOUuKb",
        "colab": {}
      },
      "source": [
        "if not os.path.isfile('/content/drive/My Drive/mandatory_15/storage_sample_stage3.h5'):\n",
        "    #mapping to pandas train\n",
        "    df_final_train['weight_in'] = df_final_train.destination_node.apply(lambda x: Weight_in.get(x,mean_weight_in))\n",
        "    df_final_train['weight_out'] = df_final_train.source_node.apply(lambda x: Weight_out.get(x,mean_weight_out))\n",
        "\n",
        "    #mapping to pandas test\n",
        "    df_final_test['weight_in'] = df_final_test.destination_node.apply(lambda x: Weight_in.get(x,mean_weight_in))\n",
        "    df_final_test['weight_out'] = df_final_test.source_node.apply(lambda x: Weight_out.get(x,mean_weight_out))\n",
        "\n",
        "\n",
        "    #some features engineerings on the in and out weights\n",
        "    df_final_train['weight_f1'] = df_final_train.weight_in + df_final_train.weight_out\n",
        "    df_final_train['weight_f2'] = df_final_train.weight_in * df_final_train.weight_out\n",
        "    df_final_train['weight_f3'] = (2*df_final_train.weight_in + 1*df_final_train.weight_out)\n",
        "    df_final_train['weight_f4'] = (1*df_final_train.weight_in + 2*df_final_train.weight_out)\n",
        "\n",
        "    #some features engineerings on the in and out weights\n",
        "    df_final_test['weight_f1'] = df_final_test.weight_in + df_final_test.weight_out\n",
        "    df_final_test['weight_f2'] = df_final_test.weight_in * df_final_test.weight_out\n",
        "    df_final_test['weight_f3'] = (2*df_final_test.weight_in + 1*df_final_test.weight_out)\n",
        "    df_final_test['weight_f4'] = (1*df_final_test.weight_in + 2*df_final_test.weight_out)"
      ],
      "execution_count": 0,
      "outputs": []
    },
    {
      "cell_type": "code",
      "metadata": {
        "colab_type": "code",
        "id": "pZunOlIZUuKe",
        "colab": {}
      },
      "source": [
        "from pandas import HDFStore,DataFrame\n",
        "from pandas import read_hdf\n",
        "if not os.path.isfile('/content/drive/My Drive/mandatory_15/storage_sample_stage3.h5'):\n",
        "    \n",
        "    #page rank for source and destination in Train and Test\n",
        "    #if anything not there in train graph then adding mean page rank \n",
        "    df_final_train['page_rank_s'] = df_final_train.source_node.apply(lambda x:pr.get(x,mean_pr))\n",
        "    df_final_train['page_rank_d'] = df_final_train.destination_node.apply(lambda x:pr.get(x,mean_pr))\n",
        "\n",
        "    df_final_test['page_rank_s'] = df_final_test.source_node.apply(lambda x:pr.get(x,mean_pr))\n",
        "    df_final_test['page_rank_d'] = df_final_test.destination_node.apply(lambda x:pr.get(x,mean_pr))\n",
        "    #================================================================================\n",
        "\n",
        "    #Katz centrality score for source and destination in Train and test\n",
        "    #if anything not there in train graph then adding mean katz score\n",
        "    df_final_train['katz_s'] = df_final_train.source_node.apply(lambda x: katz.get(x,mean_katz))\n",
        "    df_final_train['katz_d'] = df_final_train.destination_node.apply(lambda x: katz.get(x,mean_katz))\n",
        "\n",
        "    df_final_test['katz_s'] = df_final_test.source_node.apply(lambda x: katz.get(x,mean_katz))\n",
        "    df_final_test['katz_d'] = df_final_test.destination_node.apply(lambda x: katz.get(x,mean_katz))\n",
        "    #================================================================================\n",
        "\n",
        "    #Hits algorithm score for source and destination in Train and test\n",
        "    #if anything not there in train graph then adding 0\n",
        "    df_final_train['hubs_s'] = df_final_train.source_node.apply(lambda x: hits[0].get(x,0))\n",
        "    df_final_train['hubs_d'] = df_final_train.destination_node.apply(lambda x: hits[0].get(x,0))\n",
        "\n",
        "    df_final_test['hubs_s'] = df_final_test.source_node.apply(lambda x: hits[0].get(x,0))\n",
        "    df_final_test['hubs_d'] = df_final_test.destination_node.apply(lambda x: hits[0].get(x,0))\n",
        "    #================================================================================\n",
        "\n",
        "    #Hits algorithm score for source and destination in Train and Test\n",
        "    #if anything not there in train graph then adding 0\n",
        "    df_final_train['authorities_s'] = df_final_train.source_node.apply(lambda x: hits[1].get(x,0))\n",
        "    df_final_train['authorities_d'] = df_final_train.destination_node.apply(lambda x: hits[1].get(x,0))\n",
        "\n",
        "    df_final_test['authorities_s'] = df_final_test.source_node.apply(lambda x: hits[1].get(x,0))\n",
        "    df_final_test['authorities_d'] = df_final_test.destination_node.apply(lambda x: hits[1].get(x,0))\n",
        "    #================================================================================\n",
        "\n",
        "    hdf = HDFStore('/content/drive/My Drive/mandatory_15/storage_sample_stage3.h5')\n",
        "    hdf.put('train_df',df_final_train, format='table', data_columns=True)\n",
        "    hdf.put('test_df',df_final_test, format='table', data_columns=True)\n",
        "    hdf.close()\n",
        "else:\n",
        "    df_final_train = read_hdf('/content/drive/My Drive/mandatory_15/storage_sample_stage3.h5', 'train_df',mode='r')\n",
        "    df_final_test = read_hdf('/content/drive/My Drive/mandatory_15/storage_sample_stage3.h5', 'test_df',mode='r')"
      ],
      "execution_count": 0,
      "outputs": []
    },
    {
      "cell_type": "code",
      "metadata": {
        "colab_type": "code",
        "id": "Fci_34B3UuKi",
        "outputId": "a06459cb-caec-417e-fe83-cfb8739770fc",
        "colab": {
          "base_uri": "https://localhost:8080/",
          "height": 299
        }
      },
      "source": [
        "df_final_train.head()"
      ],
      "execution_count": 39,
      "outputs": [
        {
          "output_type": "execute_result",
          "data": {
            "text/html": [
              "<div>\n",
              "<style scoped>\n",
              "    .dataframe tbody tr th:only-of-type {\n",
              "        vertical-align: middle;\n",
              "    }\n",
              "\n",
              "    .dataframe tbody tr th {\n",
              "        vertical-align: top;\n",
              "    }\n",
              "\n",
              "    .dataframe thead th {\n",
              "        text-align: right;\n",
              "    }\n",
              "</style>\n",
              "<table border=\"1\" class=\"dataframe\">\n",
              "  <thead>\n",
              "    <tr style=\"text-align: right;\">\n",
              "      <th></th>\n",
              "      <th>source_node</th>\n",
              "      <th>destination_node</th>\n",
              "      <th>indicator_link</th>\n",
              "      <th>jaccard_followers</th>\n",
              "      <th>jaccard_followees</th>\n",
              "      <th>cosine_followers</th>\n",
              "      <th>cosine_followees</th>\n",
              "      <th>num_followers_s</th>\n",
              "      <th>num_followers_d</th>\n",
              "      <th>num_followees_s</th>\n",
              "      <th>num_followees_d</th>\n",
              "      <th>inter_followers</th>\n",
              "      <th>inter_followees</th>\n",
              "      <th>adar_index</th>\n",
              "      <th>follows_back</th>\n",
              "      <th>same_comp</th>\n",
              "      <th>shortest_path</th>\n",
              "      <th>weight_in</th>\n",
              "      <th>weight_out</th>\n",
              "      <th>weight_f1</th>\n",
              "      <th>weight_f2</th>\n",
              "      <th>weight_f3</th>\n",
              "      <th>weight_f4</th>\n",
              "      <th>page_rank_s</th>\n",
              "      <th>page_rank_d</th>\n",
              "      <th>katz_s</th>\n",
              "      <th>katz_d</th>\n",
              "      <th>hubs_s</th>\n",
              "      <th>hubs_d</th>\n",
              "      <th>authorities_s</th>\n",
              "      <th>authorities_d</th>\n",
              "    </tr>\n",
              "  </thead>\n",
              "  <tbody>\n",
              "    <tr>\n",
              "      <th>0</th>\n",
              "      <td>273084</td>\n",
              "      <td>1505602</td>\n",
              "      <td>1</td>\n",
              "      <td>0</td>\n",
              "      <td>0.000000</td>\n",
              "      <td>0.000000</td>\n",
              "      <td>0.000000</td>\n",
              "      <td>11</td>\n",
              "      <td>6</td>\n",
              "      <td>15</td>\n",
              "      <td>8</td>\n",
              "      <td>0</td>\n",
              "      <td>0</td>\n",
              "      <td>0.000000</td>\n",
              "      <td>0</td>\n",
              "      <td>1</td>\n",
              "      <td>4</td>\n",
              "      <td>0.377964</td>\n",
              "      <td>0.250000</td>\n",
              "      <td>0.627964</td>\n",
              "      <td>0.094491</td>\n",
              "      <td>1.005929</td>\n",
              "      <td>0.877964</td>\n",
              "      <td>2.045290e-06</td>\n",
              "      <td>3.459963e-07</td>\n",
              "      <td>0.000773</td>\n",
              "      <td>0.000756</td>\n",
              "      <td>1.943132e-13</td>\n",
              "      <td>1.941103e-13</td>\n",
              "      <td>9.226339e-16</td>\n",
              "      <td>2.231877e-15</td>\n",
              "    </tr>\n",
              "    <tr>\n",
              "      <th>1</th>\n",
              "      <td>427712</td>\n",
              "      <td>363634</td>\n",
              "      <td>1</td>\n",
              "      <td>0</td>\n",
              "      <td>0.052632</td>\n",
              "      <td>0.000000</td>\n",
              "      <td>0.125000</td>\n",
              "      <td>3</td>\n",
              "      <td>11</td>\n",
              "      <td>4</td>\n",
              "      <td>16</td>\n",
              "      <td>0</td>\n",
              "      <td>1</td>\n",
              "      <td>1.660964</td>\n",
              "      <td>0</td>\n",
              "      <td>1</td>\n",
              "      <td>5</td>\n",
              "      <td>0.288675</td>\n",
              "      <td>0.447214</td>\n",
              "      <td>0.735889</td>\n",
              "      <td>0.129099</td>\n",
              "      <td>1.024564</td>\n",
              "      <td>1.183102</td>\n",
              "      <td>4.349180e-07</td>\n",
              "      <td>1.793616e-06</td>\n",
              "      <td>0.000743</td>\n",
              "      <td>0.000773</td>\n",
              "      <td>2.803333e-16</td>\n",
              "      <td>4.904297e-15</td>\n",
              "      <td>5.880548e-15</td>\n",
              "      <td>1.296420e-15</td>\n",
              "    </tr>\n",
              "    <tr>\n",
              "      <th>2</th>\n",
              "      <td>1221960</td>\n",
              "      <td>1610659</td>\n",
              "      <td>1</td>\n",
              "      <td>0</td>\n",
              "      <td>0.000000</td>\n",
              "      <td>0.000000</td>\n",
              "      <td>0.000000</td>\n",
              "      <td>0</td>\n",
              "      <td>6</td>\n",
              "      <td>1</td>\n",
              "      <td>7</td>\n",
              "      <td>0</td>\n",
              "      <td>0</td>\n",
              "      <td>0.000000</td>\n",
              "      <td>0</td>\n",
              "      <td>0</td>\n",
              "      <td>-1</td>\n",
              "      <td>0.408248</td>\n",
              "      <td>1.000000</td>\n",
              "      <td>1.408248</td>\n",
              "      <td>0.408248</td>\n",
              "      <td>1.816497</td>\n",
              "      <td>2.408248</td>\n",
              "      <td>1.655650e-07</td>\n",
              "      <td>1.073069e-06</td>\n",
              "      <td>0.000731</td>\n",
              "      <td>0.000754</td>\n",
              "      <td>2.273378e-21</td>\n",
              "      <td>1.561695e-18</td>\n",
              "      <td>0.000000e+00</td>\n",
              "      <td>3.167303e-19</td>\n",
              "    </tr>\n",
              "    <tr>\n",
              "      <th>3</th>\n",
              "      <td>980701</td>\n",
              "      <td>846172</td>\n",
              "      <td>1</td>\n",
              "      <td>0</td>\n",
              "      <td>0.010309</td>\n",
              "      <td>0.000000</td>\n",
              "      <td>0.024456</td>\n",
              "      <td>51</td>\n",
              "      <td>44</td>\n",
              "      <td>76</td>\n",
              "      <td>22</td>\n",
              "      <td>0</td>\n",
              "      <td>1</td>\n",
              "      <td>0.444845</td>\n",
              "      <td>0</td>\n",
              "      <td>1</td>\n",
              "      <td>2</td>\n",
              "      <td>0.149071</td>\n",
              "      <td>0.113961</td>\n",
              "      <td>0.263032</td>\n",
              "      <td>0.016988</td>\n",
              "      <td>0.412103</td>\n",
              "      <td>0.376992</td>\n",
              "      <td>2.261282e-06</td>\n",
              "      <td>3.945239e-06</td>\n",
              "      <td>0.000947</td>\n",
              "      <td>0.000912</td>\n",
              "      <td>8.409270e-13</td>\n",
              "      <td>1.781989e-14</td>\n",
              "      <td>2.240664e-13</td>\n",
              "      <td>3.748704e-14</td>\n",
              "    </tr>\n",
              "    <tr>\n",
              "      <th>4</th>\n",
              "      <td>1392993</td>\n",
              "      <td>344557</td>\n",
              "      <td>1</td>\n",
              "      <td>0</td>\n",
              "      <td>0.454545</td>\n",
              "      <td>0.221359</td>\n",
              "      <td>0.645497</td>\n",
              "      <td>10</td>\n",
              "      <td>10</td>\n",
              "      <td>10</td>\n",
              "      <td>6</td>\n",
              "      <td>7</td>\n",
              "      <td>5</td>\n",
              "      <td>5.075766</td>\n",
              "      <td>1</td>\n",
              "      <td>1</td>\n",
              "      <td>2</td>\n",
              "      <td>0.301511</td>\n",
              "      <td>0.301511</td>\n",
              "      <td>0.603023</td>\n",
              "      <td>0.090909</td>\n",
              "      <td>0.904534</td>\n",
              "      <td>0.904534</td>\n",
              "      <td>7.449960e-07</td>\n",
              "      <td>6.915972e-07</td>\n",
              "      <td>0.000770</td>\n",
              "      <td>0.000770</td>\n",
              "      <td>3.556369e-224</td>\n",
              "      <td>2.237892e-224</td>\n",
              "      <td>4.991326e-223</td>\n",
              "      <td>5.449428e-223</td>\n",
              "    </tr>\n",
              "  </tbody>\n",
              "</table>\n",
              "</div>"
            ],
            "text/plain": [
              "   source_node  destination_node  ...  authorities_s  authorities_d\n",
              "0       273084           1505602  ...   9.226339e-16   2.231877e-15\n",
              "1       427712            363634  ...   5.880548e-15   1.296420e-15\n",
              "2      1221960           1610659  ...   0.000000e+00   3.167303e-19\n",
              "3       980701            846172  ...   2.240664e-13   3.748704e-14\n",
              "4      1392993            344557  ...  4.991326e-223  5.449428e-223\n",
              "\n",
              "[5 rows x 31 columns]"
            ]
          },
          "metadata": {
            "tags": []
          },
          "execution_count": 39
        }
      ]
    },
    {
      "cell_type": "markdown",
      "metadata": {
        "colab_type": "text",
        "id": "PX4Q0MzGUuKm"
      },
      "source": [
        "### 7.5 Adding new set of features\n",
        "\n",
        "__we will create these each of these features for both train and test data points__\n",
        "<ol>\n",
        "<li>SVD features for both source and destination</li>\n",
        "</ol>"
      ]
    },
    {
      "cell_type": "code",
      "metadata": {
        "colab_type": "code",
        "id": "i0inwYnoUuKm",
        "colab": {}
      },
      "source": [
        "def svd(x, S):\n",
        "    try:\n",
        "        z = sadj_dict[x]\n",
        "        return S[z]\n",
        "    except:\n",
        "        return [0,0,0,0,0,0]"
      ],
      "execution_count": 0,
      "outputs": []
    },
    {
      "cell_type": "code",
      "metadata": {
        "colab_type": "code",
        "id": "Bs-fS9vLUuKs",
        "colab": {}
      },
      "source": [
        "#for svd features to get feature vector creating a dict node val and inedx in svd vector\n",
        "sadj_col = sorted(train_graph.nodes())\n",
        "sadj_dict = { val:idx for idx,val in enumerate(sadj_col)}"
      ],
      "execution_count": 0,
      "outputs": []
    },
    {
      "cell_type": "code",
      "metadata": {
        "colab_type": "code",
        "id": "r75gG61iUuKy",
        "colab": {}
      },
      "source": [
        "Adj = nx.adjacency_matrix(train_graph,nodelist=sorted(train_graph.nodes())).asfptype()"
      ],
      "execution_count": 0,
      "outputs": []
    },
    {
      "cell_type": "code",
      "metadata": {
        "colab_type": "code",
        "id": "DA91OPkbUuK2",
        "outputId": "98bd4f81-9993-4386-fe48-6e0963545e25",
        "colab": {
          "base_uri": "https://localhost:8080/",
          "height": 84
        }
      },
      "source": [
        "U, s, V = svds(Adj, k = 6)\n",
        "print('Adjacency matrix Shape',Adj.shape)\n",
        "print('U Shape',U.shape)\n",
        "print('V Shape',V.shape)\n",
        "print('s Shape',s.shape)"
      ],
      "execution_count": 43,
      "outputs": [
        {
          "output_type": "stream",
          "text": [
            "Adjacency matrix Shape (1780722, 1780722)\n",
            "U Shape (1780722, 6)\n",
            "V Shape (6, 1780722)\n",
            "s Shape (6,)\n"
          ],
          "name": "stdout"
        }
      ]
    },
    {
      "cell_type": "code",
      "metadata": {
        "colab_type": "code",
        "id": "26zJeSqbUuK4",
        "colab": {}
      },
      "source": [
        "if not os.path.isfile('/content/drive/My Drive/mandatory_15/storage_sample_stage4.h5'):\n",
        "    #===================================================================================================\n",
        "    \n",
        "    df_final_train[['svd_u_s_1', 'svd_u_s_2','svd_u_s_3', 'svd_u_s_4', 'svd_u_s_5', 'svd_u_s_6']] = \\\n",
        "    df_final_train.source_node.apply(lambda x: svd(x, U)).apply(pd.Series)\n",
        "    \n",
        "    df_final_train[['svd_u_d_1', 'svd_u_d_2', 'svd_u_d_3', 'svd_u_d_4', 'svd_u_d_5','svd_u_d_6']] = \\\n",
        "    df_final_train.destination_node.apply(lambda x: svd(x, U)).apply(pd.Series)\n",
        "    #===================================================================================================\n",
        "    \n",
        "    df_final_train[['svd_v_s_1','svd_v_s_2', 'svd_v_s_3', 'svd_v_s_4', 'svd_v_s_5', 'svd_v_s_6',]] = \\\n",
        "    df_final_train.source_node.apply(lambda x: svd(x, V.T)).apply(pd.Series)\n",
        "\n",
        "    df_final_train[['svd_v_d_1', 'svd_v_d_2', 'svd_v_d_3', 'svd_v_d_4', 'svd_v_d_5','svd_v_d_6']] = \\\n",
        "    df_final_train.destination_node.apply(lambda x: svd(x, V.T)).apply(pd.Series)\n",
        "    #===================================================================================================\n",
        "    \n",
        "    df_final_test[['svd_u_s_1', 'svd_u_s_2','svd_u_s_3', 'svd_u_s_4', 'svd_u_s_5', 'svd_u_s_6']] = \\\n",
        "    df_final_test.source_node.apply(lambda x: svd(x, U)).apply(pd.Series)\n",
        "    \n",
        "    df_final_test[['svd_u_d_1', 'svd_u_d_2', 'svd_u_d_3', 'svd_u_d_4', 'svd_u_d_5','svd_u_d_6']] = \\\n",
        "    df_final_test.destination_node.apply(lambda x: svd(x, U)).apply(pd.Series)\n",
        "\n",
        "    #===================================================================================================\n",
        "    \n",
        "    df_final_test[['svd_v_s_1','svd_v_s_2', 'svd_v_s_3', 'svd_v_s_4', 'svd_v_s_5', 'svd_v_s_6',]] = \\\n",
        "    df_final_test.source_node.apply(lambda x: svd(x, V.T)).apply(pd.Series)\n",
        "\n",
        "    df_final_test[['svd_v_d_1', 'svd_v_d_2', 'svd_v_d_3', 'svd_v_d_4', 'svd_v_d_5','svd_v_d_6']] = \\\n",
        "    df_final_test.destination_node.apply(lambda x: svd(x, V.T)).apply(pd.Series)\n",
        "    #===================================================================================================\n",
        "\n",
        "    hdf = HDFStore('/content/drive/My Drive/mandatory_15/storage_sample_stage4.h5')\n",
        "    hdf.put('train_df',df_final_train, format='table', data_columns=True)\n",
        "    hdf.put('test_df',df_final_test, format='table', data_columns=True)\n",
        "    hdf.close()"
      ],
      "execution_count": 0,
      "outputs": []
    },
    {
      "cell_type": "markdown",
      "metadata": {
        "colab_type": "text",
        "id": "XTZdSn0jUuK7"
      },
      "source": [
        "### 7.6 Adding new feature : Preferential Attachment with followers and followees data of vertex"
      ]
    },
    {
      "cell_type": "code",
      "metadata": {
        "colab_type": "code",
        "id": "NtoSkR9CUuK8",
        "outputId": "6f438d02-abee-440a-fa80-10606f1b19d3",
        "colab": {
          "base_uri": "https://localhost:8080/",
          "height": 299
        }
      },
      "source": [
        "#Preferential Attachment with followers\n",
        "\n",
        "#for train dataset\n",
        "no_f_s_train=np.array(df_final_train['num_followers_s'])\n",
        "no_f_d_train=np.array(df_final_train['num_followers_d'])\n",
        "preferential_attach_followers=[]\n",
        "for i in range(len(no_f_s_train)):\n",
        "    preferential_attach_followers.append(no_f_d_train[i]*no_f_s_train[i])\n",
        "df_final_train['preferential_Attached_followers']= preferential_attach_followers\n",
        "df_final_train.head()"
      ],
      "execution_count": 45,
      "outputs": [
        {
          "output_type": "execute_result",
          "data": {
            "text/html": [
              "<div>\n",
              "<style scoped>\n",
              "    .dataframe tbody tr th:only-of-type {\n",
              "        vertical-align: middle;\n",
              "    }\n",
              "\n",
              "    .dataframe tbody tr th {\n",
              "        vertical-align: top;\n",
              "    }\n",
              "\n",
              "    .dataframe thead th {\n",
              "        text-align: right;\n",
              "    }\n",
              "</style>\n",
              "<table border=\"1\" class=\"dataframe\">\n",
              "  <thead>\n",
              "    <tr style=\"text-align: right;\">\n",
              "      <th></th>\n",
              "      <th>source_node</th>\n",
              "      <th>destination_node</th>\n",
              "      <th>indicator_link</th>\n",
              "      <th>jaccard_followers</th>\n",
              "      <th>jaccard_followees</th>\n",
              "      <th>cosine_followers</th>\n",
              "      <th>cosine_followees</th>\n",
              "      <th>num_followers_s</th>\n",
              "      <th>num_followers_d</th>\n",
              "      <th>num_followees_s</th>\n",
              "      <th>num_followees_d</th>\n",
              "      <th>inter_followers</th>\n",
              "      <th>inter_followees</th>\n",
              "      <th>adar_index</th>\n",
              "      <th>follows_back</th>\n",
              "      <th>same_comp</th>\n",
              "      <th>shortest_path</th>\n",
              "      <th>weight_in</th>\n",
              "      <th>weight_out</th>\n",
              "      <th>weight_f1</th>\n",
              "      <th>weight_f2</th>\n",
              "      <th>weight_f3</th>\n",
              "      <th>weight_f4</th>\n",
              "      <th>page_rank_s</th>\n",
              "      <th>page_rank_d</th>\n",
              "      <th>katz_s</th>\n",
              "      <th>katz_d</th>\n",
              "      <th>hubs_s</th>\n",
              "      <th>hubs_d</th>\n",
              "      <th>authorities_s</th>\n",
              "      <th>authorities_d</th>\n",
              "      <th>svd_u_s_1</th>\n",
              "      <th>svd_u_s_2</th>\n",
              "      <th>svd_u_s_3</th>\n",
              "      <th>svd_u_s_4</th>\n",
              "      <th>svd_u_s_5</th>\n",
              "      <th>svd_u_s_6</th>\n",
              "      <th>svd_u_d_1</th>\n",
              "      <th>svd_u_d_2</th>\n",
              "      <th>svd_u_d_3</th>\n",
              "      <th>svd_u_d_4</th>\n",
              "      <th>svd_u_d_5</th>\n",
              "      <th>svd_u_d_6</th>\n",
              "      <th>svd_v_s_1</th>\n",
              "      <th>svd_v_s_2</th>\n",
              "      <th>svd_v_s_3</th>\n",
              "      <th>svd_v_s_4</th>\n",
              "      <th>svd_v_s_5</th>\n",
              "      <th>svd_v_s_6</th>\n",
              "      <th>svd_v_d_1</th>\n",
              "      <th>svd_v_d_2</th>\n",
              "      <th>svd_v_d_3</th>\n",
              "      <th>svd_v_d_4</th>\n",
              "      <th>svd_v_d_5</th>\n",
              "      <th>svd_v_d_6</th>\n",
              "      <th>preferential_Attached_followers</th>\n",
              "    </tr>\n",
              "  </thead>\n",
              "  <tbody>\n",
              "    <tr>\n",
              "      <th>0</th>\n",
              "      <td>273084</td>\n",
              "      <td>1505602</td>\n",
              "      <td>1</td>\n",
              "      <td>0</td>\n",
              "      <td>0.000000</td>\n",
              "      <td>0.000000</td>\n",
              "      <td>0.000000</td>\n",
              "      <td>11</td>\n",
              "      <td>6</td>\n",
              "      <td>15</td>\n",
              "      <td>8</td>\n",
              "      <td>0</td>\n",
              "      <td>0</td>\n",
              "      <td>0.000000</td>\n",
              "      <td>0</td>\n",
              "      <td>1</td>\n",
              "      <td>4</td>\n",
              "      <td>0.377964</td>\n",
              "      <td>0.250000</td>\n",
              "      <td>0.627964</td>\n",
              "      <td>0.094491</td>\n",
              "      <td>1.005929</td>\n",
              "      <td>0.877964</td>\n",
              "      <td>2.045290e-06</td>\n",
              "      <td>3.459963e-07</td>\n",
              "      <td>0.000773</td>\n",
              "      <td>0.000756</td>\n",
              "      <td>1.943132e-13</td>\n",
              "      <td>1.941103e-13</td>\n",
              "      <td>9.226339e-16</td>\n",
              "      <td>2.231877e-15</td>\n",
              "      <td>-1.666289e-13</td>\n",
              "      <td>4.613832e-13</td>\n",
              "      <td>1.043040e-05</td>\n",
              "      <td>6.678013e-13</td>\n",
              "      <td>2.451104e-13</td>\n",
              "      <td>3.584948e-12</td>\n",
              "      <td>-2.038018e-11</td>\n",
              "      <td>5.397759e-13</td>\n",
              "      <td>1.068943e-06</td>\n",
              "      <td>1.192460e-12</td>\n",
              "      <td>2.279487e-12</td>\n",
              "      <td>3.581205e-12</td>\n",
              "      <td>-7.216134e-13</td>\n",
              "      <td>3.926216e-13</td>\n",
              "      <td>1.983700e-06</td>\n",
              "      <td>1.545086e-13</td>\n",
              "      <td>8.108438e-13</td>\n",
              "      <td>1.719706e-14</td>\n",
              "      <td>-1.355357e-12</td>\n",
              "      <td>4.675298e-13</td>\n",
              "      <td>1.128586e-06</td>\n",
              "      <td>6.616701e-14</td>\n",
              "      <td>9.771078e-13</td>\n",
              "      <td>4.160016e-14</td>\n",
              "      <td>66</td>\n",
              "    </tr>\n",
              "    <tr>\n",
              "      <th>1</th>\n",
              "      <td>427712</td>\n",
              "      <td>363634</td>\n",
              "      <td>1</td>\n",
              "      <td>0</td>\n",
              "      <td>0.052632</td>\n",
              "      <td>0.000000</td>\n",
              "      <td>0.125000</td>\n",
              "      <td>3</td>\n",
              "      <td>11</td>\n",
              "      <td>4</td>\n",
              "      <td>16</td>\n",
              "      <td>0</td>\n",
              "      <td>1</td>\n",
              "      <td>1.660964</td>\n",
              "      <td>0</td>\n",
              "      <td>1</td>\n",
              "      <td>5</td>\n",
              "      <td>0.288675</td>\n",
              "      <td>0.447214</td>\n",
              "      <td>0.735889</td>\n",
              "      <td>0.129099</td>\n",
              "      <td>1.024564</td>\n",
              "      <td>1.183102</td>\n",
              "      <td>4.349180e-07</td>\n",
              "      <td>1.793616e-06</td>\n",
              "      <td>0.000743</td>\n",
              "      <td>0.000773</td>\n",
              "      <td>2.803333e-16</td>\n",
              "      <td>4.904297e-15</td>\n",
              "      <td>5.880548e-15</td>\n",
              "      <td>1.296420e-15</td>\n",
              "      <td>-2.906154e-14</td>\n",
              "      <td>4.634248e-12</td>\n",
              "      <td>3.879890e-12</td>\n",
              "      <td>1.129612e-13</td>\n",
              "      <td>1.103318e-13</td>\n",
              "      <td>5.171975e-15</td>\n",
              "      <td>-9.659033e-12</td>\n",
              "      <td>2.333848e-11</td>\n",
              "      <td>7.806316e-11</td>\n",
              "      <td>8.735295e-12</td>\n",
              "      <td>7.315770e-12</td>\n",
              "      <td>9.048079e-14</td>\n",
              "      <td>-3.978286e-12</td>\n",
              "      <td>1.778169e-11</td>\n",
              "      <td>7.662696e-11</td>\n",
              "      <td>3.197263e-12</td>\n",
              "      <td>3.014475e-10</td>\n",
              "      <td>1.096080e-13</td>\n",
              "      <td>-5.883671e-13</td>\n",
              "      <td>4.481595e-10</td>\n",
              "      <td>3.927396e-11</td>\n",
              "      <td>1.965574e-12</td>\n",
              "      <td>3.270425e-12</td>\n",
              "      <td>2.416408e-14</td>\n",
              "      <td>33</td>\n",
              "    </tr>\n",
              "    <tr>\n",
              "      <th>2</th>\n",
              "      <td>1221960</td>\n",
              "      <td>1610659</td>\n",
              "      <td>1</td>\n",
              "      <td>0</td>\n",
              "      <td>0.000000</td>\n",
              "      <td>0.000000</td>\n",
              "      <td>0.000000</td>\n",
              "      <td>0</td>\n",
              "      <td>6</td>\n",
              "      <td>1</td>\n",
              "      <td>7</td>\n",
              "      <td>0</td>\n",
              "      <td>0</td>\n",
              "      <td>0.000000</td>\n",
              "      <td>0</td>\n",
              "      <td>0</td>\n",
              "      <td>-1</td>\n",
              "      <td>0.408248</td>\n",
              "      <td>1.000000</td>\n",
              "      <td>1.408248</td>\n",
              "      <td>0.408248</td>\n",
              "      <td>1.816497</td>\n",
              "      <td>2.408248</td>\n",
              "      <td>1.655650e-07</td>\n",
              "      <td>1.073069e-06</td>\n",
              "      <td>0.000731</td>\n",
              "      <td>0.000754</td>\n",
              "      <td>2.273378e-21</td>\n",
              "      <td>1.561695e-18</td>\n",
              "      <td>0.000000e+00</td>\n",
              "      <td>3.167303e-19</td>\n",
              "      <td>3.111916e-20</td>\n",
              "      <td>4.536241e-20</td>\n",
              "      <td>-6.615611e-20</td>\n",
              "      <td>5.782476e-20</td>\n",
              "      <td>-6.638082e-20</td>\n",
              "      <td>1.120531e-19</td>\n",
              "      <td>-4.076881e-15</td>\n",
              "      <td>1.887992e-14</td>\n",
              "      <td>8.400198e-14</td>\n",
              "      <td>7.704642e-15</td>\n",
              "      <td>4.950587e-15</td>\n",
              "      <td>2.874898e-17</td>\n",
              "      <td>0.000000e+00</td>\n",
              "      <td>0.000000e+00</td>\n",
              "      <td>0.000000e+00</td>\n",
              "      <td>0.000000e+00</td>\n",
              "      <td>0.000000e+00</td>\n",
              "      <td>0.000000e+00</td>\n",
              "      <td>-2.722701e-16</td>\n",
              "      <td>4.026335e-15</td>\n",
              "      <td>1.708170e-14</td>\n",
              "      <td>5.206372e-15</td>\n",
              "      <td>3.891852e-16</td>\n",
              "      <td>5.902251e-18</td>\n",
              "      <td>0</td>\n",
              "    </tr>\n",
              "    <tr>\n",
              "      <th>3</th>\n",
              "      <td>980701</td>\n",
              "      <td>846172</td>\n",
              "      <td>1</td>\n",
              "      <td>0</td>\n",
              "      <td>0.010309</td>\n",
              "      <td>0.000000</td>\n",
              "      <td>0.024456</td>\n",
              "      <td>51</td>\n",
              "      <td>44</td>\n",
              "      <td>76</td>\n",
              "      <td>22</td>\n",
              "      <td>0</td>\n",
              "      <td>1</td>\n",
              "      <td>0.444845</td>\n",
              "      <td>0</td>\n",
              "      <td>1</td>\n",
              "      <td>2</td>\n",
              "      <td>0.149071</td>\n",
              "      <td>0.113961</td>\n",
              "      <td>0.263032</td>\n",
              "      <td>0.016988</td>\n",
              "      <td>0.412103</td>\n",
              "      <td>0.376992</td>\n",
              "      <td>2.261282e-06</td>\n",
              "      <td>3.945239e-06</td>\n",
              "      <td>0.000947</td>\n",
              "      <td>0.000912</td>\n",
              "      <td>8.409270e-13</td>\n",
              "      <td>1.781989e-14</td>\n",
              "      <td>2.240664e-13</td>\n",
              "      <td>3.748704e-14</td>\n",
              "      <td>-2.124707e-10</td>\n",
              "      <td>3.249647e-11</td>\n",
              "      <td>7.281998e-05</td>\n",
              "      <td>2.242513e-11</td>\n",
              "      <td>1.190559e-10</td>\n",
              "      <td>1.551450e-11</td>\n",
              "      <td>-8.673427e-11</td>\n",
              "      <td>2.008413e-11</td>\n",
              "      <td>7.307495e-06</td>\n",
              "      <td>1.294438e-11</td>\n",
              "      <td>4.455822e-11</td>\n",
              "      <td>3.287650e-13</td>\n",
              "      <td>-8.701017e-11</td>\n",
              "      <td>3.696878e-11</td>\n",
              "      <td>7.998836e-05</td>\n",
              "      <td>2.036867e-11</td>\n",
              "      <td>3.528891e-10</td>\n",
              "      <td>4.176392e-12</td>\n",
              "      <td>-2.383190e-11</td>\n",
              "      <td>1.593003e-11</td>\n",
              "      <td>2.738781e-05</td>\n",
              "      <td>1.292596e-11</td>\n",
              "      <td>1.928938e-11</td>\n",
              "      <td>6.987237e-13</td>\n",
              "      <td>2244</td>\n",
              "    </tr>\n",
              "    <tr>\n",
              "      <th>4</th>\n",
              "      <td>1392993</td>\n",
              "      <td>344557</td>\n",
              "      <td>1</td>\n",
              "      <td>0</td>\n",
              "      <td>0.454545</td>\n",
              "      <td>0.221359</td>\n",
              "      <td>0.645497</td>\n",
              "      <td>10</td>\n",
              "      <td>10</td>\n",
              "      <td>10</td>\n",
              "      <td>6</td>\n",
              "      <td>7</td>\n",
              "      <td>5</td>\n",
              "      <td>5.075766</td>\n",
              "      <td>1</td>\n",
              "      <td>1</td>\n",
              "      <td>2</td>\n",
              "      <td>0.301511</td>\n",
              "      <td>0.301511</td>\n",
              "      <td>0.603023</td>\n",
              "      <td>0.090909</td>\n",
              "      <td>0.904534</td>\n",
              "      <td>0.904534</td>\n",
              "      <td>7.449960e-07</td>\n",
              "      <td>6.915972e-07</td>\n",
              "      <td>0.000770</td>\n",
              "      <td>0.000770</td>\n",
              "      <td>3.556369e-224</td>\n",
              "      <td>2.237892e-224</td>\n",
              "      <td>4.991326e-223</td>\n",
              "      <td>5.449428e-223</td>\n",
              "      <td>-9.585162e-20</td>\n",
              "      <td>1.025294e-19</td>\n",
              "      <td>-2.008901e-20</td>\n",
              "      <td>5.215682e-20</td>\n",
              "      <td>-1.096714e-20</td>\n",
              "      <td>-1.530239e-20</td>\n",
              "      <td>-5.521270e-20</td>\n",
              "      <td>7.239435e-20</td>\n",
              "      <td>2.236640e-20</td>\n",
              "      <td>2.396194e-20</td>\n",
              "      <td>2.363611e-20</td>\n",
              "      <td>-5.738578e-20</td>\n",
              "      <td>-9.591894e-21</td>\n",
              "      <td>4.031020e-21</td>\n",
              "      <td>-2.245638e-21</td>\n",
              "      <td>3.944677e-21</td>\n",
              "      <td>1.463415e-22</td>\n",
              "      <td>-5.979789e-22</td>\n",
              "      <td>-1.033974e-20</td>\n",
              "      <td>4.400027e-21</td>\n",
              "      <td>-2.644639e-21</td>\n",
              "      <td>4.458878e-21</td>\n",
              "      <td>-2.531662e-22</td>\n",
              "      <td>-5.564671e-22</td>\n",
              "      <td>100</td>\n",
              "    </tr>\n",
              "  </tbody>\n",
              "</table>\n",
              "</div>"
            ],
            "text/plain": [
              "   source_node  destination_node  ...     svd_v_d_6  preferential_Attached_followers\n",
              "0       273084           1505602  ...  4.160016e-14                               66\n",
              "1       427712            363634  ...  2.416408e-14                               33\n",
              "2      1221960           1610659  ...  5.902251e-18                                0\n",
              "3       980701            846172  ...  6.987237e-13                             2244\n",
              "4      1392993            344557  ... -5.564671e-22                              100\n",
              "\n",
              "[5 rows x 56 columns]"
            ]
          },
          "metadata": {
            "tags": []
          },
          "execution_count": 45
        }
      ]
    },
    {
      "cell_type": "code",
      "metadata": {
        "colab_type": "code",
        "id": "F4342W7fUuK_",
        "colab": {
          "base_uri": "https://localhost:8080/",
          "height": 299
        },
        "outputId": "858710cb-43cd-4e64-a310-e16e215c65c8"
      },
      "source": [
        "#for test dataset\n",
        "\n",
        "nfs_test=np.array(df_final_test['num_followers_s'])\n",
        "nfd_test=np.array(df_final_test['num_followers_d'])\n",
        "preferential_attach_followers=[]\n",
        "for i in range(len(nfs_test)):\n",
        "    preferential_attach_followers.append(nfd_test[i]*nfs_test[i])\n",
        "df_final_test['preferential_Attached_followers']= preferential_attach_followers\n",
        "df_final_test.head()"
      ],
      "execution_count": 48,
      "outputs": [
        {
          "output_type": "execute_result",
          "data": {
            "text/html": [
              "<div>\n",
              "<style scoped>\n",
              "    .dataframe tbody tr th:only-of-type {\n",
              "        vertical-align: middle;\n",
              "    }\n",
              "\n",
              "    .dataframe tbody tr th {\n",
              "        vertical-align: top;\n",
              "    }\n",
              "\n",
              "    .dataframe thead th {\n",
              "        text-align: right;\n",
              "    }\n",
              "</style>\n",
              "<table border=\"1\" class=\"dataframe\">\n",
              "  <thead>\n",
              "    <tr style=\"text-align: right;\">\n",
              "      <th></th>\n",
              "      <th>source_node</th>\n",
              "      <th>destination_node</th>\n",
              "      <th>indicator_link</th>\n",
              "      <th>jaccard_followers</th>\n",
              "      <th>jaccard_followees</th>\n",
              "      <th>cosine_followers</th>\n",
              "      <th>cosine_followees</th>\n",
              "      <th>num_followers_s</th>\n",
              "      <th>num_followers_d</th>\n",
              "      <th>num_followees_s</th>\n",
              "      <th>num_followees_d</th>\n",
              "      <th>inter_followers</th>\n",
              "      <th>inter_followees</th>\n",
              "      <th>adar_index</th>\n",
              "      <th>follows_back</th>\n",
              "      <th>same_comp</th>\n",
              "      <th>shortest_path</th>\n",
              "      <th>weight_in</th>\n",
              "      <th>weight_out</th>\n",
              "      <th>weight_f1</th>\n",
              "      <th>weight_f2</th>\n",
              "      <th>weight_f3</th>\n",
              "      <th>weight_f4</th>\n",
              "      <th>page_rank_s</th>\n",
              "      <th>page_rank_d</th>\n",
              "      <th>katz_s</th>\n",
              "      <th>katz_d</th>\n",
              "      <th>hubs_s</th>\n",
              "      <th>hubs_d</th>\n",
              "      <th>authorities_s</th>\n",
              "      <th>authorities_d</th>\n",
              "      <th>svd_u_s_1</th>\n",
              "      <th>svd_u_s_2</th>\n",
              "      <th>svd_u_s_3</th>\n",
              "      <th>svd_u_s_4</th>\n",
              "      <th>svd_u_s_5</th>\n",
              "      <th>svd_u_s_6</th>\n",
              "      <th>svd_u_d_1</th>\n",
              "      <th>svd_u_d_2</th>\n",
              "      <th>svd_u_d_3</th>\n",
              "      <th>svd_u_d_4</th>\n",
              "      <th>svd_u_d_5</th>\n",
              "      <th>svd_u_d_6</th>\n",
              "      <th>svd_v_s_1</th>\n",
              "      <th>svd_v_s_2</th>\n",
              "      <th>svd_v_s_3</th>\n",
              "      <th>svd_v_s_4</th>\n",
              "      <th>svd_v_s_5</th>\n",
              "      <th>svd_v_s_6</th>\n",
              "      <th>svd_v_d_1</th>\n",
              "      <th>svd_v_d_2</th>\n",
              "      <th>svd_v_d_3</th>\n",
              "      <th>svd_v_d_4</th>\n",
              "      <th>svd_v_d_5</th>\n",
              "      <th>svd_v_d_6</th>\n",
              "      <th>preferential_Attached_followers</th>\n",
              "    </tr>\n",
              "  </thead>\n",
              "  <tbody>\n",
              "    <tr>\n",
              "      <th>0</th>\n",
              "      <td>848424</td>\n",
              "      <td>784690</td>\n",
              "      <td>1</td>\n",
              "      <td>0</td>\n",
              "      <td>0.000000</td>\n",
              "      <td>0.029161</td>\n",
              "      <td>0.000000</td>\n",
              "      <td>6</td>\n",
              "      <td>14</td>\n",
              "      <td>6</td>\n",
              "      <td>9</td>\n",
              "      <td>1</td>\n",
              "      <td>0</td>\n",
              "      <td>0.000000</td>\n",
              "      <td>1</td>\n",
              "      <td>1</td>\n",
              "      <td>2</td>\n",
              "      <td>0.258199</td>\n",
              "      <td>0.377964</td>\n",
              "      <td>0.636163</td>\n",
              "      <td>0.097590</td>\n",
              "      <td>0.894362</td>\n",
              "      <td>1.014128</td>\n",
              "      <td>6.557971e-07</td>\n",
              "      <td>1.559547e-06</td>\n",
              "      <td>0.000754</td>\n",
              "      <td>0.000786</td>\n",
              "      <td>3.243237e-16</td>\n",
              "      <td>1.745627e-16</td>\n",
              "      <td>2.969838e-15</td>\n",
              "      <td>9.269213e-14</td>\n",
              "      <td>-9.987977e-12</td>\n",
              "      <td>2.283696e-13</td>\n",
              "      <td>1.439959e-10</td>\n",
              "      <td>6.136067e-13</td>\n",
              "      <td>4.188137e-13</td>\n",
              "      <td>5.983586e-15</td>\n",
              "      <td>-1.026186e-11</td>\n",
              "      <td>5.316632e-13</td>\n",
              "      <td>5.843190e-10</td>\n",
              "      <td>1.166029e-13</td>\n",
              "      <td>2.253356e-11</td>\n",
              "      <td>3.220624e-15</td>\n",
              "      <td>-2.148850e-13</td>\n",
              "      <td>1.883261e-13</td>\n",
              "      <td>5.904739e-11</td>\n",
              "      <td>2.701537e-12</td>\n",
              "      <td>4.341617e-13</td>\n",
              "      <td>5.535510e-14</td>\n",
              "      <td>-9.994075e-10</td>\n",
              "      <td>5.791917e-10</td>\n",
              "      <td>3.512350e-07</td>\n",
              "      <td>2.486659e-09</td>\n",
              "      <td>2.771145e-09</td>\n",
              "      <td>1.727688e-12</td>\n",
              "      <td>84</td>\n",
              "    </tr>\n",
              "    <tr>\n",
              "      <th>1</th>\n",
              "      <td>466950</td>\n",
              "      <td>1318835</td>\n",
              "      <td>1</td>\n",
              "      <td>0</td>\n",
              "      <td>0.000000</td>\n",
              "      <td>0.000000</td>\n",
              "      <td>0.000000</td>\n",
              "      <td>3</td>\n",
              "      <td>9</td>\n",
              "      <td>1</td>\n",
              "      <td>9</td>\n",
              "      <td>0</td>\n",
              "      <td>0</td>\n",
              "      <td>0.000000</td>\n",
              "      <td>0</td>\n",
              "      <td>1</td>\n",
              "      <td>5</td>\n",
              "      <td>0.316228</td>\n",
              "      <td>0.707107</td>\n",
              "      <td>1.023335</td>\n",
              "      <td>0.223607</td>\n",
              "      <td>1.339562</td>\n",
              "      <td>1.730441</td>\n",
              "      <td>6.925499e-07</td>\n",
              "      <td>1.411712e-06</td>\n",
              "      <td>0.000744</td>\n",
              "      <td>0.000767</td>\n",
              "      <td>3.917646e-17</td>\n",
              "      <td>1.236955e-15</td>\n",
              "      <td>9.496163e-15</td>\n",
              "      <td>8.254000e-16</td>\n",
              "      <td>-3.285204e-14</td>\n",
              "      <td>9.099312e-15</td>\n",
              "      <td>1.304052e-07</td>\n",
              "      <td>1.787990e-14</td>\n",
              "      <td>1.520549e-14</td>\n",
              "      <td>7.227744e-16</td>\n",
              "      <td>-4.054837e-13</td>\n",
              "      <td>5.778041e-13</td>\n",
              "      <td>3.901868e-06</td>\n",
              "      <td>1.503271e-13</td>\n",
              "      <td>8.013928e-13</td>\n",
              "      <td>2.282095e-14</td>\n",
              "      <td>-6.669393e-13</td>\n",
              "      <td>3.110166e-13</td>\n",
              "      <td>3.697414e-05</td>\n",
              "      <td>4.237499e-13</td>\n",
              "      <td>1.174413e-12</td>\n",
              "      <td>1.769999e-13</td>\n",
              "      <td>-1.439100e-12</td>\n",
              "      <td>5.216115e-13</td>\n",
              "      <td>3.985322e-07</td>\n",
              "      <td>1.897239e-13</td>\n",
              "      <td>9.709867e-13</td>\n",
              "      <td>1.538471e-14</td>\n",
              "      <td>27</td>\n",
              "    </tr>\n",
              "    <tr>\n",
              "      <th>2</th>\n",
              "      <td>1534264</td>\n",
              "      <td>737288</td>\n",
              "      <td>1</td>\n",
              "      <td>0</td>\n",
              "      <td>0.000000</td>\n",
              "      <td>0.000000</td>\n",
              "      <td>0.000000</td>\n",
              "      <td>21</td>\n",
              "      <td>0</td>\n",
              "      <td>11</td>\n",
              "      <td>1</td>\n",
              "      <td>0</td>\n",
              "      <td>0</td>\n",
              "      <td>0.000000</td>\n",
              "      <td>1</td>\n",
              "      <td>1</td>\n",
              "      <td>-1</td>\n",
              "      <td>1.000000</td>\n",
              "      <td>0.288675</td>\n",
              "      <td>1.288675</td>\n",
              "      <td>0.288675</td>\n",
              "      <td>2.288675</td>\n",
              "      <td>1.577350</td>\n",
              "      <td>2.411257e-06</td>\n",
              "      <td>1.655650e-07</td>\n",
              "      <td>0.000815</td>\n",
              "      <td>0.000731</td>\n",
              "      <td>1.724895e-14</td>\n",
              "      <td>4.513545e-17</td>\n",
              "      <td>6.288336e-15</td>\n",
              "      <td>0.000000e+00</td>\n",
              "      <td>-9.811841e-12</td>\n",
              "      <td>2.147531e-11</td>\n",
              "      <td>1.117022e-09</td>\n",
              "      <td>8.093354e-12</td>\n",
              "      <td>7.958587e-11</td>\n",
              "      <td>3.182315e-13</td>\n",
              "      <td>-8.227087e-14</td>\n",
              "      <td>4.301337e-14</td>\n",
              "      <td>5.279023e-10</td>\n",
              "      <td>1.539843e-13</td>\n",
              "      <td>2.250715e-12</td>\n",
              "      <td>8.327950e-16</td>\n",
              "      <td>-8.121753e-12</td>\n",
              "      <td>4.316842e-12</td>\n",
              "      <td>5.438352e-08</td>\n",
              "      <td>1.611126e-11</td>\n",
              "      <td>2.816942e-10</td>\n",
              "      <td>1.172088e-13</td>\n",
              "      <td>0.000000e+00</td>\n",
              "      <td>0.000000e+00</td>\n",
              "      <td>0.000000e+00</td>\n",
              "      <td>0.000000e+00</td>\n",
              "      <td>0.000000e+00</td>\n",
              "      <td>0.000000e+00</td>\n",
              "      <td>0</td>\n",
              "    </tr>\n",
              "    <tr>\n",
              "      <th>3</th>\n",
              "      <td>1006623</td>\n",
              "      <td>997718</td>\n",
              "      <td>1</td>\n",
              "      <td>0</td>\n",
              "      <td>0.133333</td>\n",
              "      <td>0.023570</td>\n",
              "      <td>0.235702</td>\n",
              "      <td>8</td>\n",
              "      <td>15</td>\n",
              "      <td>9</td>\n",
              "      <td>8</td>\n",
              "      <td>1</td>\n",
              "      <td>2</td>\n",
              "      <td>1.937791</td>\n",
              "      <td>0</td>\n",
              "      <td>1</td>\n",
              "      <td>2</td>\n",
              "      <td>0.250000</td>\n",
              "      <td>0.316228</td>\n",
              "      <td>0.566228</td>\n",
              "      <td>0.079057</td>\n",
              "      <td>0.816228</td>\n",
              "      <td>0.882456</td>\n",
              "      <td>7.988979e-07</td>\n",
              "      <td>7.804924e-07</td>\n",
              "      <td>0.000762</td>\n",
              "      <td>0.000790</td>\n",
              "      <td>9.296814e-16</td>\n",
              "      <td>3.166272e-17</td>\n",
              "      <td>7.009411e-16</td>\n",
              "      <td>3.437776e-17</td>\n",
              "      <td>-1.763230e-11</td>\n",
              "      <td>1.541526e-11</td>\n",
              "      <td>5.874881e-12</td>\n",
              "      <td>2.842831e-13</td>\n",
              "      <td>1.665467e-11</td>\n",
              "      <td>1.715199e-14</td>\n",
              "      <td>-8.838387e-12</td>\n",
              "      <td>2.840368e-13</td>\n",
              "      <td>1.393751e-12</td>\n",
              "      <td>1.498453e-13</td>\n",
              "      <td>8.344371e-14</td>\n",
              "      <td>5.842666e-16</td>\n",
              "      <td>-9.568151e-13</td>\n",
              "      <td>9.682369e-13</td>\n",
              "      <td>9.165639e-12</td>\n",
              "      <td>6.722036e-12</td>\n",
              "      <td>1.724455e-13</td>\n",
              "      <td>1.306489e-14</td>\n",
              "      <td>-3.705841e-12</td>\n",
              "      <td>2.964562e-12</td>\n",
              "      <td>3.507433e-12</td>\n",
              "      <td>8.071163e-14</td>\n",
              "      <td>7.714884e-13</td>\n",
              "      <td>6.407705e-16</td>\n",
              "      <td>120</td>\n",
              "    </tr>\n",
              "    <tr>\n",
              "      <th>4</th>\n",
              "      <td>1354303</td>\n",
              "      <td>1508157</td>\n",
              "      <td>1</td>\n",
              "      <td>0</td>\n",
              "      <td>0.000000</td>\n",
              "      <td>0.000000</td>\n",
              "      <td>0.000000</td>\n",
              "      <td>29</td>\n",
              "      <td>2</td>\n",
              "      <td>20</td>\n",
              "      <td>3</td>\n",
              "      <td>0</td>\n",
              "      <td>0</td>\n",
              "      <td>0.000000</td>\n",
              "      <td>0</td>\n",
              "      <td>1</td>\n",
              "      <td>7</td>\n",
              "      <td>0.577350</td>\n",
              "      <td>0.218218</td>\n",
              "      <td>0.795568</td>\n",
              "      <td>0.125988</td>\n",
              "      <td>1.372918</td>\n",
              "      <td>1.013786</td>\n",
              "      <td>4.844575e-06</td>\n",
              "      <td>3.423555e-07</td>\n",
              "      <td>0.000843</td>\n",
              "      <td>0.000739</td>\n",
              "      <td>1.519177e-13</td>\n",
              "      <td>1.983550e-18</td>\n",
              "      <td>2.274018e-12</td>\n",
              "      <td>9.963159e-19</td>\n",
              "      <td>-8.675067e-11</td>\n",
              "      <td>1.395258e-12</td>\n",
              "      <td>3.077789e-07</td>\n",
              "      <td>4.574550e-11</td>\n",
              "      <td>2.402619e-11</td>\n",
              "      <td>2.802779e-12</td>\n",
              "      <td>-1.183955e-14</td>\n",
              "      <td>3.366332e-14</td>\n",
              "      <td>2.542053e-12</td>\n",
              "      <td>5.701566e-16</td>\n",
              "      <td>9.587669e-15</td>\n",
              "      <td>3.662413e-17</td>\n",
              "      <td>-3.717038e-09</td>\n",
              "      <td>3.958614e-11</td>\n",
              "      <td>6.907089e-08</td>\n",
              "      <td>5.954942e-11</td>\n",
              "      <td>7.251200e-10</td>\n",
              "      <td>4.238564e-11</td>\n",
              "      <td>-1.044460e-13</td>\n",
              "      <td>1.163732e-14</td>\n",
              "      <td>1.698536e-11</td>\n",
              "      <td>1.471711e-15</td>\n",
              "      <td>3.503684e-15</td>\n",
              "      <td>1.856719e-17</td>\n",
              "      <td>58</td>\n",
              "    </tr>\n",
              "  </tbody>\n",
              "</table>\n",
              "</div>"
            ],
            "text/plain": [
              "   source_node  destination_node  ...     svd_v_d_6  preferential_Attached_followers\n",
              "0       848424            784690  ...  1.727688e-12                               84\n",
              "1       466950           1318835  ...  1.538471e-14                               27\n",
              "2      1534264            737288  ...  0.000000e+00                                0\n",
              "3      1006623            997718  ...  6.407705e-16                              120\n",
              "4      1354303           1508157  ...  1.856719e-17                               58\n",
              "\n",
              "[5 rows x 56 columns]"
            ]
          },
          "metadata": {
            "tags": []
          },
          "execution_count": 48
        }
      ]
    },
    {
      "cell_type": "code",
      "metadata": {
        "colab_type": "code",
        "id": "RUl8dFnDUuLC",
        "colab": {
          "base_uri": "https://localhost:8080/",
          "height": 299
        },
        "outputId": "022644d1-5b38-428e-bf29-447d19ab58e7"
      },
      "source": [
        "#Preferential Attachement for followees\n",
        "\n",
        "#for train dataset\n",
        "nfs_train=np.array(df_final_train['num_followees_s'])\n",
        "nfd_train =np.array(df_final_train['num_followees_d'])\n",
        "preferential_attach_followees=[]\n",
        "for i in range(len(nfs_train)):\n",
        "    preferential_attach_followees.append(nfd_train[i]*nfs_train[i])\n",
        "df_final_train['preferential_Attached_followees']= preferential_attach_followees\n",
        "df_final_train.head()"
      ],
      "execution_count": 49,
      "outputs": [
        {
          "output_type": "execute_result",
          "data": {
            "text/html": [
              "<div>\n",
              "<style scoped>\n",
              "    .dataframe tbody tr th:only-of-type {\n",
              "        vertical-align: middle;\n",
              "    }\n",
              "\n",
              "    .dataframe tbody tr th {\n",
              "        vertical-align: top;\n",
              "    }\n",
              "\n",
              "    .dataframe thead th {\n",
              "        text-align: right;\n",
              "    }\n",
              "</style>\n",
              "<table border=\"1\" class=\"dataframe\">\n",
              "  <thead>\n",
              "    <tr style=\"text-align: right;\">\n",
              "      <th></th>\n",
              "      <th>source_node</th>\n",
              "      <th>destination_node</th>\n",
              "      <th>indicator_link</th>\n",
              "      <th>jaccard_followers</th>\n",
              "      <th>jaccard_followees</th>\n",
              "      <th>cosine_followers</th>\n",
              "      <th>cosine_followees</th>\n",
              "      <th>num_followers_s</th>\n",
              "      <th>num_followers_d</th>\n",
              "      <th>num_followees_s</th>\n",
              "      <th>num_followees_d</th>\n",
              "      <th>inter_followers</th>\n",
              "      <th>inter_followees</th>\n",
              "      <th>adar_index</th>\n",
              "      <th>follows_back</th>\n",
              "      <th>same_comp</th>\n",
              "      <th>shortest_path</th>\n",
              "      <th>weight_in</th>\n",
              "      <th>weight_out</th>\n",
              "      <th>weight_f1</th>\n",
              "      <th>weight_f2</th>\n",
              "      <th>weight_f3</th>\n",
              "      <th>weight_f4</th>\n",
              "      <th>page_rank_s</th>\n",
              "      <th>page_rank_d</th>\n",
              "      <th>katz_s</th>\n",
              "      <th>katz_d</th>\n",
              "      <th>hubs_s</th>\n",
              "      <th>hubs_d</th>\n",
              "      <th>authorities_s</th>\n",
              "      <th>authorities_d</th>\n",
              "      <th>svd_u_s_1</th>\n",
              "      <th>svd_u_s_2</th>\n",
              "      <th>svd_u_s_3</th>\n",
              "      <th>svd_u_s_4</th>\n",
              "      <th>svd_u_s_5</th>\n",
              "      <th>svd_u_s_6</th>\n",
              "      <th>svd_u_d_1</th>\n",
              "      <th>svd_u_d_2</th>\n",
              "      <th>svd_u_d_3</th>\n",
              "      <th>svd_u_d_4</th>\n",
              "      <th>svd_u_d_5</th>\n",
              "      <th>svd_u_d_6</th>\n",
              "      <th>svd_v_s_1</th>\n",
              "      <th>svd_v_s_2</th>\n",
              "      <th>svd_v_s_3</th>\n",
              "      <th>svd_v_s_4</th>\n",
              "      <th>svd_v_s_5</th>\n",
              "      <th>svd_v_s_6</th>\n",
              "      <th>svd_v_d_1</th>\n",
              "      <th>svd_v_d_2</th>\n",
              "      <th>svd_v_d_3</th>\n",
              "      <th>svd_v_d_4</th>\n",
              "      <th>svd_v_d_5</th>\n",
              "      <th>svd_v_d_6</th>\n",
              "      <th>preferential_Attached_followers</th>\n",
              "      <th>preferential_Attached_followees</th>\n",
              "    </tr>\n",
              "  </thead>\n",
              "  <tbody>\n",
              "    <tr>\n",
              "      <th>0</th>\n",
              "      <td>273084</td>\n",
              "      <td>1505602</td>\n",
              "      <td>1</td>\n",
              "      <td>0</td>\n",
              "      <td>0.000000</td>\n",
              "      <td>0.000000</td>\n",
              "      <td>0.000000</td>\n",
              "      <td>11</td>\n",
              "      <td>6</td>\n",
              "      <td>15</td>\n",
              "      <td>8</td>\n",
              "      <td>0</td>\n",
              "      <td>0</td>\n",
              "      <td>0.000000</td>\n",
              "      <td>0</td>\n",
              "      <td>1</td>\n",
              "      <td>4</td>\n",
              "      <td>0.377964</td>\n",
              "      <td>0.250000</td>\n",
              "      <td>0.627964</td>\n",
              "      <td>0.094491</td>\n",
              "      <td>1.005929</td>\n",
              "      <td>0.877964</td>\n",
              "      <td>2.045290e-06</td>\n",
              "      <td>3.459963e-07</td>\n",
              "      <td>0.000773</td>\n",
              "      <td>0.000756</td>\n",
              "      <td>1.943132e-13</td>\n",
              "      <td>1.941103e-13</td>\n",
              "      <td>9.226339e-16</td>\n",
              "      <td>2.231877e-15</td>\n",
              "      <td>-1.666289e-13</td>\n",
              "      <td>4.613832e-13</td>\n",
              "      <td>1.043040e-05</td>\n",
              "      <td>6.678013e-13</td>\n",
              "      <td>2.451104e-13</td>\n",
              "      <td>3.584948e-12</td>\n",
              "      <td>-2.038018e-11</td>\n",
              "      <td>5.397759e-13</td>\n",
              "      <td>1.068943e-06</td>\n",
              "      <td>1.192460e-12</td>\n",
              "      <td>2.279487e-12</td>\n",
              "      <td>3.581205e-12</td>\n",
              "      <td>-7.216134e-13</td>\n",
              "      <td>3.926216e-13</td>\n",
              "      <td>1.983700e-06</td>\n",
              "      <td>1.545086e-13</td>\n",
              "      <td>8.108438e-13</td>\n",
              "      <td>1.719706e-14</td>\n",
              "      <td>-1.355357e-12</td>\n",
              "      <td>4.675298e-13</td>\n",
              "      <td>1.128586e-06</td>\n",
              "      <td>6.616701e-14</td>\n",
              "      <td>9.771078e-13</td>\n",
              "      <td>4.160016e-14</td>\n",
              "      <td>66</td>\n",
              "      <td>120</td>\n",
              "    </tr>\n",
              "    <tr>\n",
              "      <th>1</th>\n",
              "      <td>427712</td>\n",
              "      <td>363634</td>\n",
              "      <td>1</td>\n",
              "      <td>0</td>\n",
              "      <td>0.052632</td>\n",
              "      <td>0.000000</td>\n",
              "      <td>0.125000</td>\n",
              "      <td>3</td>\n",
              "      <td>11</td>\n",
              "      <td>4</td>\n",
              "      <td>16</td>\n",
              "      <td>0</td>\n",
              "      <td>1</td>\n",
              "      <td>1.660964</td>\n",
              "      <td>0</td>\n",
              "      <td>1</td>\n",
              "      <td>5</td>\n",
              "      <td>0.288675</td>\n",
              "      <td>0.447214</td>\n",
              "      <td>0.735889</td>\n",
              "      <td>0.129099</td>\n",
              "      <td>1.024564</td>\n",
              "      <td>1.183102</td>\n",
              "      <td>4.349180e-07</td>\n",
              "      <td>1.793616e-06</td>\n",
              "      <td>0.000743</td>\n",
              "      <td>0.000773</td>\n",
              "      <td>2.803333e-16</td>\n",
              "      <td>4.904297e-15</td>\n",
              "      <td>5.880548e-15</td>\n",
              "      <td>1.296420e-15</td>\n",
              "      <td>-2.906154e-14</td>\n",
              "      <td>4.634248e-12</td>\n",
              "      <td>3.879890e-12</td>\n",
              "      <td>1.129612e-13</td>\n",
              "      <td>1.103318e-13</td>\n",
              "      <td>5.171975e-15</td>\n",
              "      <td>-9.659033e-12</td>\n",
              "      <td>2.333848e-11</td>\n",
              "      <td>7.806316e-11</td>\n",
              "      <td>8.735295e-12</td>\n",
              "      <td>7.315770e-12</td>\n",
              "      <td>9.048079e-14</td>\n",
              "      <td>-3.978286e-12</td>\n",
              "      <td>1.778169e-11</td>\n",
              "      <td>7.662696e-11</td>\n",
              "      <td>3.197263e-12</td>\n",
              "      <td>3.014475e-10</td>\n",
              "      <td>1.096080e-13</td>\n",
              "      <td>-5.883671e-13</td>\n",
              "      <td>4.481595e-10</td>\n",
              "      <td>3.927396e-11</td>\n",
              "      <td>1.965574e-12</td>\n",
              "      <td>3.270425e-12</td>\n",
              "      <td>2.416408e-14</td>\n",
              "      <td>33</td>\n",
              "      <td>64</td>\n",
              "    </tr>\n",
              "    <tr>\n",
              "      <th>2</th>\n",
              "      <td>1221960</td>\n",
              "      <td>1610659</td>\n",
              "      <td>1</td>\n",
              "      <td>0</td>\n",
              "      <td>0.000000</td>\n",
              "      <td>0.000000</td>\n",
              "      <td>0.000000</td>\n",
              "      <td>0</td>\n",
              "      <td>6</td>\n",
              "      <td>1</td>\n",
              "      <td>7</td>\n",
              "      <td>0</td>\n",
              "      <td>0</td>\n",
              "      <td>0.000000</td>\n",
              "      <td>0</td>\n",
              "      <td>0</td>\n",
              "      <td>-1</td>\n",
              "      <td>0.408248</td>\n",
              "      <td>1.000000</td>\n",
              "      <td>1.408248</td>\n",
              "      <td>0.408248</td>\n",
              "      <td>1.816497</td>\n",
              "      <td>2.408248</td>\n",
              "      <td>1.655650e-07</td>\n",
              "      <td>1.073069e-06</td>\n",
              "      <td>0.000731</td>\n",
              "      <td>0.000754</td>\n",
              "      <td>2.273378e-21</td>\n",
              "      <td>1.561695e-18</td>\n",
              "      <td>0.000000e+00</td>\n",
              "      <td>3.167303e-19</td>\n",
              "      <td>3.111916e-20</td>\n",
              "      <td>4.536241e-20</td>\n",
              "      <td>-6.615611e-20</td>\n",
              "      <td>5.782476e-20</td>\n",
              "      <td>-6.638082e-20</td>\n",
              "      <td>1.120531e-19</td>\n",
              "      <td>-4.076881e-15</td>\n",
              "      <td>1.887992e-14</td>\n",
              "      <td>8.400198e-14</td>\n",
              "      <td>7.704642e-15</td>\n",
              "      <td>4.950587e-15</td>\n",
              "      <td>2.874898e-17</td>\n",
              "      <td>0.000000e+00</td>\n",
              "      <td>0.000000e+00</td>\n",
              "      <td>0.000000e+00</td>\n",
              "      <td>0.000000e+00</td>\n",
              "      <td>0.000000e+00</td>\n",
              "      <td>0.000000e+00</td>\n",
              "      <td>-2.722701e-16</td>\n",
              "      <td>4.026335e-15</td>\n",
              "      <td>1.708170e-14</td>\n",
              "      <td>5.206372e-15</td>\n",
              "      <td>3.891852e-16</td>\n",
              "      <td>5.902251e-18</td>\n",
              "      <td>0</td>\n",
              "      <td>7</td>\n",
              "    </tr>\n",
              "    <tr>\n",
              "      <th>3</th>\n",
              "      <td>980701</td>\n",
              "      <td>846172</td>\n",
              "      <td>1</td>\n",
              "      <td>0</td>\n",
              "      <td>0.010309</td>\n",
              "      <td>0.000000</td>\n",
              "      <td>0.024456</td>\n",
              "      <td>51</td>\n",
              "      <td>44</td>\n",
              "      <td>76</td>\n",
              "      <td>22</td>\n",
              "      <td>0</td>\n",
              "      <td>1</td>\n",
              "      <td>0.444845</td>\n",
              "      <td>0</td>\n",
              "      <td>1</td>\n",
              "      <td>2</td>\n",
              "      <td>0.149071</td>\n",
              "      <td>0.113961</td>\n",
              "      <td>0.263032</td>\n",
              "      <td>0.016988</td>\n",
              "      <td>0.412103</td>\n",
              "      <td>0.376992</td>\n",
              "      <td>2.261282e-06</td>\n",
              "      <td>3.945239e-06</td>\n",
              "      <td>0.000947</td>\n",
              "      <td>0.000912</td>\n",
              "      <td>8.409270e-13</td>\n",
              "      <td>1.781989e-14</td>\n",
              "      <td>2.240664e-13</td>\n",
              "      <td>3.748704e-14</td>\n",
              "      <td>-2.124707e-10</td>\n",
              "      <td>3.249647e-11</td>\n",
              "      <td>7.281998e-05</td>\n",
              "      <td>2.242513e-11</td>\n",
              "      <td>1.190559e-10</td>\n",
              "      <td>1.551450e-11</td>\n",
              "      <td>-8.673427e-11</td>\n",
              "      <td>2.008413e-11</td>\n",
              "      <td>7.307495e-06</td>\n",
              "      <td>1.294438e-11</td>\n",
              "      <td>4.455822e-11</td>\n",
              "      <td>3.287650e-13</td>\n",
              "      <td>-8.701017e-11</td>\n",
              "      <td>3.696878e-11</td>\n",
              "      <td>7.998836e-05</td>\n",
              "      <td>2.036867e-11</td>\n",
              "      <td>3.528891e-10</td>\n",
              "      <td>4.176392e-12</td>\n",
              "      <td>-2.383190e-11</td>\n",
              "      <td>1.593003e-11</td>\n",
              "      <td>2.738781e-05</td>\n",
              "      <td>1.292596e-11</td>\n",
              "      <td>1.928938e-11</td>\n",
              "      <td>6.987237e-13</td>\n",
              "      <td>2244</td>\n",
              "      <td>1672</td>\n",
              "    </tr>\n",
              "    <tr>\n",
              "      <th>4</th>\n",
              "      <td>1392993</td>\n",
              "      <td>344557</td>\n",
              "      <td>1</td>\n",
              "      <td>0</td>\n",
              "      <td>0.454545</td>\n",
              "      <td>0.221359</td>\n",
              "      <td>0.645497</td>\n",
              "      <td>10</td>\n",
              "      <td>10</td>\n",
              "      <td>10</td>\n",
              "      <td>6</td>\n",
              "      <td>7</td>\n",
              "      <td>5</td>\n",
              "      <td>5.075766</td>\n",
              "      <td>1</td>\n",
              "      <td>1</td>\n",
              "      <td>2</td>\n",
              "      <td>0.301511</td>\n",
              "      <td>0.301511</td>\n",
              "      <td>0.603023</td>\n",
              "      <td>0.090909</td>\n",
              "      <td>0.904534</td>\n",
              "      <td>0.904534</td>\n",
              "      <td>7.449960e-07</td>\n",
              "      <td>6.915972e-07</td>\n",
              "      <td>0.000770</td>\n",
              "      <td>0.000770</td>\n",
              "      <td>3.556369e-224</td>\n",
              "      <td>2.237892e-224</td>\n",
              "      <td>4.991326e-223</td>\n",
              "      <td>5.449428e-223</td>\n",
              "      <td>-9.585162e-20</td>\n",
              "      <td>1.025294e-19</td>\n",
              "      <td>-2.008901e-20</td>\n",
              "      <td>5.215682e-20</td>\n",
              "      <td>-1.096714e-20</td>\n",
              "      <td>-1.530239e-20</td>\n",
              "      <td>-5.521270e-20</td>\n",
              "      <td>7.239435e-20</td>\n",
              "      <td>2.236640e-20</td>\n",
              "      <td>2.396194e-20</td>\n",
              "      <td>2.363611e-20</td>\n",
              "      <td>-5.738578e-20</td>\n",
              "      <td>-9.591894e-21</td>\n",
              "      <td>4.031020e-21</td>\n",
              "      <td>-2.245638e-21</td>\n",
              "      <td>3.944677e-21</td>\n",
              "      <td>1.463415e-22</td>\n",
              "      <td>-5.979789e-22</td>\n",
              "      <td>-1.033974e-20</td>\n",
              "      <td>4.400027e-21</td>\n",
              "      <td>-2.644639e-21</td>\n",
              "      <td>4.458878e-21</td>\n",
              "      <td>-2.531662e-22</td>\n",
              "      <td>-5.564671e-22</td>\n",
              "      <td>100</td>\n",
              "      <td>60</td>\n",
              "    </tr>\n",
              "  </tbody>\n",
              "</table>\n",
              "</div>"
            ],
            "text/plain": [
              "   source_node  ...  preferential_Attached_followees\n",
              "0       273084  ...                              120\n",
              "1       427712  ...                               64\n",
              "2      1221960  ...                                7\n",
              "3       980701  ...                             1672\n",
              "4      1392993  ...                               60\n",
              "\n",
              "[5 rows x 57 columns]"
            ]
          },
          "metadata": {
            "tags": []
          },
          "execution_count": 49
        }
      ]
    },
    {
      "cell_type": "code",
      "metadata": {
        "colab_type": "code",
        "id": "J969kR3sUuLG",
        "colab": {
          "base_uri": "https://localhost:8080/",
          "height": 299
        },
        "outputId": "107c210d-8474-4026-cb9f-32fdd5736135"
      },
      "source": [
        "#for test dataset\n",
        "nfs_test=np.array(df_final_test['num_followees_s'])\n",
        "nfd_test=np.array(df_final_test['num_followees_d'])\n",
        "preferential_attach_followees=[]\n",
        "for i in range(len(nfs_test)):\n",
        "    preferential_attach_followees.append(nfd_test[i]*nfs_test[i])\n",
        "df_final_test['preferential_Attached_followees']= preferential_attach_followees\n",
        "df_final_test.head()"
      ],
      "execution_count": 50,
      "outputs": [
        {
          "output_type": "execute_result",
          "data": {
            "text/html": [
              "<div>\n",
              "<style scoped>\n",
              "    .dataframe tbody tr th:only-of-type {\n",
              "        vertical-align: middle;\n",
              "    }\n",
              "\n",
              "    .dataframe tbody tr th {\n",
              "        vertical-align: top;\n",
              "    }\n",
              "\n",
              "    .dataframe thead th {\n",
              "        text-align: right;\n",
              "    }\n",
              "</style>\n",
              "<table border=\"1\" class=\"dataframe\">\n",
              "  <thead>\n",
              "    <tr style=\"text-align: right;\">\n",
              "      <th></th>\n",
              "      <th>source_node</th>\n",
              "      <th>destination_node</th>\n",
              "      <th>indicator_link</th>\n",
              "      <th>jaccard_followers</th>\n",
              "      <th>jaccard_followees</th>\n",
              "      <th>cosine_followers</th>\n",
              "      <th>cosine_followees</th>\n",
              "      <th>num_followers_s</th>\n",
              "      <th>num_followers_d</th>\n",
              "      <th>num_followees_s</th>\n",
              "      <th>num_followees_d</th>\n",
              "      <th>inter_followers</th>\n",
              "      <th>inter_followees</th>\n",
              "      <th>adar_index</th>\n",
              "      <th>follows_back</th>\n",
              "      <th>same_comp</th>\n",
              "      <th>shortest_path</th>\n",
              "      <th>weight_in</th>\n",
              "      <th>weight_out</th>\n",
              "      <th>weight_f1</th>\n",
              "      <th>weight_f2</th>\n",
              "      <th>weight_f3</th>\n",
              "      <th>weight_f4</th>\n",
              "      <th>page_rank_s</th>\n",
              "      <th>page_rank_d</th>\n",
              "      <th>katz_s</th>\n",
              "      <th>katz_d</th>\n",
              "      <th>hubs_s</th>\n",
              "      <th>hubs_d</th>\n",
              "      <th>authorities_s</th>\n",
              "      <th>authorities_d</th>\n",
              "      <th>svd_u_s_1</th>\n",
              "      <th>svd_u_s_2</th>\n",
              "      <th>svd_u_s_3</th>\n",
              "      <th>svd_u_s_4</th>\n",
              "      <th>svd_u_s_5</th>\n",
              "      <th>svd_u_s_6</th>\n",
              "      <th>svd_u_d_1</th>\n",
              "      <th>svd_u_d_2</th>\n",
              "      <th>svd_u_d_3</th>\n",
              "      <th>svd_u_d_4</th>\n",
              "      <th>svd_u_d_5</th>\n",
              "      <th>svd_u_d_6</th>\n",
              "      <th>svd_v_s_1</th>\n",
              "      <th>svd_v_s_2</th>\n",
              "      <th>svd_v_s_3</th>\n",
              "      <th>svd_v_s_4</th>\n",
              "      <th>svd_v_s_5</th>\n",
              "      <th>svd_v_s_6</th>\n",
              "      <th>svd_v_d_1</th>\n",
              "      <th>svd_v_d_2</th>\n",
              "      <th>svd_v_d_3</th>\n",
              "      <th>svd_v_d_4</th>\n",
              "      <th>svd_v_d_5</th>\n",
              "      <th>svd_v_d_6</th>\n",
              "      <th>preferential_Attached_followers</th>\n",
              "      <th>preferential_Attached_followees</th>\n",
              "    </tr>\n",
              "  </thead>\n",
              "  <tbody>\n",
              "    <tr>\n",
              "      <th>0</th>\n",
              "      <td>848424</td>\n",
              "      <td>784690</td>\n",
              "      <td>1</td>\n",
              "      <td>0</td>\n",
              "      <td>0.000000</td>\n",
              "      <td>0.029161</td>\n",
              "      <td>0.000000</td>\n",
              "      <td>6</td>\n",
              "      <td>14</td>\n",
              "      <td>6</td>\n",
              "      <td>9</td>\n",
              "      <td>1</td>\n",
              "      <td>0</td>\n",
              "      <td>0.000000</td>\n",
              "      <td>1</td>\n",
              "      <td>1</td>\n",
              "      <td>2</td>\n",
              "      <td>0.258199</td>\n",
              "      <td>0.377964</td>\n",
              "      <td>0.636163</td>\n",
              "      <td>0.097590</td>\n",
              "      <td>0.894362</td>\n",
              "      <td>1.014128</td>\n",
              "      <td>6.557971e-07</td>\n",
              "      <td>1.559547e-06</td>\n",
              "      <td>0.000754</td>\n",
              "      <td>0.000786</td>\n",
              "      <td>3.243237e-16</td>\n",
              "      <td>1.745627e-16</td>\n",
              "      <td>2.969838e-15</td>\n",
              "      <td>9.269213e-14</td>\n",
              "      <td>-9.987977e-12</td>\n",
              "      <td>2.283696e-13</td>\n",
              "      <td>1.439959e-10</td>\n",
              "      <td>6.136067e-13</td>\n",
              "      <td>4.188137e-13</td>\n",
              "      <td>5.983586e-15</td>\n",
              "      <td>-1.026186e-11</td>\n",
              "      <td>5.316632e-13</td>\n",
              "      <td>5.843190e-10</td>\n",
              "      <td>1.166029e-13</td>\n",
              "      <td>2.253356e-11</td>\n",
              "      <td>3.220624e-15</td>\n",
              "      <td>-2.148850e-13</td>\n",
              "      <td>1.883261e-13</td>\n",
              "      <td>5.904739e-11</td>\n",
              "      <td>2.701537e-12</td>\n",
              "      <td>4.341617e-13</td>\n",
              "      <td>5.535510e-14</td>\n",
              "      <td>-9.994075e-10</td>\n",
              "      <td>5.791917e-10</td>\n",
              "      <td>3.512350e-07</td>\n",
              "      <td>2.486659e-09</td>\n",
              "      <td>2.771145e-09</td>\n",
              "      <td>1.727688e-12</td>\n",
              "      <td>84</td>\n",
              "      <td>54</td>\n",
              "    </tr>\n",
              "    <tr>\n",
              "      <th>1</th>\n",
              "      <td>466950</td>\n",
              "      <td>1318835</td>\n",
              "      <td>1</td>\n",
              "      <td>0</td>\n",
              "      <td>0.000000</td>\n",
              "      <td>0.000000</td>\n",
              "      <td>0.000000</td>\n",
              "      <td>3</td>\n",
              "      <td>9</td>\n",
              "      <td>1</td>\n",
              "      <td>9</td>\n",
              "      <td>0</td>\n",
              "      <td>0</td>\n",
              "      <td>0.000000</td>\n",
              "      <td>0</td>\n",
              "      <td>1</td>\n",
              "      <td>5</td>\n",
              "      <td>0.316228</td>\n",
              "      <td>0.707107</td>\n",
              "      <td>1.023335</td>\n",
              "      <td>0.223607</td>\n",
              "      <td>1.339562</td>\n",
              "      <td>1.730441</td>\n",
              "      <td>6.925499e-07</td>\n",
              "      <td>1.411712e-06</td>\n",
              "      <td>0.000744</td>\n",
              "      <td>0.000767</td>\n",
              "      <td>3.917646e-17</td>\n",
              "      <td>1.236955e-15</td>\n",
              "      <td>9.496163e-15</td>\n",
              "      <td>8.254000e-16</td>\n",
              "      <td>-3.285204e-14</td>\n",
              "      <td>9.099312e-15</td>\n",
              "      <td>1.304052e-07</td>\n",
              "      <td>1.787990e-14</td>\n",
              "      <td>1.520549e-14</td>\n",
              "      <td>7.227744e-16</td>\n",
              "      <td>-4.054837e-13</td>\n",
              "      <td>5.778041e-13</td>\n",
              "      <td>3.901868e-06</td>\n",
              "      <td>1.503271e-13</td>\n",
              "      <td>8.013928e-13</td>\n",
              "      <td>2.282095e-14</td>\n",
              "      <td>-6.669393e-13</td>\n",
              "      <td>3.110166e-13</td>\n",
              "      <td>3.697414e-05</td>\n",
              "      <td>4.237499e-13</td>\n",
              "      <td>1.174413e-12</td>\n",
              "      <td>1.769999e-13</td>\n",
              "      <td>-1.439100e-12</td>\n",
              "      <td>5.216115e-13</td>\n",
              "      <td>3.985322e-07</td>\n",
              "      <td>1.897239e-13</td>\n",
              "      <td>9.709867e-13</td>\n",
              "      <td>1.538471e-14</td>\n",
              "      <td>27</td>\n",
              "      <td>9</td>\n",
              "    </tr>\n",
              "    <tr>\n",
              "      <th>2</th>\n",
              "      <td>1534264</td>\n",
              "      <td>737288</td>\n",
              "      <td>1</td>\n",
              "      <td>0</td>\n",
              "      <td>0.000000</td>\n",
              "      <td>0.000000</td>\n",
              "      <td>0.000000</td>\n",
              "      <td>21</td>\n",
              "      <td>0</td>\n",
              "      <td>11</td>\n",
              "      <td>1</td>\n",
              "      <td>0</td>\n",
              "      <td>0</td>\n",
              "      <td>0.000000</td>\n",
              "      <td>1</td>\n",
              "      <td>1</td>\n",
              "      <td>-1</td>\n",
              "      <td>1.000000</td>\n",
              "      <td>0.288675</td>\n",
              "      <td>1.288675</td>\n",
              "      <td>0.288675</td>\n",
              "      <td>2.288675</td>\n",
              "      <td>1.577350</td>\n",
              "      <td>2.411257e-06</td>\n",
              "      <td>1.655650e-07</td>\n",
              "      <td>0.000815</td>\n",
              "      <td>0.000731</td>\n",
              "      <td>1.724895e-14</td>\n",
              "      <td>4.513545e-17</td>\n",
              "      <td>6.288336e-15</td>\n",
              "      <td>0.000000e+00</td>\n",
              "      <td>-9.811841e-12</td>\n",
              "      <td>2.147531e-11</td>\n",
              "      <td>1.117022e-09</td>\n",
              "      <td>8.093354e-12</td>\n",
              "      <td>7.958587e-11</td>\n",
              "      <td>3.182315e-13</td>\n",
              "      <td>-8.227087e-14</td>\n",
              "      <td>4.301337e-14</td>\n",
              "      <td>5.279023e-10</td>\n",
              "      <td>1.539843e-13</td>\n",
              "      <td>2.250715e-12</td>\n",
              "      <td>8.327950e-16</td>\n",
              "      <td>-8.121753e-12</td>\n",
              "      <td>4.316842e-12</td>\n",
              "      <td>5.438352e-08</td>\n",
              "      <td>1.611126e-11</td>\n",
              "      <td>2.816942e-10</td>\n",
              "      <td>1.172088e-13</td>\n",
              "      <td>0.000000e+00</td>\n",
              "      <td>0.000000e+00</td>\n",
              "      <td>0.000000e+00</td>\n",
              "      <td>0.000000e+00</td>\n",
              "      <td>0.000000e+00</td>\n",
              "      <td>0.000000e+00</td>\n",
              "      <td>0</td>\n",
              "      <td>11</td>\n",
              "    </tr>\n",
              "    <tr>\n",
              "      <th>3</th>\n",
              "      <td>1006623</td>\n",
              "      <td>997718</td>\n",
              "      <td>1</td>\n",
              "      <td>0</td>\n",
              "      <td>0.133333</td>\n",
              "      <td>0.023570</td>\n",
              "      <td>0.235702</td>\n",
              "      <td>8</td>\n",
              "      <td>15</td>\n",
              "      <td>9</td>\n",
              "      <td>8</td>\n",
              "      <td>1</td>\n",
              "      <td>2</td>\n",
              "      <td>1.937791</td>\n",
              "      <td>0</td>\n",
              "      <td>1</td>\n",
              "      <td>2</td>\n",
              "      <td>0.250000</td>\n",
              "      <td>0.316228</td>\n",
              "      <td>0.566228</td>\n",
              "      <td>0.079057</td>\n",
              "      <td>0.816228</td>\n",
              "      <td>0.882456</td>\n",
              "      <td>7.988979e-07</td>\n",
              "      <td>7.804924e-07</td>\n",
              "      <td>0.000762</td>\n",
              "      <td>0.000790</td>\n",
              "      <td>9.296814e-16</td>\n",
              "      <td>3.166272e-17</td>\n",
              "      <td>7.009411e-16</td>\n",
              "      <td>3.437776e-17</td>\n",
              "      <td>-1.763230e-11</td>\n",
              "      <td>1.541526e-11</td>\n",
              "      <td>5.874881e-12</td>\n",
              "      <td>2.842831e-13</td>\n",
              "      <td>1.665467e-11</td>\n",
              "      <td>1.715199e-14</td>\n",
              "      <td>-8.838387e-12</td>\n",
              "      <td>2.840368e-13</td>\n",
              "      <td>1.393751e-12</td>\n",
              "      <td>1.498453e-13</td>\n",
              "      <td>8.344371e-14</td>\n",
              "      <td>5.842666e-16</td>\n",
              "      <td>-9.568151e-13</td>\n",
              "      <td>9.682369e-13</td>\n",
              "      <td>9.165639e-12</td>\n",
              "      <td>6.722036e-12</td>\n",
              "      <td>1.724455e-13</td>\n",
              "      <td>1.306489e-14</td>\n",
              "      <td>-3.705841e-12</td>\n",
              "      <td>2.964562e-12</td>\n",
              "      <td>3.507433e-12</td>\n",
              "      <td>8.071163e-14</td>\n",
              "      <td>7.714884e-13</td>\n",
              "      <td>6.407705e-16</td>\n",
              "      <td>120</td>\n",
              "      <td>72</td>\n",
              "    </tr>\n",
              "    <tr>\n",
              "      <th>4</th>\n",
              "      <td>1354303</td>\n",
              "      <td>1508157</td>\n",
              "      <td>1</td>\n",
              "      <td>0</td>\n",
              "      <td>0.000000</td>\n",
              "      <td>0.000000</td>\n",
              "      <td>0.000000</td>\n",
              "      <td>29</td>\n",
              "      <td>2</td>\n",
              "      <td>20</td>\n",
              "      <td>3</td>\n",
              "      <td>0</td>\n",
              "      <td>0</td>\n",
              "      <td>0.000000</td>\n",
              "      <td>0</td>\n",
              "      <td>1</td>\n",
              "      <td>7</td>\n",
              "      <td>0.577350</td>\n",
              "      <td>0.218218</td>\n",
              "      <td>0.795568</td>\n",
              "      <td>0.125988</td>\n",
              "      <td>1.372918</td>\n",
              "      <td>1.013786</td>\n",
              "      <td>4.844575e-06</td>\n",
              "      <td>3.423555e-07</td>\n",
              "      <td>0.000843</td>\n",
              "      <td>0.000739</td>\n",
              "      <td>1.519177e-13</td>\n",
              "      <td>1.983550e-18</td>\n",
              "      <td>2.274018e-12</td>\n",
              "      <td>9.963159e-19</td>\n",
              "      <td>-8.675067e-11</td>\n",
              "      <td>1.395258e-12</td>\n",
              "      <td>3.077789e-07</td>\n",
              "      <td>4.574550e-11</td>\n",
              "      <td>2.402619e-11</td>\n",
              "      <td>2.802779e-12</td>\n",
              "      <td>-1.183955e-14</td>\n",
              "      <td>3.366332e-14</td>\n",
              "      <td>2.542053e-12</td>\n",
              "      <td>5.701566e-16</td>\n",
              "      <td>9.587669e-15</td>\n",
              "      <td>3.662413e-17</td>\n",
              "      <td>-3.717038e-09</td>\n",
              "      <td>3.958614e-11</td>\n",
              "      <td>6.907089e-08</td>\n",
              "      <td>5.954942e-11</td>\n",
              "      <td>7.251200e-10</td>\n",
              "      <td>4.238564e-11</td>\n",
              "      <td>-1.044460e-13</td>\n",
              "      <td>1.163732e-14</td>\n",
              "      <td>1.698536e-11</td>\n",
              "      <td>1.471711e-15</td>\n",
              "      <td>3.503684e-15</td>\n",
              "      <td>1.856719e-17</td>\n",
              "      <td>58</td>\n",
              "      <td>60</td>\n",
              "    </tr>\n",
              "  </tbody>\n",
              "</table>\n",
              "</div>"
            ],
            "text/plain": [
              "   source_node  ...  preferential_Attached_followees\n",
              "0       848424  ...                               54\n",
              "1       466950  ...                                9\n",
              "2      1534264  ...                               11\n",
              "3      1006623  ...                               72\n",
              "4      1354303  ...                               60\n",
              "\n",
              "[5 rows x 57 columns]"
            ]
          },
          "metadata": {
            "tags": []
          },
          "execution_count": 50
        }
      ]
    },
    {
      "cell_type": "markdown",
      "metadata": {
        "colab_type": "text",
        "id": "D3l2ahDWUuLL"
      },
      "source": [
        "## 7.7 Adding new feature : svd_dot"
      ]
    },
    {
      "cell_type": "markdown",
      "metadata": {
        "colab_type": "text",
        "id": "fFf7KNKaUuLM"
      },
      "source": [
        "### svd_dot as Dot product between sourse node svd and destination node svd features"
      ]
    },
    {
      "cell_type": "code",
      "metadata": {
        "colab_type": "code",
        "id": "G4aUcJSWUuLM",
        "colab": {}
      },
      "source": [
        "#for train datasets\n",
        "\n",
        "s1 = df_final_train['svd_u_s_1']\n",
        "s2 = df_final_train['svd_u_s_2']\n",
        "s3 = df_final_train['svd_u_s_3']\n",
        "s4 = df_final_train['svd_u_s_4'] \n",
        "s5 = df_final_train['svd_u_s_5']\n",
        "s6 = df_final_train['svd_u_s_6']\n",
        "s7 = df_final_train['svd_v_s_1']\n",
        "s8 = df_final_train['svd_v_s_2']\n",
        "s9 = df_final_train['svd_v_s_3']\n",
        "s10 = df_final_train['svd_v_s_4']\n",
        "s11 = df_final_train['svd_v_s_5']\n",
        "s12 = df_final_train['svd_v_s_6']\n",
        "\n",
        "d1 = df_final_train['svd_u_d_1']\n",
        "d2 = df_final_train['svd_u_d_2']\n",
        "d3 = df_final_train['svd_u_d_3'] \n",
        "d4 = df_final_train['svd_u_d_4']\n",
        "d5 = df_final_train['svd_u_d_5']\n",
        "d6 = df_final_train['svd_u_d_6']\n",
        "d7 = df_final_train['svd_v_d_1']\n",
        "d8 = df_final_train['svd_v_d_2']\n",
        "d9 = df_final_train['svd_v_d_3']\n",
        "d10 = df_final_train['svd_v_d_4']\n",
        "d11 = df_final_train['svd_v_d_5']\n",
        "d12= df_final_train['svd_v_d_6']"
      ],
      "execution_count": 0,
      "outputs": []
    },
    {
      "cell_type": "code",
      "metadata": {
        "colab_type": "code",
        "id": "ssDnfn38UuLT",
        "colab": {}
      },
      "source": [
        "svd_dot_list=[]\n",
        "for i in range(len(np.array(s1))):\n",
        "    source_node=[]\n",
        "    dest_node=[]\n",
        "    source_node.append(np.array(s1[i]))\n",
        "    source_node.append(np.array(s2[i]))\n",
        "    source_node.append(np.array(s3[i]))\n",
        "    source_node.append(np.array(s4[i]))\n",
        "    source_node.append(np.array(s5[i]))\n",
        "    source_node.append(np.array(s6[i]))\n",
        "    source_node.append(np.array(s7[i]))\n",
        "    source_node.append(np.array(s8[i]))\n",
        "    source_node.append(np.array(s9[i]))\n",
        "    source_node.append(np.array(s10[i]))\n",
        "    source_node.append(np.array(s11[i]))\n",
        "    source_node.append(np.array(s12[i]))\n",
        "    dest_node.append(np.array(d1[i]))\n",
        "    dest_node.append(np.array(d2[i]))\n",
        "    dest_node.append(np.array(d3[i]))\n",
        "    dest_node.append(np.array(d4[i]))\n",
        "    dest_node.append(np.array(d5[i]))\n",
        "    dest_node.append(np.array(d6[i]))\n",
        "    dest_node.append(np.array(d7[i]))\n",
        "    dest_node.append(np.array(d8[i]))\n",
        "    dest_node.append(np.array(d9[i]))\n",
        "    dest_node.append(np.array(d10[i]))\n",
        "    dest_node.append(np.array(d11[i]))\n",
        "    dest_node.append(np.array(d12[i]))\n",
        "    svd_dot_list.append(np.dot(source_node,dest_node))\n",
        "df_final_train['svd_dot']=svd_dot_list"
      ],
      "execution_count": 0,
      "outputs": []
    },
    {
      "cell_type": "code",
      "metadata": {
        "colab_type": "code",
        "id": "9lbp8cSZUuLW",
        "colab": {
          "base_uri": "https://localhost:8080/",
          "height": 299
        },
        "outputId": "1af7f5f4-ca6a-4c80-c15c-b6839dcb0d91"
      },
      "source": [
        "df_final_train.head()"
      ],
      "execution_count": 53,
      "outputs": [
        {
          "output_type": "execute_result",
          "data": {
            "text/html": [
              "<div>\n",
              "<style scoped>\n",
              "    .dataframe tbody tr th:only-of-type {\n",
              "        vertical-align: middle;\n",
              "    }\n",
              "\n",
              "    .dataframe tbody tr th {\n",
              "        vertical-align: top;\n",
              "    }\n",
              "\n",
              "    .dataframe thead th {\n",
              "        text-align: right;\n",
              "    }\n",
              "</style>\n",
              "<table border=\"1\" class=\"dataframe\">\n",
              "  <thead>\n",
              "    <tr style=\"text-align: right;\">\n",
              "      <th></th>\n",
              "      <th>source_node</th>\n",
              "      <th>destination_node</th>\n",
              "      <th>indicator_link</th>\n",
              "      <th>jaccard_followers</th>\n",
              "      <th>jaccard_followees</th>\n",
              "      <th>cosine_followers</th>\n",
              "      <th>cosine_followees</th>\n",
              "      <th>num_followers_s</th>\n",
              "      <th>num_followers_d</th>\n",
              "      <th>num_followees_s</th>\n",
              "      <th>num_followees_d</th>\n",
              "      <th>inter_followers</th>\n",
              "      <th>inter_followees</th>\n",
              "      <th>adar_index</th>\n",
              "      <th>follows_back</th>\n",
              "      <th>same_comp</th>\n",
              "      <th>shortest_path</th>\n",
              "      <th>weight_in</th>\n",
              "      <th>weight_out</th>\n",
              "      <th>weight_f1</th>\n",
              "      <th>weight_f2</th>\n",
              "      <th>weight_f3</th>\n",
              "      <th>weight_f4</th>\n",
              "      <th>page_rank_s</th>\n",
              "      <th>page_rank_d</th>\n",
              "      <th>katz_s</th>\n",
              "      <th>katz_d</th>\n",
              "      <th>hubs_s</th>\n",
              "      <th>hubs_d</th>\n",
              "      <th>authorities_s</th>\n",
              "      <th>authorities_d</th>\n",
              "      <th>svd_u_s_1</th>\n",
              "      <th>svd_u_s_2</th>\n",
              "      <th>svd_u_s_3</th>\n",
              "      <th>svd_u_s_4</th>\n",
              "      <th>svd_u_s_5</th>\n",
              "      <th>svd_u_s_6</th>\n",
              "      <th>svd_u_d_1</th>\n",
              "      <th>svd_u_d_2</th>\n",
              "      <th>svd_u_d_3</th>\n",
              "      <th>svd_u_d_4</th>\n",
              "      <th>svd_u_d_5</th>\n",
              "      <th>svd_u_d_6</th>\n",
              "      <th>svd_v_s_1</th>\n",
              "      <th>svd_v_s_2</th>\n",
              "      <th>svd_v_s_3</th>\n",
              "      <th>svd_v_s_4</th>\n",
              "      <th>svd_v_s_5</th>\n",
              "      <th>svd_v_s_6</th>\n",
              "      <th>svd_v_d_1</th>\n",
              "      <th>svd_v_d_2</th>\n",
              "      <th>svd_v_d_3</th>\n",
              "      <th>svd_v_d_4</th>\n",
              "      <th>svd_v_d_5</th>\n",
              "      <th>svd_v_d_6</th>\n",
              "      <th>preferential_Attached_followers</th>\n",
              "      <th>preferential_Attached_followees</th>\n",
              "      <th>svd_dot</th>\n",
              "    </tr>\n",
              "  </thead>\n",
              "  <tbody>\n",
              "    <tr>\n",
              "      <th>0</th>\n",
              "      <td>273084</td>\n",
              "      <td>1505602</td>\n",
              "      <td>1</td>\n",
              "      <td>0</td>\n",
              "      <td>0.000000</td>\n",
              "      <td>0.000000</td>\n",
              "      <td>0.000000</td>\n",
              "      <td>11</td>\n",
              "      <td>6</td>\n",
              "      <td>15</td>\n",
              "      <td>8</td>\n",
              "      <td>0</td>\n",
              "      <td>0</td>\n",
              "      <td>0.000000</td>\n",
              "      <td>0</td>\n",
              "      <td>1</td>\n",
              "      <td>4</td>\n",
              "      <td>0.377964</td>\n",
              "      <td>0.250000</td>\n",
              "      <td>0.627964</td>\n",
              "      <td>0.094491</td>\n",
              "      <td>1.005929</td>\n",
              "      <td>0.877964</td>\n",
              "      <td>2.045290e-06</td>\n",
              "      <td>3.459963e-07</td>\n",
              "      <td>0.000773</td>\n",
              "      <td>0.000756</td>\n",
              "      <td>1.943132e-13</td>\n",
              "      <td>1.941103e-13</td>\n",
              "      <td>9.226339e-16</td>\n",
              "      <td>2.231877e-15</td>\n",
              "      <td>-1.666289e-13</td>\n",
              "      <td>4.613832e-13</td>\n",
              "      <td>1.043040e-05</td>\n",
              "      <td>6.678013e-13</td>\n",
              "      <td>2.451104e-13</td>\n",
              "      <td>3.584948e-12</td>\n",
              "      <td>-2.038018e-11</td>\n",
              "      <td>5.397759e-13</td>\n",
              "      <td>1.068943e-06</td>\n",
              "      <td>1.192460e-12</td>\n",
              "      <td>2.279487e-12</td>\n",
              "      <td>3.581205e-12</td>\n",
              "      <td>-7.216134e-13</td>\n",
              "      <td>3.926216e-13</td>\n",
              "      <td>1.983700e-06</td>\n",
              "      <td>1.545086e-13</td>\n",
              "      <td>8.108438e-13</td>\n",
              "      <td>1.719706e-14</td>\n",
              "      <td>-1.355357e-12</td>\n",
              "      <td>4.675298e-13</td>\n",
              "      <td>1.128586e-06</td>\n",
              "      <td>6.616701e-14</td>\n",
              "      <td>9.771078e-13</td>\n",
              "      <td>4.160016e-14</td>\n",
              "      <td>66</td>\n",
              "      <td>120</td>\n",
              "      <td>1.338828e-11</td>\n",
              "    </tr>\n",
              "    <tr>\n",
              "      <th>1</th>\n",
              "      <td>427712</td>\n",
              "      <td>363634</td>\n",
              "      <td>1</td>\n",
              "      <td>0</td>\n",
              "      <td>0.052632</td>\n",
              "      <td>0.000000</td>\n",
              "      <td>0.125000</td>\n",
              "      <td>3</td>\n",
              "      <td>11</td>\n",
              "      <td>4</td>\n",
              "      <td>16</td>\n",
              "      <td>0</td>\n",
              "      <td>1</td>\n",
              "      <td>1.660964</td>\n",
              "      <td>0</td>\n",
              "      <td>1</td>\n",
              "      <td>5</td>\n",
              "      <td>0.288675</td>\n",
              "      <td>0.447214</td>\n",
              "      <td>0.735889</td>\n",
              "      <td>0.129099</td>\n",
              "      <td>1.024564</td>\n",
              "      <td>1.183102</td>\n",
              "      <td>4.349180e-07</td>\n",
              "      <td>1.793616e-06</td>\n",
              "      <td>0.000743</td>\n",
              "      <td>0.000773</td>\n",
              "      <td>2.803333e-16</td>\n",
              "      <td>4.904297e-15</td>\n",
              "      <td>5.880548e-15</td>\n",
              "      <td>1.296420e-15</td>\n",
              "      <td>-2.906154e-14</td>\n",
              "      <td>4.634248e-12</td>\n",
              "      <td>3.879890e-12</td>\n",
              "      <td>1.129612e-13</td>\n",
              "      <td>1.103318e-13</td>\n",
              "      <td>5.171975e-15</td>\n",
              "      <td>-9.659033e-12</td>\n",
              "      <td>2.333848e-11</td>\n",
              "      <td>7.806316e-11</td>\n",
              "      <td>8.735295e-12</td>\n",
              "      <td>7.315770e-12</td>\n",
              "      <td>9.048079e-14</td>\n",
              "      <td>-3.978286e-12</td>\n",
              "      <td>1.778169e-11</td>\n",
              "      <td>7.662696e-11</td>\n",
              "      <td>3.197263e-12</td>\n",
              "      <td>3.014475e-10</td>\n",
              "      <td>1.096080e-13</td>\n",
              "      <td>-5.883671e-13</td>\n",
              "      <td>4.481595e-10</td>\n",
              "      <td>3.927396e-11</td>\n",
              "      <td>1.965574e-12</td>\n",
              "      <td>3.270425e-12</td>\n",
              "      <td>2.416408e-14</td>\n",
              "      <td>33</td>\n",
              "      <td>64</td>\n",
              "      <td>1.238607e-20</td>\n",
              "    </tr>\n",
              "    <tr>\n",
              "      <th>2</th>\n",
              "      <td>1221960</td>\n",
              "      <td>1610659</td>\n",
              "      <td>1</td>\n",
              "      <td>0</td>\n",
              "      <td>0.000000</td>\n",
              "      <td>0.000000</td>\n",
              "      <td>0.000000</td>\n",
              "      <td>0</td>\n",
              "      <td>6</td>\n",
              "      <td>1</td>\n",
              "      <td>7</td>\n",
              "      <td>0</td>\n",
              "      <td>0</td>\n",
              "      <td>0.000000</td>\n",
              "      <td>0</td>\n",
              "      <td>0</td>\n",
              "      <td>-1</td>\n",
              "      <td>0.408248</td>\n",
              "      <td>1.000000</td>\n",
              "      <td>1.408248</td>\n",
              "      <td>0.408248</td>\n",
              "      <td>1.816497</td>\n",
              "      <td>2.408248</td>\n",
              "      <td>1.655650e-07</td>\n",
              "      <td>1.073069e-06</td>\n",
              "      <td>0.000731</td>\n",
              "      <td>0.000754</td>\n",
              "      <td>2.273378e-21</td>\n",
              "      <td>1.561695e-18</td>\n",
              "      <td>0.000000e+00</td>\n",
              "      <td>3.167303e-19</td>\n",
              "      <td>3.111916e-20</td>\n",
              "      <td>4.536241e-20</td>\n",
              "      <td>-6.615611e-20</td>\n",
              "      <td>5.782476e-20</td>\n",
              "      <td>-6.638082e-20</td>\n",
              "      <td>1.120531e-19</td>\n",
              "      <td>-4.076881e-15</td>\n",
              "      <td>1.887992e-14</td>\n",
              "      <td>8.400198e-14</td>\n",
              "      <td>7.704642e-15</td>\n",
              "      <td>4.950587e-15</td>\n",
              "      <td>2.874898e-17</td>\n",
              "      <td>0.000000e+00</td>\n",
              "      <td>0.000000e+00</td>\n",
              "      <td>0.000000e+00</td>\n",
              "      <td>0.000000e+00</td>\n",
              "      <td>0.000000e+00</td>\n",
              "      <td>0.000000e+00</td>\n",
              "      <td>-2.722701e-16</td>\n",
              "      <td>4.026335e-15</td>\n",
              "      <td>1.708170e-14</td>\n",
              "      <td>5.206372e-15</td>\n",
              "      <td>3.891852e-16</td>\n",
              "      <td>5.902251e-18</td>\n",
              "      <td>0</td>\n",
              "      <td>7</td>\n",
              "      <td>-4.707559e-33</td>\n",
              "    </tr>\n",
              "    <tr>\n",
              "      <th>3</th>\n",
              "      <td>980701</td>\n",
              "      <td>846172</td>\n",
              "      <td>1</td>\n",
              "      <td>0</td>\n",
              "      <td>0.010309</td>\n",
              "      <td>0.000000</td>\n",
              "      <td>0.024456</td>\n",
              "      <td>51</td>\n",
              "      <td>44</td>\n",
              "      <td>76</td>\n",
              "      <td>22</td>\n",
              "      <td>0</td>\n",
              "      <td>1</td>\n",
              "      <td>0.444845</td>\n",
              "      <td>0</td>\n",
              "      <td>1</td>\n",
              "      <td>2</td>\n",
              "      <td>0.149071</td>\n",
              "      <td>0.113961</td>\n",
              "      <td>0.263032</td>\n",
              "      <td>0.016988</td>\n",
              "      <td>0.412103</td>\n",
              "      <td>0.376992</td>\n",
              "      <td>2.261282e-06</td>\n",
              "      <td>3.945239e-06</td>\n",
              "      <td>0.000947</td>\n",
              "      <td>0.000912</td>\n",
              "      <td>8.409270e-13</td>\n",
              "      <td>1.781989e-14</td>\n",
              "      <td>2.240664e-13</td>\n",
              "      <td>3.748704e-14</td>\n",
              "      <td>-2.124707e-10</td>\n",
              "      <td>3.249647e-11</td>\n",
              "      <td>7.281998e-05</td>\n",
              "      <td>2.242513e-11</td>\n",
              "      <td>1.190559e-10</td>\n",
              "      <td>1.551450e-11</td>\n",
              "      <td>-8.673427e-11</td>\n",
              "      <td>2.008413e-11</td>\n",
              "      <td>7.307495e-06</td>\n",
              "      <td>1.294438e-11</td>\n",
              "      <td>4.455822e-11</td>\n",
              "      <td>3.287650e-13</td>\n",
              "      <td>-8.701017e-11</td>\n",
              "      <td>3.696878e-11</td>\n",
              "      <td>7.998836e-05</td>\n",
              "      <td>2.036867e-11</td>\n",
              "      <td>3.528891e-10</td>\n",
              "      <td>4.176392e-12</td>\n",
              "      <td>-2.383190e-11</td>\n",
              "      <td>1.593003e-11</td>\n",
              "      <td>2.738781e-05</td>\n",
              "      <td>1.292596e-11</td>\n",
              "      <td>1.928938e-11</td>\n",
              "      <td>6.987237e-13</td>\n",
              "      <td>2244</td>\n",
              "      <td>1672</td>\n",
              "      <td>2.722838e-09</td>\n",
              "    </tr>\n",
              "    <tr>\n",
              "      <th>4</th>\n",
              "      <td>1392993</td>\n",
              "      <td>344557</td>\n",
              "      <td>1</td>\n",
              "      <td>0</td>\n",
              "      <td>0.454545</td>\n",
              "      <td>0.221359</td>\n",
              "      <td>0.645497</td>\n",
              "      <td>10</td>\n",
              "      <td>10</td>\n",
              "      <td>10</td>\n",
              "      <td>6</td>\n",
              "      <td>7</td>\n",
              "      <td>5</td>\n",
              "      <td>5.075766</td>\n",
              "      <td>1</td>\n",
              "      <td>1</td>\n",
              "      <td>2</td>\n",
              "      <td>0.301511</td>\n",
              "      <td>0.301511</td>\n",
              "      <td>0.603023</td>\n",
              "      <td>0.090909</td>\n",
              "      <td>0.904534</td>\n",
              "      <td>0.904534</td>\n",
              "      <td>7.449960e-07</td>\n",
              "      <td>6.915972e-07</td>\n",
              "      <td>0.000770</td>\n",
              "      <td>0.000770</td>\n",
              "      <td>3.556369e-224</td>\n",
              "      <td>2.237892e-224</td>\n",
              "      <td>4.991326e-223</td>\n",
              "      <td>5.449428e-223</td>\n",
              "      <td>-9.585162e-20</td>\n",
              "      <td>1.025294e-19</td>\n",
              "      <td>-2.008901e-20</td>\n",
              "      <td>5.215682e-20</td>\n",
              "      <td>-1.096714e-20</td>\n",
              "      <td>-1.530239e-20</td>\n",
              "      <td>-5.521270e-20</td>\n",
              "      <td>7.239435e-20</td>\n",
              "      <td>2.236640e-20</td>\n",
              "      <td>2.396194e-20</td>\n",
              "      <td>2.363611e-20</td>\n",
              "      <td>-5.738578e-20</td>\n",
              "      <td>-9.591894e-21</td>\n",
              "      <td>4.031020e-21</td>\n",
              "      <td>-2.245638e-21</td>\n",
              "      <td>3.944677e-21</td>\n",
              "      <td>1.463415e-22</td>\n",
              "      <td>-5.979789e-22</td>\n",
              "      <td>-1.033974e-20</td>\n",
              "      <td>4.400027e-21</td>\n",
              "      <td>-2.644639e-21</td>\n",
              "      <td>4.458878e-21</td>\n",
              "      <td>-2.531662e-22</td>\n",
              "      <td>-5.564671e-22</td>\n",
              "      <td>100</td>\n",
              "      <td>60</td>\n",
              "      <td>1.427489e-38</td>\n",
              "    </tr>\n",
              "  </tbody>\n",
              "</table>\n",
              "</div>"
            ],
            "text/plain": [
              "   source_node  destination_node  ...  preferential_Attached_followees       svd_dot\n",
              "0       273084           1505602  ...                              120  1.338828e-11\n",
              "1       427712            363634  ...                               64  1.238607e-20\n",
              "2      1221960           1610659  ...                                7 -4.707559e-33\n",
              "3       980701            846172  ...                             1672  2.722838e-09\n",
              "4      1392993            344557  ...                               60  1.427489e-38\n",
              "\n",
              "[5 rows x 58 columns]"
            ]
          },
          "metadata": {
            "tags": []
          },
          "execution_count": 53
        }
      ]
    },
    {
      "cell_type": "code",
      "metadata": {
        "colab_type": "code",
        "id": "kfVxL3_YUuLY",
        "colab": {}
      },
      "source": [
        "#for test dataset\n",
        "s1 = df_final_test['svd_u_s_1']\n",
        "s2 = df_final_test['svd_u_s_2']\n",
        "s3 = df_final_test['svd_u_s_3']\n",
        "s4 = df_final_test['svd_u_s_4']\n",
        "s5 = df_final_test['svd_u_s_5']\n",
        "s6 = df_final_test['svd_u_s_6']\n",
        "s7 = df_final_test['svd_v_s_1']\n",
        "s8 = df_final_test['svd_v_s_2']\n",
        "s9 = df_final_test['svd_v_s_3']\n",
        "s10 = df_final_test['svd_v_s_4']\n",
        "s11 = df_final_test['svd_v_s_5']\n",
        "s12= df_final_test['svd_v_s_6']\n",
        "\n",
        "d1 = df_final_test['svd_u_d_1']\n",
        "d2 = df_final_test['svd_u_d_2']\n",
        "d3 = df_final_test['svd_u_d_3']\n",
        "d4 = df_final_test['svd_u_d_4']\n",
        "d5 = df_final_test['svd_u_d_5']\n",
        "d6 = df_final_test['svd_u_d_6']\n",
        "d7 = df_final_test['svd_v_d_1']\n",
        "d8 = df_final_test['svd_v_d_2']\n",
        "d9 = df_final_test['svd_v_d_3']\n",
        "d10 = df_final_test['svd_v_d_4']\n",
        "d11 = df_final_test['svd_v_d_5']\n",
        "d12 = df_final_test['svd_v_d_6']"
      ],
      "execution_count": 0,
      "outputs": []
    },
    {
      "cell_type": "code",
      "metadata": {
        "colab_type": "code",
        "id": "yShTunm7UuLb",
        "colab": {}
      },
      "source": [
        "svd_dot_list=[]\n",
        "for i in range(len(np.array(s1))):\n",
        "    source_node=[]\n",
        "    dest_node=[]\n",
        "    source_node.append(np.array(s1[i]))\n",
        "    source_node.append(np.array(s2[i]))\n",
        "    source_node.append(np.array(s3[i]))\n",
        "    source_node.append(np.array(s4[i]))\n",
        "    source_node.append(np.array(s5[i]))\n",
        "    source_node.append(np.array(s6[i]))\n",
        "    source_node.append(np.array(s7[i]))\n",
        "    source_node.append(np.array(s8[i]))\n",
        "    source_node.append(np.array(s9[i]))\n",
        "    source_node.append(np.array(s10[i]))\n",
        "    source_node.append(np.array(s11[i]))\n",
        "    source_node.append(np.array(s12[i]))\n",
        "    dest_node.append(np.array(d1[i]))\n",
        "    dest_node.append(np.array(d2[i]))\n",
        "    dest_node.append(np.array(d3[i]))\n",
        "    dest_node.append(np.array(d4[i]))\n",
        "    dest_node.append(np.array(d5[i]))\n",
        "    dest_node.append(np.array(d6[i]))\n",
        "    dest_node.append(np.array(d7[i]))\n",
        "    dest_node.append(np.array(d8[i]))\n",
        "    dest_node.append(np.array(d9[i]))\n",
        "    dest_node.append(np.array(d10[i]))\n",
        "    dest_node.append(np.array(d11[i]))\n",
        "    dest_node.append(np.array(d12[i]))\n",
        "    svd_dot_list.append(np.dot(source_node,dest_node))\n",
        "df_final_test['svd_dot']=svd_dot_list"
      ],
      "execution_count": 0,
      "outputs": []
    },
    {
      "cell_type": "code",
      "metadata": {
        "colab_type": "code",
        "id": "6tjAgM0-UuLd",
        "colab": {
          "base_uri": "https://localhost:8080/",
          "height": 299
        },
        "outputId": "60fdec62-c9c3-41b8-ea41-0a620b365a4a"
      },
      "source": [
        "df_final_test.head()"
      ],
      "execution_count": 56,
      "outputs": [
        {
          "output_type": "execute_result",
          "data": {
            "text/html": [
              "<div>\n",
              "<style scoped>\n",
              "    .dataframe tbody tr th:only-of-type {\n",
              "        vertical-align: middle;\n",
              "    }\n",
              "\n",
              "    .dataframe tbody tr th {\n",
              "        vertical-align: top;\n",
              "    }\n",
              "\n",
              "    .dataframe thead th {\n",
              "        text-align: right;\n",
              "    }\n",
              "</style>\n",
              "<table border=\"1\" class=\"dataframe\">\n",
              "  <thead>\n",
              "    <tr style=\"text-align: right;\">\n",
              "      <th></th>\n",
              "      <th>source_node</th>\n",
              "      <th>destination_node</th>\n",
              "      <th>indicator_link</th>\n",
              "      <th>jaccard_followers</th>\n",
              "      <th>jaccard_followees</th>\n",
              "      <th>cosine_followers</th>\n",
              "      <th>cosine_followees</th>\n",
              "      <th>num_followers_s</th>\n",
              "      <th>num_followers_d</th>\n",
              "      <th>num_followees_s</th>\n",
              "      <th>num_followees_d</th>\n",
              "      <th>inter_followers</th>\n",
              "      <th>inter_followees</th>\n",
              "      <th>adar_index</th>\n",
              "      <th>follows_back</th>\n",
              "      <th>same_comp</th>\n",
              "      <th>shortest_path</th>\n",
              "      <th>weight_in</th>\n",
              "      <th>weight_out</th>\n",
              "      <th>weight_f1</th>\n",
              "      <th>weight_f2</th>\n",
              "      <th>weight_f3</th>\n",
              "      <th>weight_f4</th>\n",
              "      <th>page_rank_s</th>\n",
              "      <th>page_rank_d</th>\n",
              "      <th>katz_s</th>\n",
              "      <th>katz_d</th>\n",
              "      <th>hubs_s</th>\n",
              "      <th>hubs_d</th>\n",
              "      <th>authorities_s</th>\n",
              "      <th>authorities_d</th>\n",
              "      <th>svd_u_s_1</th>\n",
              "      <th>svd_u_s_2</th>\n",
              "      <th>svd_u_s_3</th>\n",
              "      <th>svd_u_s_4</th>\n",
              "      <th>svd_u_s_5</th>\n",
              "      <th>svd_u_s_6</th>\n",
              "      <th>svd_u_d_1</th>\n",
              "      <th>svd_u_d_2</th>\n",
              "      <th>svd_u_d_3</th>\n",
              "      <th>svd_u_d_4</th>\n",
              "      <th>svd_u_d_5</th>\n",
              "      <th>svd_u_d_6</th>\n",
              "      <th>svd_v_s_1</th>\n",
              "      <th>svd_v_s_2</th>\n",
              "      <th>svd_v_s_3</th>\n",
              "      <th>svd_v_s_4</th>\n",
              "      <th>svd_v_s_5</th>\n",
              "      <th>svd_v_s_6</th>\n",
              "      <th>svd_v_d_1</th>\n",
              "      <th>svd_v_d_2</th>\n",
              "      <th>svd_v_d_3</th>\n",
              "      <th>svd_v_d_4</th>\n",
              "      <th>svd_v_d_5</th>\n",
              "      <th>svd_v_d_6</th>\n",
              "      <th>preferential_Attached_followers</th>\n",
              "      <th>preferential_Attached_followees</th>\n",
              "      <th>svd_dot</th>\n",
              "    </tr>\n",
              "  </thead>\n",
              "  <tbody>\n",
              "    <tr>\n",
              "      <th>0</th>\n",
              "      <td>848424</td>\n",
              "      <td>784690</td>\n",
              "      <td>1</td>\n",
              "      <td>0</td>\n",
              "      <td>0.000000</td>\n",
              "      <td>0.029161</td>\n",
              "      <td>0.000000</td>\n",
              "      <td>6</td>\n",
              "      <td>14</td>\n",
              "      <td>6</td>\n",
              "      <td>9</td>\n",
              "      <td>1</td>\n",
              "      <td>0</td>\n",
              "      <td>0.000000</td>\n",
              "      <td>1</td>\n",
              "      <td>1</td>\n",
              "      <td>2</td>\n",
              "      <td>0.258199</td>\n",
              "      <td>0.377964</td>\n",
              "      <td>0.636163</td>\n",
              "      <td>0.097590</td>\n",
              "      <td>0.894362</td>\n",
              "      <td>1.014128</td>\n",
              "      <td>6.557971e-07</td>\n",
              "      <td>1.559547e-06</td>\n",
              "      <td>0.000754</td>\n",
              "      <td>0.000786</td>\n",
              "      <td>3.243237e-16</td>\n",
              "      <td>1.745627e-16</td>\n",
              "      <td>2.969838e-15</td>\n",
              "      <td>9.269213e-14</td>\n",
              "      <td>-9.987977e-12</td>\n",
              "      <td>2.283696e-13</td>\n",
              "      <td>1.439959e-10</td>\n",
              "      <td>6.136067e-13</td>\n",
              "      <td>4.188137e-13</td>\n",
              "      <td>5.983586e-15</td>\n",
              "      <td>-1.026186e-11</td>\n",
              "      <td>5.316632e-13</td>\n",
              "      <td>5.843190e-10</td>\n",
              "      <td>1.166029e-13</td>\n",
              "      <td>2.253356e-11</td>\n",
              "      <td>3.220624e-15</td>\n",
              "      <td>-2.148850e-13</td>\n",
              "      <td>1.883261e-13</td>\n",
              "      <td>5.904739e-11</td>\n",
              "      <td>2.701537e-12</td>\n",
              "      <td>4.341617e-13</td>\n",
              "      <td>5.535510e-14</td>\n",
              "      <td>-9.994075e-10</td>\n",
              "      <td>5.791917e-10</td>\n",
              "      <td>3.512350e-07</td>\n",
              "      <td>2.486659e-09</td>\n",
              "      <td>2.771145e-09</td>\n",
              "      <td>1.727688e-12</td>\n",
              "      <td>84</td>\n",
              "      <td>54</td>\n",
              "      <td>2.083201e-17</td>\n",
              "    </tr>\n",
              "    <tr>\n",
              "      <th>1</th>\n",
              "      <td>466950</td>\n",
              "      <td>1318835</td>\n",
              "      <td>1</td>\n",
              "      <td>0</td>\n",
              "      <td>0.000000</td>\n",
              "      <td>0.000000</td>\n",
              "      <td>0.000000</td>\n",
              "      <td>3</td>\n",
              "      <td>9</td>\n",
              "      <td>1</td>\n",
              "      <td>9</td>\n",
              "      <td>0</td>\n",
              "      <td>0</td>\n",
              "      <td>0.000000</td>\n",
              "      <td>0</td>\n",
              "      <td>1</td>\n",
              "      <td>5</td>\n",
              "      <td>0.316228</td>\n",
              "      <td>0.707107</td>\n",
              "      <td>1.023335</td>\n",
              "      <td>0.223607</td>\n",
              "      <td>1.339562</td>\n",
              "      <td>1.730441</td>\n",
              "      <td>6.925499e-07</td>\n",
              "      <td>1.411712e-06</td>\n",
              "      <td>0.000744</td>\n",
              "      <td>0.000767</td>\n",
              "      <td>3.917646e-17</td>\n",
              "      <td>1.236955e-15</td>\n",
              "      <td>9.496163e-15</td>\n",
              "      <td>8.254000e-16</td>\n",
              "      <td>-3.285204e-14</td>\n",
              "      <td>9.099312e-15</td>\n",
              "      <td>1.304052e-07</td>\n",
              "      <td>1.787990e-14</td>\n",
              "      <td>1.520549e-14</td>\n",
              "      <td>7.227744e-16</td>\n",
              "      <td>-4.054837e-13</td>\n",
              "      <td>5.778041e-13</td>\n",
              "      <td>3.901868e-06</td>\n",
              "      <td>1.503271e-13</td>\n",
              "      <td>8.013928e-13</td>\n",
              "      <td>2.282095e-14</td>\n",
              "      <td>-6.669393e-13</td>\n",
              "      <td>3.110166e-13</td>\n",
              "      <td>3.697414e-05</td>\n",
              "      <td>4.237499e-13</td>\n",
              "      <td>1.174413e-12</td>\n",
              "      <td>1.769999e-13</td>\n",
              "      <td>-1.439100e-12</td>\n",
              "      <td>5.216115e-13</td>\n",
              "      <td>3.985322e-07</td>\n",
              "      <td>1.897239e-13</td>\n",
              "      <td>9.709867e-13</td>\n",
              "      <td>1.538471e-14</td>\n",
              "      <td>27</td>\n",
              "      <td>9</td>\n",
              "      <td>1.524421e-11</td>\n",
              "    </tr>\n",
              "    <tr>\n",
              "      <th>2</th>\n",
              "      <td>1534264</td>\n",
              "      <td>737288</td>\n",
              "      <td>1</td>\n",
              "      <td>0</td>\n",
              "      <td>0.000000</td>\n",
              "      <td>0.000000</td>\n",
              "      <td>0.000000</td>\n",
              "      <td>21</td>\n",
              "      <td>0</td>\n",
              "      <td>11</td>\n",
              "      <td>1</td>\n",
              "      <td>0</td>\n",
              "      <td>0</td>\n",
              "      <td>0.000000</td>\n",
              "      <td>1</td>\n",
              "      <td>1</td>\n",
              "      <td>-1</td>\n",
              "      <td>1.000000</td>\n",
              "      <td>0.288675</td>\n",
              "      <td>1.288675</td>\n",
              "      <td>0.288675</td>\n",
              "      <td>2.288675</td>\n",
              "      <td>1.577350</td>\n",
              "      <td>2.411257e-06</td>\n",
              "      <td>1.655650e-07</td>\n",
              "      <td>0.000815</td>\n",
              "      <td>0.000731</td>\n",
              "      <td>1.724895e-14</td>\n",
              "      <td>4.513545e-17</td>\n",
              "      <td>6.288336e-15</td>\n",
              "      <td>0.000000e+00</td>\n",
              "      <td>-9.811841e-12</td>\n",
              "      <td>2.147531e-11</td>\n",
              "      <td>1.117022e-09</td>\n",
              "      <td>8.093354e-12</td>\n",
              "      <td>7.958587e-11</td>\n",
              "      <td>3.182315e-13</td>\n",
              "      <td>-8.227087e-14</td>\n",
              "      <td>4.301337e-14</td>\n",
              "      <td>5.279023e-10</td>\n",
              "      <td>1.539843e-13</td>\n",
              "      <td>2.250715e-12</td>\n",
              "      <td>8.327950e-16</td>\n",
              "      <td>-8.121753e-12</td>\n",
              "      <td>4.316842e-12</td>\n",
              "      <td>5.438352e-08</td>\n",
              "      <td>1.611126e-11</td>\n",
              "      <td>2.816942e-10</td>\n",
              "      <td>1.172088e-13</td>\n",
              "      <td>0.000000e+00</td>\n",
              "      <td>0.000000e+00</td>\n",
              "      <td>0.000000e+00</td>\n",
              "      <td>0.000000e+00</td>\n",
              "      <td>0.000000e+00</td>\n",
              "      <td>0.000000e+00</td>\n",
              "      <td>0</td>\n",
              "      <td>11</td>\n",
              "      <td>5.898608e-19</td>\n",
              "    </tr>\n",
              "    <tr>\n",
              "      <th>3</th>\n",
              "      <td>1006623</td>\n",
              "      <td>997718</td>\n",
              "      <td>1</td>\n",
              "      <td>0</td>\n",
              "      <td>0.133333</td>\n",
              "      <td>0.023570</td>\n",
              "      <td>0.235702</td>\n",
              "      <td>8</td>\n",
              "      <td>15</td>\n",
              "      <td>9</td>\n",
              "      <td>8</td>\n",
              "      <td>1</td>\n",
              "      <td>2</td>\n",
              "      <td>1.937791</td>\n",
              "      <td>0</td>\n",
              "      <td>1</td>\n",
              "      <td>2</td>\n",
              "      <td>0.250000</td>\n",
              "      <td>0.316228</td>\n",
              "      <td>0.566228</td>\n",
              "      <td>0.079057</td>\n",
              "      <td>0.816228</td>\n",
              "      <td>0.882456</td>\n",
              "      <td>7.988979e-07</td>\n",
              "      <td>7.804924e-07</td>\n",
              "      <td>0.000762</td>\n",
              "      <td>0.000790</td>\n",
              "      <td>9.296814e-16</td>\n",
              "      <td>3.166272e-17</td>\n",
              "      <td>7.009411e-16</td>\n",
              "      <td>3.437776e-17</td>\n",
              "      <td>-1.763230e-11</td>\n",
              "      <td>1.541526e-11</td>\n",
              "      <td>5.874881e-12</td>\n",
              "      <td>2.842831e-13</td>\n",
              "      <td>1.665467e-11</td>\n",
              "      <td>1.715199e-14</td>\n",
              "      <td>-8.838387e-12</td>\n",
              "      <td>2.840368e-13</td>\n",
              "      <td>1.393751e-12</td>\n",
              "      <td>1.498453e-13</td>\n",
              "      <td>8.344371e-14</td>\n",
              "      <td>5.842666e-16</td>\n",
              "      <td>-9.568151e-13</td>\n",
              "      <td>9.682369e-13</td>\n",
              "      <td>9.165639e-12</td>\n",
              "      <td>6.722036e-12</td>\n",
              "      <td>1.724455e-13</td>\n",
              "      <td>1.306489e-14</td>\n",
              "      <td>-3.705841e-12</td>\n",
              "      <td>2.964562e-12</td>\n",
              "      <td>3.507433e-12</td>\n",
              "      <td>8.071163e-14</td>\n",
              "      <td>7.714884e-13</td>\n",
              "      <td>6.407705e-16</td>\n",
              "      <td>120</td>\n",
              "      <td>72</td>\n",
              "      <td>2.090797e-22</td>\n",
              "    </tr>\n",
              "    <tr>\n",
              "      <th>4</th>\n",
              "      <td>1354303</td>\n",
              "      <td>1508157</td>\n",
              "      <td>1</td>\n",
              "      <td>0</td>\n",
              "      <td>0.000000</td>\n",
              "      <td>0.000000</td>\n",
              "      <td>0.000000</td>\n",
              "      <td>29</td>\n",
              "      <td>2</td>\n",
              "      <td>20</td>\n",
              "      <td>3</td>\n",
              "      <td>0</td>\n",
              "      <td>0</td>\n",
              "      <td>0.000000</td>\n",
              "      <td>0</td>\n",
              "      <td>1</td>\n",
              "      <td>7</td>\n",
              "      <td>0.577350</td>\n",
              "      <td>0.218218</td>\n",
              "      <td>0.795568</td>\n",
              "      <td>0.125988</td>\n",
              "      <td>1.372918</td>\n",
              "      <td>1.013786</td>\n",
              "      <td>4.844575e-06</td>\n",
              "      <td>3.423555e-07</td>\n",
              "      <td>0.000843</td>\n",
              "      <td>0.000739</td>\n",
              "      <td>1.519177e-13</td>\n",
              "      <td>1.983550e-18</td>\n",
              "      <td>2.274018e-12</td>\n",
              "      <td>9.963159e-19</td>\n",
              "      <td>-8.675067e-11</td>\n",
              "      <td>1.395258e-12</td>\n",
              "      <td>3.077789e-07</td>\n",
              "      <td>4.574550e-11</td>\n",
              "      <td>2.402619e-11</td>\n",
              "      <td>2.802779e-12</td>\n",
              "      <td>-1.183955e-14</td>\n",
              "      <td>3.366332e-14</td>\n",
              "      <td>2.542053e-12</td>\n",
              "      <td>5.701566e-16</td>\n",
              "      <td>9.587669e-15</td>\n",
              "      <td>3.662413e-17</td>\n",
              "      <td>-3.717038e-09</td>\n",
              "      <td>3.958614e-11</td>\n",
              "      <td>6.907089e-08</td>\n",
              "      <td>5.954942e-11</td>\n",
              "      <td>7.251200e-10</td>\n",
              "      <td>4.238564e-11</td>\n",
              "      <td>-1.044460e-13</td>\n",
              "      <td>1.163732e-14</td>\n",
              "      <td>1.698536e-11</td>\n",
              "      <td>1.471711e-15</td>\n",
              "      <td>3.503684e-15</td>\n",
              "      <td>1.856719e-17</td>\n",
              "      <td>58</td>\n",
              "      <td>60</td>\n",
              "      <td>1.955977e-18</td>\n",
              "    </tr>\n",
              "  </tbody>\n",
              "</table>\n",
              "</div>"
            ],
            "text/plain": [
              "   source_node  destination_node  ...  preferential_Attached_followees       svd_dot\n",
              "0       848424            784690  ...                               54  2.083201e-17\n",
              "1       466950           1318835  ...                                9  1.524421e-11\n",
              "2      1534264            737288  ...                               11  5.898608e-19\n",
              "3      1006623            997718  ...                               72  2.090797e-22\n",
              "4      1354303           1508157  ...                               60  1.955977e-18\n",
              "\n",
              "[5 rows x 58 columns]"
            ]
          },
          "metadata": {
            "tags": []
          },
          "execution_count": 56
        }
      ]
    },
    {
      "cell_type": "code",
      "metadata": {
        "colab_type": "code",
        "id": "Kd-cJL8oUuLg",
        "colab": {}
      },
      "source": [
        "hdf = HDFStore('/content/drive/My Drive/mandatory_15/storage_sample_stage1.h5')\n",
        "hdf.put('train_df',df_final_train, format='table', data_columns=True)\n",
        "hdf.put('test_df',df_final_test, format='table', data_columns=True)\n",
        "hdf.close()"
      ],
      "execution_count": 0,
      "outputs": []
    },
    {
      "cell_type": "code",
      "metadata": {
        "id": "fyx0XDzaA_2A",
        "colab_type": "code",
        "colab": {}
      },
      "source": [
        "#Importing Libraries\n",
        "# please do go through this python notebook: \n",
        "import warnings\n",
        "warnings.filterwarnings(\"ignore\")\n",
        "\n",
        "import csv\n",
        "import pandas as pd#pandas to create small dataframes \n",
        "import datetime #Convert to unix time\n",
        "import time #Convert to unix time\n",
        "# if numpy is not installed already : pip3 install numpy\n",
        "import numpy as np#Do aritmetic operations on arrays\n",
        "# matplotlib: used to plot graphs\n",
        "import matplotlib\n",
        "import matplotlib.pylab as plt\n",
        "import seaborn as sns#Plots\n",
        "from matplotlib import rcParams#Size of plots  \n",
        "from sklearn.cluster import MiniBatchKMeans, KMeans#Clustering\n",
        "import math\n",
        "import pickle\n",
        "import os\n",
        "# to install xgboost: pip3 install xgboost\n",
        "import xgboost as xgb\n",
        "\n",
        "import warnings\n",
        "import networkx as nx\n",
        "import pdb\n",
        "import pickle\n",
        "from pandas import HDFStore,DataFrame\n",
        "from pandas import read_hdf\n",
        "from scipy.sparse.linalg import svds, eigs\n",
        "import gc\n",
        "from tqdm import tqdm\n",
        "from sklearn.ensemble import RandomForestClassifier\n",
        "from sklearn.metrics import f1_score"
      ],
      "execution_count": 0,
      "outputs": []
    },
    {
      "cell_type": "code",
      "metadata": {
        "colab_type": "code",
        "id": "qKygnvIpUuLl",
        "colab": {}
      },
      "source": [
        "#reading\n",
        "from pandas import read_hdf\n",
        "df_final_train = read_hdf('/content/drive/My Drive/mandatory_15/storage_sample_stage4.h5', 'train_df',mode='r')\n",
        "df_final_test = read_hdf('/content/drive/My Drive/mandatory_15/storage_sample_stage4.h5', 'test_df',mode='r')"
      ],
      "execution_count": 0,
      "outputs": []
    },
    {
      "cell_type": "code",
      "metadata": {
        "colab_type": "code",
        "id": "U5c-qw_7UuLn",
        "colab": {
          "base_uri": "https://localhost:8080/",
          "height": 252
        },
        "outputId": "e1c92aed-cf0d-4273-df02-2f93fa8777e9"
      },
      "source": [
        "df_final_train.columns"
      ],
      "execution_count": 77,
      "outputs": [
        {
          "output_type": "execute_result",
          "data": {
            "text/plain": [
              "Index(['source_node', 'destination_node', 'indicator_link',\n",
              "       'jaccard_followers', 'jaccard_followees', 'cosine_followers',\n",
              "       'cosine_followees', 'num_followers_s', 'num_followers_d',\n",
              "       'num_followees_s', 'num_followees_d', 'inter_followers',\n",
              "       'inter_followees', 'adar_index', 'follows_back', 'same_comp',\n",
              "       'shortest_path', 'weight_in', 'weight_out', 'weight_f1', 'weight_f2',\n",
              "       'weight_f3', 'weight_f4', 'page_rank_s', 'page_rank_d', 'katz_s',\n",
              "       'katz_d', 'hubs_s', 'hubs_d', 'authorities_s', 'authorities_d',\n",
              "       'svd_u_s_1', 'svd_u_s_2', 'svd_u_s_3', 'svd_u_s_4', 'svd_u_s_5',\n",
              "       'svd_u_s_6', 'svd_u_d_1', 'svd_u_d_2', 'svd_u_d_3', 'svd_u_d_4',\n",
              "       'svd_u_d_5', 'svd_u_d_6', 'svd_v_s_1', 'svd_v_s_2', 'svd_v_s_3',\n",
              "       'svd_v_s_4', 'svd_v_s_5', 'svd_v_s_6', 'svd_v_d_1', 'svd_v_d_2',\n",
              "       'svd_v_d_3', 'svd_v_d_4', 'svd_v_d_5', 'svd_v_d_6'],\n",
              "      dtype='object')"
            ]
          },
          "metadata": {
            "tags": []
          },
          "execution_count": 77
        }
      ]
    },
    {
      "cell_type": "code",
      "metadata": {
        "colab_type": "code",
        "id": "PUi3aKnsUuLq",
        "colab": {}
      },
      "source": [
        "y_train = df_final_train.indicator_link\n",
        "y_test = df_final_test.indicator_link"
      ],
      "execution_count": 0,
      "outputs": []
    },
    {
      "cell_type": "code",
      "metadata": {
        "id": "tHiv5J9zBgDy",
        "colab_type": "code",
        "colab": {}
      },
      "source": [
        "df_final_train.drop(['source_node', 'destination_node','indicator_link'],axis=1,inplace=True)\n",
        "df_final_test.drop(['source_node', 'destination_node','indicator_link'],axis=1,inplace=True)"
      ],
      "execution_count": 0,
      "outputs": []
    },
    {
      "cell_type": "code",
      "metadata": {
        "colab_type": "code",
        "id": "AhXBvLdQUuLt",
        "colab": {
          "base_uri": "https://localhost:8080/",
          "height": 396
        },
        "outputId": "fcc0d4e7-39e6-40fe-8d0c-03c7d668a726"
      },
      "source": [
        "estimators = [10,50,100,250,450]\n",
        "train_scores = []\n",
        "test_scores = []\n",
        "for i in estimators:\n",
        "    clf = RandomForestClassifier(bootstrap=True, class_weight=None, criterion='gini',\n",
        "            max_depth=5, max_features='auto', max_leaf_nodes=None,\n",
        "            min_impurity_decrease=0.0, min_impurity_split=None,\n",
        "            min_samples_leaf=52, min_samples_split=120,\n",
        "            min_weight_fraction_leaf=0.0, n_estimators=i, n_jobs=-1,random_state=25,verbose=0,warm_start=False)\n",
        "    clf.fit(df_final_train,y_train)\n",
        "    train_sc = f1_score(y_train,clf.predict(df_final_train))\n",
        "    test_sc = f1_score(y_test,clf.predict(df_final_test))\n",
        "    test_scores.append(test_sc)\n",
        "    train_scores.append(train_sc)\n",
        "    print('Estimators = ',i,'Train Score',train_sc,'test Score',test_sc)\n",
        "plt.plot(estimators,train_scores,label='Train Score')\n",
        "plt.plot(estimators,test_scores,label='Test Score')\n",
        "plt.xlabel('Estimators')\n",
        "plt.ylabel('Score')\n",
        "plt.title('Estimators vs score at depth of 5')"
      ],
      "execution_count": 80,
      "outputs": [
        {
          "output_type": "stream",
          "text": [
            "Estimators =  10 Train Score 0.9192701564693039 test Score 0.8979722245889068\n",
            "Estimators =  50 Train Score 0.9226146856221603 test Score 0.9099077997572556\n",
            "Estimators =  100 Train Score 0.9241539767546663 test Score 0.9167603333828176\n",
            "Estimators =  250 Train Score 0.9211217221216907 test Score 0.9162636480750144\n",
            "Estimators =  450 Train Score 0.9221589481617954 test Score 0.9173675979542668\n"
          ],
          "name": "stdout"
        },
        {
          "output_type": "execute_result",
          "data": {
            "text/plain": [
              "Text(0.5, 1.0, 'Estimators vs score at depth of 5')"
            ]
          },
          "metadata": {
            "tags": []
          },
          "execution_count": 80
        },
        {
          "output_type": "display_data",
          "data": {
            "image/png": "[encoded data removed]",
            "text/plain": [
              "<Figure size 432x288 with 1 Axes>"
            ]
          },
          "metadata": {
            "tags": []
          }
        }
      ]
    },
    {
      "cell_type": "code",
      "metadata": {
        "colab_type": "code",
        "id": "RABK3J7EUuLy",
        "colab": {
          "base_uri": "https://localhost:8080/",
          "height": 446
        },
        "outputId": "c12adb0a-08f6-4f0d-e6fb-2fb53329ddae"
      },
      "source": [
        "depths = [3,9,11,15,20,35,50,70,130]\n",
        "train_scores = []\n",
        "test_scores = []\n",
        "for i in depths:\n",
        "    clf = RandomForestClassifier(bootstrap=True, class_weight=None, criterion='gini',\n",
        "            max_depth=i, max_features='auto', max_leaf_nodes=None,\n",
        "            min_impurity_decrease=0.0, min_impurity_split=None,\n",
        "            min_samples_leaf=52, min_samples_split=120,\n",
        "            min_weight_fraction_leaf=0.0, n_estimators=115, n_jobs=-1,random_state=25,verbose=0,warm_start=False)\n",
        "    clf.fit(df_final_train,y_train)\n",
        "    train_sc = f1_score(y_train,clf.predict(df_final_train))\n",
        "    test_sc = f1_score(y_test,clf.predict(df_final_test))\n",
        "    test_scores.append(test_sc)\n",
        "    train_scores.append(train_sc)\n",
        "    print('depth = ',i,'Train Score',train_sc,'test Score',test_sc)\n",
        "plt.plot(depths,train_scores,label='Train Score')\n",
        "plt.plot(depths,test_scores,label='Test Score')\n",
        "plt.xlabel('Depth')\n",
        "plt.ylabel('Score')\n",
        "plt.title('Depth vs score at depth of 5 at estimators = 115')\n",
        "plt.show()"
      ],
      "execution_count": 81,
      "outputs": [
        {
          "output_type": "stream",
          "text": [
            "depth =  3 Train Score 0.8784026721414363 test Score 0.8576710600722085\n",
            "depth =  9 Train Score 0.95819948807375 test Score 0.923268950051831\n",
            "depth =  11 Train Score 0.9604618899951036 test Score 0.9247471113556524\n",
            "depth =  15 Train Score 0.9643256201369279 test Score 0.9261427273303607\n",
            "depth =  20 Train Score 0.9652320572218158 test Score 0.9264052785179546\n",
            "depth =  35 Train Score 0.9653112235566664 test Score 0.9263990524935494\n",
            "depth =  50 Train Score 0.9653112235566664 test Score 0.9263990524935494\n",
            "depth =  70 Train Score 0.9653112235566664 test Score 0.9263990524935494\n",
            "depth =  130 Train Score 0.9653112235566664 test Score 0.9263990524935494\n"
          ],
          "name": "stdout"
        },
        {
          "output_type": "display_data",
          "data": {
            "image/png": "[encoded data removed]",
            "text/plain": [
              "<Figure size 432x288 with 1 Axes>"
            ]
          },
          "metadata": {
            "tags": []
          }
        }
      ]
    },
    {
      "cell_type": "code",
      "metadata": {
        "colab_type": "code",
        "id": "me-JvLSxUuL0",
        "colab": {
          "base_uri": "https://localhost:8080/",
          "height": 50
        },
        "outputId": "26307d00-7c87-4ade-ea32-2b544c1a94f8"
      },
      "source": [
        "from sklearn.metrics import f1_score\n",
        "from sklearn.ensemble import RandomForestClassifier\n",
        "from sklearn.metrics import f1_score\n",
        "from sklearn.model_selection import RandomizedSearchCV\n",
        "from scipy.stats import randint as sp_randint\n",
        "from scipy.stats import uniform\n",
        "\n",
        "param_dist = {\"n_estimators\":sp_randint(105,125),\n",
        "              \"max_depth\": sp_randint(10,15),\n",
        "              \"min_samples_split\": sp_randint(110,190),\n",
        "              \"min_samples_leaf\": sp_randint(25,65)}\n",
        "\n",
        "clf = RandomForestClassifier(random_state=25,n_jobs=-1)\n",
        "\n",
        "rf_random = RandomizedSearchCV(clf, param_distributions=param_dist, n_iter=5,cv=10,scoring='f1',random_state=25,return_train_score=True)\n",
        "\n",
        "rf_random.fit(df_final_train,y_train)\n",
        "print('mean test scores',rf_random.cv_results_['mean_test_score'])\n",
        "print('mean train scores',rf_random.cv_results_['mean_train_score'])"
      ],
      "execution_count": 84,
      "outputs": [
        {
          "output_type": "stream",
          "text": [
            "mean test scores [0.96221474 0.9616967  0.95959466 0.96195268 0.96417363]\n",
            "mean train scores [0.96332378 0.96242075 0.96027766 0.96270488 0.96525519]\n"
          ],
          "name": "stdout"
        }
      ]
    },
    {
      "cell_type": "code",
      "metadata": {
        "colab_type": "code",
        "id": "KNUBkQSxUuL4",
        "colab": {
          "base_uri": "https://localhost:8080/",
          "height": 151
        },
        "outputId": "5cc080a6-59e9-4900-c591-55c2742e4e76"
      },
      "source": [
        "print(rf_random.best_estimator_)"
      ],
      "execution_count": 85,
      "outputs": [
        {
          "output_type": "stream",
          "text": [
            "RandomForestClassifier(bootstrap=True, ccp_alpha=0.0, class_weight=None,\n",
            "                       criterion='gini', max_depth=14, max_features='auto',\n",
            "                       max_leaf_nodes=None, max_samples=None,\n",
            "                       min_impurity_decrease=0.0, min_impurity_split=None,\n",
            "                       min_samples_leaf=28, min_samples_split=111,\n",
            "                       min_weight_fraction_leaf=0.0, n_estimators=121,\n",
            "                       n_jobs=-1, oob_score=False, random_state=25, verbose=0,\n",
            "                       warm_start=False)\n"
          ],
          "name": "stdout"
        }
      ]
    },
    {
      "cell_type": "code",
      "metadata": {
        "colab_type": "code",
        "id": "VAsE93lHUuL6",
        "colab": {}
      },
      "source": [
        "clf = RandomForestClassifier(bootstrap=True, class_weight=None, criterion='gini',\n",
        "            max_depth=14, max_features='auto', max_leaf_nodes=None,\n",
        "            min_impurity_decrease=0.0, min_impurity_split=None,\n",
        "            min_samples_leaf=28, min_samples_split=111,\n",
        "            min_weight_fraction_leaf=0.0, n_estimators=121, n_jobs=-1,\n",
        "            oob_score=False, random_state=25, verbose=0, warm_start=False)"
      ],
      "execution_count": 0,
      "outputs": []
    },
    {
      "cell_type": "code",
      "metadata": {
        "colab_type": "code",
        "id": "NRQAaEi1UuL9",
        "colab": {}
      },
      "source": [
        "clf.fit(df_final_train,y_train)\n",
        "y_train_pred = clf.predict(df_final_train)\n",
        "y_test_pred = clf.predict(df_final_test)"
      ],
      "execution_count": 0,
      "outputs": []
    },
    {
      "cell_type": "code",
      "metadata": {
        "colab_type": "code",
        "id": "NGMEOB5uUuMA",
        "colab": {
          "base_uri": "https://localhost:8080/",
          "height": 50
        },
        "outputId": "d8faf2e0-a2c9-4c59-e5df-1c92621ae5b2"
      },
      "source": [
        "from sklearn.metrics import f1_score\n",
        "print('Train f1 score',f1_score(y_train,y_train_pred))\n",
        "print('Test f1 score',f1_score(y_test,y_test_pred))"
      ],
      "execution_count": 88,
      "outputs": [
        {
          "output_type": "stream",
          "text": [
            "Train f1 score 0.965736259499386\n",
            "Test f1 score 0.9265457926545793\n"
          ],
          "name": "stdout"
        }
      ]
    },
    {
      "cell_type": "code",
      "metadata": {
        "id": "-ewTEeuLagjE",
        "colab_type": "code",
        "colab": {}
      },
      "source": [
        "from sklearn.metrics import confusion_matrix\n",
        "def plot_confusion_matrix(test_y, predict_y):\n",
        "    C = confusion_matrix(test_y, predict_y)\n",
        "    \n",
        "    A =(((C.T)/(C.sum(axis=1))).T)\n",
        "    \n",
        "    B =(C/C.sum(axis=0))\n",
        "    plt.figure(figsize=(20,4))\n",
        "    \n",
        "    labels = [0,1]\n",
        "    # representing A in heatmap format\n",
        "    cmap=sns.light_palette(\"blue\")\n",
        "    plt.subplot(1, 3, 1)\n",
        "    sns.heatmap(C, annot=True, cmap=cmap, fmt=\".3f\", xticklabels=labels, yticklabels=labels)\n",
        "    plt.xlabel('Predicted Class')\n",
        "    plt.ylabel('Original Class')\n",
        "    plt.title(\"Confusion matrix\")\n",
        "    \n",
        "    plt.subplot(1, 3, 2)\n",
        "    sns.heatmap(B, annot=True, cmap=cmap, fmt=\".3f\", xticklabels=labels, yticklabels=labels)\n",
        "    plt.xlabel('Predicted Class')\n",
        "    plt.ylabel('Original Class')\n",
        "    plt.title(\"Precision matrix\")\n",
        "    \n",
        "    plt.subplot(1, 3, 3)\n",
        "    # representing B in heatmap format\n",
        "    sns.heatmap(A, annot=True, cmap=cmap, fmt=\".3f\", xticklabels=labels, yticklabels=labels)\n",
        "    plt.xlabel('Predicted Class')\n",
        "    plt.ylabel('Original Class')\n",
        "    plt.title(\"Recall matrix\")\n",
        "    \n",
        "    plt.show()"
      ],
      "execution_count": 0,
      "outputs": []
    },
    {
      "cell_type": "code",
      "metadata": {
        "id": "S4ZJfxptanB0",
        "colab_type": "code",
        "colab": {
          "base_uri": "https://localhost:8080/",
          "height": 591
        },
        "outputId": "db92ccbb-d81f-404b-b11c-0557766320d6"
      },
      "source": [
        "print('Train confusion_matrix')\n",
        "plot_confusion_matrix(y_train,y_train_pred)\n",
        "print('Test confusion_matrix')\n",
        "plot_confusion_matrix(y_test,y_test_pred)"
      ],
      "execution_count": 91,
      "outputs": [
        {
          "output_type": "stream",
          "text": [
            "Train confusion_matrix\n"
          ],
          "name": "stdout"
        },
        {
          "output_type": "display_data",
          "data": {
            "image/png": "[encoded data removed]",
            "text/plain": [
              "<Figure size 1440x288 with 6 Axes>"
            ]
          },
          "metadata": {
            "tags": []
          }
        },
        {
          "output_type": "stream",
          "text": [
            "Test confusion_matrix\n"
          ],
          "name": "stdout"
        },
        {
          "output_type": "display_data",
          "data": {
            "image/png": "[encoded data removed]",
            "text/plain": [
              "<Figure size 1440x288 with 6 Axes>"
            ]
          },
          "metadata": {
            "tags": []
          }
        }
      ]
    },
    {
      "cell_type": "code",
      "metadata": {
        "id": "Re4pIGefawo6",
        "colab_type": "code",
        "colab": {
          "base_uri": "https://localhost:8080/",
          "height": 295
        },
        "outputId": "d658fdeb-abe8-43a4-985f-11cde1efbf1e"
      },
      "source": [
        "from sklearn.metrics import roc_curve, auc\n",
        "fpr,tpr,ths = roc_curve(y_test,y_test_pred)\n",
        "auc_sc = auc(fpr, tpr)\n",
        "plt.plot(fpr, tpr, color='navy',label='ROC curve (area = %0.2f)' % auc_sc)\n",
        "plt.xlabel('False Positive Rate')\n",
        "plt.ylabel('True Positive Rate')\n",
        "plt.title('Receiver operating characteristic with test data')\n",
        "plt.legend()\n",
        "plt.show()"
      ],
      "execution_count": 92,
      "outputs": [
        {
          "output_type": "display_data",
          "data": {
            "image/png": "[encoded data removed]",
            "text/plain": [
              "<Figure size 432x288 with 1 Axes>"
            ]
          },
          "metadata": {
            "tags": []
          }
        }
      ]
    },
    {
      "cell_type": "code",
      "metadata": {
        "id": "lYU1mYBpa6l5",
        "colab_type": "code",
        "colab": {
          "base_uri": "https://localhost:8080/",
          "height": 730
        },
        "outputId": "5c0f7ac2-f5c3-45cb-e39a-1821574d40d8"
      },
      "source": [
        "features = df_final_train.columns\n",
        "importances = clf.feature_importances_\n",
        "indices = (np.argsort(importances))[-25:]\n",
        "plt.figure(figsize=(10,12))\n",
        "plt.title('Feature Importances')\n",
        "plt.barh(range(len(indices)), importances[indices], color='r', align='center')\n",
        "plt.yticks(range(len(indices)), [features[i] for i in indices])\n",
        "plt.xlabel('Relative Importance')\n",
        "plt.show()"
      ],
      "execution_count": 93,
      "outputs": [
        {
          "output_type": "display_data",
          "data": {
            "image/png": "[encoded data removed]",
            "text/plain": [
              "<Figure size 720x864 with 1 Axes>"
            ]
          },
          "metadata": {
            "tags": []
          }
        }
      ]
    },
    {
      "cell_type": "code",
      "metadata": {
        "id": "kqg_LuaLbPcx",
        "colab_type": "code",
        "colab": {
          "base_uri": "https://localhost:8080/",
          "height": 50
        },
        "outputId": "4947228a-2500-4c0d-d685-3306a5131577"
      },
      "source": [
        "# apllying XGboost\n",
        "\n",
        "import xgboost \n",
        "clf = xgboost.XGBClassifier()\n",
        "param_dist = {\"n_estimators\":sp_randint(105,125),\n",
        "              \"max_depth\": sp_randint(10,15)\n",
        "              }\n",
        "rf_random = RandomizedSearchCV(clf, param_distributions=param_dist,\n",
        "                                   n_iter=5,cv=3,scoring='f1',random_state=25,return_train_score=True)\n",
        "\n",
        "rf_random.fit(df_final_train,y_train)\n",
        "print('mean test scores',rf_random.cv_results_['mean_test_score'])\n",
        "print('mean train scores',rf_random.cv_results_['mean_train_score'])"
      ],
      "execution_count": 94,
      "outputs": [
        {
          "output_type": "stream",
          "text": [
            "mean test scores [0.98054188 0.98051186 0.98028124 0.98073271 0.98077031]\n",
            "mean train scores [0.99999    1.         0.99468232 0.99746511 0.99786647]\n"
          ],
          "name": "stdout"
        }
      ]
    },
    {
      "cell_type": "code",
      "metadata": {
        "id": "7e6ovUKtbQCQ",
        "colab_type": "code",
        "colab": {
          "base_uri": "https://localhost:8080/",
          "height": 134
        },
        "outputId": "791270fb-166c-4e77-c562-d6cd7d42c4d8"
      },
      "source": [
        "print(rf_random.best_estimator_)"
      ],
      "execution_count": 97,
      "outputs": [
        {
          "output_type": "stream",
          "text": [
            "XGBClassifier(base_score=0.5, booster='gbtree', colsample_bylevel=1,\n",
            "              colsample_bynode=1, colsample_bytree=1, gamma=0,\n",
            "              learning_rate=0.1, max_delta_step=0, max_depth=11,\n",
            "              min_child_weight=1, missing=None, n_estimators=112, n_jobs=1,\n",
            "              nthread=None, objective='binary:logistic', random_state=0,\n",
            "              reg_alpha=0, reg_lambda=1, scale_pos_weight=1, seed=None,\n",
            "              silent=None, subsample=1, verbosity=1)\n"
          ],
          "name": "stdout"
        }
      ]
    },
    {
      "cell_type": "code",
      "metadata": {
        "id": "6Yc2CkgHbQMS",
        "colab_type": "code",
        "colab": {}
      },
      "source": [
        "clf= xgboost.XGBClassifier(base_score=0.5, booster='gbtree', colsample_bylevel=1,\n",
        "              colsample_bynode=1, colsample_bytree=1, gamma=0,\n",
        "              learning_rate=0.1, max_delta_step=0, max_depth=11,\n",
        "              min_child_weight=1, missing=None, n_estimators=112, n_jobs=1,\n",
        "              nthread=None, objective='binary:logistic', random_state=0,\n",
        "              reg_alpha=0, reg_lambda=1, scale_pos_weight=1, seed=None,\n",
        "              silent=None, subsample=1, verbosity=1)"
      ],
      "execution_count": 0,
      "outputs": []
    },
    {
      "cell_type": "code",
      "metadata": {
        "id": "T6u5unL3bQVs",
        "colab_type": "code",
        "colab": {}
      },
      "source": [
        "clf.fit(df_final_train,y_train)\n",
        "y_train_pred = clf.predict(df_final_train)\n",
        "y_test_pred = clf.predict(df_final_test)"
      ],
      "execution_count": 0,
      "outputs": []
    },
    {
      "cell_type": "code",
      "metadata": {
        "id": "4OxspJTxeB4K",
        "colab_type": "code",
        "colab": {
          "base_uri": "https://localhost:8080/",
          "height": 50
        },
        "outputId": "2da6ad6f-44a6-42bf-efbb-cd942078b40f"
      },
      "source": [
        "from sklearn.metrics import f1_score\n",
        "print('Train f1 score',f1_score(y_train,y_train_pred))\n",
        "print('Test f1 score',f1_score(y_test,y_test_pred))"
      ],
      "execution_count": 101,
      "outputs": [
        {
          "output_type": "stream",
          "text": [
            "Train f1 score 0.9952858575727183\n",
            "Test f1 score 0.9256367156748015\n"
          ],
          "name": "stdout"
        }
      ]
    },
    {
      "cell_type": "code",
      "metadata": {
        "id": "uR7y0QYHeBlr",
        "colab_type": "code",
        "colab": {
          "base_uri": "https://localhost:8080/",
          "height": 591
        },
        "outputId": "9c23fd2b-5338-41ff-cffe-d6506bd63653"
      },
      "source": [
        "print('Train confusion_matrix')\n",
        "plot_confusion_matrix(y_train,y_train_pred)\n",
        "print('Test confusion_matrix')\n",
        "plot_confusion_matrix(y_test,y_test_pred)"
      ],
      "execution_count": 102,
      "outputs": [
        {
          "output_type": "stream",
          "text": [
            "Train confusion_matrix\n"
          ],
          "name": "stdout"
        },
        {
          "output_type": "display_data",
          "data": {
            "image/png": "[encoded data removed]",
            "text/plain": [
              "<Figure size 1440x288 with 6 Axes>"
            ]
          },
          "metadata": {
            "tags": []
          }
        },
        {
          "output_type": "stream",
          "text": [
            "Test confusion_matrix\n"
          ],
          "name": "stdout"
        },
        {
          "output_type": "display_data",
          "data": {
            "image/png": "[encoded data removed]",
            "text/plain": [
              "<Figure size 1440x288 with 6 Axes>"
            ]
          },
          "metadata": {
            "tags": []
          }
        }
      ]
    },
    {
      "cell_type": "code",
      "metadata": {
        "id": "oo0mflJmeBXd",
        "colab_type": "code",
        "colab": {
          "base_uri": "https://localhost:8080/",
          "height": 295
        },
        "outputId": "e51af2bf-6412-4ec6-e122-71b458c3ed62"
      },
      "source": [
        "from sklearn.metrics import roc_curve, auc\n",
        "fpr,tpr,ths = roc_curve(y_test,y_test_pred)\n",
        "auc_sc = auc(fpr, tpr)\n",
        "plt.plot(fpr, tpr, color='navy',label='ROC curve (area = %0.2f)' % auc_sc)\n",
        "plt.xlabel('False Positive Rate')\n",
        "plt.ylabel('True Positive Rate')\n",
        "plt.title('Receiver operating characteristic with test data')\n",
        "plt.legend()\n",
        "plt.show()"
      ],
      "execution_count": 103,
      "outputs": [
        {
          "output_type": "display_data",
          "data": {
            "image/png": "[encoded data removed]",
            "text/plain": [
              "<Figure size 432x288 with 1 Axes>"
            ]
          },
          "metadata": {
            "tags": []
          }
        }
      ]
    },
    {
      "cell_type": "code",
      "metadata": {
        "id": "RTnEiXCSeBBp",
        "colab_type": "code",
        "colab": {
          "base_uri": "https://localhost:8080/",
          "height": 730
        },
        "outputId": "409ab8f9-de6f-42bf-b9bf-628e6623dd92"
      },
      "source": [
        "features = df_final_train.columns\n",
        "importances = clf.feature_importances_\n",
        "indices = (np.argsort(importances))[-25:]\n",
        "plt.figure(figsize=(10,12))\n",
        "plt.title('Feature Importances')\n",
        "plt.barh(range(len(indices)), importances[indices], color='r', align='center')\n",
        "plt.yticks(range(len(indices)), [features[i] for i in indices])\n",
        "plt.xlabel('Relative Importance')\n",
        "plt.show()"
      ],
      "execution_count": 104,
      "outputs": [
        {
          "output_type": "display_data",
          "data": {
            "image/png": "[encoded data removed]",
            "text/plain": [
              "<Figure size 720x864 with 1 Axes>"
            ]
          },
          "metadata": {
            "tags": []
          }
        }
      ]
    },
    {
      "cell_type": "code",
      "metadata": {
        "id": "29C_wPteeVtn",
        "colab_type": "code",
        "colab": {}
      },
      "source": [
        "### END Result :"
      ],
      "execution_count": 0,
      "outputs": []
    },
    {
      "cell_type": "code",
      "metadata": {
        "id": "2iZOHNaBejtm",
        "colab_type": "code",
        "colab": {
          "base_uri": "https://localhost:8080/",
          "height": 118
        },
        "outputId": "9ad529b2-72ba-4124-fdd4-e3b427ead64f"
      },
      "source": [
        "from prettytable import PrettyTable \n",
        "x = PrettyTable()\n",
        "x.field_names = [\"classifier \", \"n_estimators\", \"max_depth\", \"Train f1-Score\",\"Test f1-Score\"]\n",
        "x.add_row(['Random Forest','121','14','0.965736259499386','0.9265457926545793'])\n",
        "x.add_row(['XGBOOST','112','11','0.9952858575727183','0.9256367156748015'])\n",
        "print(x)"
      ],
      "execution_count": 106,
      "outputs": [
        {
          "output_type": "stream",
          "text": [
            "+---------------+--------------+-----------+--------------------+--------------------+\n",
            "|  classifier   | n_estimators | max_depth |   Train f1-Score   |   Test f1-Score    |\n",
            "+---------------+--------------+-----------+--------------------+--------------------+\n",
            "| Random Forest |     121      |     14    | 0.965736259499386  | 0.9265457926545793 |\n",
            "|    XGBOOST    |     112      |     11    | 0.9952858575727183 | 0.9256367156748015 |\n",
            "+---------------+--------------+-----------+--------------------+--------------------+\n"
          ],
          "name": "stdout"
        }
      ]
    },
    {
      "cell_type": "code",
      "metadata": {
        "id": "Zk0-cO2aeg7s",
        "colab_type": "code",
        "colab": {}
      },
      "source": [
        ""
      ],
      "execution_count": 0,
      "outputs": []
    }
  ]
}