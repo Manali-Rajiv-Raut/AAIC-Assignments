{
 "cells": [
  {
   "cell_type": "code",
   "execution_count": 1,
   "metadata": {},
   "outputs": [
    {
     "name": "stdout",
     "output_type": "stream",
     "text": [
      "Enter a number :2\n",
      "2\n",
      "4\n",
      "6\n",
      "8\n",
      "10\n",
      "12\n",
      "14\n",
      "16\n",
      "18\n",
      "20\n"
     ]
    }
   ],
   "source": [
    "# 1. Write a function that inputs a number and prints the multiplication table of that number\n",
    "def input_num() :\n",
    "    number = int(input(\"Enter a number :\"))\n",
    "    return number\n",
    "\n",
    "def multiplication_table(number) :\n",
    "    result = 0\n",
    "    for factor in range (1,11):\n",
    "        result = factor * number \n",
    "        print(result)\n",
    "\n",
    "num = input_num()\n",
    "multiplication_table(num)"
   ]
  },
  {
   "cell_type": "code",
   "execution_count": 1,
   "metadata": {},
   "outputs": [
    {
     "name": "stdout",
     "output_type": "stream",
     "text": [
      "(3,5)\n",
      "(5,7)\n",
      "(11,13)\n",
      "(17,19)\n",
      "(29,31)\n",
      "(41,43)\n",
      "(59,61)\n",
      "(71,73)\n",
      "(101,103)\n",
      "(107,109)\n",
      "(137,139)\n",
      "(149,151)\n",
      "(179,181)\n",
      "(191,193)\n",
      "(197,199)\n",
      "(227,229)\n",
      "(239,241)\n",
      "(269,271)\n",
      "(281,283)\n",
      "(311,313)\n",
      "(347,349)\n",
      "(419,421)\n",
      "(431,433)\n",
      "(461,463)\n",
      "(521,523)\n",
      "(569,571)\n",
      "(599,601)\n",
      "(617,619)\n",
      "(641,643)\n",
      "(659,661)\n",
      "(809,811)\n",
      "(821,823)\n",
      "(827,829)\n",
      "(857,859)\n",
      "(881,883)\n"
     ]
    }
   ],
   "source": [
    "# 2. Write a program to print twin primes less than 1000. If two consecutive odd numbers are\n",
    "#both prime then they are known as twin primes\n",
    "\n",
    "def checked_prime(number):\n",
    "    i=2\n",
    "    while i < number:\n",
    "        for i in range (2,number):\n",
    "            if number % i == 0:\n",
    "                return False\n",
    "    \n",
    "        return True\n",
    "\n",
    "def print_prime():\n",
    "    for i in range(1,1000):\n",
    "        j=i+2\n",
    "        if(checked_prime(i)== True and checked_prime(j) == True):\n",
    "             print(\"(\" +str(i) +\",\" + str(j)+\")\")\n",
    "            \n",
    "\n",
    "print_prime()\n"
   ]
  },
  {
   "cell_type": "code",
   "execution_count": 3,
   "metadata": {},
   "outputs": [
    {
     "name": "stdout",
     "output_type": "stream",
     "text": [
      "Enter a number :56\n",
      "2\n",
      "7\n"
     ]
    }
   ],
   "source": [
    "# 3. Write a program to find out the prime factors of a number. Example: prime factors of 56 - 2, 2, 2, 7\n",
    "def input_number() :\n",
    "    number = int(input(\"Enter a number :\"))\n",
    "    return number \n",
    "\n",
    "def prime_factors(number):\n",
    "    i=2\n",
    "    while i< number:\n",
    "        factor =0\n",
    "        if number % i == 0:         #to find the factors\n",
    "            #number = int(number/i)\n",
    "            j=1\n",
    "            \n",
    "            while(j<=i):           # to check the number is prime or not\n",
    "                if(i % j == 0):\n",
    "                    factor = factor +1\n",
    "                j=j+1\n",
    "            \n",
    "            if (factor == 2) :\n",
    "                print(i)\n",
    "        i=i+1\n",
    "          \n",
    "num = input_number()\n",
    "\n",
    "prime_factors(num)\n",
    "\n",
    "\n"
   ]
  },
  {
   "cell_type": "code",
   "execution_count": 1,
   "metadata": {},
   "outputs": [
    {
     "name": "stdout",
     "output_type": "stream",
     "text": [
      "Enter the value for n :11\n",
      "Enter the value for r :10\n",
      "The permutation of 11and10is :39916800.0\n",
      "the combination of 11and10is :11.0\n"
     ]
    }
   ],
   "source": [
    "# 4. Write a program to implement these formulae of permutations and combinations. Number of permutations of n objects taken\n",
    "# r at a time: p(n, r) = n! / (n-r)!. Number of combinations of n objects taken r at a time is: \n",
    "# c(n, r) = n! / (r!*(n-r)!) = p(n,r) / r!\n",
    "\n",
    "def input_values():\n",
    "    n = int(input(\"Enter the value for n :\"))\n",
    "    r = int(input(\"Enter the value for r :\"))\n",
    "    return n,r\n",
    "\n",
    "def factorial(n) :\n",
    "    fact = 1\n",
    "    while n > 1:\n",
    "        fact = fact * n\n",
    "        n = n - 1\n",
    "    return fact\n",
    "\n",
    "def calculate_permutation(n,r):\n",
    "    per = factorial(n) / factorial(n-r)\n",
    "    print (\"The permutation of \"+ str(n) + \"and\" + str( r) +\"is :\" +str(per))\n",
    "    \n",
    "def calculate_combination (n,r) :\n",
    "    comb = factorial(n)/((factorial(r)*factorial(n-r)))\n",
    "    print(\"the combination of \" + str(n) + \"and\" + str(r) +\"is :\" +str(comb))\n",
    "    \n",
    "\n",
    "n,r = input_values()\n",
    "calculate_permutation(n,r)\n",
    "calculate_combination (n,r)  "
   ]
  },
  {
   "cell_type": "code",
   "execution_count": 1,
   "metadata": {},
   "outputs": [
    {
     "name": "stdout",
     "output_type": "stream",
     "text": [
      "Enter a decimal number10\n",
      "[1, 0, 1, 0]\n"
     ]
    }
   ],
   "source": [
    "# 5. Write a function that converts a decimal number to binary number \n",
    "\n",
    "def input_number():\n",
    "    number = int(input(\"Enter a decimal number\"))\n",
    "    return number\n",
    "\n",
    "def decimal_to_binary (number) :\n",
    "    decimal = []\n",
    "        \n",
    "    while (number > 0 ):\n",
    "        a = number % 2\n",
    "        number =int( number / 2)\n",
    "        decimal.append(a)\n",
    "    return decimal\n",
    "\n",
    "def print_binary(decimal) :\n",
    "    print(decimal[::-1])\n",
    "\n",
    "\n",
    "num = input_number()    \n",
    "lst = decimal_to_binary(num)\n",
    "print_binary (lst)\n"
   ]
  },
  {
   "cell_type": "code",
   "execution_count": 5,
   "metadata": {},
   "outputs": [
    {
     "name": "stdout",
     "output_type": "stream",
     "text": [
      "Enter a number407\n",
      "The given number 407 is a Armstrong number\n"
     ]
    }
   ],
   "source": [
    "# 6. Write a function cubesum() that accepts an integer and returns the sum of the cubes of individual digits of that number.\n",
    "# Use this function to make functions PrintArmstrong() andisArmstrong() to print Armstrong numbers and to find whether \n",
    "# is an Armstrong number.\n",
    "\n",
    "\n",
    "def int_input ():\n",
    "    number = int(input(\"Enter a number\"))\n",
    "    return number\n",
    "\n",
    "def cubesum(number) :\n",
    "    sum =0  \n",
    "    while number > 0 :\n",
    "        single_num = number % 10\n",
    "        sum = sum + (single_num * single_num * single_num )\n",
    "        number = int( number /10)\n",
    "    return sum\n",
    "\n",
    "def isArmstrong(number,sum):\n",
    "    #print(\"sum\" ,sum)\n",
    "    if number == sum :\n",
    "        return number\n",
    "    else:\n",
    "        print(\"The given number \" + str(number)+ \" is not a Armstrong number\")\n",
    "\n",
    "def PrintArmstrong(number,sum):\n",
    "    if number == sum :\n",
    "        print(\"The given number \" + str(number)+ \" is a Armstrong number\")\n",
    "\n",
    "num = int_input()    \n",
    "sum_of_numbers = cubesum(num)\n",
    "\n",
    "new = isArmstrong(num, sum_of_numbers)\n",
    "PrintArmstrong(new,sum_of_numbers)"
   ]
  },
  {
   "cell_type": "code",
   "execution_count": 9,
   "metadata": {},
   "outputs": [
    {
     "name": "stdout",
     "output_type": "stream",
     "text": [
      "Enter a number :85\n",
      "The product of digits of above number is  :40\n"
     ]
    }
   ],
   "source": [
    "# 7. Write a function prodDigits() that inputs a number and returns the product of digits of that number.\n",
    "\n",
    "def prodDigits() :\n",
    "    number = int(input(\"Enter a number :\"))\n",
    "\n",
    "    product =1  \n",
    "    while number > 0 :\n",
    "        digit = number % 10\n",
    "        product = product  * digit \n",
    "        number = int( number /10)\n",
    "    return product\n",
    "\n",
    "def print_product(product):\n",
    "    print(\"The product of digits of above number is  :\" + str(product))\n",
    "\n",
    "\n",
    "prod = prodDigits()\n",
    "print_product( prod)"
   ]
  },
  {
   "cell_type": "code",
   "execution_count": 1,
   "metadata": {},
   "outputs": [
    {
     "name": "stdout",
     "output_type": "stream",
     "text": [
      "Enter a number :86\n",
      "The MDR is : 6\n",
      "The MPersistence is  3\n"
     ]
    }
   ],
   "source": [
    "# 8. If all digits of a number n are multiplied by each other repeating with the product, the one digit number obtained at last is called the multiplicative digital root of n. The number of\n",
    "# times digits need to be multiplied to reach one digit is called the multiplicative persistance of n. Example: 86 -> 48 -> 32 -> 6 (MDR 6, MPersistence 3)\n",
    "# 341 -> 12->2 (MDR 2, MPersistence 2) Using the function prodDigits() of previous exercise write functions MDR() and\n",
    "# MPersistence() that input a number and return its multiplicative digital root and multiplicative persistence respectively\n",
    "\n",
    "\n",
    "def input_number():\n",
    "    number = int(input(\"Enter a number :\"))\n",
    "    return number\n",
    "\n",
    "def MDR (number) :\n",
    "    if str(number) == 1:\n",
    "        return 0\n",
    "    while len(str(number)) >1 :\n",
    "        mdr = 1\n",
    "        for i in str(number) :\n",
    "            mdr = mdr * int(i)\n",
    "        number = mdr \n",
    "    return mdr \n",
    "\n",
    "def MPersistence (number):\n",
    "    if str(number) == 1:\n",
    "        return 0\n",
    "    mps = 0\n",
    "    while len(str(number)) >1 :\n",
    "        mdr = 1\n",
    "        for i in str(number) :\n",
    "            mdr = mdr * int(i)\n",
    "        number = mdr\n",
    "        mps += 1\n",
    "    return mps\n",
    "\n",
    "def print_product(mdr,mps):\n",
    "    #print(\"The product of digits of above number is  :\" + str(product))\n",
    "    print (\"The MDR is :\", mdr)\n",
    "    print(\"The MPersistence is \",mps)\n",
    "    \n",
    "    \n",
    "num = input_number()\n",
    "mdr = MDR(num)\n",
    "mps = MPersistence (num)\n",
    "print_product( mdr,mps)"
   ]
  },
  {
   "cell_type": "code",
   "execution_count": 2,
   "metadata": {},
   "outputs": [
    {
     "name": "stdout",
     "output_type": "stream",
     "text": [
      "Enter a number36\n",
      "1\n",
      "2\n",
      "3\n",
      "4\n",
      "6\n",
      "9\n",
      "12\n",
      "18\n",
      "sum of proper divisior of the given number is : 55\n"
     ]
    }
   ],
   "source": [
    "# 9. Write a function sumPdivisors() that finds the sum of proper divisors of a number. Proper divisors of a number are those \n",
    "# numbers by which the number is divisible, except the number itself. For example proper divisors of 36 are 1, 2, 3, 4, 6, 9, 18\n",
    "\n",
    "def input_number() :\n",
    "    number = int(input(\"Enter a number\"))\n",
    "    return number\n",
    "\n",
    "def sumPdivisior (number) :\n",
    "    sum = 0\n",
    "    for i in range ( 1, number):\n",
    "        if number % i == 0:\n",
    "            print(i)\n",
    "            sum =sum+i\n",
    "    return sum\n",
    "\n",
    "def print_result(sum) :\n",
    "    print(\"sum of proper divisior of the given number is :\",sum)\n",
    "    \n",
    "\n",
    "\n",
    "num = input_number()\n",
    "sum = sumPdivisior(num)\n",
    "print_result(sum)"
   ]
  },
  {
   "cell_type": "code",
   "execution_count": 3,
   "metadata": {},
   "outputs": [
    {
     "name": "stdout",
     "output_type": "stream",
     "text": [
      "Enter the starting number of the range1\n",
      "Enter the ending number of the range100\n",
      "6\n",
      "28\n"
     ]
    }
   ],
   "source": [
    "# 10. A number is called perfect if the sum of proper divisors of that number is equal to the number. For example 28 is \n",
    "# perfect number, since 1+2+4+7+14=28. Write a program to print all the perfect numbers in a given range\n",
    "\n",
    "def input_numbers() :\n",
    "    start = int(input(\"Enter the starting number of the range\"))\n",
    "    end = int(input(\"Enter the ending number of the range\"))\n",
    "    return start, end\n",
    "\n",
    "def perfect_numbers (start,end):\n",
    "    for i in range(start,end) :\n",
    "        sum=0\n",
    "        for j in range(1,i):\n",
    "            if  i % j == 0:\n",
    "                sum = sum+j\n",
    "                \n",
    "        if sum == i :\n",
    "            print(i) \n",
    "\n",
    "start, end  = input_numbers()\n",
    "perfect_numbers (start,end)"
   ]
  },
  {
   "cell_type": "code",
   "execution_count": 4,
   "metadata": {},
   "outputs": [
    {
     "name": "stdout",
     "output_type": "stream",
     "text": [
      "Enter the starting number of the range1\n",
      "Enter the ending number of the range2000\n",
      "(220 ,284 ) are amicable \n",
      "(284 ,220 ) are amicable \n",
      "(1184 ,1210 ) are amicable \n",
      "(1210 ,1184 ) are amicable \n"
     ]
    }
   ],
   "source": [
    "# 11. Two different numbers are called amicable numbers if the sum of the proper divisors of each is equal to the other number. \n",
    "# For example 220 and 284 are amicable numbers. Sum of proper divisors of 220 = 1+2+4+5+10+11+20+22+44+55+110 = 284\n",
    "# Sum of proper divisors of 284 = 1+2+4+71+142 = 220 Write a function to print pairs of amicable numbers in a range\n",
    "\n",
    "def input_numbers() :\n",
    "    start = int(input(\"Enter the starting number of the range\"))\n",
    "    end = int(input(\"Enter the ending number of the range\"))\n",
    "    return start, end\n",
    "\n",
    "def checked_amicable(number_1,number_2) :\n",
    "    total_of_num_1 = 0\n",
    "    total_of_num_2 = 0\n",
    "    for i in range(1,number_1):\n",
    "        if number_1 % i == 0:\n",
    "            total_of_num_1 +=i\n",
    "            \n",
    "    for j in range(1,number_2):\n",
    "        if number_2 % j == 0:\n",
    "            total_of_num_2 +=j\n",
    "    \n",
    "    if total_of_num_1 == number_2 and total_of_num_2 == number_1:\n",
    "        return True\n",
    "    return False\n",
    "\n",
    "def print_amicable_number (start,end) :\n",
    "    for m in range (start,end):\n",
    "        for n in range (start,end):\n",
    "            if checked_amicable(m,n) == True and m != n:\n",
    "                print(\"(\" + str(m) +\" ,\" + str(n) + \" ) are amicable \")\n",
    "                \n",
    "                \n",
    "start,end = input_numbers()\n",
    "print_amicable_number (start,end)\n",
    "            "
   ]
  },
  {
   "cell_type": "code",
   "execution_count": 5,
   "metadata": {},
   "outputs": [
    {
     "name": "stdout",
     "output_type": "stream",
     "text": [
      "Odd numbers in a list are :\n",
      "[1, 3, 5, 7, 9, 11, 13, 15, 17, 19, 21, 23, 25, 27, 29, 31, 33, 35, 37, 39, 41, 43, 45, 47, 49]\n"
     ]
    }
   ],
   "source": [
    " # 12. Write a program which can filter odd numbers in a list by using filter function\n",
    "\n",
    "def find_odd_numbers(number) :\n",
    "    if number % 2 == 0:\n",
    "        return False\n",
    "    else:\n",
    "        return number\n",
    "    \n",
    "    \n",
    "num_list = range(1,50)\n",
    "#print(list(num_list))\n",
    "\n",
    "odd_num_list = list(filter(find_odd_numbers,num_list))\n",
    "print(\"Odd numbers in a list are :\")\n",
    "print(odd_num_list)\n",
    "    \n",
    "    "
   ]
  },
  {
   "cell_type": "code",
   "execution_count": 2,
   "metadata": {},
   "outputs": [
    {
     "name": "stdout",
     "output_type": "stream",
     "text": [
      "Cube of elements in  a list are :\n",
      "[1, 8, 27, 64, 125, 216, 343, 512, 729]\n"
     ]
    }
   ],
   "source": [
    "# 13. Write a program which can map() to make a list whose elements are cube of elements in a given list\n",
    "\n",
    "def cube_of_elements(number) :\n",
    "    return number ** 3\n",
    "    \n",
    "    \n",
    "num_list = range(1,10)\n",
    "#print(list(num_list))\n",
    "\n",
    "cube_list = list(map(cube_of_elements,num_list))\n",
    "print(\"Cube of elements in  a list are :\")\n",
    "print(cube_list)\n"
   ]
  },
  {
   "cell_type": "code",
   "execution_count": 3,
   "metadata": {},
   "outputs": [
    {
     "name": "stdout",
     "output_type": "stream",
     "text": [
      "Even numbers in a list are :\n",
      "[8, 64, 216, 512, 1000, 1728, 2744, 4096, 5832, 8000, 10648, 13824, 17576, 21952, 27000, 32768, 39304, 46656, 54872, 64000, 74088, 85184, 97336, 110592]\n"
     ]
    }
   ],
   "source": [
    "# 14. Write a program which can map() and filter() to make a list whose elements are cube of even number in a given list \n",
    "# cube of elements in a given list\n",
    "\n",
    "def cube_of_elements(number) :\n",
    "    return number ** 3\n",
    "\n",
    "def find_even_numbers(number1) :\n",
    "    if number1 % 2 == 0:\n",
    "        return number1\n",
    "\n",
    "    \n",
    "num_list = range(1,50)\n",
    "#print(list(num_list))\n",
    "\n",
    "cube_list = list(map(cube_of_elements,num_list))\n",
    "\n",
    "even_num_list = list(filter(find_even_numbers,cube_list))\n",
    "\n",
    "print(\"Even numbers in a list are :\")\n",
    "print(even_num_list)\n",
    "\n"
   ]
  },
  {
   "cell_type": "code",
   "execution_count": null,
   "metadata": {
    "collapsed": true
   },
   "outputs": [],
   "source": []
  }
 ],
 "metadata": {
  "kernelspec": {
   "display_name": "Python 3",
   "language": "python",
   "name": "python3"
  },
  "language_info": {
   "codemirror_mode": {
    "name": "ipython",
    "version": 3
   },
   "file_extension": ".py",
   "mimetype": "text/x-python",
   "name": "python",
   "nbconvert_exporter": "python",
   "pygments_lexer": "ipython3",
   "version": "3.7.3"
  }
 },
 "nbformat": 4,
 "nbformat_minor": 2
}
