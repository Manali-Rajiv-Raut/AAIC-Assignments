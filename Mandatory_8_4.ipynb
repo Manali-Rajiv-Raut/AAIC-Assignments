{
 "cells": [
  {
   "cell_type": "markdown",
   "metadata": {},
   "source": [
    "## Task-D: Collinear features and their effect on linear models"
   ]
  },
  {
   "cell_type": "code",
   "execution_count": 1,
   "metadata": {},
   "outputs": [],
   "source": [
    "%matplotlib inline\n",
    "import warnings\n",
    "warnings.filterwarnings(\"ignore\")\n",
    "import pandas as pd\n",
    "import numpy as np\n",
    "from sklearn.datasets import load_iris\n",
    "from sklearn.linear_model import SGDClassifier\n",
    "from sklearn.model_selection import GridSearchCV\n",
    "import seaborn as sns\n",
    "import matplotlib.pyplot as plt\n",
    "from sklearn.metrics import accuracy_score\n",
    "import warnings\n",
    "warnings.filterwarnings(\"ignore\")"
   ]
  },
  {
   "cell_type": "code",
   "execution_count": 2,
   "metadata": {},
   "outputs": [],
   "source": [
    "data = pd.read_csv('task_d.csv')"
   ]
  },
  {
   "cell_type": "code",
   "execution_count": 3,
   "metadata": {},
   "outputs": [
    {
     "data": {
      "text/html": [
       "<div>\n",
       "<style scoped>\n",
       "    .dataframe tbody tr th:only-of-type {\n",
       "        vertical-align: middle;\n",
       "    }\n",
       "\n",
       "    .dataframe tbody tr th {\n",
       "        vertical-align: top;\n",
       "    }\n",
       "\n",
       "    .dataframe thead th {\n",
       "        text-align: right;\n",
       "    }\n",
       "</style>\n",
       "<table border=\"1\" class=\"dataframe\">\n",
       "  <thead>\n",
       "    <tr style=\"text-align: right;\">\n",
       "      <th></th>\n",
       "      <th>x</th>\n",
       "      <th>y</th>\n",
       "      <th>z</th>\n",
       "      <th>x*x</th>\n",
       "      <th>2*y</th>\n",
       "      <th>2*z+3*x*x</th>\n",
       "      <th>w</th>\n",
       "      <th>target</th>\n",
       "    </tr>\n",
       "  </thead>\n",
       "  <tbody>\n",
       "    <tr>\n",
       "      <th>0</th>\n",
       "      <td>-0.581066</td>\n",
       "      <td>0.841837</td>\n",
       "      <td>-1.012978</td>\n",
       "      <td>-0.604025</td>\n",
       "      <td>0.841837</td>\n",
       "      <td>-0.665927</td>\n",
       "      <td>-0.536277</td>\n",
       "      <td>0</td>\n",
       "    </tr>\n",
       "    <tr>\n",
       "      <th>1</th>\n",
       "      <td>-0.894309</td>\n",
       "      <td>-0.207835</td>\n",
       "      <td>-1.012978</td>\n",
       "      <td>-0.883052</td>\n",
       "      <td>-0.207835</td>\n",
       "      <td>-0.917054</td>\n",
       "      <td>-0.522364</td>\n",
       "      <td>0</td>\n",
       "    </tr>\n",
       "    <tr>\n",
       "      <th>2</th>\n",
       "      <td>-1.207552</td>\n",
       "      <td>0.212034</td>\n",
       "      <td>-1.082312</td>\n",
       "      <td>-1.150918</td>\n",
       "      <td>0.212034</td>\n",
       "      <td>-1.166507</td>\n",
       "      <td>0.205738</td>\n",
       "      <td>0</td>\n",
       "    </tr>\n",
       "    <tr>\n",
       "      <th>3</th>\n",
       "      <td>-1.364174</td>\n",
       "      <td>0.002099</td>\n",
       "      <td>-0.943643</td>\n",
       "      <td>-1.280666</td>\n",
       "      <td>0.002099</td>\n",
       "      <td>-1.266540</td>\n",
       "      <td>-0.665720</td>\n",
       "      <td>0</td>\n",
       "    </tr>\n",
       "    <tr>\n",
       "      <th>4</th>\n",
       "      <td>-0.737687</td>\n",
       "      <td>1.051772</td>\n",
       "      <td>-1.012978</td>\n",
       "      <td>-0.744934</td>\n",
       "      <td>1.051772</td>\n",
       "      <td>-0.792746</td>\n",
       "      <td>-0.735054</td>\n",
       "      <td>0</td>\n",
       "    </tr>\n",
       "  </tbody>\n",
       "</table>\n",
       "</div>"
      ],
      "text/plain": [
       "          x         y         z       x*x       2*y  2*z+3*x*x         w  \\\n",
       "0 -0.581066  0.841837 -1.012978 -0.604025  0.841837  -0.665927 -0.536277   \n",
       "1 -0.894309 -0.207835 -1.012978 -0.883052 -0.207835  -0.917054 -0.522364   \n",
       "2 -1.207552  0.212034 -1.082312 -1.150918  0.212034  -1.166507  0.205738   \n",
       "3 -1.364174  0.002099 -0.943643 -1.280666  0.002099  -1.266540 -0.665720   \n",
       "4 -0.737687  1.051772 -1.012978 -0.744934  1.051772  -0.792746 -0.735054   \n",
       "\n",
       "   target  \n",
       "0       0  \n",
       "1       0  \n",
       "2       0  \n",
       "3       0  \n",
       "4       0  "
      ]
     },
     "execution_count": 3,
     "metadata": {},
     "output_type": "execute_result"
    }
   ],
   "source": [
    "data.head()"
   ]
  },
  {
   "cell_type": "code",
   "execution_count": 4,
   "metadata": {},
   "outputs": [],
   "source": [
    "X = data.drop(['target'], axis=1).values\n",
    "Y = data['target'].values"
   ]
  },
  {
   "cell_type": "code",
   "execution_count": 5,
   "metadata": {},
   "outputs": [],
   "source": [
    "col_data = data.columns"
   ]
  },
  {
   "cell_type": "code",
   "execution_count": 6,
   "metadata": {},
   "outputs": [
    {
     "name": "stdout",
     "output_type": "stream",
     "text": [
      "(100, 7)\n",
      "(100,)\n"
     ]
    }
   ],
   "source": [
    "print(X.shape)\n",
    "print(Y.shape)"
   ]
  },
  {
   "cell_type": "markdown",
   "metadata": {},
   "source": [
    "## perturbation test to check the presence of collinearity"
   ]
  },
  {
   "cell_type": "markdown",
   "metadata": {},
   "source": [
    "## Task: 1 Logistic Regression"
   ]
  },
  {
   "cell_type": "markdown",
   "metadata": {},
   "source": [
    "### 1. Finding the Correlation between the features"
   ]
  },
  {
   "cell_type": "code",
   "execution_count": 7,
   "metadata": {},
   "outputs": [
    {
     "data": {
      "text/plain": [
       "<matplotlib.axes._subplots.AxesSubplot at 0x25e1b114ac8>"
      ]
     },
     "execution_count": 7,
     "metadata": {},
     "output_type": "execute_result"
    },
    {
     "data": {
      "image/png": "[encoded data removed]",
      "text/plain": [
       "<Figure size 432x288 with 2 Axes>"
      ]
     },
     "metadata": {
      "needs_background": "light"
     },
     "output_type": "display_data"
    }
   ],
   "source": [
    "corr = data.corr()\n",
    "sns.heatmap(corr)"
   ]
  },
  {
   "cell_type": "markdown",
   "metadata": {},
   "source": [
    "Observation : In hitmap, pale white color shows the strong relationships between the features ,  brown color and dark brown\n",
    "    color shows the less or low relationship betweeen the features and black color shows there not much relationship "
   ]
  },
  {
   "cell_type": "markdown",
   "metadata": {},
   "source": [
    "### 2. Finding the best model for the given data"
   ]
  },
  {
   "cell_type": "code",
   "execution_count": 8,
   "metadata": {},
   "outputs": [
    {
     "data": {
      "text/plain": [
       "SGDClassifier(alpha=0.0001, average=False, class_weight=None,\n",
       "       early_stopping=False, epsilon=0.1, eta0=0.0, fit_intercept=True,\n",
       "       l1_ratio=0.15, learning_rate='optimal', loss='log', max_iter=100,\n",
       "       n_iter=None, n_iter_no_change=5, n_jobs=None, penalty='l2',\n",
       "       power_t=0.5, random_state=None, shuffle=True, tol=None,\n",
       "       validation_fraction=0.1, verbose=0, warm_start=False)"
      ]
     },
     "execution_count": 8,
     "metadata": {},
     "output_type": "execute_result"
    }
   ],
   "source": [
    "# 1. Train Logistic regression on data(X,Y)\n",
    "from sklearn.linear_model import LogisticRegression\n",
    "log_r = SGDClassifier(loss='log', max_iter=100)\n",
    "log_r.fit(X, Y)"
   ]
  },
  {
   "cell_type": "code",
   "execution_count": 9,
   "metadata": {},
   "outputs": [],
   "source": [
    "y_pred = log_r.predict(X)"
   ]
  },
  {
   "cell_type": "code",
   "execution_count": 10,
   "metadata": {},
   "outputs": [
    {
     "data": {
      "text/plain": [
       "array([[50,  0],\n",
       "       [ 0, 50]], dtype=int64)"
      ]
     },
     "execution_count": 10,
     "metadata": {},
     "output_type": "execute_result"
    }
   ],
   "source": [
    "from sklearn import metrics\n",
    "confusion_matrix = metrics.confusion_matrix(Y, y_pred)\n",
    "confusion_matrix"
   ]
  },
  {
   "cell_type": "markdown",
   "metadata": {},
   "source": [
    "Observation :\n",
    "    Here ,I got  True Positive value = 50 and True Negaive value = 50 . Also, both , false Positive and Negative values are 0. "
   ]
  },
  {
   "cell_type": "code",
   "execution_count": 11,
   "metadata": {},
   "outputs": [
    {
     "name": "stdout",
     "output_type": "stream",
     "text": [
      "Accuracy for Logistic Regression : 1.0\n",
      "Precision for Logistic Regression : 1.0\n",
      "Recall for Logistic Regression : 1.0\n"
     ]
    }
   ],
   "source": [
    "print(\"Accuracy for Logistic Regression :\",metrics.accuracy_score(Y, y_pred))\n",
    "print(\"Precision for Logistic Regression :\",metrics.precision_score(Y, y_pred))\n",
    "print(\"Recall for Logistic Regression :\",metrics.recall_score(Y, y_pred))"
   ]
  },
  {
   "cell_type": "code",
   "execution_count": 12,
   "metadata": {},
   "outputs": [
    {
     "data": {
      "image/png": "[encoded data removed]",
      "text/plain": [
       "<Figure size 432x288 with 1 Axes>"
      ]
     },
     "metadata": {
      "needs_background": "light"
     },
     "output_type": "display_data"
    }
   ],
   "source": [
    "y_predicted_prob = log_r.predict_proba(X)[::,1]\n",
    "fpr, tpr, _ = metrics.roc_curve(Y,  y_predicted_prob)\n",
    "auc = metrics.roc_auc_score(Y, y_predicted_prob)\n",
    "plt.plot(fpr,tpr,label=\"Logistic Regression auc=\"+str(auc))\n",
    "plt.title(\"Logistic Regression Before Hyper Paramter Tunning\")\n",
    "plt.xlabel(\"FPR\")\n",
    "plt.ylabel(\"TPR\")\n",
    "plt.legend(loc=4)\n",
    "plt.show()"
   ]
  },
  {
   "cell_type": "code",
   "execution_count": 13,
   "metadata": {},
   "outputs": [],
   "source": [
    "# b. Find the best hyper prameter alpha with hyper parameter tuning using k-fold cross validation"
   ]
  },
  {
   "cell_type": "code",
   "execution_count": 14,
   "metadata": {},
   "outputs": [
    {
     "name": "stdout",
     "output_type": "stream",
     "text": [
      "GridSearchCV(cv='warn', error_score='raise-deprecating',\n",
      "       estimator=Ridge(alpha=1.0, copy_X=True, fit_intercept=True, max_iter=None,\n",
      "   normalize=False, random_state=None, solver='auto', tol=0.001),\n",
      "       fit_params=None, iid='warn', n_jobs=None,\n",
      "       param_grid={'alpha': array([1.00231e+000, 2.81346e+003, 7.89737e+006, 2.21679e+010,\n",
      "       6.22251e+013, 1.74665e+017, 4.90285e+020, 1.37623e+024,\n",
      "       3.86306e+027, 1.08436e+031, 3.04378e+034, 8.54388e+037,\n",
      "       2.39826e+041, 6.73190e+044, 1.88964e+048, 5.30421e+051,\n",
      "       1.48889e+055, 4.17930e+058, 1.17313e+062, 3.29296e+065,\n",
      "       9.24331e+068, 2.59459e+072, 7.28300e+075, 2.04433e+079,\n",
      "       5.73843e+082, 1.61077e+086, 4.52143e+089, 1.26916e+093,\n",
      "       3.56253e+096, 1.00000e+100])},\n",
      "       pre_dispatch='2*n_jobs', refit=True, return_train_score='warn',\n",
      "       scoring=None, verbose=0)\n",
      "The best hyper paramter alpha is : 1.0023052380778996\n"
     ]
    }
   ],
   "source": [
    "from sklearn.linear_model import Ridge\n",
    "alpha_value = np.logspace(0.001, 100, 30)\n",
    "model = Ridge()                               # create and fit a ridge regression model,to test each alpha value\n",
    "classifier = GridSearchCV(estimator=model, param_grid=dict(alpha=alpha_value))\n",
    "classifier.fit(X, Y)\n",
    "print(classifier )\n",
    "print(\"The best hyper paramter alpha is :\",classifier.best_estimator_.alpha)"
   ]
  },
  {
   "cell_type": "code",
   "execution_count": 15,
   "metadata": {},
   "outputs": [],
   "source": [
    "# 3. Best Model = a new Logistic regression with the best alpha = 1.0023052380778996"
   ]
  },
  {
   "cell_type": "code",
   "execution_count": 16,
   "metadata": {},
   "outputs": [
    {
     "data": {
      "text/plain": [
       "SGDClassifier(alpha=1.0023052380778996, average=False, class_weight=None,\n",
       "       early_stopping=False, epsilon=0.1, eta0=0.0, fit_intercept=True,\n",
       "       l1_ratio=0.15, learning_rate='optimal', loss='log', max_iter=100,\n",
       "       n_iter=None, n_iter_no_change=5, n_jobs=None, penalty='l2',\n",
       "       power_t=0.5, random_state=None, shuffle=True, tol=None,\n",
       "       validation_fraction=0.1, verbose=0, warm_start=False)"
      ]
     },
     "execution_count": 16,
     "metadata": {},
     "output_type": "execute_result"
    }
   ],
   "source": [
    "best_model = SGDClassifier(loss='log', max_iter=100, alpha = 1.0023052380778996 )\n",
    "best_model.fit(X, Y)"
   ]
  },
  {
   "cell_type": "code",
   "execution_count": 17,
   "metadata": {},
   "outputs": [
    {
     "data": {
      "text/plain": [
       "array([[50,  0],\n",
       "       [ 0, 50]], dtype=int64)"
      ]
     },
     "execution_count": 17,
     "metadata": {},
     "output_type": "execute_result"
    }
   ],
   "source": [
    "y_pred_new = best_model.predict(X)\n",
    "confusion_matrix = metrics.confusion_matrix(Y, y_pred_new)\n",
    "confusion_matrix"
   ]
  },
  {
   "cell_type": "markdown",
   "metadata": {},
   "source": [
    "Observation :\n",
    "    Here also, after hyper parameter tunning , i got the same cofusion matrix result as above i. e.\n",
    "    True Positive value = 50 and True Negaive value = 50 . Also, both , false Positive and Negative values are 0."
   ]
  },
  {
   "cell_type": "code",
   "execution_count": 18,
   "metadata": {},
   "outputs": [
    {
     "name": "stdout",
     "output_type": "stream",
     "text": [
      "Accuracy for Logistic Regression : 1.0\n",
      "Precision for Logistic Regression : 1.0\n",
      "Recall for Logistic Regression : 1.0\n"
     ]
    }
   ],
   "source": [
    "print(\"Accuracy for Logistic Regression :\",metrics.accuracy_score(Y, y_pred_new))\n",
    "print(\"Precision for Logistic Regression :\",metrics.precision_score(Y, y_pred_new))\n",
    "print(\"Recall for Logistic Regression :\",metrics.recall_score(Y, y_pred_new))"
   ]
  },
  {
   "cell_type": "code",
   "execution_count": 19,
   "metadata": {},
   "outputs": [
    {
     "data": {
      "image/png": "[encoded data removed]",
      "text/plain": [
       "<Figure size 432x288 with 1 Axes>"
      ]
     },
     "metadata": {
      "needs_background": "light"
     },
     "output_type": "display_data"
    }
   ],
   "source": [
    "y_predicted_prob_new = best_model.predict_proba(X)[::,1]\n",
    "fpr_new, tpr_new, _ = metrics.roc_curve(Y,  y_predicted_prob_new)\n",
    "auc = metrics.roc_auc_score(Y, y_predicted_prob_new)\n",
    "plt.plot(fpr_new,tpr_new,label=\"Logistic Regression auc=\"+str(auc))\n",
    "plt.title(\"Logistic Regression with the best alpha = 1.0023052380778996\")\n",
    "plt.xlabel(\"FPR\")\n",
    "plt.ylabel(\"TPR\")\n",
    "plt.legend(loc=4)\n",
    "plt.show()"
   ]
  },
  {
   "cell_type": "markdown",
   "metadata": {},
   "source": [
    "Observation : I observed that , Before n After the hyper paramter tunning , the roc auc curve for Logistic Regression is same ."
   ]
  },
  {
   "cell_type": "markdown",
   "metadata": {},
   "source": [
    "### 3.Getting the weights with the original data"
   ]
  },
  {
   "cell_type": "code",
   "execution_count": 20,
   "metadata": {},
   "outputs": [
    {
     "name": "stdout",
     "output_type": "stream",
     "text": [
      "weights for original data : [[ 0.1688959  -0.18692951  0.25890283  0.16478854 -0.18692951  0.17956911\n",
      "   0.15013022]]\n",
      "The best model accuracy is : 1.0\n"
     ]
    }
   ],
   "source": [
    "w = best_model.coef_\n",
    "print(\"weights for original data :\", w)\n",
    "best_model_accuracy  = metrics.accuracy_score(Y, y_pred_new)\n",
    "print(\"The best model accuracy is :\",best_model_accuracy  )"
   ]
  },
  {
   "cell_type": "markdown",
   "metadata": {},
   "source": [
    "### 4. Modifying original data"
   ]
  },
  {
   "cell_type": "code",
   "execution_count": 21,
   "metadata": {},
   "outputs": [
    {
     "name": "stdout",
     "output_type": "stream",
     "text": [
      "(100, 7)\n"
     ]
    }
   ],
   "source": [
    "# Adding a noise(10^-2) to each element of X\n",
    "X_dash = X  \n",
    "for r in (X_dash) :\n",
    "    for c in range(len(r)):\n",
    "        r[c] = r[c] + (10^-2)\n",
    "\n",
    "#print(X_dash)\n",
    "print(X_dash.shape)"
   ]
  },
  {
   "cell_type": "code",
   "execution_count": 22,
   "metadata": {},
   "outputs": [
    {
     "data": {
      "text/plain": [
       "SGDClassifier(alpha=1.0023052380778996, average=False, class_weight=None,\n",
       "       early_stopping=False, epsilon=0.1, eta0=0.0, fit_intercept=True,\n",
       "       l1_ratio=0.15, learning_rate='optimal', loss='log', max_iter=100,\n",
       "       n_iter=None, n_iter_no_change=5, n_jobs=None, penalty='l2',\n",
       "       power_t=0.5, random_state=None, shuffle=True, tol=None,\n",
       "       validation_fraction=0.1, verbose=0, warm_start=False)"
      ]
     },
     "execution_count": 22,
     "metadata": {},
     "output_type": "execute_result"
    }
   ],
   "source": [
    "best_model.fit(X_dash, Y)"
   ]
  },
  {
   "cell_type": "code",
   "execution_count": 23,
   "metadata": {},
   "outputs": [
    {
     "name": "stdout",
     "output_type": "stream",
     "text": [
      "weights for noisy data : [[ 0.10791733 -0.28268665  0.18258854  0.10351437 -0.28268665  0.11747248\n",
      "   0.07182638]]\n",
      "The best model accuracy for noisy data is : 0.99\n"
     ]
    }
   ],
   "source": [
    "y_pred_dash= best_model.predict(X_dash)\n",
    "w_dash = best_model.coef_\n",
    "print(\"weights for noisy data :\", w_dash)\n",
    "best_model_accuracy_edited= metrics.accuracy_score(Y, y_pred_dash)\n",
    "print(\"The best model accuracy for noisy data is :\",best_model_accuracy_edited )"
   ]
  },
  {
   "cell_type": "markdown",
   "metadata": {},
   "source": [
    "### 5.  Checking deviations in metric and weights "
   ]
  },
  {
   "cell_type": "code",
   "execution_count": 24,
   "metadata": {},
   "outputs": [
    {
     "name": "stdout",
     "output_type": "stream",
     "text": [
      "Deviation in Accuracy : -0.010000000000000009\n"
     ]
    }
   ],
   "source": [
    "# deviations in metric\n",
    "deviation_accuracy = best_model_accuracy_edited - best_model_accuracy \n",
    "print(\"Deviation in Accuracy :\", deviation_accuracy )"
   ]
  },
  {
   "cell_type": "code",
   "execution_count": 25,
   "metadata": {},
   "outputs": [
    {
     "name": "stdout",
     "output_type": "stream",
     "text": [
      "Absolute change in weight is : [[0.06097857 0.09575714 0.07631428 0.06127417 0.09575714 0.06209663\n",
      "  0.07830385]]\n"
     ]
    }
   ],
   "source": [
    "absolute_change = abs(w-w_dash)\n",
    "print(\"Absolute change in weight is :\",absolute_change)"
   ]
  },
  {
   "cell_type": "code",
   "execution_count": 26,
   "metadata": {},
   "outputs": [
    {
     "name": "stdout",
     "output_type": "stream",
     "text": [
      "The top 4 features which have higher % change in weights for Logistic Regression\n",
      "y\n",
      "2*y\n",
      "w\n",
      "z\n"
     ]
    }
   ],
   "source": [
    "a = col_data.tolist()\n",
    "b = absolute_change.tolist()\n",
    "dict_1  = dict(zip(a,b[0]))\n",
    "sorted_list = sorted(dict_1.values(), reverse = True)\n",
    "print(\"The top 4 features which have higher % change in weights for Logistic Regression\")\n",
    "for r in range (1,4):\n",
    "    for key, val in dict_1.items():\n",
    "        if sorted_list[r] == dict_1[key]:\n",
    "            print(key)"
   ]
  },
  {
   "cell_type": "markdown",
   "metadata": {},
   "source": [
    "# Task: 2 Linear SVM"
   ]
  },
  {
   "cell_type": "markdown",
   "metadata": {},
   "source": [
    " ### 2. Finding the best model for the given data"
   ]
  },
  {
   "cell_type": "code",
   "execution_count": 27,
   "metadata": {},
   "outputs": [
    {
     "data": {
      "text/plain": [
       "SGDClassifier(alpha=0.0001, average=False, class_weight=None,\n",
       "       early_stopping=False, epsilon=0.1, eta0=0.0, fit_intercept=True,\n",
       "       l1_ratio=0.15, learning_rate='optimal', loss='hinge', max_iter=100,\n",
       "       n_iter=None, n_iter_no_change=5, n_jobs=None, penalty='l2',\n",
       "       power_t=0.5, random_state=None, shuffle=True, tol=None,\n",
       "       validation_fraction=0.1, verbose=0, warm_start=False)"
      ]
     },
     "execution_count": 27,
     "metadata": {},
     "output_type": "execute_result"
    }
   ],
   "source": [
    "# training Linear svm  before hyper paramter tunning \n",
    "linear_svm = SGDClassifier(loss='hinge', max_iter=100)\n",
    "linear_svm.fit(X, Y)"
   ]
  },
  {
   "cell_type": "code",
   "execution_count": 28,
   "metadata": {},
   "outputs": [
    {
     "data": {
      "text/plain": [
       "array([[50,  0],\n",
       "       [ 0, 50]], dtype=int64)"
      ]
     },
     "execution_count": 28,
     "metadata": {},
     "output_type": "execute_result"
    }
   ],
   "source": [
    "y_pred_svm = linear_svm.predict(X)\n",
    "confusion_matrix = metrics.confusion_matrix(Y, y_pred_svm)\n",
    "confusion_matrix"
   ]
  },
  {
   "cell_type": "markdown",
   "metadata": {},
   "source": [
    "Observation :\n",
    "    Here ,I got  True Positive value = 50 and True Negaive value = 50 as like Logistic regression . \n",
    "    Also, both , false Positive and Negaive values are 0."
   ]
  },
  {
   "cell_type": "code",
   "execution_count": 29,
   "metadata": {},
   "outputs": [
    {
     "name": "stdout",
     "output_type": "stream",
     "text": [
      "Accuracy for Logistic Regression : 1.0\n",
      "Precision for Logistic Regression : 1.0\n",
      "Recall for Logistic Regression : 1.0\n"
     ]
    }
   ],
   "source": [
    "print(\"Accuracy for Logistic Regression :\",metrics.accuracy_score(Y, y_pred_svm))\n",
    "print(\"Precision for Logistic Regression :\",metrics.precision_score(Y, y_pred_svm))\n",
    "print(\"Recall for Logistic Regression :\",metrics.recall_score(Y, y_pred_svm))"
   ]
  },
  {
   "cell_type": "code",
   "execution_count": 31,
   "metadata": {},
   "outputs": [
    {
     "data": {
      "image/png": "[encoded data removed]",
      "text/plain": [
       "<Figure size 432x288 with 1 Axes>"
      ]
     },
     "metadata": {
      "needs_background": "light"
     },
     "output_type": "display_data"
    }
   ],
   "source": [
    "from sklearn.calibration import CalibratedClassifierCV\n",
    "model_1 = CalibratedClassifierCV(linear_svm)\n",
    "model_1.fit(X, Y)\n",
    "y_predicted_prob_svm = model_1.predict_proba(X)[::,1]\n",
    "fpr_svm, tpr_svm, _ = metrics.roc_curve(Y,  y_predicted_prob_svm)\n",
    "auc = metrics.roc_auc_score(Y, y_predicted_prob_svm)\n",
    "plt.plot(fpr_svm,tpr_svm,label=\"Linear SVM auc=\"+str(auc))\n",
    "plt.title(\"Linear SVM before hyperparameter tunning\")\n",
    "plt.xlabel(\"FPR\")\n",
    "plt.ylabel(\"TPR\")\n",
    "plt.legend(loc=4)\n",
    "plt.show()"
   ]
  },
  {
   "cell_type": "markdown",
   "metadata": {},
   "source": [
    "### 3.  Best Model = a new Logistic regression with the best alpha = 1.0023052380778996"
   ]
  },
  {
   "cell_type": "code",
   "execution_count": 32,
   "metadata": {},
   "outputs": [
    {
     "data": {
      "text/plain": [
       "SGDClassifier(alpha=1.0023052380778996, average=False, class_weight=None,\n",
       "       early_stopping=False, epsilon=0.1, eta0=0.0, fit_intercept=True,\n",
       "       l1_ratio=0.15, learning_rate='optimal', loss='hinge', max_iter=100,\n",
       "       n_iter=None, n_iter_no_change=5, n_jobs=None, penalty='l2',\n",
       "       power_t=0.5, random_state=None, shuffle=True, tol=None,\n",
       "       validation_fraction=0.1, verbose=0, warm_start=False)"
      ]
     },
     "execution_count": 32,
     "metadata": {},
     "output_type": "execute_result"
    }
   ],
   "source": [
    "# training linear svm with best alpha \n",
    "best_model_svm = SGDClassifier(loss='hinge', max_iter=100, alpha = 1.0023052380778996 )\n",
    "best_model_svm.fit(X, Y)"
   ]
  },
  {
   "cell_type": "code",
   "execution_count": 33,
   "metadata": {},
   "outputs": [
    {
     "data": {
      "text/plain": [
       "array([[49,  1],\n",
       "       [ 0, 50]], dtype=int64)"
      ]
     },
     "execution_count": 33,
     "metadata": {},
     "output_type": "execute_result"
    }
   ],
   "source": [
    "y_pred_new_svm = best_model_svm.predict(X)\n",
    "confusion_matrix = metrics.confusion_matrix(Y, y_pred_new_svm)\n",
    "confusion_matrix"
   ]
  },
  {
   "cell_type": "markdown",
   "metadata": {},
   "source": [
    "Observation : Unlike all the above three results ,I got different values here, True Positive value = 49 and True Negaive value = 50 ,False Positive = 1 and Flase Negaive\n",
    "    value is 0."
   ]
  },
  {
   "cell_type": "code",
   "execution_count": 34,
   "metadata": {},
   "outputs": [
    {
     "name": "stdout",
     "output_type": "stream",
     "text": [
      "Accuracy for Logistic Regression : 0.99\n",
      "Precision for Logistic Regression : 0.9803921568627451\n",
      "Recall for Logistic Regression : 1.0\n"
     ]
    }
   ],
   "source": [
    "print(\"Accuracy for Logistic Regression :\",metrics.accuracy_score(Y, y_pred_new_svm))\n",
    "print(\"Precision for Logistic Regression :\",metrics.precision_score(Y, y_pred_new_svm))\n",
    "print(\"Recall for Logistic Regression :\",metrics.recall_score(Y, y_pred_new_svm))"
   ]
  },
  {
   "cell_type": "code",
   "execution_count": 35,
   "metadata": {},
   "outputs": [
    {
     "data": {
      "image/png": "[encoded data removed]",
      "text/plain": [
       "<Figure size 432x288 with 1 Axes>"
      ]
     },
     "metadata": {
      "needs_background": "light"
     },
     "output_type": "display_data"
    }
   ],
   "source": [
    "y_predicted_prob_new_svm = model_1.predict_proba(X)[::,1]\n",
    "fpr_svm_new, tpr_svm_new, _ = metrics.roc_curve(Y,  y_predicted_prob_new_svm)\n",
    "auc = metrics.roc_auc_score(Y, y_predicted_prob_new)\n",
    "plt.plot(fpr_svm_new,tpr_svm_new,label=\"Linear SVM auc=\"+str(auc))\n",
    "plt.title(\"Linear SVM with the best alpha = 1.0023052380778996\")\n",
    "plt.xlabel(\"FPR\")\n",
    "plt.ylabel(\"TPR\")\n",
    "plt.legend(loc=4)\n",
    "plt.show()"
   ]
  },
  {
   "cell_type": "markdown",
   "metadata": {},
   "source": [
    "Observation : I observed that , Before n After the hyper paramter tunning , the roc auc curve for Linear SVM is same ."
   ]
  },
  {
   "cell_type": "markdown",
   "metadata": {},
   "source": [
    "### 4 .Getting the weights with the original data"
   ]
  },
  {
   "cell_type": "code",
   "execution_count": 36,
   "metadata": {},
   "outputs": [
    {
     "name": "stdout",
     "output_type": "stream",
     "text": [
      "weights for original data : [[ 0.12852382 -0.35548799  0.23812904  0.11631476 -0.35548799  0.13760605\n",
      "   0.04695516]]\n",
      "The best model accuracy is : 0.99\n"
     ]
    }
   ],
   "source": [
    "y_pred_original= best_model_svm.predict(X)\n",
    "w_svm = best_model_svm.coef_\n",
    "print(\"weights for original data :\", w_svm)\n",
    "best_model_accuracy_svm  = metrics.accuracy_score(Y, y_pred_original)\n",
    "print(\"The best model accuracy is :\",best_model_accuracy_svm  )"
   ]
  },
  {
   "cell_type": "markdown",
   "metadata": {},
   "source": [
    "### 5. Modifying original data"
   ]
  },
  {
   "cell_type": "code",
   "execution_count": 37,
   "metadata": {},
   "outputs": [
    {
     "data": {
      "text/plain": [
       "SGDClassifier(alpha=1.0023052380778996, average=False, class_weight=None,\n",
       "       early_stopping=False, epsilon=0.1, eta0=0.0, fit_intercept=True,\n",
       "       l1_ratio=0.15, learning_rate='optimal', loss='hinge', max_iter=100,\n",
       "       n_iter=None, n_iter_no_change=5, n_jobs=None, penalty='l2',\n",
       "       power_t=0.5, random_state=None, shuffle=True, tol=None,\n",
       "       validation_fraction=0.1, verbose=0, warm_start=False)"
      ]
     },
     "execution_count": 37,
     "metadata": {},
     "output_type": "execute_result"
    }
   ],
   "source": [
    "best_model_svm.fit(X_dash,Y)"
   ]
  },
  {
   "cell_type": "code",
   "execution_count": 38,
   "metadata": {},
   "outputs": [
    {
     "name": "stdout",
     "output_type": "stream",
     "text": [
      "weights for noisy data : [[ 0.13444866 -0.32719795  0.2624939   0.12135756 -0.32719795  0.14431643\n",
      "   0.07007153]]\n",
      "The best model accuracy for noisy data is : 0.99\n"
     ]
    }
   ],
   "source": [
    "y_pred_dash= best_model_svm.predict(X_dash)\n",
    "w_dash_svm = best_model_svm.coef_\n",
    "print(\"weights for noisy data :\", w_dash_svm)\n",
    "best_model_accuracy_edited_svm= metrics.accuracy_score(Y, y_pred_dash)\n",
    "print(\"The best model accuracy for noisy data is :\",best_model_accuracy_edited_svm )"
   ]
  },
  {
   "cell_type": "markdown",
   "metadata": {},
   "source": [
    "### 5.  Checking deviations in metric and weights "
   ]
  },
  {
   "cell_type": "code",
   "execution_count": 39,
   "metadata": {},
   "outputs": [
    {
     "name": "stdout",
     "output_type": "stream",
     "text": [
      "Deviation in Accuracy : 0.0\n"
     ]
    }
   ],
   "source": [
    "# deviations in metric\n",
    "deviation_accuracy_svm = best_model_accuracy_edited_svm - best_model_accuracy_svm \n",
    "print(\"Deviation in Accuracy :\", deviation_accuracy_svm )"
   ]
  },
  {
   "cell_type": "code",
   "execution_count": 40,
   "metadata": {},
   "outputs": [
    {
     "name": "stdout",
     "output_type": "stream",
     "text": [
      "Absolute change in weight is : [[0.00592484 0.02829004 0.02436486 0.0050428  0.02829004 0.00671038\n",
      "  0.02311637]]\n"
     ]
    }
   ],
   "source": [
    "absolute_change_svm = abs(w_svm - w_dash_svm)\n",
    "print(\"Absolute change in weight is :\",absolute_change_svm)"
   ]
  },
  {
   "cell_type": "code",
   "execution_count": 41,
   "metadata": {},
   "outputs": [
    {
     "name": "stdout",
     "output_type": "stream",
     "text": [
      "The top 4 features which have higher % change in weights for Linear SVM\n",
      "y\n",
      "2*y\n",
      "z\n",
      "w\n"
     ]
    }
   ],
   "source": [
    "a = col_data.tolist()\n",
    "b = absolute_change_svm.tolist()\n",
    "dict_2  = dict(zip(a,b[0]))\n",
    "sorted_list_svm = sorted(dict_2.values(), reverse = True)\n",
    "print(\"The top 4 features which have higher % change in weights for Linear SVM\")\n",
    "for r in range (1,4):\n",
    "    for key, val in dict_2.items():\n",
    "        if sorted_list_svm[r] == dict_2[key]:\n",
    "            print(key)"
   ]
  },
  {
   "cell_type": "markdown",
   "metadata": {},
   "source": [
    "Observation :\n",
    "    The top 4 features which have higher % change in weights for Logistic Regression as well as Linear SVM are exactly same.\n",
    "    Hence i can say that these above features are collinear.\n",
    "    "
   ]
  },
  {
   "cell_type": "code",
   "execution_count": null,
   "metadata": {},
   "outputs": [],
   "source": []
  }
 ],
 "metadata": {
  "kernelspec": {
   "display_name": "Python 3",
   "language": "python",
   "name": "python3"
  },
  "language_info": {
   "codemirror_mode": {
    "name": "ipython",
    "version": 3
   },
   "file_extension": ".py",
   "mimetype": "text/x-python",
   "name": "python",
   "nbconvert_exporter": "python",
   "pygments_lexer": "ipython3",
   "version": "3.7.3"
  }
 },
 "nbformat": 4,
 "nbformat_minor": 2
}
