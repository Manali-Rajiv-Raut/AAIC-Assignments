{
 "cells": [
  {
   "cell_type": "code",
   "execution_count": 38,
   "metadata": {},
   "outputs": [],
   "source": [
    "import numpy as np\n",
    "import pandas as pd\n",
    "from sklearn.datasets import make_classification\n",
    "import matplotlib.pyplot as plt\n",
    "import seaborn as sns\n",
    "from tqdm import tqdm"
   ]
  },
  {
   "cell_type": "code",
   "execution_count": 39,
   "metadata": {},
   "outputs": [],
   "source": [
    "X, y = make_classification(n_samples=50000, n_features=15, n_informative=10, n_redundant=5,\n",
    "                           n_classes=2, weights=[0.7], class_sep=0.7, random_state=15)"
   ]
  },
  {
   "cell_type": "code",
   "execution_count": 40,
   "metadata": {},
   "outputs": [
    {
     "data": {
      "text/plain": [
       "((50000, 15), (50000,))"
      ]
     },
     "execution_count": 40,
     "metadata": {},
     "output_type": "execute_result"
    }
   ],
   "source": [
    "X.shape, y.shape"
   ]
  },
  {
   "cell_type": "code",
   "execution_count": 41,
   "metadata": {},
   "outputs": [],
   "source": [
    "from sklearn.model_selection import train_test_split\n",
    "X_train, X_test, y_train, y_test = train_test_split(X, y, test_size=0.25, random_state=15)"
   ]
  },
  {
   "cell_type": "code",
   "execution_count": 42,
   "metadata": {},
   "outputs": [
    {
     "data": {
      "text/plain": [
       "((37500, 15), (37500,), (12500, 15), (12500,))"
      ]
     },
     "execution_count": 42,
     "metadata": {},
     "output_type": "execute_result"
    }
   ],
   "source": [
    "X_train.shape, y_train.shape, X_test.shape, y_test.shape"
   ]
  },
  {
   "cell_type": "code",
   "execution_count": 43,
   "metadata": {},
   "outputs": [
    {
     "data": {
      "text/plain": [
       "SGDClassifier(alpha=0.0001, average=False, class_weight=None,\n",
       "       early_stopping=False, epsilon=0.1, eta0=0.0001, fit_intercept=True,\n",
       "       l1_ratio=0.15, learning_rate='constant', loss='log', max_iter=None,\n",
       "       n_iter=None, n_iter_no_change=5, n_jobs=None, penalty='l2',\n",
       "       power_t=0.5, random_state=15, shuffle=True, tol=0.001,\n",
       "       validation_fraction=0.1, verbose=2, warm_start=False)"
      ]
     },
     "execution_count": 43,
     "metadata": {},
     "output_type": "execute_result"
    }
   ],
   "source": [
    "from sklearn import linear_model\n",
    "clf = linear_model.SGDClassifier(eta0=0.0001, alpha=0.0001, loss='log', random_state=15, penalty='l2', tol=1e-3, verbose=2, learning_rate='constant')\n",
    "clf"
   ]
  },
  {
   "cell_type": "code",
   "execution_count": 44,
   "metadata": {},
   "outputs": [
    {
     "name": "stdout",
     "output_type": "stream",
     "text": [
      "-- Epoch 1\n",
      "Norm: 0.76, NNZs: 15, Bias: -0.314605, T: 37500, Avg. loss: 0.455801\n",
      "Total training time: 0.01 seconds.\n",
      "-- Epoch 2\n",
      "Norm: 0.92, NNZs: 15, Bias: -0.469578, T: 75000, Avg. loss: 0.394737\n",
      "Total training time: 0.02 seconds.\n",
      "-- Epoch 3\n",
      "Norm: 0.98, NNZs: 15, Bias: -0.580452, T: 112500, Avg. loss: 0.385561\n",
      "Total training time: 0.03 seconds.\n",
      "-- Epoch 4\n",
      "Norm: 1.02, NNZs: 15, Bias: -0.660824, T: 150000, Avg. loss: 0.382161\n",
      "Total training time: 0.05 seconds.\n",
      "-- Epoch 5\n",
      "Norm: 1.04, NNZs: 15, Bias: -0.717218, T: 187500, Avg. loss: 0.380474\n",
      "Total training time: 0.06 seconds.\n",
      "-- Epoch 6\n",
      "Norm: 1.06, NNZs: 15, Bias: -0.761816, T: 225000, Avg. loss: 0.379481\n",
      "Total training time: 0.08 seconds.\n",
      "-- Epoch 7\n",
      "Norm: 1.06, NNZs: 15, Bias: -0.793932, T: 262500, Avg. loss: 0.379096\n",
      "Total training time: 0.09 seconds.\n",
      "-- Epoch 8\n",
      "Norm: 1.07, NNZs: 15, Bias: -0.820446, T: 300000, Avg. loss: 0.378826\n",
      "Total training time: 0.11 seconds.\n",
      "-- Epoch 9\n",
      "Norm: 1.07, NNZs: 15, Bias: -0.840093, T: 337500, Avg. loss: 0.378604\n",
      "Total training time: 0.12 seconds.\n",
      "-- Epoch 10\n",
      "Norm: 1.08, NNZs: 15, Bias: -0.850329, T: 375000, Avg. loss: 0.378615\n",
      "Total training time: 0.13 seconds.\n",
      "Convergence after 10 epochs took 0.14 seconds\n"
     ]
    },
    {
     "data": {
      "text/plain": [
       "SGDClassifier(alpha=0.0001, average=False, class_weight=None,\n",
       "       early_stopping=False, epsilon=0.1, eta0=0.0001, fit_intercept=True,\n",
       "       l1_ratio=0.15, learning_rate='constant', loss='log', max_iter=None,\n",
       "       n_iter=None, n_iter_no_change=5, n_jobs=None, penalty='l2',\n",
       "       power_t=0.5, random_state=15, shuffle=True, tol=0.001,\n",
       "       validation_fraction=0.1, verbose=2, warm_start=False)"
      ]
     },
     "execution_count": 44,
     "metadata": {},
     "output_type": "execute_result"
    }
   ],
   "source": [
    "clf.fit(X=X_train, y=y_train)"
   ]
  },
  {
   "cell_type": "code",
   "execution_count": 45,
   "metadata": {},
   "outputs": [
    {
     "data": {
      "text/plain": [
       "(array([[-0.42328902,  0.18380407, -0.14437354,  0.34064016, -0.21316099,\n",
       "          0.56702655, -0.44910569, -0.09094413,  0.21219292,  0.17750247,\n",
       "          0.19931732, -0.00506998, -0.07781235,  0.33343476,  0.0320374 ]]),\n",
       " (1, 15),\n",
       " array([-0.85032916]))"
      ]
     },
     "execution_count": 45,
     "metadata": {},
     "output_type": "execute_result"
    }
   ],
   "source": [
    "clf.coef_, clf.coef_.shape, clf.intercept_"
   ]
  },
  {
   "cell_type": "markdown",
   "metadata": {},
   "source": [
    "## Implement Logistc Regression with L2 regularization Using SGD: without using sklearn"
   ]
  },
  {
   "cell_type": "code",
   "execution_count": 46,
   "metadata": {},
   "outputs": [],
   "source": [
    "def sigmoid_function(w, x, b):\n",
    "    yp=np.dot(x,w.T)+b\n",
    "    return 1.0 / (1 + np.exp(-yp))"
   ]
  },
  {
   "cell_type": "code",
   "execution_count": 47,
   "metadata": {},
   "outputs": [],
   "source": [
    "def log_loss(w,x,y,b):\n",
    "    sigmoid_val =  sigmoid_function(w, x, b) \n",
    "    l_loss_1 = y * np.log10(sigmoid_val)\n",
    "    l_loss_2 = (1 - y) * np.log10(1 - sigmoid_val) \n",
    "    sum_log = -l_loss_1 - l_loss_2\n",
    "    return np.mean(sum_log)"
   ]
  },
  {
   "cell_type": "code",
   "execution_count": 54,
   "metadata": {},
   "outputs": [],
   "source": [
    "def sgd_Logistic_Regression(X_train, y_train, X_test, y_test, n_epochs,w,b):\n",
    "    \n",
    "    inilogloss_Train=[]\n",
    "    inilogloss_Test=[]\n",
    "    trlerror=0\n",
    "    eta0  = 0.0001\n",
    "    alpha = 0.0001\n",
    "    \n",
    "    for i in range(len(X_train)):\n",
    "        Xi=X_train[i,:].reshape(1,X_train.shape[1])\n",
    "        yi=y_train[i]\n",
    "\n",
    "        trlerror = np.sum(log_loss(w, b, Xi, yi))\n",
    "        inilogloss_Train.append(trlerror)\n",
    "\n",
    "    telerror=0\n",
    "    for i in range(len(X_test)):\n",
    "        Xi=X_train[i,:].reshape(1,X_test.shape[1])\n",
    "        yi=y_test[i]\n",
    "\n",
    "        telerror = np.sum(log_loss(w, b, Xi, yi))\n",
    "        inilogloss_Test.append(telerror)\n",
    "\n",
    "    logloss_Train=[]\n",
    "    logloss_Test=[]\n",
    "    N=len(X_train)\n",
    "    \n",
    "    for epoch in range(0,n_epochs):\n",
    "       \n",
    "        for i in range(0,N):\n",
    "            Xi=X_train[i]\n",
    "            yi=y_train[i]\n",
    "                        \n",
    "            w = ((1- eta0 * (alpha / N)) * w)+((eta0 * Xi)*(yi - sigmoid_function(w,Xi,b)))\n",
    "            b = b + (eta0 * (yi-sigmoid_function(w,Xi,b)))\n",
    "        \n",
    "        train_loss = log_loss (w,X_train, y_train,b)\n",
    "        logloss_Train.append(train_loss)\n",
    "        \n",
    "        test_loss = log_loss (w, X_test, y_test,b)\n",
    "        logloss_Test.append(test_loss)\n",
    "        \n",
    "        print(\"Epoch: %d, Loss: %.3f, bias: %.3f\" %(epoch+1, train_loss, b))\n",
    "        \n",
    "    # Plot train and test error in each iteration\n",
    "    plt.figure()\n",
    "    plt.plot(np.array(logloss_Train), label='Train LogLoss')\n",
    "    plt.plot(np.array(logloss_Test), label='Test LogLoss')\n",
    "    plt.title(\"SGD Log Loss per iteration\")\n",
    "    plt.xlabel(\"Number of iterations\")\n",
    "    plt.ylabel(\"Loss\")\n",
    "    plt.legend()\n",
    "    plt.show()\n",
    "    return w, b"
   ]
  },
  {
   "cell_type": "code",
   "execution_count": 55,
   "metadata": {},
   "outputs": [
    {
     "name": "stdout",
     "output_type": "stream",
     "text": [
      "Epoch: 1, Loss: 0.175, bias: -0.315\n",
      "Epoch: 2, Loss: 0.169, bias: -0.471\n",
      "Epoch: 3, Loss: 0.166, bias: -0.580\n",
      "Epoch: 4, Loss: 0.165, bias: -0.659\n",
      "Epoch: 5, Loss: 0.165, bias: -0.718\n",
      "Epoch: 6, Loss: 0.165, bias: -0.761\n",
      "Epoch: 7, Loss: 0.164, bias: -0.794\n",
      "Epoch: 8, Loss: 0.164, bias: -0.818\n",
      "Epoch: 9, Loss: 0.164, bias: -0.836\n",
      "Epoch: 10, Loss: 0.164, bias: -0.850\n"
     ]
    },
    {
     "data": {
      "image/png": "[encoded data removed]",
      "text/plain": [
       "<Figure size 432x288 with 1 Axes>"
      ]
     },
     "metadata": {
      "needs_background": "light"
     },
     "output_type": "display_data"
    }
   ],
   "source": [
    "w = np.zeros_like(X_train[0])\n",
    "b = 0\n",
    "n_epochs=10\n",
    "#lr_rate=0.01\n",
    "w_optimal, b_optimal = sgd_Logistic_Regression(X_train, y_train, X_test, y_test, n_epochs,w,b)"
   ]
  },
  {
   "cell_type": "code",
   "execution_count": 56,
   "metadata": {},
   "outputs": [
    {
     "data": {
      "text/plain": [
       "(array([-0.42315311,  0.19095979, -0.14588118,  0.33814991, -0.21196623,\n",
       "         0.56525978, -0.44538357, -0.09171679,  0.21795314,  0.16977398,\n",
       "         0.19522044,  0.00229554, -0.07781461,  0.33882618,  0.02214234]),\n",
       " (15,),\n",
       " -0.8500967712837224)"
      ]
     },
     "execution_count": 56,
     "metadata": {},
     "output_type": "execute_result"
    }
   ],
   "source": [
    "w_optimal, w_optimal.shape, b_optimal"
   ]
  },
  {
   "cell_type": "code",
   "execution_count": 57,
   "metadata": {},
   "outputs": [
    {
     "data": {
      "text/plain": [
       "(array([[ 1.35900952e-04,  7.15571232e-03, -1.50763339e-03,\n",
       "         -2.49025652e-03,  1.19475700e-03, -1.76677191e-03,\n",
       "          3.72212016e-03, -7.72661070e-04,  5.76022055e-03,\n",
       "         -7.72849132e-03, -4.09687898e-03,  7.36552366e-03,\n",
       "         -2.26067009e-06,  5.39142208e-03, -9.89505735e-03]]),\n",
       " array([0.00023239]))"
      ]
     },
     "execution_count": 57,
     "metadata": {},
     "output_type": "execute_result"
    }
   ],
   "source": [
    "w_optimal-clf.coef_ , b_optimal - clf.intercept_"
   ]
  },
  {
   "cell_type": "markdown",
   "metadata": {},
   "source": [
    "Observation : I compared my implementation and SGDClassifier's the weights and intercept and the difference of w_optimal\n",
    "    (my implementation) and clf.coef_ is exactly same as per the instructions givens"
   ]
  },
  {
   "cell_type": "code",
   "execution_count": 58,
   "metadata": {},
   "outputs": [],
   "source": [
    "def pred(w,b, X):\n",
    "    N = len(X)\n",
    "    predict = []\n",
    "    for i in range(N):\n",
    "        if sigmoid_function(w, X[i], b) >= 0.5: # sigmoid(w,x,b) returns 1/(1+exp(-(dot(x,w)+b)))\n",
    "            predict.append(1)\n",
    "        else:\n",
    "            predict.append(0)\n",
    "    return np.array(predict)"
   ]
  },
  {
   "cell_type": "code",
   "execution_count": 59,
   "metadata": {},
   "outputs": [
    {
     "name": "stdout",
     "output_type": "stream",
     "text": [
      "0.95536\n",
      "0.95296\n"
     ]
    }
   ],
   "source": [
    "print(1-np.sum(y_train - pred(w_optimal,b_optimal,X_train))/len(X_train))\n",
    "print(1-np.sum(y_test  - pred(w_optimal,b_optimal,X_test))/len(X_test))"
   ]
  },
  {
   "cell_type": "code",
   "execution_count": null,
   "metadata": {},
   "outputs": [],
   "source": []
  }
 ],
 "metadata": {
  "kernelspec": {
   "display_name": "Python 3",
   "language": "python",
   "name": "python3"
  },
  "language_info": {
   "codemirror_mode": {
    "name": "ipython",
    "version": 3
   },
   "file_extension": ".py",
   "mimetype": "text/x-python",
   "name": "python",
   "nbconvert_exporter": "python",
   "pygments_lexer": "ipython3",
   "version": "3.7.3"
  }
 },
 "nbformat": 4,
 "nbformat_minor": 2
}
