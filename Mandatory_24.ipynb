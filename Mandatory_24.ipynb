{
 "cells": [
  {
   "cell_type": "markdown",
   "metadata": {
    "id": "ZFVSFOMLnY7Z"
   },
   "source": [
    "## Assignment : 14"
   ]
  },
  {
   "cell_type": "markdown",
   "metadata": {
    "id": "edwS0EBhnY7a"
   },
   "source": [
    "<pre>\n",
    "1. Preprocess all the Data we have in DonorsChoose <a href='https://drive.google.com/drive/folders/1MIwK7BQMev8f5CbDDVNLPaFGB32pFN60'>Dataset</a> use train.csv\n",
    "2. Combine 4 essay's into one column named - 'preprocessed_essays'. \n",
    "3. After step 2 you have to train 3 types of models as discussed below. \n",
    "4. For all the model use <a href='https://scikit-learn.org/stable/modules/model_evaluation.html#roc-metrics'>'auc'</a> as a metric. check <a href='https://datascience.stackexchange.com/a/20192'>this</a> for using auc as a metric \n",
    "5. You are free to choose any number of layers/hiddden units but you have to use same type of architectures shown below. \n",
    "6. You can use any one of the optimizers and choice of Learning rate and momentum, resources: <a href='http://cs231n.github.io/neural-networks-3/'>cs231n class notes</a>, <a href='https://www.youtube.com/watch?v=hd_KFJ5ktUc'>cs231n class video</a>. \n",
    "7. For all the model's use <a href='https://www.youtube.com/watch?v=2U6Jl7oqRkM'>TensorBoard</a> and plot the Metric value and Loss with epoch. While submitting, take a screenshot of plots and include those images in .ipynb notebook and PDF. \n",
    "8. Use Categorical Cross Entropy as Loss to minimize.\n",
    "</pre>"
   ]
  },
  {
   "cell_type": "markdown",
   "metadata": {
    "id": "Ah5_-aH3nY7b"
   },
   "source": [
    "### Model-1\n",
    "\n",
    "Build and Train deep neural network as shown below"
   ]
  },
  {
   "cell_type": "markdown",
   "metadata": {
    "id": "LjpZrPKDnY7c"
   },
   "source": [
    "<img src='https://i.imgur.com/w395Yk9.png'>\n",
    "ref: https://i.imgur.com/w395Yk9.png"
   ]
  },
  {
   "cell_type": "markdown",
   "metadata": {
    "id": "LhF-WseknY7d"
   },
   "source": [
    "- __Input_seq_total_text_data__ --- You have to give Total text data columns. After this use the Embedding layer to get word vectors. Use given predefined glove word vectors, don't train any word vectors. After this use LSTM and get the LSTM output and Flatten that output. \n",
    "- __Input_school_state__ --- Give 'school_state' column as input to embedding layer and Train the Keras Embedding layer. \n",
    "- __Project_grade_category__  --- Give 'project_grade_category' column as input to embedding layer and Train the Keras Embedding layer.\n",
    "- __Input_clean_categories__ --- Give 'input_clean_categories' column as input to embedding layer and Train the Keras Embedding layer.\n",
    "- __Input_clean_subcategories__ --- Give 'input_clean_subcategories' column as input to embedding layer and Train the Keras Embedding layer.\n",
    "- __Input_clean_subcategories__ --- Give 'input_teacher_prefix' column as input to embedding layer and Train the Keras Embedding layer.\n",
    "- __Input_remaining_teacher_number_of_previously_posted_projects._resource_summary_contains_numerical_digits._price._quantity__ ---concatenate remaining columns and add a Dense layer after that. \n",
    "\n"
   ]
  },
  {
   "cell_type": "markdown",
   "metadata": {
    "id": "6sMoZWCpnY7d"
   },
   "source": [
    "- For LSTM, you can choose your sequence padding methods on your own or you can train your LSTM without padding, there is no restriction on that."
   ]
  },
  {
   "cell_type": "markdown",
   "metadata": {
    "id": "RW1g0jQenY7e"
   },
   "source": [
    "Below is an example of embedding layer for a categorical columns. In below code all are dummy values, we gave only for referance. "
   ]
  },
  {
   "cell_type": "code",
   "execution_count": 1,
   "metadata": {
    "id": "_ZZpNp1X1l-t"
   },
   "outputs": [],
   "source": [
    "# https://stats.stackexchange.com/questions/270546/how-does-keras-embedding-layer-work\n",
    "#input_layer = Input(shape=(n,))\n",
    "#embedding = Embedding(no_1, no_2, input_length=n)(input_layer)\n",
    "#flatten = Flatten()(embedding)"
   ]
  },
  {
   "cell_type": "markdown",
   "metadata": {
    "id": "aVhu5Ot61nDi"
   },
   "source": [
    "### 1. Go through this blog, if you have any doubt on using predefined Embedding values in Embedding layer - https://machinelearningmastery.com/use-word-embedding-layers-deep-learning-keras/\n",
    "### 2. Please go through this link https://keras.io/getting-started/functional-api-guide/ and check the 'Multi-input and multi-output models' then you will get to know how to give multiple inputs. "
   ]
  },
  {
   "cell_type": "code",
   "execution_count": 2,
   "metadata": {
    "id": "DCPD6X2Bu9am"
   },
   "outputs": [],
   "source": [
    "import pandas as pd\n",
    "import numpy as np \n",
    "import os\n",
    "import math\n",
    "from collections import defaultdict\n",
    "import matplotlib.pyplot as plt\n",
    "from sklearn.feature_extraction.text import TfidfVectorizer,CountVectorizer\n",
    "from sklearn.model_selection import train_test_split\n",
    "from tensorflow.keras.preprocessing.text import Tokenizer\n",
    "from tensorflow.keras.preprocessing.sequence import pad_sequences\n",
    "from tensorflow.keras.layers import SpatialDropout1D, LSTM, BatchNormalization,concatenate,Flatten,Embedding,Dense,Dropout,MaxPooling2D,Reshape\n",
    "from tensorflow.keras.models import Sequential\n",
    "from tensorflow.keras import Model,Input\n",
    "from tensorflow.keras.layers import Conv2D,Conv1D\n",
    "import tensorflow.keras.backend as k\n",
    "from sklearn.metrics import roc_auc_score\n",
    "import tensorflow as tf\n",
    "import keras\n",
    "from sklearn.utils import compute_class_weight\n",
    "from tensorflow.keras.initializers import he_normal,glorot_normal\n",
    "from tensorflow.keras.regularizers import l1,l2\n",
    "from tensorflow.keras.callbacks import Callback, EarlyStopping, ModelCheckpoint,LearningRateScheduler\n",
    "from time import time\n",
    "from tensorflow.python.keras.callbacks import TensorBoard\n",
    "from IPython.display import SVG, display\n",
    "import pickle \n",
    "\n",
    "import re\n",
    "\n",
    "from nltk.corpus import stopwords\n",
    "import pickle\n",
    "\n",
    "from tqdm import tqdm\n",
    "import os"
   ]
  },
  {
   "cell_type": "code",
   "execution_count": 3,
   "metadata": {
    "colab": {
     "base_uri": "https://localhost:8080/"
    },
    "id": "aoN_VECDu9go",
    "outputId": "d40f4f0a-d69a-479c-89fd-882f7da8555a"
   },
   "outputs": [
    {
     "name": "stdout",
     "output_type": "stream",
     "text": [
      "Mounted at /content/drive\n"
     ]
    }
   ],
   "source": [
    "from google.colab import drive\n",
    "drive.mount('/content/drive')"
   ]
  },
  {
   "cell_type": "markdown",
   "metadata": {
    "id": "YQ5npeGFZzQt"
   },
   "source": [
    "# Preprocessing using reference_preprocessing file"
   ]
  },
  {
   "cell_type": "code",
   "execution_count": 4,
   "metadata": {
    "id": "ZBL_SelWV5NG"
   },
   "outputs": [],
   "source": [
    "project_data = pd.read_csv('/content/drive/My Drive/Colab Notebooks/LSTM_donorsChoose/preprocessed_data.csv')"
   ]
  },
  {
   "cell_type": "code",
   "execution_count": 5,
   "metadata": {
    "colab": {
     "base_uri": "https://localhost:8080/"
    },
    "id": "Tih7a_yqXfCK",
    "outputId": "a6baa4d5-2dcd-47d9-81fe-7ee71155d817"
   },
   "outputs": [
    {
     "data": {
      "text/plain": [
       "Index(['school_state', 'teacher_prefix', 'project_grade_category',\n",
       "       'teacher_number_of_previously_posted_projects', 'project_is_approved',\n",
       "       'clean_categories', 'clean_subcategories', 'essay', 'price'],\n",
       "      dtype='object')"
      ]
     },
     "execution_count": 5,
     "metadata": {
      "tags": []
     },
     "output_type": "execute_result"
    }
   ],
   "source": [
    "project_data.columns"
   ]
  },
  {
   "cell_type": "code",
   "execution_count": 6,
   "metadata": {
    "id": "uTcMnC9kuGXb"
   },
   "outputs": [],
   "source": [
    "project_data_original=project_data.copy()"
   ]
  },
  {
   "cell_type": "code",
   "execution_count": 7,
   "metadata": {
    "id": "ChMk-BDDu-FW"
   },
   "outputs": [],
   "source": [
    "Y=project_data[\"project_is_approved\"].values"
   ]
  },
  {
   "cell_type": "code",
   "execution_count": 8,
   "metadata": {
    "id": "zptHk_opu-EU"
   },
   "outputs": [],
   "source": [
    "project_data.drop(\"project_is_approved\",axis = 1, inplace = True)"
   ]
  },
  {
   "cell_type": "code",
   "execution_count": 9,
   "metadata": {
    "id": "VlvxKbzKu9fN"
   },
   "outputs": [],
   "source": [
    "from sklearn.model_selection import train_test_split\n",
    "X_train, X_test, y_train, y_test = train_test_split(project_data, Y, test_size=0.20, stratify=Y)"
   ]
  },
  {
   "cell_type": "code",
   "execution_count": 10,
   "metadata": {
    "colab": {
     "base_uri": "https://localhost:8080/"
    },
    "id": "wTBH0Sayu80q",
    "outputId": "24bc5e2b-8dc2-4595-ab62-ae1f1c0b7bac"
   },
   "outputs": [
    {
     "name": "stdout",
     "output_type": "stream",
     "text": [
      "(87398, 8)\n",
      "(21850, 8)\n",
      "(87398,)\n",
      "(21850,)\n"
     ]
    }
   ],
   "source": [
    "print(X_train.shape)\n",
    "print(X_test.shape)\n",
    "\n",
    "print(y_train.shape)\n",
    "print(y_test.shape)"
   ]
  },
  {
   "cell_type": "code",
   "execution_count": 11,
   "metadata": {
    "id": "vyBqXsqYu8ki"
   },
   "outputs": [],
   "source": [
    "from keras.preprocessing.text import Tokenizer\n",
    "tokenizer = Tokenizer()\n",
    "tokenizer.fit_on_texts(X_train[\"essay\"])\n",
    "vocab_length = len(tokenizer.word_index) + 1"
   ]
  },
  {
   "cell_type": "code",
   "execution_count": 12,
   "metadata": {
    "colab": {
     "base_uri": "https://localhost:8080/"
    },
    "id": "McPrUImYiK4w",
    "outputId": "3a59c15c-5c03-411a-8c10-288c3c205037"
   },
   "outputs": [
    {
     "data": {
      "text/plain": [
       "51624"
      ]
     },
     "execution_count": 12,
     "metadata": {
      "tags": []
     },
     "output_type": "execute_result"
    }
   ],
   "source": [
    "vocab_length"
   ]
  },
  {
   "cell_type": "code",
   "execution_count": 13,
   "metadata": {
    "id": "rH6IjMe02XjC"
   },
   "outputs": [],
   "source": [
    "import pickle\n",
    "with open('/content/drive/My Drive/Colab Notebooks/LSTM_donorsChoose/glove_vectors', 'rb') as glove_vector:\n",
    "    glove_vectors = pickle.load(glove_vector)\n",
    "    glove_words =  set(glove_vectors.keys())"
   ]
  },
  {
   "cell_type": "code",
   "execution_count": 14,
   "metadata": {
    "id": "mZlK_NFT0Ft3"
   },
   "outputs": [],
   "source": [
    "max_vocabulary = len(tokenizer.word_index)\n",
    "embedding_matrix = np.zeros((max_vocabulary+1, 300))\n",
    "for word, i in tokenizer.word_index.items():  \n",
    "  if word in glove_words:    \n",
    "    embedding_vector = glove_vectors[word]\n",
    "    embedding_matrix[i] = embedding_vector\n"
   ]
  },
  {
   "cell_type": "code",
   "execution_count": 15,
   "metadata": {
    "colab": {
     "base_uri": "https://localhost:8080/"
    },
    "id": "0tw-rxwsiTJ8",
    "outputId": "7c778649-71eb-4f5e-88c9-a6ea33ca2bf6"
   },
   "outputs": [
    {
     "data": {
      "text/plain": [
       "array([ 1.5243e-01, -1.6945e-01, -2.2748e-02, -2.5051e-01, -1.5213e-01,\n",
       "       -2.0300e-01, -3.3534e+00, -2.6162e-01,  1.2675e-01,  9.0183e-01,\n",
       "        1.3074e-02,  3.7517e-01, -7.6090e-02, -6.2058e-01, -4.0122e-01,\n",
       "       -6.7986e-02,  3.6276e-01, -1.9572e-01,  3.7641e-01, -4.7978e-02,\n",
       "        6.5122e-03,  2.6432e-01, -5.2387e-02, -5.1525e-02, -3.0775e-01,\n",
       "        6.3784e-02,  5.6517e-01, -2.2021e-01, -5.2199e-01, -3.5600e-01,\n",
       "       -4.4535e-01, -6.5147e-01, -1.9593e-01,  3.2336e-01, -2.9516e-01,\n",
       "        2.3886e-01, -1.8961e-01,  1.0907e-01, -2.4158e-01,  4.1535e-02,\n",
       "        7.9857e-02,  4.4682e-02,  2.6472e-01, -6.6871e-01,  1.0028e-01,\n",
       "       -4.5726e-01,  5.1603e-01,  3.8309e-02,  2.3472e-01, -2.4350e-01,\n",
       "       -2.8054e-01,  2.9672e-01,  3.9380e-01,  2.5832e-01,  1.9966e-01,\n",
       "       -3.8862e-01,  2.4473e-01,  3.6665e-01, -4.4643e-01,  5.4612e-02,\n",
       "       -4.3967e-01,  2.8433e-01,  5.1575e-01, -2.0117e-01, -3.3626e-01,\n",
       "        7.1260e-01,  3.3023e-02, -3.6070e-01,  7.8828e-01, -5.4928e-01,\n",
       "       -7.0503e-01, -2.6041e-01, -1.7760e-01, -6.2402e-01,  7.3210e-02,\n",
       "       -7.2140e-01, -2.4133e-01, -3.0226e-02, -5.0257e-02,  3.3103e-01,\n",
       "        2.3232e-01, -4.7033e-01,  3.8886e-01, -4.0306e-01, -2.9306e-01,\n",
       "        1.6082e-01,  5.9278e-01, -4.3758e-01,  1.0430e+00,  4.7843e-01,\n",
       "        3.1376e-01, -9.7232e-02, -4.7624e-01, -2.6231e-01, -1.2472e-01,\n",
       "        1.4626e-01, -3.0539e+00,  2.7329e-01,  5.1819e-01,  6.5193e-01,\n",
       "       -6.2277e-01, -3.2342e-01,  4.6050e-01, -4.9187e-01,  1.9491e-01,\n",
       "        2.0300e-01,  6.8973e-01, -5.1836e-01,  5.4692e-02,  2.6443e-01,\n",
       "       -4.6905e-01,  1.7857e-01,  3.3002e-01,  7.6405e-01,  5.0110e-01,\n",
       "        1.7678e-01, -1.2562e+00,  1.6654e-01,  5.2280e-01, -1.9164e-02,\n",
       "       -2.0966e-01,  4.6096e-02, -6.1923e-04, -2.1292e-01,  2.0175e-01,\n",
       "       -1.2897e-02,  6.0529e-01, -4.4746e-02,  1.8558e-02,  1.0948e+00,\n",
       "        9.3996e-01, -2.2076e-01,  2.1465e-01,  3.2904e-02,  1.0028e-01,\n",
       "       -3.8381e-01,  5.4592e-01,  6.2795e-02,  2.6534e-01,  3.7005e-01,\n",
       "       -9.9533e-02, -3.0415e-01, -1.2319e-01, -7.3927e-02, -2.1446e-01,\n",
       "       -1.2887e-01,  4.0041e-01, -2.4905e-01, -1.8930e-01, -3.3936e-01,\n",
       "        5.6388e-02, -7.7492e-02,  5.7682e-01, -1.6637e-01, -2.9399e-01,\n",
       "        1.7524e-01,  5.9433e-01, -2.5548e-01, -2.0096e-01,  2.7077e-02,\n",
       "       -3.9692e-01, -2.1046e-02, -2.6920e-01, -6.4063e-01, -4.1650e-01,\n",
       "        1.4620e-02, -9.9762e-02,  3.9734e-01,  4.5282e-02,  3.4553e-01,\n",
       "       -8.5477e-02, -1.9403e-02, -4.0236e-01, -3.8962e-01, -9.1023e-02,\n",
       "       -2.1431e-02, -2.6191e-02,  1.1751e-01, -4.1328e-01,  3.5515e-02,\n",
       "        7.5164e-02,  1.1228e+00,  3.3584e-01,  1.2485e-01, -3.4496e-01,\n",
       "       -1.9958e-02, -2.0669e-01, -5.3119e-01, -2.7743e-02, -6.8806e-02,\n",
       "       -1.1321e-01, -2.8332e-02, -5.4524e-01,  2.8887e-02, -7.9270e-02,\n",
       "       -4.5202e-01, -3.8577e-01,  2.6746e-01,  2.0565e-01,  4.0441e-02,\n",
       "        2.4957e-01,  1.4708e-01,  1.4228e-01,  2.3737e-01, -5.0964e-01,\n",
       "       -1.4892e-02,  3.5762e-01, -1.4090e-01,  5.6286e-01,  1.7347e-02,\n",
       "       -1.1425e-02,  1.1381e-01,  5.3750e-02, -6.8724e-01, -2.8357e-01,\n",
       "        4.8783e-02, -3.8335e-01, -4.5458e-01, -2.7152e-02,  2.8938e-01,\n",
       "       -5.7306e-01, -2.3033e-01, -5.7904e-01, -5.0492e-02, -2.0284e+00,\n",
       "       -1.4418e-02, -3.6295e-01, -1.3242e-01, -2.7659e-01, -3.7399e-01,\n",
       "       -1.0796e-01,  2.8634e-01, -1.8938e-02, -2.8452e-01, -8.1156e-02,\n",
       "       -3.4697e-01,  1.8248e-01, -2.7992e-01,  1.5089e-01,  6.2534e-01,\n",
       "       -6.5873e-01,  1.3013e-01, -2.6317e-02,  8.5661e-02, -1.5141e-01,\n",
       "        2.2956e-01,  2.2711e-02, -5.5303e-01, -3.6312e-01, -4.5843e-01,\n",
       "       -1.4317e-01,  8.1640e-02,  3.4238e-01, -4.0742e-01,  1.3583e-01,\n",
       "        3.7978e-01,  1.6655e-01, -2.4479e-01,  8.1674e-01, -5.2003e-01,\n",
       "       -2.4184e-01,  3.9024e-01, -9.2827e-02,  4.5020e-01,  1.6203e-01,\n",
       "       -5.2172e-02, -3.0403e-01, -1.8206e-01,  2.9206e-01,  2.4290e-01,\n",
       "        1.1419e-01, -2.0715e-02, -3.4237e-01,  5.6683e-01, -1.6686e-02,\n",
       "        1.9142e-01,  2.3149e-01, -2.8463e-01, -6.3282e-02,  5.9963e-01,\n",
       "       -6.3530e-01,  1.6831e-01,  5.7076e-02,  8.5078e-02, -4.2394e-02,\n",
       "        6.5239e-01, -2.2988e-01, -8.2786e-02,  2.3448e-01,  3.3696e-01,\n",
       "        1.6948e-01,  9.1196e-02, -9.3316e-02, -2.7831e-01,  2.5325e-01,\n",
       "        2.7602e-01, -2.7795e-01,  6.1801e-01,  4.1281e-01,  1.0077e-03])"
      ]
     },
     "execution_count": 15,
     "metadata": {
      "tags": []
     },
     "output_type": "execute_result"
    }
   ],
   "source": [
    "embedding_matrix[1]"
   ]
  },
  {
   "cell_type": "code",
   "execution_count": 16,
   "metadata": {
    "colab": {
     "base_uri": "https://localhost:8080/"
    },
    "id": "iwZ1SiAX0FKj",
    "outputId": "dc85e7c3-c774-4930-a3ca-7e1f4fc6bd7d"
   },
   "outputs": [
    {
     "name": "stderr",
     "output_type": "stream",
     "text": [
      "/usr/local/lib/python3.6/dist-packages/ipykernel_launcher.py:1: SettingWithCopyWarning: \n",
      "A value is trying to be set on a copy of a slice from a DataFrame.\n",
      "Try using .loc[row_indexer,col_indexer] = value instead\n",
      "\n",
      "See the caveats in the documentation: https://pandas.pydata.org/pandas-docs/stable/user_guide/indexing.html#returning-a-view-versus-a-copy\n",
      "  \"\"\"Entry point for launching an IPython kernel.\n",
      "/usr/local/lib/python3.6/dist-packages/ipykernel_launcher.py:2: SettingWithCopyWarning: \n",
      "A value is trying to be set on a copy of a slice from a DataFrame.\n",
      "Try using .loc[row_indexer,col_indexer] = value instead\n",
      "\n",
      "See the caveats in the documentation: https://pandas.pydata.org/pandas-docs/stable/user_guide/indexing.html#returning-a-view-versus-a-copy\n",
      "  \n"
     ]
    }
   ],
   "source": [
    "X_train['essay_tokens']  = tokenizer.texts_to_sequences(X_train['essay'].values)\n",
    "X_test['essay_tokens']   = tokenizer.texts_to_sequences(X_test['essay'].values)"
   ]
  },
  {
   "cell_type": "code",
   "execution_count": 17,
   "metadata": {
    "id": "DglilrSB0FYp"
   },
   "outputs": [],
   "source": [
    "from keras.preprocessing import sequence\n",
    "max_review_length = 300\n",
    "X_train_pad = sequence.pad_sequences(X_train['essay_tokens'].values, maxlen=max_review_length , padding='post' )\n",
    "X_test_pad  = sequence.pad_sequences(X_test['essay_tokens'].values, maxlen=max_review_length , padding='post')"
   ]
  },
  {
   "cell_type": "code",
   "execution_count": 17,
   "metadata": {
    "id": "zX5N5W4x78DD"
   },
   "outputs": [],
   "source": []
  },
  {
   "cell_type": "code",
   "execution_count": 18,
   "metadata": {
    "colab": {
     "base_uri": "https://localhost:8080/"
    },
    "id": "JBc1dKA-0FkK",
    "outputId": "5554d3a5-0d22-4a11-ac83-b6ce9a88c580"
   },
   "outputs": [
    {
     "name": "stdout",
     "output_type": "stream",
     "text": [
      "(87398, 300)\n",
      "[  208     2  2418     1  3133   889   792    14   324  1914    35     1\n",
      "    20   627  1815  1914    29  3310   343   162   530  1861   165    14\n",
      "   239   762   431   343    17   101  2847   333     9     1  1307  5065\n",
      "   132    44    21   356    55     9    45   123  1220   294    43   125\n",
      "  1430     5  1647     4   468  9293   152  2225  1399     2  1429    88\n",
      "  9088    24   803  4518   280   719   202  4109   337  1568  3372     9\n",
      "   152    85     5     9    19    16  2426   108     3  3506   637    25\n",
      "     3   228  2966    83    44   612  2037   831   825   185    66    54\n",
      "   294     1   123     1     4   468     8   993     1   108    48    12\n",
      "   313    87   588   111  1937  3533  6096  2278    38    59    45    24\n",
      "   572 12439 10736    62     9    24    19   347  2922  4818  1929  2278\n",
      "    38  2351    45   367   100  2279     2  1028    53    22     3  2574\n",
      "  1929   211  2725    12   313   195  1726  4643 19655  1312  9634   866\n",
      "   374   507  2815   207 18411  3993   210     4  2351   468    24    20\n",
      "   249    31  2725    88  1125  1672     3    30    25     3  2559  3662\n",
      "     3   157  1485  1122    24   778  6981   164   518  2157  2725   346\n",
      "   531    12   164   402  1572    45  1090  2725    38  2725    24  1358\n",
      "   100    12    45    22     3 14698  2725    20   351   913   827   136\n",
      "   230   966   314    21  2770     5    12   313   376    80  1511    40\n",
      "  2662    62   136  1644 14698  2725     2   103  5729   189  2725     6\n",
      "   524    36     5   377     5    88  1125    13     0     0     0     0\n",
      "     0     0     0     0     0     0     0     0     0     0     0     0\n",
      "     0     0     0     0     0     0     0     0     0     0     0     0\n",
      "     0     0     0     0     0     0     0     0     0     0     0     0\n",
      "     0     0     0     0     0     0     0     0     0     0     0     0]\n"
     ]
    }
   ],
   "source": [
    "print(X_train_pad.shape)\n",
    "print(X_train_pad[1])"
   ]
  },
  {
   "cell_type": "code",
   "execution_count": 19,
   "metadata": {
    "id": "f11A7fEI0Fzu"
   },
   "outputs": [],
   "source": [
    "from sklearn.preprocessing import LabelEncoder\n",
    "labele = LabelEncoder()\n",
    "\n",
    "labele.fit(project_data['school_state'].values)\n",
    "\n",
    "\n",
    "X_train_school_state = labele.transform(X_train['school_state'].values)\n",
    "\n",
    "X_test_school_state = labele.transform(X_test['school_state'].values)"
   ]
  },
  {
   "cell_type": "code",
   "execution_count": 20,
   "metadata": {
    "id": "0RIZFLic0Fo5"
   },
   "outputs": [],
   "source": [
    "import numpy as np\n",
    "no_of_unique_states = X_train['school_state'].nunique()\n",
    "embedding_size_school_state = min(np.ceil((no_of_unique_states)/2), 50 )\n",
    "embedding_size_school_state = int(embedding_size_school_state)"
   ]
  },
  {
   "cell_type": "code",
   "execution_count": 21,
   "metadata": {
    "colab": {
     "base_uri": "https://localhost:8080/"
    },
    "id": "IUStDDHZ0Fer",
    "outputId": "86661e93-942d-466e-88a3-900e1a9e9fbd"
   },
   "outputs": [
    {
     "name": "stdout",
     "output_type": "stream",
     "text": [
      "Number of Unique School State:51\n",
      "Embedding Size: 26\n"
     ]
    }
   ],
   "source": [
    "print(\"Number of Unique School State:{}\".format(no_of_unique_states))\n",
    "print('Embedding Size: {}'.format(embedding_size_school_state))"
   ]
  },
  {
   "cell_type": "code",
   "execution_count": 22,
   "metadata": {
    "id": "eWBHe-cp0FR3"
   },
   "outputs": [],
   "source": [
    "labele = LabelEncoder()\n",
    "labele.fit(project_data['teacher_prefix'].values)\n",
    "X_train_teacher_prefix = labele.transform(X_train['teacher_prefix'].values)\n",
    "X_test_teacher_prefix = labele.transform(X_test['teacher_prefix'].values)"
   ]
  },
  {
   "cell_type": "code",
   "execution_count": 23,
   "metadata": {
    "id": "zNyOwbj3CoA8"
   },
   "outputs": [],
   "source": [
    "no_of_unique_teacher_prefix = X_train['teacher_prefix'].nunique()\n",
    "embedding_size_teacher_prefix = min(np.ceil((no_of_unique_teacher_prefix)/2), 50 )\n",
    "embedding_size_teacher_prefix = int(embedding_size_teacher_prefix)"
   ]
  },
  {
   "cell_type": "code",
   "execution_count": 24,
   "metadata": {
    "colab": {
     "base_uri": "https://localhost:8080/"
    },
    "id": "CimY8GQjCn_3",
    "outputId": "606fc0f3-080f-4d8b-b2d4-d3f7aa09bf33"
   },
   "outputs": [
    {
     "name": "stdout",
     "output_type": "stream",
     "text": [
      "Number of unique teacher_prefix= 5\n",
      "Embedding size =3\n"
     ]
    }
   ],
   "source": [
    "print(\"Number of unique teacher_prefix= {}\".format(no_of_unique_teacher_prefix))\n",
    "print('Embedding size ={}'.format(embedding_size_teacher_prefix))"
   ]
  },
  {
   "cell_type": "code",
   "execution_count": 25,
   "metadata": {
    "id": "lxXksPlZ0FBJ"
   },
   "outputs": [],
   "source": [
    "labele = LabelEncoder()\n",
    "labele.fit(project_data['clean_categories'].values)\n",
    "X_train_clean_categories = labele.transform(X_train['clean_categories'].values)\n",
    "X_test_clean_categories = labele.transform(X_test['clean_categories'].values)"
   ]
  },
  {
   "cell_type": "code",
   "execution_count": 26,
   "metadata": {
    "id": "Dt1VXOkBnY7e"
   },
   "outputs": [],
   "source": [
    "no_of_unique_clean_categories = X_train['clean_categories'].nunique()\n",
    "embedding_size_clean_categories = min(np.ceil((no_of_unique_clean_categories)/2), 50 )\n",
    "embedding_size_clean_categories = int(embedding_size_clean_categories)"
   ]
  },
  {
   "cell_type": "code",
   "execution_count": 27,
   "metadata": {
    "colab": {
     "base_uri": "https://localhost:8080/"
    },
    "id": "9lCtl5B6Cbc_",
    "outputId": "7d026fd3-ca71-4aed-b1c9-512307b32020"
   },
   "outputs": [
    {
     "name": "stdout",
     "output_type": "stream",
     "text": [
      "Number of unique clean_categories= 50\n",
      "Embedding size = 25\n"
     ]
    }
   ],
   "source": [
    "print(\"Number of unique clean_categories= {}\".format(no_of_unique_clean_categories))\n",
    "print('Embedding size = {}'.format(embedding_size_clean_categories))"
   ]
  },
  {
   "cell_type": "code",
   "execution_count": 28,
   "metadata": {
    "colab": {
     "base_uri": "https://localhost:8080/"
    },
    "id": "5zVGTE7up0WD",
    "outputId": "c957c95b-bd7c-4b10-dfb0-8e2a77ebe01f"
   },
   "outputs": [
    {
     "data": {
      "text/plain": [
       "Index(['school_state', 'teacher_prefix', 'project_grade_category',\n",
       "       'teacher_number_of_previously_posted_projects', 'clean_categories',\n",
       "       'clean_subcategories', 'essay', 'price'],\n",
       "      dtype='object')"
      ]
     },
     "execution_count": 28,
     "metadata": {
      "tags": []
     },
     "output_type": "execute_result"
    }
   ],
   "source": [
    "project_data.columns"
   ]
  },
  {
   "cell_type": "code",
   "execution_count": 29,
   "metadata": {
    "id": "sFIZITC0CMCw"
   },
   "outputs": [],
   "source": [
    "labele.fit(project_data['clean_subcategories'].values)\n",
    "X_train_clean_subcategories = labele.transform(X_train['clean_subcategories'].values)\n",
    "X_test_clean_subcategories = labele.transform(X_test['clean_subcategories'].values)"
   ]
  },
  {
   "cell_type": "code",
   "execution_count": 30,
   "metadata": {
    "id": "2bN3CNbqCMEF"
   },
   "outputs": [],
   "source": [
    "no_of_unique_clean_subcategories = X_train['clean_subcategories'].nunique()\n",
    "embedding_size_clean_subcategories = min(np.ceil((no_of_unique_clean_subcategories)/2), 50 )\n",
    "embedding_size_clean_subcategories = int(embedding_size_clean_subcategories)"
   ]
  },
  {
   "cell_type": "code",
   "execution_count": 31,
   "metadata": {
    "colab": {
     "base_uri": "https://localhost:8080/"
    },
    "id": "bxbNrglACMNI",
    "outputId": "cd27ff54-2e68-48bb-a677-5384e7024da3"
   },
   "outputs": [
    {
     "name": "stdout",
     "output_type": "stream",
     "text": [
      "Number of unique clean_subcategories= 392\n",
      "Embedding size = 50\n"
     ]
    }
   ],
   "source": [
    "print(\"Number of unique clean_subcategories= {}\".format(no_of_unique_clean_subcategories))\n",
    "print('Embedding size = {}'.format(embedding_size_clean_subcategories))"
   ]
  },
  {
   "cell_type": "code",
   "execution_count": 32,
   "metadata": {
    "id": "ytco6ipzCMJY"
   },
   "outputs": [],
   "source": [
    "labele.fit(project_data['project_grade_category'].values)\n",
    "X_train_project_grade_category = labele.transform(X_train['project_grade_category'].values)\n",
    "X_test_project_grade_category = labele.transform(X_test['project_grade_category'].values)"
   ]
  },
  {
   "cell_type": "code",
   "execution_count": 33,
   "metadata": {
    "id": "IxgeRy1UCMIZ"
   },
   "outputs": [],
   "source": [
    "no_of_unique_project_grade_category = X_train['project_grade_category'].nunique()\n",
    "embedding_size_project_grade_category = min(np.ceil((no_of_unique_project_grade_category)/2), 50 )\n",
    "embedding_size_project_grade_category = int(embedding_size_project_grade_category)"
   ]
  },
  {
   "cell_type": "code",
   "execution_count": 34,
   "metadata": {
    "colab": {
     "base_uri": "https://localhost:8080/"
    },
    "id": "iJyBMtePCL-r",
    "outputId": "6d0390e5-f976-4c64-89b0-c869c41033f5"
   },
   "outputs": [
    {
     "name": "stdout",
     "output_type": "stream",
     "text": [
      "Number of unique project_grade_category= 4\n",
      "Embedding size = 2\n"
     ]
    }
   ],
   "source": [
    "print(\"Number of unique project_grade_category= {}\".format(no_of_unique_project_grade_category))\n",
    "print('Embedding size = {}'.format(embedding_size_project_grade_category))"
   ]
  },
  {
   "cell_type": "code",
   "execution_count": 35,
   "metadata": {
    "id": "kJrn0ChhV8dx"
   },
   "outputs": [],
   "source": [
    "from sklearn.preprocessing import StandardScaler\n",
    "Sscaler=StandardScaler()\n",
    "Sscaler.fit(X_train['teacher_number_of_previously_posted_projects'].values.reshape(-1,1))\n",
    "\n",
    "\n",
    "train_num_projects=Sscaler.transform(X_train['teacher_number_of_previously_posted_projects'].values.reshape(-1,1))\n",
    "\n",
    "test_num_projects=Sscaler.transform(X_test['teacher_number_of_previously_posted_projects'].values.reshape(-1,1))"
   ]
  },
  {
   "cell_type": "code",
   "execution_count": 36,
   "metadata": {
    "id": "8v360MmcV-5K"
   },
   "outputs": [],
   "source": [
    "Sscaler.fit(X_train['price'].values.reshape(-1,1))\n",
    "\n",
    "train_price = Sscaler.transform(X_train['price'].values.reshape(-1,1))\n",
    "\n",
    "test_price = Sscaler.transform(X_test['price'].values.reshape(-1,1))"
   ]
  },
  {
   "cell_type": "code",
   "execution_count": 37,
   "metadata": {
    "id": "nzoGH5NbWGk3"
   },
   "outputs": [],
   "source": [
    "train_numeric_features = np.concatenate((train_num_projects , train_price) , axis = 1)\n",
    "\n",
    "test_numeric_features= np.concatenate((test_num_projects , test_price) , axis = 1)\n",
    "\n"
   ]
  },
  {
   "cell_type": "code",
   "execution_count": 38,
   "metadata": {
    "colab": {
     "base_uri": "https://localhost:8080/"
    },
    "id": "3SnxPBOHWYOY",
    "outputId": "d41187b1-38ae-4d38-ef65-ddc648707793"
   },
   "outputs": [
    {
     "name": "stdout",
     "output_type": "stream",
     "text": [
      "(87398, 2) (21850, 2)\n"
     ]
    }
   ],
   "source": [
    "print(train_numeric_features.shape ,test_numeric_features.shape)"
   ]
  },
  {
   "cell_type": "code",
   "execution_count": 39,
   "metadata": {
    "id": "MEC3B83GCL9e"
   },
   "outputs": [],
   "source": [
    "def auc1( y_true, y_pred ) :\n",
    "    score = tf.py_function( lambda y_true, y_pred : roc_auc_score( y_true, y_pred, average='macro', sample_weight=None).astype('float32'),\n",
    "                        [y_true, y_pred],\n",
    "                        'float32',\n",
    " )\n",
    "    return score"
   ]
  },
  {
   "cell_type": "markdown",
   "metadata": {
    "id": "eLPMkVUzaWP0"
   },
   "source": [
    "#Model 1"
   ]
  },
  {
   "cell_type": "code",
   "execution_count": null,
   "metadata": {
    "id": "30JVwZDZEJJQ"
   },
   "outputs": [],
   "source": [
    "from tensorflow.keras.models import Model\n",
    "from tensorflow.keras.layers import Input\n",
    "from tensorflow.keras.layers import LSTM\n",
    "from tensorflow.keras.layers import Embedding\n",
    "from tensorflow.keras import regularizers\n",
    "from tensorflow.keras.regularizers import l2\n",
    "from tensorflow.keras.layers import Flatten\n",
    "from tensorflow.keras.layers import Dense, Input , Dropout\n",
    "from tensorflow.keras.layers import concatenate\n",
    "from tensorflow.keras.layers import BatchNormalization\n",
    "from tensorflow.keras.callbacks import TensorBoard"
   ]
  },
  {
   "cell_type": "code",
   "execution_count": null,
   "metadata": {
    "id": "IvYXWM2QFSAc"
   },
   "outputs": [],
   "source": [
    "max_vocabulary = len(tokenizer.word_index)\n",
    "k_r=regularizers.l2(0.001)"
   ]
  },
  {
   "cell_type": "code",
   "execution_count": null,
   "metadata": {
    "id": "g5qPYTrBRboe"
   },
   "outputs": [],
   "source": [
    "Text_input = Input(shape=(300,), name='Input_text')\n",
    "\n",
    "X = Embedding(output_dim=300, input_dim=max_vocabulary+1, input_length=300 , weights=[embedding_matrix])(Text_input)\n",
    "lstm_text = LSTM(100,recurrent_dropout=0.5,kernel_regularizer=k_r,return_sequences=True)(X)\n",
    "flatten_1 = Flatten()(lstm_text)"
   ]
  },
  {
   "cell_type": "code",
   "execution_count": null,
   "metadata": {
    "id": "Hyh4laL4RtWc"
   },
   "outputs": [],
   "source": [
    "school_state_input = Input(shape=(1,), name='school_state')\n",
    "X_school_state = Embedding(output_dim=embedding_size_school_state , input_dim=no_of_unique_states+1, input_length=1)(school_state_input)\n",
    "flatten_2 = Flatten()(X_school_state)"
   ]
  },
  {
   "cell_type": "code",
   "execution_count": null,
   "metadata": {
    "id": "wRo_SzEkR06Y"
   },
   "outputs": [],
   "source": [
    "teacher_prefix_input = Input(shape=(1,), name='teacher_prefix')\n",
    "X_teacher_prefix = Embedding(output_dim=embedding_size_teacher_prefix , input_dim=no_of_unique_teacher_prefix+1, input_length=1)(teacher_prefix_input)\n",
    "flatten_3 = Flatten()(X_teacher_prefix)"
   ]
  },
  {
   "cell_type": "code",
   "execution_count": null,
   "metadata": {
    "id": "gtI1SIEfSY2X"
   },
   "outputs": [],
   "source": [
    "clean_categories_input = Input(shape=(1,), name='clean_categories')\n",
    "X_clean_categories = Embedding(output_dim=embedding_size_clean_categories, input_dim=no_of_unique_clean_categories+2, input_length=1)(clean_categories_input)\n",
    "flatten_4 = Flatten()(X_clean_categories)"
   ]
  },
  {
   "cell_type": "code",
   "execution_count": null,
   "metadata": {
    "id": "UtqBP3rsSdoP"
   },
   "outputs": [],
   "source": [
    "clean_subcategories_input = Input(shape=(1,), name='clean_subcategories')\n",
    "X_clean_subcategories = Embedding(output_dim=embedding_size_clean_subcategories, input_dim=no_of_unique_clean_subcategories+15, input_length=1)(clean_subcategories_input)\n",
    "flatten_5 = Flatten()(X_clean_subcategories)"
   ]
  },
  {
   "cell_type": "code",
   "execution_count": null,
   "metadata": {
    "id": "L0R93q9SSksX"
   },
   "outputs": [],
   "source": [
    "project_grade_category_input = Input(shape=(1,), name='project_grade_category')\n",
    "X_project_grade_category = Embedding(output_dim=embedding_size_project_grade_category, input_dim=no_of_unique_project_grade_category+1, input_length=1)(project_grade_category_input)\n",
    "flatten_6 = Flatten()(X_project_grade_category)\n"
   ]
  },
  {
   "cell_type": "code",
   "execution_count": null,
   "metadata": {
    "id": "h6VUlw0wSrY_"
   },
   "outputs": [],
   "source": [
    "numeric_features_input = Input(shape=(2,) , name=\"Remaining_feature\")\n",
    "numeric_dense = Dense(16, activation='relu' , kernel_initializer='he_normal',kernel_regularizer=l2(0.001))(numeric_features_input)"
   ]
  },
  {
   "cell_type": "code",
   "execution_count": null,
   "metadata": {
    "id": "AFqAlH2CSwmu"
   },
   "outputs": [],
   "source": [
    "X_concat = concatenate([flatten_1 , flatten_2 , flatten_3 ,flatten_4 , flatten_5 , flatten_6 , numeric_dense])"
   ]
  },
  {
   "cell_type": "code",
   "execution_count": null,
   "metadata": {
    "id": "duP47cRjERQx"
   },
   "outputs": [],
   "source": [
    "model = Dense(200, activation=\"relu\", kernel_initializer=\"he_normal\" ,kernel_regularizer=k_r)(X_concat)\n",
    "\n",
    "model = Dropout(0.5)(model)\n",
    "\n",
    "model = Dense(128,activation=\"relu\",kernel_initializer=\"glorot_normal\" ,kernel_regularizer=regularizers.l2(0.001))(model)\n",
    "\n",
    "model = BatchNormalization()(model)\n",
    "\n",
    "model = Dropout(0.2)(model)\n",
    "\n",
    "model = Dense(64,activation=\"relu\", kernel_initializer=\"glorot_normal\" ,kernel_regularizer=k_r)(model)\n",
    "\n",
    "\n",
    "output = Dense(2, activation='softmax', name='output')(model)\n",
    "\n",
    "model_1 = Model(inputs=[Text_input, school_state_input,teacher_prefix_input,clean_categories_input,\n",
    "                       clean_subcategories_input,project_grade_category_input,numeric_features_input ],outputs=[output])\n"
   ]
  },
  {
   "cell_type": "code",
   "execution_count": null,
   "metadata": {
    "colab": {
     "base_uri": "https://localhost:8080/"
    },
    "id": "clFUIcwdTvjC",
    "outputId": "93185c03-0235-4f7b-f41a-70a48733c9df"
   },
   "outputs": [
    {
     "name": "stdout",
     "output_type": "stream",
     "text": [
      "Model: \"functional_1\"\n",
      "__________________________________________________________________________________________________\n",
      "Layer (type)                    Output Shape         Param #     Connected to                     \n",
      "==================================================================================================\n",
      "Input_text (InputLayer)         [(None, 300)]        0                                            \n",
      "__________________________________________________________________________________________________\n",
      "embedding (Embedding)           (None, 300, 300)     15492900    Input_text[0][0]                 \n",
      "__________________________________________________________________________________________________\n",
      "school_state (InputLayer)       [(None, 1)]          0                                            \n",
      "__________________________________________________________________________________________________\n",
      "teacher_prefix (InputLayer)     [(None, 1)]          0                                            \n",
      "__________________________________________________________________________________________________\n",
      "clean_categories (InputLayer)   [(None, 1)]          0                                            \n",
      "__________________________________________________________________________________________________\n",
      "clean_subcategories (InputLayer [(None, 1)]          0                                            \n",
      "__________________________________________________________________________________________________\n",
      "project_grade_category (InputLa [(None, 1)]          0                                            \n",
      "__________________________________________________________________________________________________\n",
      "lstm (LSTM)                     (None, 300, 100)     160400      embedding[0][0]                  \n",
      "__________________________________________________________________________________________________\n",
      "embedding_1 (Embedding)         (None, 1, 26)        1352        school_state[0][0]               \n",
      "__________________________________________________________________________________________________\n",
      "embedding_2 (Embedding)         (None, 1, 3)         18          teacher_prefix[0][0]             \n",
      "__________________________________________________________________________________________________\n",
      "embedding_3 (Embedding)         (None, 1, 26)        1378        clean_categories[0][0]           \n",
      "__________________________________________________________________________________________________\n",
      "embedding_4 (Embedding)         (None, 1, 50)        20450       clean_subcategories[0][0]        \n",
      "__________________________________________________________________________________________________\n",
      "embedding_5 (Embedding)         (None, 1, 2)         10          project_grade_category[0][0]     \n",
      "__________________________________________________________________________________________________\n",
      "Remaining_feature (InputLayer)  [(None, 2)]          0                                            \n",
      "__________________________________________________________________________________________________\n",
      "flatten (Flatten)               (None, 30000)        0           lstm[0][0]                       \n",
      "__________________________________________________________________________________________________\n",
      "flatten_1 (Flatten)             (None, 26)           0           embedding_1[0][0]                \n",
      "__________________________________________________________________________________________________\n",
      "flatten_2 (Flatten)             (None, 3)            0           embedding_2[0][0]                \n",
      "__________________________________________________________________________________________________\n",
      "flatten_3 (Flatten)             (None, 26)           0           embedding_3[0][0]                \n",
      "__________________________________________________________________________________________________\n",
      "flatten_4 (Flatten)             (None, 50)           0           embedding_4[0][0]                \n",
      "__________________________________________________________________________________________________\n",
      "flatten_5 (Flatten)             (None, 2)            0           embedding_5[0][0]                \n",
      "__________________________________________________________________________________________________\n",
      "dense (Dense)                   (None, 16)           48          Remaining_feature[0][0]          \n",
      "__________________________________________________________________________________________________\n",
      "concatenate (Concatenate)       (None, 30123)        0           flatten[0][0]                    \n",
      "                                                                 flatten_1[0][0]                  \n",
      "                                                                 flatten_2[0][0]                  \n",
      "                                                                 flatten_3[0][0]                  \n",
      "                                                                 flatten_4[0][0]                  \n",
      "                                                                 flatten_5[0][0]                  \n",
      "                                                                 dense[0][0]                      \n",
      "__________________________________________________________________________________________________\n",
      "dense_1 (Dense)                 (None, 200)          6024800     concatenate[0][0]                \n",
      "__________________________________________________________________________________________________\n",
      "dropout (Dropout)               (None, 200)          0           dense_1[0][0]                    \n",
      "__________________________________________________________________________________________________\n",
      "dense_2 (Dense)                 (None, 128)          25728       dropout[0][0]                    \n",
      "__________________________________________________________________________________________________\n",
      "batch_normalization (BatchNorma (None, 128)          512         dense_2[0][0]                    \n",
      "__________________________________________________________________________________________________\n",
      "dropout_1 (Dropout)             (None, 128)          0           batch_normalization[0][0]        \n",
      "__________________________________________________________________________________________________\n",
      "dense_3 (Dense)                 (None, 64)           8256        dropout_1[0][0]                  \n",
      "__________________________________________________________________________________________________\n",
      "output (Dense)                  (None, 2)            130         dense_3[0][0]                    \n",
      "==================================================================================================\n",
      "Total params: 21,735,982\n",
      "Trainable params: 21,735,726\n",
      "Non-trainable params: 256\n",
      "__________________________________________________________________________________________________\n"
     ]
    }
   ],
   "source": [
    "model_1.summary()"
   ]
  },
  {
   "cell_type": "code",
   "execution_count": null,
   "metadata": {
    "id": "Tf6YcGYHUIYW"
   },
   "outputs": [],
   "source": [
    "import datetime\n",
    "checkpoint1 = ModelCheckpoint(\"/content/drive/My Drive/Colab Notebooks/LSTM_donorsChoose/Model/model_1.h5\",\n",
    "                             monitor=\"val_auc1\",\n",
    "                             mode=\"max\",\n",
    "                             save_best_only = True,\n",
    "                             verbose=1)\n",
    "earlystop1 = EarlyStopping(monitor = 'val_auc1', \n",
    "                            mode=\"max\",\n",
    "                            min_delta = 0, \n",
    "                            patience = 3,\n",
    "                            verbose = 1)\n",
    "\n",
    "log_dir=\"/content/drive/My Drive/Colab Notebooks/LSTM_donorsChoose/logs/Model1_\" + datetime.datetime.now().strftime(\"%Y%m%d-%H%M%S\")\n",
    "\n",
    "\n",
    "tensorboard1 = tf.keras.callbacks.TensorBoard(log_dir=log_dir,histogram_freq=1)\n",
    "\n",
    "callbacks_1 = [checkpoint1,earlystop1,tensorboard1]"
   ]
  },
  {
   "cell_type": "code",
   "execution_count": null,
   "metadata": {
    "id": "v0JU54M9VCdU"
   },
   "outputs": [],
   "source": [
    "train_data = [X_train_pad,X_train_school_state,X_train_teacher_prefix,X_train_clean_categories,X_train_clean_subcategories,X_train_project_grade_category,train_numeric_features]\n",
    "\n",
    "test_data = [X_test_pad,X_test_school_state,X_test_teacher_prefix,X_test_clean_categories,X_test_clean_subcategories,X_test_project_grade_category,test_numeric_features]"
   ]
  },
  {
   "cell_type": "code",
   "execution_count": null,
   "metadata": {
    "id": "Q2b3W1CrWgL7"
   },
   "outputs": [],
   "source": [
    "from keras.utils import np_utils\n",
    "\n",
    "y_train = np_utils.to_categorical(y_train, 2) \n",
    "y_test = np_utils.to_categorical(y_test, 2)"
   ]
  },
  {
   "cell_type": "code",
   "execution_count": null,
   "metadata": {
    "colab": {
     "base_uri": "https://localhost:8080/"
    },
    "id": "ycADjOv-WtIh",
    "outputId": "066a8f56-3a2a-418e-e4bb-9cc2d6086c90"
   },
   "outputs": [
    {
     "name": "stdout",
     "output_type": "stream",
     "text": [
      "Epoch 1/10\n",
      "  1/171 [..............................] - ETA: 0s - loss: 2.4039 - auc1: 0.4489WARNING:tensorflow:From /usr/local/lib/python3.6/dist-packages/tensorflow/python/ops/summary_ops_v2.py:1277: stop (from tensorflow.python.eager.profiler) is deprecated and will be removed after 2020-07-01.\n",
      "Instructions for updating:\n",
      "use `tf.profiler.experimental.stop` instead.\n",
      "171/171 [==============================] - ETA: 0s - loss: 0.9581 - auc1: 0.5769\n",
      "Epoch 00001: val_auc1 improved from -inf to 0.71892, saving model to /content/drive/My Drive/Colab Notebooks/LSTM_donorsChoose/Model/model_1.h5\n",
      "171/171 [==============================] - 1133s 7s/step - loss: 0.9581 - auc1: 0.5769 - val_loss: 0.7951 - val_auc1: 0.7189\n",
      "Epoch 2/10\n",
      "171/171 [==============================] - ETA: 0s - loss: 0.5435 - auc1: 0.7324\n",
      "Epoch 00002: val_auc1 improved from 0.71892 to 0.75371, saving model to /content/drive/My Drive/Colab Notebooks/LSTM_donorsChoose/Model/model_1.h5\n",
      "171/171 [==============================] - 1134s 7s/step - loss: 0.5435 - auc1: 0.7324 - val_loss: 0.6068 - val_auc1: 0.7537\n",
      "Epoch 3/10\n",
      "171/171 [==============================] - ETA: 0s - loss: 0.4632 - auc1: 0.7728\n",
      "Epoch 00003: val_auc1 improved from 0.75371 to 0.75484, saving model to /content/drive/My Drive/Colab Notebooks/LSTM_donorsChoose/Model/model_1.h5\n",
      "171/171 [==============================] - 1133s 7s/step - loss: 0.4632 - auc1: 0.7728 - val_loss: 0.4915 - val_auc1: 0.7548\n",
      "Epoch 4/10\n",
      "171/171 [==============================] - ETA: 0s - loss: 0.4153 - auc1: 0.8051\n",
      "Epoch 00004: val_auc1 did not improve from 0.75484\n",
      "171/171 [==============================] - 1127s 7s/step - loss: 0.4153 - auc1: 0.8051 - val_loss: 0.4704 - val_auc1: 0.7487\n",
      "Epoch 5/10\n",
      "171/171 [==============================] - ETA: 0s - loss: 0.3740 - auc1: 0.8400\n",
      "Epoch 00005: val_auc1 did not improve from 0.75484\n",
      "171/171 [==============================] - 1125s 7s/step - loss: 0.3740 - auc1: 0.8400 - val_loss: 0.4700 - val_auc1: 0.7222\n",
      "Epoch 6/10\n",
      "171/171 [==============================] - ETA: 0s - loss: 0.3342 - auc1: 0.8719\n",
      "Epoch 00006: val_auc1 did not improve from 0.75484\n",
      "171/171 [==============================] - 1128s 7s/step - loss: 0.3342 - auc1: 0.8719 - val_loss: 0.5120 - val_auc1: 0.7052\n",
      "Epoch 00006: early stopping\n"
     ]
    }
   ],
   "source": [
    "model_1.compile(optimizer='adam', loss='categorical_crossentropy', metrics=[auc1])\n",
    "history = model_1.fit(train_data, y_train, batch_size=512, epochs=10, verbose=1,callbacks=callbacks_1, validation_data=(test_data, y_test))"
   ]
  },
  {
   "cell_type": "code",
   "execution_count": null,
   "metadata": {
    "id": "1w1fnhOj6zTZ"
   },
   "outputs": [],
   "source": [
    "model_1.compile(optimizer='adam', loss='categorical_crossentropy', metrics=[auc1])\n",
    "model_1.load_weights(\"/content/drive/My Drive/Colab Notebooks/LSTM_donorsChoose/Model/model_1.h5\")"
   ]
  },
  {
   "cell_type": "code",
   "execution_count": null,
   "metadata": {
    "colab": {
     "base_uri": "https://localhost:8080/"
    },
    "id": "Psb3-OeChKj5",
    "outputId": "307de9eb-711f-4716-d62b-1fc7c4e91dea"
   },
   "outputs": [
    {
     "name": "stdout",
     "output_type": "stream",
     "text": [
      "AUC for test Data: 0.7535854008097176\n"
     ]
    }
   ],
   "source": [
    "print(\"AUC for test Data:\",roc_auc_score(y_test,model_1.predict(test_data)))"
   ]
  },
  {
   "cell_type": "code",
   "execution_count": 1,
   "metadata": {},
   "outputs": [
    {
     "data": {
      "image/png": "[encoded data removed]",
      "text/plain": [
       "<PIL.PngImagePlugin.PngImageFile image mode=RGBA size=481x386 at 0x15CFB8EA1D0>"
      ]
     },
     "execution_count": 1,
     "metadata": {},
     "output_type": "execute_result"
    }
   ],
   "source": [
    "from PIL import Image\n",
    "Image.open(\"model_1_1.png\")"
   ]
  },
  {
   "cell_type": "code",
   "execution_count": 2,
   "metadata": {},
   "outputs": [
    {
     "data": {
      "image/png": "[encoded data removed]",
      "text/plain": [
       "<PIL.PngImagePlugin.PngImageFile image mode=RGBA size=480x395 at 0x15CFBA1E7F0>"
      ]
     },
     "execution_count": 2,
     "metadata": {},
     "output_type": "execute_result"
    }
   ],
   "source": [
    "Image.open(\"model_1_2.png\")"
   ]
  },
  {
   "cell_type": "markdown",
   "metadata": {
    "id": "aF-psj3Q7bVG"
   },
   "source": [
    "The model we build was able to predict output correctly but after few epochs its started overfitting. In next model, we will try to clean some text data to check the performance on the same model."
   ]
  },
  {
   "cell_type": "markdown",
   "metadata": {
    "id": "fCdBTHrsnY7k"
   },
   "source": [
    "### Model-2"
   ]
  },
  {
   "cell_type": "markdown",
   "metadata": {
    "id": "vfKFl2wTnY7k"
   },
   "source": [
    "Use the same model as above but for 'input_seq_total_text_data' give only some words in the sentance not all the words. Filter the words as below. "
   ]
  },
  {
   "cell_type": "markdown",
   "metadata": {
    "id": "PrhbiQL0nY7l"
   },
   "source": [
    "<pre>\n",
    "1. Train the TF-IDF on the Train data <br>\n",
    "2. Get the idf value for each word we have in the train data. <br>\n",
    "3. Remove the low idf value and high idf value words from our data. Do some analysis on the Idf values and based on those values choose the low and high threshold value. Because very frequent words and very very rare words don't give much information. (you can plot a box plots and take only the idf scores within IQR range and corresponding words)<br>\n",
    "4. Train the LSTM after removing the Low and High idf value words. (In model-1 Train on total data but in Model-2 train on data after removing some words based on IDF values)\n",
    "</pre>"
   ]
  },
  {
   "cell_type": "code",
   "execution_count": 41,
   "metadata": {
    "colab": {
     "base_uri": "https://localhost:8080/",
     "height": 282
    },
    "id": "oNUdBJFDm46z",
    "outputId": "42cc2e6b-d8e2-4bbc-8b22-9f6ccf6f87cc"
   },
   "outputs": [
    {
     "data": {
      "text/plain": [
       "Text(0, 0.5, 'IDF score')"
      ]
     },
     "execution_count": 41,
     "metadata": {
      "tags": []
     },
     "output_type": "execute_result"
    },
    {
     "data": {
      "image/png": "[encoded data removed]",
      "text/plain": [
       "<Figure size 432x288 with 1 Axes>"
      ]
     },
     "metadata": {
      "needs_background": "light",
      "tags": []
     },
     "output_type": "display_data"
    }
   ],
   "source": [
    "tfidf = TfidfVectorizer()\n",
    "data_text = tfidf.fit_transform(project_data['essay'].values)\n",
    "plt.boxplot(tfidf.idf_)\n",
    "plt.ylabel(\"IDF score\")"
   ]
  },
  {
   "cell_type": "code",
   "execution_count": 42,
   "metadata": {
    "colab": {
     "base_uri": "https://localhost:8080/"
    },
    "id": "MvcKyrYFnHjl",
    "outputId": "de0e272f-69de-4416-9c0d-4353e6cc4e8e"
   },
   "outputs": [
    {
     "name": "stdout",
     "output_type": "stream",
     "text": [
      "The 0th percentile of idf score is :[1.00770934]\n",
      "The 10th percentile of idf score is :[7.77307122]\n",
      "The 20th percentile of idf score is :[9.34328842]\n",
      "The 30th percentile of idf score is :[10.29879987]\n",
      "The 40th percentile of idf score is :[10.99194705]\n",
      "The 50th percentile of idf score is :[11.50277267]\n",
      "The 60th percentile of idf score is :[11.50277267]\n",
      "The 70th percentile of idf score is :[11.90823778]\n",
      "The 80th percentile of idf score is :[11.90823778]\n",
      "The 90th percentile of idf score is :[11.90823778]\n",
      "The 100th percentile of idf score is :[11.90823778]\n"
     ]
    }
   ],
   "source": [
    "for i in range(0,101,10):\n",
    "  print(\"The {}th percentile of idf score is :{}\".format(i,np.percentile(tfidf.idf_,[i])))\n"
   ]
  },
  {
   "cell_type": "code",
   "execution_count": 43,
   "metadata": {
    "id": "M3pzmLLgwG8m"
   },
   "outputs": [],
   "source": [
    "idf_scores = tfidf.idf_\n",
    "filtered_indices = np.argwhere(((idf_scores> 7.77307122) & (idf_scores<11.90823778 ) ))\n",
    "filtered_indices = [idx[0] for idx in filtered_indices]"
   ]
  },
  {
   "cell_type": "code",
   "execution_count": 44,
   "metadata": {
    "id": "QkzzCUj6yYXh"
   },
   "outputs": [],
   "source": [
    "vocabulary = tfidf.get_feature_names()\n",
    "filtered_voc = {vocabulary[i] for i in filtered_indices}"
   ]
  },
  {
   "cell_type": "code",
   "execution_count": 45,
   "metadata": {
    "id": "Hh6-gm0Uyh_3"
   },
   "outputs": [],
   "source": [
    "processed_text = []\n",
    "for text in project_data[\"essay\"].values:\n",
    "  text_word_list = [word for word in text.split() if word in filtered_voc]\n",
    "  processed_text.append(' '.join(text_word_list))"
   ]
  },
  {
   "cell_type": "code",
   "execution_count": 46,
   "metadata": {
    "colab": {
     "base_uri": "https://localhost:8080/"
    },
    "id": "4mkdXt98zJFb",
    "outputId": "af4058d2-eb88-471f-ff39-abe3ea3c0f06"
   },
   "outputs": [
    {
     "data": {
      "text/plain": [
       "109248"
      ]
     },
     "execution_count": 46,
     "metadata": {
      "tags": []
     },
     "output_type": "execute_result"
    }
   ],
   "source": [
    "len(processed_text)"
   ]
  },
  {
   "cell_type": "code",
   "execution_count": 47,
   "metadata": {
    "id": "cehYxPMOsLW8"
   },
   "outputs": [],
   "source": [
    "project_data[\"processed_essay\"]=processed_text"
   ]
  },
  {
   "cell_type": "code",
   "execution_count": 48,
   "metadata": {
    "id": "d4L31jcdIGVf"
   },
   "outputs": [],
   "source": [
    "from sklearn.model_selection import train_test_split\n",
    "X_train, X_test, y_train, y_test = train_test_split(project_data, Y, test_size=0.20, stratify=Y)"
   ]
  },
  {
   "cell_type": "code",
   "execution_count": 49,
   "metadata": {
    "colab": {
     "base_uri": "https://localhost:8080/"
    },
    "id": "Tq6JWrCkIGVi",
    "outputId": "aa02956a-e739-4a93-e768-f7d5214b83b4"
   },
   "outputs": [
    {
     "name": "stdout",
     "output_type": "stream",
     "text": [
      "(87398, 9)\n",
      "(21850, 9)\n",
      "(87398,)\n",
      "(21850,)\n"
     ]
    }
   ],
   "source": [
    "print(X_train.shape)\n",
    "print(X_test.shape)\n",
    "\n",
    "print(y_train.shape)\n",
    "print(y_test.shape)"
   ]
  },
  {
   "cell_type": "code",
   "execution_count": 50,
   "metadata": {
    "id": "uE-_zDozIGVk"
   },
   "outputs": [],
   "source": [
    "from keras.preprocessing.text import Tokenizer\n",
    "tokenizer = Tokenizer(num_words= 100000 )\n",
    "tokenizer.fit_on_texts(X_train[\"processed_essay\"])"
   ]
  },
  {
   "cell_type": "code",
   "execution_count": 50,
   "metadata": {
    "id": "nQw3CmZ5pnnW"
   },
   "outputs": [],
   "source": []
  },
  {
   "cell_type": "code",
   "execution_count": 51,
   "metadata": {
    "colab": {
     "base_uri": "https://localhost:8080/"
    },
    "id": "Yhr3gYEKttb9",
    "outputId": "385a15a6-4c45-4aef-a258-107fc1500a1c"
   },
   "outputs": [
    {
     "name": "stderr",
     "output_type": "stream",
     "text": [
      "/usr/local/lib/python3.6/dist-packages/ipykernel_launcher.py:1: SettingWithCopyWarning: \n",
      "A value is trying to be set on a copy of a slice from a DataFrame.\n",
      "Try using .loc[row_indexer,col_indexer] = value instead\n",
      "\n",
      "See the caveats in the documentation: https://pandas.pydata.org/pandas-docs/stable/user_guide/indexing.html#returning-a-view-versus-a-copy\n",
      "  \"\"\"Entry point for launching an IPython kernel.\n",
      "/usr/local/lib/python3.6/dist-packages/ipykernel_launcher.py:2: SettingWithCopyWarning: \n",
      "A value is trying to be set on a copy of a slice from a DataFrame.\n",
      "Try using .loc[row_indexer,col_indexer] = value instead\n",
      "\n",
      "See the caveats in the documentation: https://pandas.pydata.org/pandas-docs/stable/user_guide/indexing.html#returning-a-view-versus-a-copy\n",
      "  \n"
     ]
    }
   ],
   "source": [
    "X_train['processed_essay_tokens']  = tokenizer.texts_to_sequences(X_train['processed_essay'].values)\n",
    "X_test['processed_essay_tokens']   = tokenizer.texts_to_sequences(X_test['processed_essay'].values)"
   ]
  },
  {
   "cell_type": "code",
   "execution_count": 52,
   "metadata": {
    "id": "QLMZWfbettcG"
   },
   "outputs": [],
   "source": [
    "from keras.preprocessing import sequence\n",
    "max_review_length = 300\n",
    "X_train_pad = sequence.pad_sequences(X_train['processed_essay_tokens'].values, maxlen=max_review_length , padding='post' )\n",
    "X_test_pad  = sequence.pad_sequences(X_test['processed_essay_tokens'].values, maxlen=max_review_length , padding='post')"
   ]
  },
  {
   "cell_type": "code",
   "execution_count": 53,
   "metadata": {
    "colab": {
     "base_uri": "https://localhost:8080/"
    },
    "id": "WBW8wIVWttcI",
    "outputId": "13dc92ac-f45d-44ec-92c6-a927cc683fa9"
   },
   "outputs": [
    {
     "name": "stdout",
     "output_type": "stream",
     "text": [
      "(87398, 300)\n"
     ]
    }
   ],
   "source": [
    "print(X_train_pad.shape)\n"
   ]
  },
  {
   "cell_type": "code",
   "execution_count": 53,
   "metadata": {
    "id": "uiq9-i9vsxan"
   },
   "outputs": [],
   "source": []
  },
  {
   "cell_type": "code",
   "execution_count": 54,
   "metadata": {
    "id": "ffEXYeKxIXEm"
   },
   "outputs": [],
   "source": [
    "import pickle\n",
    "with open('/content/drive/My Drive/Colab Notebooks/LSTM_donorsChoose/glove_vectors', 'rb') as glove_vector:\n",
    "    glove_vectors = pickle.load(glove_vector)\n",
    "    glove_words =  set(glove_vectors.keys())"
   ]
  },
  {
   "cell_type": "code",
   "execution_count": 55,
   "metadata": {
    "id": "hZrxDMkDIXEp"
   },
   "outputs": [],
   "source": [
    "max_vocabulary = len(tokenizer.word_index)\n",
    "embedding_matrix = np.zeros((max_vocabulary+1, 300))\n",
    "for word, i in tokenizer.word_index.items():  \n",
    "  if word in glove_words:    \n",
    "    embedding_vector = glove_vectors[word]\n",
    "    embedding_matrix[i] = embedding_vector\n"
   ]
  },
  {
   "cell_type": "code",
   "execution_count": 56,
   "metadata": {
    "id": "rK3Fb63ysxu-"
   },
   "outputs": [],
   "source": [
    "from tensorflow.keras.models import Model\n",
    "from tensorflow.keras.layers import Input\n",
    "from tensorflow.keras.layers import LSTM\n",
    "from tensorflow.keras.layers import Embedding\n",
    "from tensorflow.keras import regularizers\n",
    "from tensorflow.keras.regularizers import l2\n",
    "from tensorflow.keras.layers import Flatten\n",
    "from tensorflow.keras.layers import Dense, Input , Dropout\n",
    "from tensorflow.keras.layers import concatenate\n",
    "from tensorflow.keras.layers import BatchNormalization\n",
    "from tensorflow.keras.callbacks import TensorBoard"
   ]
  },
  {
   "cell_type": "code",
   "execution_count": 57,
   "metadata": {
    "id": "yR6tva81sxvA"
   },
   "outputs": [],
   "source": [
    "max_vocabulary = len(tokenizer.word_index)\n",
    "k_r=regularizers.l2(0.001)"
   ]
  },
  {
   "cell_type": "code",
   "execution_count": 58,
   "metadata": {
    "id": "1f9c-Gb2sxvC"
   },
   "outputs": [],
   "source": [
    "Text_input = Input(shape=(300,), name='Input_text')\n",
    "\n",
    "X = Embedding(output_dim=300, input_dim=max_vocabulary+1, input_length=300 , weights=[embedding_matrix])(Text_input)\n",
    "lstm_text = LSTM(100,recurrent_dropout=0.5,kernel_regularizer=k_r,return_sequences=True)(X)\n",
    "flatten_1 = Flatten()(lstm_text)"
   ]
  },
  {
   "cell_type": "code",
   "execution_count": 59,
   "metadata": {
    "id": "bXxh8RDKsxvE"
   },
   "outputs": [],
   "source": [
    "school_state_input = Input(shape=(1,), name='school_state')\n",
    "X_school_state = Embedding(output_dim=embedding_size_school_state , input_dim=no_of_unique_states+1, input_length=1)(school_state_input)\n",
    "flatten_2 = Flatten()(X_school_state)"
   ]
  },
  {
   "cell_type": "code",
   "execution_count": 60,
   "metadata": {
    "id": "xyHs4_MZsxvG"
   },
   "outputs": [],
   "source": [
    "teacher_prefix_input = Input(shape=(1,), name='teacher_prefix')\n",
    "X_teacher_prefix = Embedding(output_dim=embedding_size_teacher_prefix , input_dim=no_of_unique_teacher_prefix+1, input_length=1)(teacher_prefix_input)\n",
    "flatten_3 = Flatten()(X_teacher_prefix)"
   ]
  },
  {
   "cell_type": "code",
   "execution_count": 61,
   "metadata": {
    "id": "6R3QKrfNsxvH"
   },
   "outputs": [],
   "source": [
    "clean_categories_input = Input(shape=(1,), name='clean_categories')\n",
    "X_clean_categories = Embedding(output_dim=embedding_size_clean_categories, input_dim=no_of_unique_clean_categories+2, input_length=1)(clean_categories_input)\n",
    "flatten_4 = Flatten()(X_clean_categories)"
   ]
  },
  {
   "cell_type": "code",
   "execution_count": 62,
   "metadata": {
    "id": "mJ2VBi73sxvK"
   },
   "outputs": [],
   "source": [
    "clean_subcategories_input = Input(shape=(1,), name='clean_subcategories')\n",
    "X_clean_subcategories = Embedding(output_dim=embedding_size_clean_subcategories, input_dim=no_of_unique_clean_subcategories+15, input_length=1)(clean_subcategories_input)\n",
    "flatten_5 = Flatten()(X_clean_subcategories)"
   ]
  },
  {
   "cell_type": "code",
   "execution_count": 63,
   "metadata": {
    "id": "Xn800bC_sxvM"
   },
   "outputs": [],
   "source": [
    "project_grade_category_input = Input(shape=(1,), name='project_grade_category')\n",
    "X_project_grade_category = Embedding(output_dim=embedding_size_project_grade_category, input_dim=no_of_unique_project_grade_category+1, input_length=1)(project_grade_category_input)\n",
    "flatten_6 = Flatten()(X_project_grade_category)\n"
   ]
  },
  {
   "cell_type": "code",
   "execution_count": 64,
   "metadata": {
    "id": "paoW2JmVsxvO"
   },
   "outputs": [],
   "source": [
    "numeric_features_input = Input(shape=(2,) , name=\"Numeric_feature\")\n",
    "numeric_dense = Dense(16, activation='relu' , kernel_initializer='he_normal',kernel_regularizer=l2(0.001))(numeric_features_input)"
   ]
  },
  {
   "cell_type": "code",
   "execution_count": 65,
   "metadata": {
    "id": "5ECePBB_sxvQ"
   },
   "outputs": [],
   "source": [
    "X_concat = concatenate([flatten_1 , flatten_2 , flatten_3 ,flatten_4 , flatten_5 , flatten_6 , numeric_dense])"
   ]
  },
  {
   "cell_type": "code",
   "execution_count": 66,
   "metadata": {
    "id": "sVVZmyd_sxvR"
   },
   "outputs": [],
   "source": [
    "model = Dense(200, activation=\"relu\", kernel_initializer=\"he_normal\" ,kernel_regularizer=k_r)(X_concat)\n",
    "\n",
    "model = Dropout(0.5)(model)\n",
    "\n",
    "model = Dense(128,activation=\"relu\",kernel_initializer=\"glorot_normal\" ,kernel_regularizer=regularizers.l2(0.001))(model)\n",
    "\n",
    "model = BatchNormalization()(model)\n",
    "\n",
    "model = Dropout(0.5)(model)\n",
    "\n",
    "model = Dense(64,activation=\"relu\", kernel_initializer=\"glorot_normal\" ,kernel_regularizer=k_r)(model)\n",
    "\n",
    "\n",
    "output = Dense(2, activation='softmax', name='output')(model)\n",
    "\n",
    "model_2 = Model(inputs=[Text_input, school_state_input,teacher_prefix_input,clean_categories_input,\n",
    "                       clean_subcategories_input,project_grade_category_input,numeric_features_input ],outputs=[output])\n"
   ]
  },
  {
   "cell_type": "code",
   "execution_count": 67,
   "metadata": {
    "colab": {
     "base_uri": "https://localhost:8080/"
    },
    "id": "UN3x8VzUsxvU",
    "outputId": "a8b13dce-c4c2-4118-b774-e9d49ea1bb3b"
   },
   "outputs": [
    {
     "name": "stdout",
     "output_type": "stream",
     "text": [
      "Model: \"functional_1\"\n",
      "__________________________________________________________________________________________________\n",
      "Layer (type)                    Output Shape         Param #     Connected to                     \n",
      "==================================================================================================\n",
      "Input_text (InputLayer)         [(None, 300)]        0                                            \n",
      "__________________________________________________________________________________________________\n",
      "embedding (Embedding)           (None, 300, 300)     15487800    Input_text[0][0]                 \n",
      "__________________________________________________________________________________________________\n",
      "school_state (InputLayer)       [(None, 1)]          0                                            \n",
      "__________________________________________________________________________________________________\n",
      "teacher_prefix (InputLayer)     [(None, 1)]          0                                            \n",
      "__________________________________________________________________________________________________\n",
      "clean_categories (InputLayer)   [(None, 1)]          0                                            \n",
      "__________________________________________________________________________________________________\n",
      "clean_subcategories (InputLayer [(None, 1)]          0                                            \n",
      "__________________________________________________________________________________________________\n",
      "project_grade_category (InputLa [(None, 1)]          0                                            \n",
      "__________________________________________________________________________________________________\n",
      "lstm (LSTM)                     (None, 300, 100)     160400      embedding[0][0]                  \n",
      "__________________________________________________________________________________________________\n",
      "embedding_1 (Embedding)         (None, 1, 26)        1352        school_state[0][0]               \n",
      "__________________________________________________________________________________________________\n",
      "embedding_2 (Embedding)         (None, 1, 3)         18          teacher_prefix[0][0]             \n",
      "__________________________________________________________________________________________________\n",
      "embedding_3 (Embedding)         (None, 1, 26)        1378        clean_categories[0][0]           \n",
      "__________________________________________________________________________________________________\n",
      "embedding_4 (Embedding)         (None, 1, 50)        20550       clean_subcategories[0][0]        \n",
      "__________________________________________________________________________________________________\n",
      "embedding_5 (Embedding)         (None, 1, 2)         10          project_grade_category[0][0]     \n",
      "__________________________________________________________________________________________________\n",
      "Numeric_feature (InputLayer)    [(None, 2)]          0                                            \n",
      "__________________________________________________________________________________________________\n",
      "flatten (Flatten)               (None, 30000)        0           lstm[0][0]                       \n",
      "__________________________________________________________________________________________________\n",
      "flatten_1 (Flatten)             (None, 26)           0           embedding_1[0][0]                \n",
      "__________________________________________________________________________________________________\n",
      "flatten_2 (Flatten)             (None, 3)            0           embedding_2[0][0]                \n",
      "__________________________________________________________________________________________________\n",
      "flatten_3 (Flatten)             (None, 26)           0           embedding_3[0][0]                \n",
      "__________________________________________________________________________________________________\n",
      "flatten_4 (Flatten)             (None, 50)           0           embedding_4[0][0]                \n",
      "__________________________________________________________________________________________________\n",
      "flatten_5 (Flatten)             (None, 2)            0           embedding_5[0][0]                \n",
      "__________________________________________________________________________________________________\n",
      "dense (Dense)                   (None, 16)           48          Numeric_feature[0][0]            \n",
      "__________________________________________________________________________________________________\n",
      "concatenate (Concatenate)       (None, 30123)        0           flatten[0][0]                    \n",
      "                                                                 flatten_1[0][0]                  \n",
      "                                                                 flatten_2[0][0]                  \n",
      "                                                                 flatten_3[0][0]                  \n",
      "                                                                 flatten_4[0][0]                  \n",
      "                                                                 flatten_5[0][0]                  \n",
      "                                                                 dense[0][0]                      \n",
      "__________________________________________________________________________________________________\n",
      "dense_1 (Dense)                 (None, 200)          6024800     concatenate[0][0]                \n",
      "__________________________________________________________________________________________________\n",
      "dropout (Dropout)               (None, 200)          0           dense_1[0][0]                    \n",
      "__________________________________________________________________________________________________\n",
      "dense_2 (Dense)                 (None, 128)          25728       dropout[0][0]                    \n",
      "__________________________________________________________________________________________________\n",
      "batch_normalization (BatchNorma (None, 128)          512         dense_2[0][0]                    \n",
      "__________________________________________________________________________________________________\n",
      "dropout_1 (Dropout)             (None, 128)          0           batch_normalization[0][0]        \n",
      "__________________________________________________________________________________________________\n",
      "dense_3 (Dense)                 (None, 64)           8256        dropout_1[0][0]                  \n",
      "__________________________________________________________________________________________________\n",
      "output (Dense)                  (None, 2)            130         dense_3[0][0]                    \n",
      "==================================================================================================\n",
      "Total params: 21,730,982\n",
      "Trainable params: 21,730,726\n",
      "Non-trainable params: 256\n",
      "__________________________________________________________________________________________________\n"
     ]
    }
   ],
   "source": [
    "model_2.summary()"
   ]
  },
  {
   "cell_type": "code",
   "execution_count": 68,
   "metadata": {
    "id": "FxU88W3XsxvY"
   },
   "outputs": [],
   "source": [
    "import datetime\n",
    "checkpoint1 = ModelCheckpoint(\"/content/drive/My Drive/Colab Notebooks/LSTM_donorsChoose/Model/model_2.h5\",\n",
    "                             monitor=\"val_auc1\",\n",
    "                             mode=\"max\",\n",
    "                             save_best_only = True,\n",
    "                             verbose=1)\n",
    "earlystop1 = EarlyStopping(monitor = 'val_auc1', \n",
    "                            mode=\"max\",\n",
    "                            min_delta = 0, \n",
    "                            patience = 3,\n",
    "                            verbose = 1)\n",
    "\n",
    "log_dir=\"/content/drive/My Drive/Colab Notebooks/LSTM_donorsChoose/logs/Model2_\" + datetime.datetime.now().strftime(\"%Y%m%d-%H%M%S\")\n",
    "\n",
    "\n",
    "tensorboard1 = tf.keras.callbacks.TensorBoard(log_dir=log_dir,histogram_freq=1)\n",
    "\n",
    "callbacks_1 = [checkpoint1,\n",
    "               earlystop1,\n",
    "               tensorboard1]"
   ]
  },
  {
   "cell_type": "code",
   "execution_count": 69,
   "metadata": {
    "id": "3l0wRgyysxva"
   },
   "outputs": [],
   "source": [
    "train_data = [X_train_pad,X_train_school_state,X_train_teacher_prefix,X_train_clean_categories,X_train_clean_subcategories,X_train_project_grade_category,train_numeric_features]\n",
    "\n",
    "test_data = [X_test_pad,X_test_school_state,X_test_teacher_prefix,X_test_clean_categories,X_test_clean_subcategories,X_test_project_grade_category,test_numeric_features]"
   ]
  },
  {
   "cell_type": "code",
   "execution_count": 70,
   "metadata": {
    "id": "EkMcbxnXsxvc"
   },
   "outputs": [],
   "source": [
    "from keras.utils import np_utils\n",
    "\n",
    "y_train = np_utils.to_categorical(y_train, 2) \n",
    "y_test = np_utils.to_categorical(y_test, 2)"
   ]
  },
  {
   "cell_type": "code",
   "execution_count": 71,
   "metadata": {
    "colab": {
     "base_uri": "https://localhost:8080/"
    },
    "id": "GyhsWo9Ssxve",
    "outputId": "49d6d345-ec03-499d-b9bd-3dce6f62deb5"
   },
   "outputs": [
    {
     "name": "stdout",
     "output_type": "stream",
     "text": [
      "Epoch 1/15\n",
      "  1/683 [..............................] - ETA: 0s - loss: 1.6493 - auc1: 0.5321WARNING:tensorflow:From /usr/local/lib/python3.6/dist-packages/tensorflow/python/ops/summary_ops_v2.py:1277: stop (from tensorflow.python.eager.profiler) is deprecated and will be removed after 2020-07-01.\n",
      "Instructions for updating:\n",
      "use `tf.profiler.experimental.stop` instead.\n",
      "683/683 [==============================] - ETA: 0s - loss: 0.7131 - auc1: 0.6641\n",
      "Epoch 00001: val_auc1 improved from -inf to 0.73674, saving model to /content/drive/My Drive/Colab Notebooks/LSTM_donorsChoose/Model/model_2.h5\n",
      "683/683 [==============================] - 1596s 2s/step - loss: 0.7131 - auc1: 0.6641 - val_loss: 0.6256 - val_auc1: 0.7367\n",
      "Epoch 2/15\n",
      "683/683 [==============================] - ETA: 0s - loss: 0.4840 - auc1: 0.7535\n",
      "Epoch 00002: val_auc1 improved from 0.73674 to 0.73882, saving model to /content/drive/My Drive/Colab Notebooks/LSTM_donorsChoose/Model/model_2.h5\n",
      "683/683 [==============================] - 1603s 2s/step - loss: 0.4840 - auc1: 0.7535 - val_loss: 0.4540 - val_auc1: 0.7388\n",
      "Epoch 3/15\n",
      "683/683 [==============================] - ETA: 0s - loss: 0.4239 - auc1: 0.7922\n",
      "Epoch 00003: val_auc1 did not improve from 0.73882\n",
      "683/683 [==============================] - 1596s 2s/step - loss: 0.4239 - auc1: 0.7922 - val_loss: 0.4684 - val_auc1: 0.7381\n",
      "Epoch 4/15\n",
      "683/683 [==============================] - ETA: 0s - loss: 0.3812 - auc1: 0.8315\n",
      "Epoch 00004: val_auc1 did not improve from 0.73882\n",
      "683/683 [==============================] - 1615s 2s/step - loss: 0.3812 - auc1: 0.8315 - val_loss: 0.5235 - val_auc1: 0.7204\n",
      "Epoch 5/15\n",
      "683/683 [==============================] - ETA: 0s - loss: 0.3434 - auc1: 0.8691\n",
      "Epoch 00005: val_auc1 did not improve from 0.73882\n",
      "683/683 [==============================] - 1589s 2s/step - loss: 0.3434 - auc1: 0.8691 - val_loss: 0.4589 - val_auc1: 0.7123\n",
      "Epoch 00005: early stopping\n"
     ]
    }
   ],
   "source": [
    "model_2.compile(optimizer='adam', loss='categorical_crossentropy', metrics=[auc1])\n",
    "history = model_2.fit(train_data, y_train, batch_size=128, epochs=15, verbose=1,callbacks=callbacks_1, validation_data=(test_data, y_test))"
   ]
  },
  {
   "cell_type": "code",
   "execution_count": 72,
   "metadata": {
    "id": "eKCgwQQ0-Wai"
   },
   "outputs": [],
   "source": [
    "model_2.compile(optimizer='adam', loss='categorical_crossentropy', metrics=[auc1])\n",
    "model_2.load_weights(\"/content/drive/My Drive/Colab Notebooks/LSTM_donorsChoose/Model/model_2.h5\")"
   ]
  },
  {
   "cell_type": "code",
   "execution_count": 73,
   "metadata": {
    "colab": {
     "base_uri": "https://localhost:8080/"
    },
    "id": "_BwfXOwGsxvf",
    "outputId": "07323e89-e92f-4ae2-e0c3-0dd65ccf2f37"
   },
   "outputs": [
    {
     "name": "stdout",
     "output_type": "stream",
     "text": [
      "AUC for test Data: 0.7385366461735225\n"
     ]
    }
   ],
   "source": [
    "print(\"AUC for test Data:\",roc_auc_score(y_test,model_2.predict(test_data)))"
   ]
  },
  {
   "cell_type": "code",
   "execution_count": 3,
   "metadata": {},
   "outputs": [
    {
     "data": {
      "image/png": "[encoded data removed]",
      "text/plain": [
       "<PIL.PngImagePlugin.PngImageFile image mode=RGBA size=497x392 at 0x15CFBA1EA58>"
      ]
     },
     "execution_count": 3,
     "metadata": {},
     "output_type": "execute_result"
    }
   ],
   "source": [
    "Image.open(\"model_2_1.png\")"
   ]
  },
  {
   "cell_type": "code",
   "execution_count": 4,
   "metadata": {},
   "outputs": [
    {
     "data": {
      "image/png": "[encoded data removed]",
      "text/plain": [
       "<PIL.PngImagePlugin.PngImageFile image mode=RGBA size=513x397 at 0x15CFBA1ECF8>"
      ]
     },
     "execution_count": 4,
     "metadata": {},
     "output_type": "execute_result"
    }
   ],
   "source": [
    "Image.open(\"model_2_2.png\")"
   ]
  },
  {
   "cell_type": "markdown",
   "metadata": {
    "id": "wZe1DhRh8obZ"
   },
   "source": [
    "After removing common and some rearly used words, we can see that the model accurecy has increased in first 2 epochs. But like the previous model, it started getting overfitting. But removing the common words and some rearly used words, does have an impact of model performance."
   ]
  },
  {
   "cell_type": "markdown",
   "metadata": {
    "id": "btXqR4ufnY7m"
   },
   "source": [
    "### Model-3"
   ]
  },
  {
   "cell_type": "markdown",
   "metadata": {
    "id": "qLwJEI3dnY7n"
   },
   "source": [
    "<img src='https://i.imgur.com/fkQ8nGo.png'>\n",
    "ref: https://i.imgur.com/fkQ8nGo.png"
   ]
  },
  {
   "cell_type": "markdown",
   "metadata": {
    "id": "cOjjw6FMnY7n"
   },
   "source": [
    "\n",
    "- __input_seq_total_text_data__: <br>\n",
    "<pre>\n",
    "    . Use text column('essay'), and use the Embedding layer to get word vectors. <br>\n",
    "    . Use given predefined glove word vectors, don't train any word vectors. <br>\n",
    "    . Use LSTM that is given above, get the LSTM output and Flatten that output. <br>\n",
    "    . You are free to preprocess the input text as you needed. <br>\n",
    "</pre>\n",
    "- __Other_than_text_data__:<br>\n",
    "<pre>\n",
    "    . Convert all your Categorical values to onehot coded and then concatenate all these onehot vectors <br>\n",
    "    . Neumerical values and use <a href='https://keras.io/getting-started/sequential-model-guide/#sequence-classification-with-1d-convolutions'>CNN1D</a> as shown in above figure. <br>\n",
    "    . You are free to choose all CNN parameters like kernel sizes, stride.<br>\n",
    "    \n",
    "</pre>"
   ]
  },
  {
   "cell_type": "code",
   "execution_count": 40,
   "metadata": {
    "id": "yNlBzKp7BR9S"
   },
   "outputs": [],
   "source": [
    "from scipy.sparse import hstack\n",
    "from tensorflow.keras.models import Model\n",
    "from tensorflow.keras.layers import Input\n",
    "from tensorflow.keras.layers import LSTM\n",
    "from tensorflow.keras.layers import Embedding\n",
    "from tensorflow.keras import regularizers\n",
    "from tensorflow.keras.regularizers import l2\n",
    "from tensorflow.keras.layers import Flatten\n",
    "from tensorflow.keras.layers import Dense, Input , Dropout\n",
    "from tensorflow.keras.layers import concatenate\n",
    "from tensorflow.keras.layers import BatchNormalization\n",
    "from tensorflow.keras.callbacks import TensorBoard"
   ]
  },
  {
   "cell_type": "code",
   "execution_count": 41,
   "metadata": {
    "id": "1E5CECqv4NCG"
   },
   "outputs": [],
   "source": [
    "project_data=project_data_original.copy()"
   ]
  },
  {
   "cell_type": "code",
   "execution_count": 42,
   "metadata": {
    "id": "eGbuciwA4NCJ"
   },
   "outputs": [],
   "source": [
    "Y=project_data[\"project_is_approved\"].values"
   ]
  },
  {
   "cell_type": "code",
   "execution_count": 43,
   "metadata": {
    "id": "ejGEdHzP4NCO"
   },
   "outputs": [],
   "source": [
    "project_data.drop(\"project_is_approved\",axis = 1, inplace = True)"
   ]
  },
  {
   "cell_type": "code",
   "execution_count": 44,
   "metadata": {
    "id": "dAwXIznb4NCQ"
   },
   "outputs": [],
   "source": [
    "from sklearn.model_selection import train_test_split\n",
    "X_train, X_test, y_train, y_test = train_test_split(project_data, Y, test_size=0.25, stratify=Y)"
   ]
  },
  {
   "cell_type": "code",
   "execution_count": 45,
   "metadata": {
    "colab": {
     "base_uri": "https://localhost:8080/"
    },
    "id": "Dw-Q57Nn4ezU",
    "outputId": "9beaa082-2619-47ed-d169-1aea91e10177"
   },
   "outputs": [
    {
     "name": "stdout",
     "output_type": "stream",
     "text": [
      "(81936, 8)\n",
      "(27312, 8)\n",
      "(81936,)\n",
      "(27312,)\n"
     ]
    }
   ],
   "source": [
    "print(X_train.shape)\n",
    "print(X_test.shape)\n",
    "\n",
    "print(y_train.shape)\n",
    "print(y_test.shape)"
   ]
  },
  {
   "cell_type": "code",
   "execution_count": 46,
   "metadata": {
    "id": "BePmoAQzFYtI"
   },
   "outputs": [],
   "source": [
    "from keras.preprocessing.text import Tokenizer\n",
    "tokenizer = Tokenizer(num_words= 100000 )\n",
    "tokenizer.fit_on_texts(X_train[\"essay\"])"
   ]
  },
  {
   "cell_type": "code",
   "execution_count": 47,
   "metadata": {
    "colab": {
     "base_uri": "https://localhost:8080/"
    },
    "id": "j5ezdszaFYtL",
    "outputId": "3f2c96cf-abe8-4e37-de23-073316640f02"
   },
   "outputs": [
    {
     "name": "stderr",
     "output_type": "stream",
     "text": [
      "/usr/local/lib/python3.6/dist-packages/ipykernel_launcher.py:1: SettingWithCopyWarning: \n",
      "A value is trying to be set on a copy of a slice from a DataFrame.\n",
      "Try using .loc[row_indexer,col_indexer] = value instead\n",
      "\n",
      "See the caveats in the documentation: https://pandas.pydata.org/pandas-docs/stable/user_guide/indexing.html#returning-a-view-versus-a-copy\n",
      "  \"\"\"Entry point for launching an IPython kernel.\n",
      "/usr/local/lib/python3.6/dist-packages/ipykernel_launcher.py:2: SettingWithCopyWarning: \n",
      "A value is trying to be set on a copy of a slice from a DataFrame.\n",
      "Try using .loc[row_indexer,col_indexer] = value instead\n",
      "\n",
      "See the caveats in the documentation: https://pandas.pydata.org/pandas-docs/stable/user_guide/indexing.html#returning-a-view-versus-a-copy\n",
      "  \n"
     ]
    }
   ],
   "source": [
    "X_train['essay_tokens']  = tokenizer.texts_to_sequences(X_train['essay'].values)\n",
    "X_test['essay_tokens']   = tokenizer.texts_to_sequences(X_test['essay'].values)"
   ]
  },
  {
   "cell_type": "code",
   "execution_count": 48,
   "metadata": {
    "id": "EU0x50qLFYtO"
   },
   "outputs": [],
   "source": [
    "from keras.preprocessing import sequence\n",
    "max_review_length = 300\n",
    "X_train_pad = sequence.pad_sequences(X_train['essay_tokens'].values, maxlen=max_review_length , padding='post' )\n",
    "X_test_pad  = sequence.pad_sequences(X_test['essay_tokens'].values, maxlen=max_review_length , padding='post')"
   ]
  },
  {
   "cell_type": "code",
   "execution_count": 49,
   "metadata": {
    "colab": {
     "base_uri": "https://localhost:8080/"
    },
    "id": "8H5Hl3XMFYtP",
    "outputId": "b86308a2-8186-4c46-9070-16067e5fde21"
   },
   "outputs": [
    {
     "name": "stdout",
     "output_type": "stream",
     "text": [
      "(81936, 300)\n",
      "[ 2649     2   124    77  1703   112   185     3   375     8  1423   332\n",
      "     1   378     3   324  1002  5013    91   134    51   133   798     4\n",
      "     1   600   126     6   808   453 14881   253   126     2   186   587\n",
      "    16   521   386   143   216     1     4     1   100   691    54  1795\n",
      "    16  2029   670   813   216   342     2   103   972  1233   405   790\n",
      "     2   236   123   222    48   478   867   160     2 22964  2195   124\n",
      "    77  1411   143   326  1483   299   468    70   249    57  3247    79\n",
      "  1645  1277   155   147     1   242  2552    19   222  2034    33   623\n",
      "   163   160    44    20     4     1   203    12   126   115    33   790\n",
      "     7   124   153   119   962    43    87   570  1010   119  1211   137\n",
      "    69   222   326  1483    16   356   160    16   108   146   742   593\n",
      "   622 16996  4245  2619  2650  1450   557   359  2600    34    22   124\n",
      "   153   637    99     2  1008   478     1  1163   191   461   926   321\n",
      "  1316  1163  4989   596   530  1250   264  1100     4     1    35   556\n",
      "   245   383  1808   128     3   596  3861  2872 11433  1121   187  1121\n",
      "    30     2  2913   730   530  1250   264  1808   326  1483   696  4101\n",
      "    16   522     2   557   813   216  1139    13     0     0     0     0\n",
      "     0     0     0     0     0     0     0     0     0     0     0     0\n",
      "     0     0     0     0     0     0     0     0     0     0     0     0\n",
      "     0     0     0     0     0     0     0     0     0     0     0     0\n",
      "     0     0     0     0     0     0     0     0     0     0     0     0\n",
      "     0     0     0     0     0     0     0     0     0     0     0     0\n",
      "     0     0     0     0     0     0     0     0     0     0     0     0\n",
      "     0     0     0     0     0     0     0     0     0     0     0     0\n",
      "     0     0     0     0     0     0     0     0     0     0     0     0]\n"
     ]
    }
   ],
   "source": [
    "print(X_train_pad.shape)\n",
    "print(X_train_pad[1])"
   ]
  },
  {
   "cell_type": "code",
   "execution_count": 50,
   "metadata": {
    "id": "KFIyC7TlFYtT"
   },
   "outputs": [],
   "source": [
    "import pickle\n",
    "with open('/content/drive/My Drive/Colab Notebooks/LSTM_donorsChoose/glove_vectors', 'rb') as glove_vector:\n",
    "    glove_vectors = pickle.load(glove_vector)\n",
    "    glove_words =  set(glove_vectors.keys())"
   ]
  },
  {
   "cell_type": "code",
   "execution_count": 51,
   "metadata": {
    "id": "ZVrDkxOFFYtV"
   },
   "outputs": [],
   "source": [
    "max_vocabulary = len(tokenizer.word_index)\n",
    "embedding_matrix = np.zeros((max_vocabulary+1, 300))\n",
    "for word, i in tokenizer.word_index.items():  \n",
    "  if word in glove_words:    \n",
    "    embedding_vector = glove_vectors[word]\n",
    "    embedding_matrix[i] = embedding_vector\n"
   ]
  },
  {
   "cell_type": "code",
   "execution_count": 52,
   "metadata": {
    "colab": {
     "base_uri": "https://localhost:8080/"
    },
    "id": "Qw68cpwkFYtX",
    "outputId": "0b184a85-ec7c-4e3d-f160-96062f12f754"
   },
   "outputs": [
    {
     "data": {
      "text/plain": [
       "array([ 1.5243e-01, -1.6945e-01, -2.2748e-02, -2.5051e-01, -1.5213e-01,\n",
       "       -2.0300e-01, -3.3534e+00, -2.6162e-01,  1.2675e-01,  9.0183e-01,\n",
       "        1.3074e-02,  3.7517e-01, -7.6090e-02, -6.2058e-01, -4.0122e-01,\n",
       "       -6.7986e-02,  3.6276e-01, -1.9572e-01,  3.7641e-01, -4.7978e-02,\n",
       "        6.5122e-03,  2.6432e-01, -5.2387e-02, -5.1525e-02, -3.0775e-01,\n",
       "        6.3784e-02,  5.6517e-01, -2.2021e-01, -5.2199e-01, -3.5600e-01,\n",
       "       -4.4535e-01, -6.5147e-01, -1.9593e-01,  3.2336e-01, -2.9516e-01,\n",
       "        2.3886e-01, -1.8961e-01,  1.0907e-01, -2.4158e-01,  4.1535e-02,\n",
       "        7.9857e-02,  4.4682e-02,  2.6472e-01, -6.6871e-01,  1.0028e-01,\n",
       "       -4.5726e-01,  5.1603e-01,  3.8309e-02,  2.3472e-01, -2.4350e-01,\n",
       "       -2.8054e-01,  2.9672e-01,  3.9380e-01,  2.5832e-01,  1.9966e-01,\n",
       "       -3.8862e-01,  2.4473e-01,  3.6665e-01, -4.4643e-01,  5.4612e-02,\n",
       "       -4.3967e-01,  2.8433e-01,  5.1575e-01, -2.0117e-01, -3.3626e-01,\n",
       "        7.1260e-01,  3.3023e-02, -3.6070e-01,  7.8828e-01, -5.4928e-01,\n",
       "       -7.0503e-01, -2.6041e-01, -1.7760e-01, -6.2402e-01,  7.3210e-02,\n",
       "       -7.2140e-01, -2.4133e-01, -3.0226e-02, -5.0257e-02,  3.3103e-01,\n",
       "        2.3232e-01, -4.7033e-01,  3.8886e-01, -4.0306e-01, -2.9306e-01,\n",
       "        1.6082e-01,  5.9278e-01, -4.3758e-01,  1.0430e+00,  4.7843e-01,\n",
       "        3.1376e-01, -9.7232e-02, -4.7624e-01, -2.6231e-01, -1.2472e-01,\n",
       "        1.4626e-01, -3.0539e+00,  2.7329e-01,  5.1819e-01,  6.5193e-01,\n",
       "       -6.2277e-01, -3.2342e-01,  4.6050e-01, -4.9187e-01,  1.9491e-01,\n",
       "        2.0300e-01,  6.8973e-01, -5.1836e-01,  5.4692e-02,  2.6443e-01,\n",
       "       -4.6905e-01,  1.7857e-01,  3.3002e-01,  7.6405e-01,  5.0110e-01,\n",
       "        1.7678e-01, -1.2562e+00,  1.6654e-01,  5.2280e-01, -1.9164e-02,\n",
       "       -2.0966e-01,  4.6096e-02, -6.1923e-04, -2.1292e-01,  2.0175e-01,\n",
       "       -1.2897e-02,  6.0529e-01, -4.4746e-02,  1.8558e-02,  1.0948e+00,\n",
       "        9.3996e-01, -2.2076e-01,  2.1465e-01,  3.2904e-02,  1.0028e-01,\n",
       "       -3.8381e-01,  5.4592e-01,  6.2795e-02,  2.6534e-01,  3.7005e-01,\n",
       "       -9.9533e-02, -3.0415e-01, -1.2319e-01, -7.3927e-02, -2.1446e-01,\n",
       "       -1.2887e-01,  4.0041e-01, -2.4905e-01, -1.8930e-01, -3.3936e-01,\n",
       "        5.6388e-02, -7.7492e-02,  5.7682e-01, -1.6637e-01, -2.9399e-01,\n",
       "        1.7524e-01,  5.9433e-01, -2.5548e-01, -2.0096e-01,  2.7077e-02,\n",
       "       -3.9692e-01, -2.1046e-02, -2.6920e-01, -6.4063e-01, -4.1650e-01,\n",
       "        1.4620e-02, -9.9762e-02,  3.9734e-01,  4.5282e-02,  3.4553e-01,\n",
       "       -8.5477e-02, -1.9403e-02, -4.0236e-01, -3.8962e-01, -9.1023e-02,\n",
       "       -2.1431e-02, -2.6191e-02,  1.1751e-01, -4.1328e-01,  3.5515e-02,\n",
       "        7.5164e-02,  1.1228e+00,  3.3584e-01,  1.2485e-01, -3.4496e-01,\n",
       "       -1.9958e-02, -2.0669e-01, -5.3119e-01, -2.7743e-02, -6.8806e-02,\n",
       "       -1.1321e-01, -2.8332e-02, -5.4524e-01,  2.8887e-02, -7.9270e-02,\n",
       "       -4.5202e-01, -3.8577e-01,  2.6746e-01,  2.0565e-01,  4.0441e-02,\n",
       "        2.4957e-01,  1.4708e-01,  1.4228e-01,  2.3737e-01, -5.0964e-01,\n",
       "       -1.4892e-02,  3.5762e-01, -1.4090e-01,  5.6286e-01,  1.7347e-02,\n",
       "       -1.1425e-02,  1.1381e-01,  5.3750e-02, -6.8724e-01, -2.8357e-01,\n",
       "        4.8783e-02, -3.8335e-01, -4.5458e-01, -2.7152e-02,  2.8938e-01,\n",
       "       -5.7306e-01, -2.3033e-01, -5.7904e-01, -5.0492e-02, -2.0284e+00,\n",
       "       -1.4418e-02, -3.6295e-01, -1.3242e-01, -2.7659e-01, -3.7399e-01,\n",
       "       -1.0796e-01,  2.8634e-01, -1.8938e-02, -2.8452e-01, -8.1156e-02,\n",
       "       -3.4697e-01,  1.8248e-01, -2.7992e-01,  1.5089e-01,  6.2534e-01,\n",
       "       -6.5873e-01,  1.3013e-01, -2.6317e-02,  8.5661e-02, -1.5141e-01,\n",
       "        2.2956e-01,  2.2711e-02, -5.5303e-01, -3.6312e-01, -4.5843e-01,\n",
       "       -1.4317e-01,  8.1640e-02,  3.4238e-01, -4.0742e-01,  1.3583e-01,\n",
       "        3.7978e-01,  1.6655e-01, -2.4479e-01,  8.1674e-01, -5.2003e-01,\n",
       "       -2.4184e-01,  3.9024e-01, -9.2827e-02,  4.5020e-01,  1.6203e-01,\n",
       "       -5.2172e-02, -3.0403e-01, -1.8206e-01,  2.9206e-01,  2.4290e-01,\n",
       "        1.1419e-01, -2.0715e-02, -3.4237e-01,  5.6683e-01, -1.6686e-02,\n",
       "        1.9142e-01,  2.3149e-01, -2.8463e-01, -6.3282e-02,  5.9963e-01,\n",
       "       -6.3530e-01,  1.6831e-01,  5.7076e-02,  8.5078e-02, -4.2394e-02,\n",
       "        6.5239e-01, -2.2988e-01, -8.2786e-02,  2.3448e-01,  3.3696e-01,\n",
       "        1.6948e-01,  9.1196e-02, -9.3316e-02, -2.7831e-01,  2.5325e-01,\n",
       "        2.7602e-01, -2.7795e-01,  6.1801e-01,  4.1281e-01,  1.0077e-03])"
      ]
     },
     "execution_count": 52,
     "metadata": {
      "tags": []
     },
     "output_type": "execute_result"
    }
   ],
   "source": [
    "embedding_matrix[1]"
   ]
  },
  {
   "cell_type": "code",
   "execution_count": 53,
   "metadata": {
    "colab": {
     "base_uri": "https://localhost:8080/"
    },
    "id": "wUl9PmNB4zCf",
    "outputId": "b363123e-7d54-4bd5-feb9-7b8fa37a1b99"
   },
   "outputs": [
    {
     "name": "stdout",
     "output_type": "stream",
     "text": [
      "(81936, 51) (81936,)\n",
      "(27312, 51) (27312,)\n"
     ]
    }
   ],
   "source": [
    "vectorizer = CountVectorizer()\n",
    "#vectorizer.fit(X_train['school_state'].values)\n",
    "x_train_state_onehot = vectorizer.fit_transform(X_train['school_state'].values)\n",
    "x_test_state_onehot = vectorizer.transform(X_test['school_state'].values)\n",
    "\n",
    "\n",
    "\n",
    "print(x_train_state_onehot.shape, y_train.shape)\n",
    "print(x_test_state_onehot.shape, y_test.shape)"
   ]
  },
  {
   "cell_type": "code",
   "execution_count": 54,
   "metadata": {
    "colab": {
     "base_uri": "https://localhost:8080/"
    },
    "id": "q2BrWO8k5KNd",
    "outputId": "66d620ba-1309-438b-a3c2-f2cb2ef60b7e"
   },
   "outputs": [
    {
     "data": {
      "text/plain": [
       "Index(['school_state', 'teacher_prefix', 'project_grade_category',\n",
       "       'teacher_number_of_previously_posted_projects', 'clean_categories',\n",
       "       'clean_subcategories', 'essay', 'price', 'essay_tokens'],\n",
       "      dtype='object')"
      ]
     },
     "execution_count": 54,
     "metadata": {
      "tags": []
     },
     "output_type": "execute_result"
    }
   ],
   "source": [
    "X_train.columns"
   ]
  },
  {
   "cell_type": "code",
   "execution_count": 55,
   "metadata": {
    "colab": {
     "base_uri": "https://localhost:8080/"
    },
    "id": "cT_TYbNn4_U7",
    "outputId": "4f798082-2eb2-418c-c369-3c1876328057"
   },
   "outputs": [
    {
     "name": "stdout",
     "output_type": "stream",
     "text": [
      "(81936, 9) (81936,)\n",
      "(27312, 9) (27312,)\n"
     ]
    }
   ],
   "source": [
    "vectorizer = CountVectorizer()\n",
    "#vectorizer.fit(X_train['project_subject_categories'].values)\n",
    "\n",
    "x_train_categories_onehot = vectorizer.fit_transform(X_train['clean_categories'].values)\n",
    "x_test_categories_onehot = vectorizer.transform(X_test['clean_categories'].values)\n",
    "\n",
    "print(x_train_categories_onehot.shape, y_train.shape)\n",
    "print(x_test_categories_onehot.shape, y_test.shape)"
   ]
  },
  {
   "cell_type": "code",
   "execution_count": 55,
   "metadata": {
    "id": "uvDAfLl4orrZ"
   },
   "outputs": [],
   "source": []
  },
  {
   "cell_type": "code",
   "execution_count": 56,
   "metadata": {
    "colab": {
     "base_uri": "https://localhost:8080/"
    },
    "id": "RgrHGS6M5XBH",
    "outputId": "0e8c6154-1919-46e7-f0e3-52bdb3a115be"
   },
   "outputs": [
    {
     "name": "stdout",
     "output_type": "stream",
     "text": [
      "(81936, 30) (81936,)\n",
      "(27312, 30) (27312,)\n"
     ]
    }
   ],
   "source": [
    "vectorizer = CountVectorizer()\n",
    "#vectorizer.fit(X_train['project_subject_subcategories'].values)\n",
    "\n",
    "x_train_subcategories_onehot = vectorizer.fit_transform(X_train['clean_subcategories'].values)\n",
    "x_test_subcategories_onehot = vectorizer.transform(X_test['clean_subcategories'].values)\n",
    "\n",
    "print(x_train_subcategories_onehot.shape, y_train.shape)\n",
    "print(x_test_subcategories_onehot.shape, y_test.shape)"
   ]
  },
  {
   "cell_type": "code",
   "execution_count": 57,
   "metadata": {
    "colab": {
     "base_uri": "https://localhost:8080/"
    },
    "id": "bhk-pKus5ppb",
    "outputId": "6375e51a-0f73-4f83-8282-e507c853aad9"
   },
   "outputs": [
    {
     "name": "stdout",
     "output_type": "stream",
     "text": [
      "(81936, 5) (81936,)\n",
      "(27312, 5) (27312,)\n"
     ]
    }
   ],
   "source": [
    "vectorizer = CountVectorizer()\n",
    "#vectorizer.fit(X_train['teacher_prefix'].values)\n",
    "x_train_teacher_prefix_onehot = vectorizer.fit_transform(X_train['teacher_prefix'].values)\n",
    "x_test_teacher_prefix_onehot = vectorizer.transform(X_test['teacher_prefix'].values)\n",
    "\n",
    "print(x_train_teacher_prefix_onehot.shape, y_train.shape)\n",
    "print(x_test_teacher_prefix_onehot.shape, y_test.shape)"
   ]
  },
  {
   "cell_type": "code",
   "execution_count": 58,
   "metadata": {
    "colab": {
     "base_uri": "https://localhost:8080/"
    },
    "id": "fM6wmXYY5x2h",
    "outputId": "1c22794d-f534-47f0-d45f-7e48d956da26"
   },
   "outputs": [
    {
     "name": "stdout",
     "output_type": "stream",
     "text": [
      "(81936, 4) (81936,)\n",
      "(27312, 4) (27312,)\n"
     ]
    }
   ],
   "source": [
    "vectorizer = CountVectorizer()\n",
    "#vectorizer.fit(X_train['project_grade_category'].values)\n",
    "x_train_project_grade_onehot = vectorizer.fit_transform(X_train['project_grade_category'].values)\n",
    "x_test_project_grade_onehot = vectorizer.transform(X_test['project_grade_category'].values)\n",
    "\n",
    "\n",
    "print(x_train_project_grade_onehot.shape, y_train.shape)\n",
    "print(x_test_project_grade_onehot.shape, y_test.shape)"
   ]
  },
  {
   "cell_type": "code",
   "execution_count": 59,
   "metadata": {
    "colab": {
     "base_uri": "https://localhost:8080/"
    },
    "id": "mq5U4LBlf25a",
    "outputId": "d6b977d7-cba1-4eaa-89d6-6a7641e11d72"
   },
   "outputs": [
    {
     "data": {
      "text/plain": [
       "Index(['school_state', 'teacher_prefix', 'project_grade_category',\n",
       "       'teacher_number_of_previously_posted_projects', 'clean_categories',\n",
       "       'clean_subcategories', 'essay', 'price', 'essay_tokens'],\n",
       "      dtype='object')"
      ]
     },
     "execution_count": 59,
     "metadata": {
      "tags": []
     },
     "output_type": "execute_result"
    }
   ],
   "source": [
    "X_train.columns"
   ]
  },
  {
   "cell_type": "code",
   "execution_count": 60,
   "metadata": {
    "colab": {
     "base_uri": "https://localhost:8080/"
    },
    "id": "RLfTAtcmgHJs",
    "outputId": "65a161b5-3d42-4dcf-9518-6a75c69d348f"
   },
   "outputs": [
    {
     "name": "stdout",
     "output_type": "stream",
     "text": [
      "(81936, 1) (27312, 1)\n"
     ]
    }
   ],
   "source": [
    "x_train_previously_posted_projects = X_train[\"teacher_number_of_previously_posted_projects\"].values\n",
    "x_train_previously_posted_projects = x_train_previously_posted_projects.reshape(81936, 1)\n",
    "\n",
    "x_test_previously_posted_projects = X_test[\"teacher_number_of_previously_posted_projects\"].values\n",
    "x_test_previously_posted_projects = x_test_previously_posted_projects.reshape(27312, 1)\n",
    "print(x_train_previously_posted_projects.shape, x_test_previously_posted_projects.shape)"
   ]
  },
  {
   "cell_type": "code",
   "execution_count": 61,
   "metadata": {
    "id": "fZF24Xtm8lC7"
   },
   "outputs": [],
   "source": [
    "cat_feature_train = hstack((x_train_state_onehot,x_train_project_grade_onehot,x_train_categories_onehot,x_train_subcategories_onehot,x_train_teacher_prefix_onehot,x_train_previously_posted_projects))\n",
    "cat_feature_test = hstack((x_test_state_onehot,x_test_project_grade_onehot,x_test_categories_onehot,x_test_subcategories_onehot,x_test_teacher_prefix_onehot,x_test_previously_posted_projects))"
   ]
  },
  {
   "cell_type": "code",
   "execution_count": 62,
   "metadata": {
    "id": "8Wmn9YbZKUFM"
   },
   "outputs": [],
   "source": [
    "cat_feature_train=cat_feature_train.todense()\n",
    "cat_feature_test=cat_feature_test.todense()"
   ]
  },
  {
   "cell_type": "code",
   "execution_count": 63,
   "metadata": {
    "colab": {
     "base_uri": "https://localhost:8080/"
    },
    "id": "5_9qT-hsGc9P",
    "outputId": "e961eeac-927f-4bd7-a52e-ddf42be3a130"
   },
   "outputs": [
    {
     "name": "stdout",
     "output_type": "stream",
     "text": [
      "(81936, 100) (27312, 100)\n"
     ]
    }
   ],
   "source": [
    "print(cat_feature_train.shape, cat_feature_test.shape)"
   ]
  },
  {
   "cell_type": "code",
   "execution_count": 64,
   "metadata": {
    "id": "BQ5VhEuWh_kM"
   },
   "outputs": [],
   "source": [
    "rest_features_train = np.array(cat_feature_train).reshape(cat_feature_train.shape[0],cat_feature_train.shape[1],1)\n",
    "rest_features_test = np.array(cat_feature_test).reshape(cat_feature_test.shape[0],cat_feature_test.shape[1],1)"
   ]
  },
  {
   "cell_type": "code",
   "execution_count": 65,
   "metadata": {
    "colab": {
     "base_uri": "https://localhost:8080/"
    },
    "id": "SyKTecTF9O_j",
    "outputId": "57b175ac-e21c-44ca-af55-4b8eea274620"
   },
   "outputs": [
    {
     "name": "stdout",
     "output_type": "stream",
     "text": [
      "(81936, 100, 1) (27312, 100, 1)\n"
     ]
    }
   ],
   "source": [
    "print(rest_features_train.shape, rest_features_test.shape)"
   ]
  },
  {
   "cell_type": "code",
   "execution_count": 66,
   "metadata": {
    "id": "XyuKW3LjUJ2j"
   },
   "outputs": [],
   "source": [
    "from keras.utils import np_utils\n",
    "\n",
    "y_train = np_utils.to_categorical(y_train, 2) \n",
    "y_test = np_utils.to_categorical(y_test, 2)"
   ]
  },
  {
   "cell_type": "code",
   "execution_count": 67,
   "metadata": {
    "colab": {
     "base_uri": "https://localhost:8080/"
    },
    "id": "xyBueoYQUnfu",
    "outputId": "421d6efb-8bed-4ad6-8220-94fded827f01"
   },
   "outputs": [
    {
     "name": "stdout",
     "output_type": "stream",
     "text": [
      "(81936, 2)\n",
      "(27312, 2)\n"
     ]
    }
   ],
   "source": [
    "print(y_train.shape)\n",
    "print(y_test.shape)"
   ]
  },
  {
   "cell_type": "code",
   "execution_count": 68,
   "metadata": {
    "id": "awGBOyZM9pwP"
   },
   "outputs": [],
   "source": [
    "essay = Input(shape=(300,), name='essay_input')\n",
    "\n",
    "X = Embedding(output_dim=300, input_dim=max_vocabulary+1, input_length=300 , weights=[embedding_matrix])(essay)\n",
    "lstm_essay = LSTM(100,recurrent_dropout=0.5,kernel_regularizer=regularizers.l2(0.001),return_sequences=True)(X)\n",
    "flatten_1 = Flatten()(lstm_essay)"
   ]
  },
  {
   "cell_type": "code",
   "execution_count": 69,
   "metadata": {
    "id": "y88xkPfk-3lH"
   },
   "outputs": [],
   "source": [
    "input_without_text  = Input(shape=(100,1), name='without_text')\n",
    "\n",
    "convo = Conv1D(filters=128, kernel_size=3, strides=1)(input_without_text)\n",
    "\n",
    "convo = Conv1D(filters=64, kernel_size=3, strides=1)(convo)\n",
    "\n",
    "flatten_without_text = Flatten()(convo)"
   ]
  },
  {
   "cell_type": "code",
   "execution_count": 70,
   "metadata": {
    "id": "DwpZLnBV-7Vv"
   },
   "outputs": [],
   "source": [
    "x_concat = concatenate([flatten_1  , flatten_without_text])"
   ]
  },
  {
   "cell_type": "code",
   "execution_count": 71,
   "metadata": {
    "id": "joseWvk4-9KT"
   },
   "outputs": [],
   "source": [
    "x = Dense(120, activation=\"relu\", kernel_initializer=\"he_normal\" ,kernel_regularizer=regularizers.l2(0.001))(x_concat)\n",
    "\n",
    "x=Dropout(0.5)(x)\n",
    "\n",
    "x = Dense(64,activation=\"sigmoid\",kernel_initializer=\"glorot_normal\" ,kernel_regularizer=regularizers.l2(0.001))(x)\n",
    "\n",
    "x = BatchNormalization()(x)\n",
    "\n",
    "x=Dropout(0.5)(x)\n",
    "\n",
    "x = Dense(32,activation=\"relu\", kernel_initializer=\"he_normal\" ,kernel_regularizer=regularizers.l2(0.001))(x)\n",
    "\n",
    "x=Dropout(0.6)(x)\n",
    "\n",
    "output = Dense(2, activation='softmax', name='output')(x)\n"
   ]
  },
  {
   "cell_type": "code",
   "execution_count": 72,
   "metadata": {
    "colab": {
     "base_uri": "https://localhost:8080/"
    },
    "id": "I4ivlV479glN",
    "outputId": "5145775e-1468-43e5-d7a4-75aa1d67bdde"
   },
   "outputs": [
    {
     "name": "stdout",
     "output_type": "stream",
     "text": [
      "Model: \"functional_1\"\n",
      "__________________________________________________________________________________________________\n",
      "Layer (type)                    Output Shape         Param #     Connected to                     \n",
      "==================================================================================================\n",
      "essay_input (InputLayer)        [(None, 300)]        0                                            \n",
      "__________________________________________________________________________________________________\n",
      "without_text (InputLayer)       [(None, 100, 1)]     0                                            \n",
      "__________________________________________________________________________________________________\n",
      "embedding (Embedding)           (None, 300, 300)     15136500    essay_input[0][0]                \n",
      "__________________________________________________________________________________________________\n",
      "conv1d (Conv1D)                 (None, 98, 128)      512         without_text[0][0]               \n",
      "__________________________________________________________________________________________________\n",
      "lstm (LSTM)                     (None, 300, 100)     160400      embedding[0][0]                  \n",
      "__________________________________________________________________________________________________\n",
      "conv1d_1 (Conv1D)               (None, 96, 64)       24640       conv1d[0][0]                     \n",
      "__________________________________________________________________________________________________\n",
      "flatten (Flatten)               (None, 30000)        0           lstm[0][0]                       \n",
      "__________________________________________________________________________________________________\n",
      "flatten_1 (Flatten)             (None, 6144)         0           conv1d_1[0][0]                   \n",
      "__________________________________________________________________________________________________\n",
      "concatenate (Concatenate)       (None, 36144)        0           flatten[0][0]                    \n",
      "                                                                 flatten_1[0][0]                  \n",
      "__________________________________________________________________________________________________\n",
      "dense (Dense)                   (None, 120)          4337400     concatenate[0][0]                \n",
      "__________________________________________________________________________________________________\n",
      "dropout (Dropout)               (None, 120)          0           dense[0][0]                      \n",
      "__________________________________________________________________________________________________\n",
      "dense_1 (Dense)                 (None, 64)           7744        dropout[0][0]                    \n",
      "__________________________________________________________________________________________________\n",
      "batch_normalization (BatchNorma (None, 64)           256         dense_1[0][0]                    \n",
      "__________________________________________________________________________________________________\n",
      "dropout_1 (Dropout)             (None, 64)           0           batch_normalization[0][0]        \n",
      "__________________________________________________________________________________________________\n",
      "dense_2 (Dense)                 (None, 32)           2080        dropout_1[0][0]                  \n",
      "__________________________________________________________________________________________________\n",
      "dropout_2 (Dropout)             (None, 32)           0           dense_2[0][0]                    \n",
      "__________________________________________________________________________________________________\n",
      "output (Dense)                  (None, 2)            66          dropout_2[0][0]                  \n",
      "==================================================================================================\n",
      "Total params: 19,669,598\n",
      "Trainable params: 19,669,470\n",
      "Non-trainable params: 128\n",
      "__________________________________________________________________________________________________\n",
      "None\n"
     ]
    }
   ],
   "source": [
    "\n",
    "\n",
    "model_3 = Model(inputs=[essay, input_without_text],outputs=[output])\n",
    "\n",
    "\n",
    "\n",
    "print(model_3.summary())"
   ]
  },
  {
   "cell_type": "code",
   "execution_count": 73,
   "metadata": {
    "colab": {
     "base_uri": "https://localhost:8080/",
     "height": 1000
    },
    "id": "0EnLVnf-_SRJ",
    "outputId": "8f0ac97b-8659-4164-fc03-8598ecfe05d7"
   },
   "outputs": [
    {
     "data": {
      "image/png": "[encoded data removed]",
      "text/plain": [
       "<IPython.core.display.Image object>"
      ]
     },
     "execution_count": 73,
     "metadata": {
      "tags": []
     },
     "output_type": "execute_result"
    }
   ],
   "source": [
    "tf.keras.utils.plot_model(\n",
    "    model_3, to_file='model.png', show_shapes=False, show_layer_names=True,\n",
    "    rankdir='TB', expand_nested=False, dpi=96\n",
    ")"
   ]
  },
  {
   "cell_type": "code",
   "execution_count": 74,
   "metadata": {
    "id": "NSr0RI9KAJYd"
   },
   "outputs": [],
   "source": [
    "import datetime\n",
    "checkpoint1 = ModelCheckpoint(\"/content/drive/My Drive/Colab Notebooks/LSTM_donorsChoose/Model/model_3.h5\",\n",
    "                             monitor=\"val_auc1\",\n",
    "                             mode=\"max\",\n",
    "                             save_best_only = True,\n",
    "                             verbose=1)\n",
    "earlystop1 = EarlyStopping(monitor = 'val_auc1', \n",
    "                            mode=\"max\",\n",
    "                            min_delta = 0, \n",
    "                            patience = 3,\n",
    "                            verbose = 1)\n",
    "\n",
    "log_dir=\"/content/drive/My Drive/Colab Notebooks/LSTM_donorsChoose/logs/Model3_\" + datetime.datetime.now().strftime(\"%Y%m%d-%H%M%S\")\n",
    "\n",
    "\n",
    "tensorboard1 = tf.keras.callbacks.TensorBoard(log_dir=log_dir,histogram_freq=1)\n",
    "\n",
    "callbacks_1 = [checkpoint1,\n",
    "               earlystop1,\n",
    "               tensorboard1]"
   ]
  },
  {
   "cell_type": "code",
   "execution_count": 75,
   "metadata": {
    "colab": {
     "base_uri": "https://localhost:8080/"
    },
    "id": "aFB5smn0_f1V",
    "outputId": "1cb79d39-c6f6-4f55-cbde-791843033597"
   },
   "outputs": [
    {
     "name": "stdout",
     "output_type": "stream",
     "text": [
      "Epoch 1/15\n",
      "  1/161 [..............................] - ETA: 0s - loss: 1.7836 - auc1: 0.5641WARNING:tensorflow:From /usr/local/lib/python3.6/dist-packages/tensorflow/python/ops/summary_ops_v2.py:1277: stop (from tensorflow.python.eager.profiler) is deprecated and will be removed after 2020-07-01.\n",
      "Instructions for updating:\n",
      "use `tf.profiler.experimental.stop` instead.\n",
      "161/161 [==============================] - ETA: 0s - loss: 1.1142 - auc1: 0.5370\n",
      "Epoch 00001: val_auc1 improved from -inf to 0.69483, saving model to /content/drive/My Drive/Colab Notebooks/LSTM_donorsChoose/Model/model_3.h5\n",
      "161/161 [==============================] - 854s 5s/step - loss: 1.1142 - auc1: 0.5370 - val_loss: 0.6935 - val_auc1: 0.6948\n",
      "Epoch 2/15\n",
      "161/161 [==============================] - ETA: 0s - loss: 0.6387 - auc1: 0.6459\n",
      "Epoch 00002: val_auc1 improved from 0.69483 to 0.73896, saving model to /content/drive/My Drive/Colab Notebooks/LSTM_donorsChoose/Model/model_3.h5\n",
      "161/161 [==============================] - 858s 5s/step - loss: 0.6387 - auc1: 0.6459 - val_loss: 0.5532 - val_auc1: 0.7390\n",
      "Epoch 3/15\n",
      "161/161 [==============================] - ETA: 0s - loss: 0.5208 - auc1: 0.7074\n",
      "Epoch 00003: val_auc1 improved from 0.73896 to 0.74793, saving model to /content/drive/My Drive/Colab Notebooks/LSTM_donorsChoose/Model/model_3.h5\n",
      "161/161 [==============================] - 852s 5s/step - loss: 0.5208 - auc1: 0.7074 - val_loss: 0.4905 - val_auc1: 0.7479\n",
      "Epoch 4/15\n",
      "161/161 [==============================] - ETA: 0s - loss: 0.4675 - auc1: 0.7488\n",
      "Epoch 00004: val_auc1 improved from 0.74793 to 0.75205, saving model to /content/drive/My Drive/Colab Notebooks/LSTM_donorsChoose/Model/model_3.h5\n",
      "161/161 [==============================] - 855s 5s/step - loss: 0.4675 - auc1: 0.7488 - val_loss: 0.4549 - val_auc1: 0.7521\n",
      "Epoch 5/15\n",
      "161/161 [==============================] - ETA: 0s - loss: 0.4305 - auc1: 0.7806\n",
      "Epoch 00005: val_auc1 did not improve from 0.75205\n",
      "161/161 [==============================] - 853s 5s/step - loss: 0.4305 - auc1: 0.7806 - val_loss: 0.4448 - val_auc1: 0.7425\n",
      "Epoch 6/15\n",
      "161/161 [==============================] - ETA: 0s - loss: 0.3994 - auc1: 0.8116\n",
      "Epoch 00006: val_auc1 did not improve from 0.75205\n",
      "161/161 [==============================] - 845s 5s/step - loss: 0.3994 - auc1: 0.8116 - val_loss: 0.4402 - val_auc1: 0.7348\n",
      "Epoch 7/15\n",
      "161/161 [==============================] - ETA: 0s - loss: 0.3746 - auc1: 0.8418\n",
      "Epoch 00007: val_auc1 did not improve from 0.75205\n",
      "161/161 [==============================] - 839s 5s/step - loss: 0.3746 - auc1: 0.8418 - val_loss: 0.4603 - val_auc1: 0.7180\n",
      "Epoch 00007: early stopping\n"
     ]
    }
   ],
   "source": [
    "train_dataset = [X_train_pad,rest_features_train]\n",
    "test_dataset = [X_test_pad,rest_features_test]\n",
    "\n",
    "model_3.compile(optimizer='adam', loss='categorical_crossentropy', metrics=[auc1])\n",
    "history_3= model_3.fit([X_train_pad,rest_features_train], y_train, batch_size=512, epochs=15, verbose=1,callbacks=callbacks_1, validation_data=(test_dataset, y_test))"
   ]
  },
  {
   "cell_type": "code",
   "execution_count": 76,
   "metadata": {
    "id": "qFP2Z4IP-gnU"
   },
   "outputs": [],
   "source": [
    "model_3.compile(optimizer='adam', loss='categorical_crossentropy', metrics=[auc1])\n",
    "model_3.load_weights(\"/content/drive/My Drive/Colab Notebooks/LSTM_donorsChoose/Model/model_3.h5\")"
   ]
  },
  {
   "cell_type": "code",
   "execution_count": 77,
   "metadata": {
    "colab": {
     "base_uri": "https://localhost:8080/"
    },
    "id": "53T-TPiUAOSy",
    "outputId": "292ad5e3-918e-4c80-e8fb-90fe3d728837"
   },
   "outputs": [
    {
     "name": "stdout",
     "output_type": "stream",
     "text": [
      "AUC for test Data: 0.7518869429148347\n"
     ]
    }
   ],
   "source": [
    "print(\"AUC for test Data:\",roc_auc_score(y_test,model_3.predict(test_dataset)))"
   ]
  },
  {
   "cell_type": "code",
   "execution_count": 5,
   "metadata": {},
   "outputs": [
    {
     "data": {
      "image/png": "[encoded data removed]",
      "text/plain": [
       "<PIL.PngImagePlugin.PngImageFile image mode=RGBA size=469x393 at 0x15CFBA1EF98>"
      ]
     },
     "execution_count": 5,
     "metadata": {},
     "output_type": "execute_result"
    }
   ],
   "source": [
    "Image.open(\"model_3_1.png\")"
   ]
  },
  {
   "cell_type": "code",
   "execution_count": 6,
   "metadata": {},
   "outputs": [
    {
     "data": {
      "image/png": "[encoded data removed]",
      "text/plain": [
       "<PIL.PngImagePlugin.PngImageFile image mode=RGBA size=463x394 at 0x15CFBA422B0>"
      ]
     },
     "execution_count": 6,
     "metadata": {},
     "output_type": "execute_result"
    }
   ],
   "source": [
    "Image.open(\"model_3_2.png\")"
   ]
  },
  {
   "cell_type": "markdown",
   "metadata": {
    "id": "Q1ma9asu_WtU"
   },
   "source": [
    "In this model we used Convolution layer. The model take less time to reach AUC score of 75. Using the Convolution layer reduced the training time while keeping the same performance. Model does started overfitting, but this can be avoided by introducing more data. "
   ]
  },
  {
   "cell_type": "code",
   "execution_count": null,
   "metadata": {},
   "outputs": [],
   "source": []
  }
 ],
 "metadata": {
  "colab": {
   "collapsed_sections": [],
   "name": "LSTM_Assignment.ipynb",
   "provenance": []
  },
  "kernelspec": {
   "display_name": "Python 3",
   "language": "python",
   "name": "python3"
  },
  "language_info": {
   "codemirror_mode": {
    "name": "ipython",
    "version": 3
   },
   "file_extension": ".py",
   "mimetype": "text/x-python",
   "name": "python",
   "nbconvert_exporter": "python",
   "pygments_lexer": "ipython3",
   "version": "3.7.3"
  }
 },
 "nbformat": 4,
 "nbformat_minor": 1
}
