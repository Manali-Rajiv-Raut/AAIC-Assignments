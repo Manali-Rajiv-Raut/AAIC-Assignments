{
 "cells": [
  {
   "cell_type": "markdown",
   "metadata": {},
   "source": [
    "## SGD Algorithm to predict movie ratings"
   ]
  },
  {
   "cell_type": "code",
   "execution_count": 1,
   "metadata": {},
   "outputs": [],
   "source": [
    "import networkx as nx\n",
    "from networkx.algorithms import bipartite\n",
    "from sklearn.utils.extmath import randomized_svd\n",
    "import pandas as pd\n",
    "import numpy as np\n",
    "import sklearn.decomposition as skd\n",
    "import matplotlib.pyplot as plt\n",
    "import math\n",
    "import warnings\n",
    "warnings.filterwarnings(\"ignore\")"
   ]
  },
  {
   "cell_type": "markdown",
   "metadata": {},
   "source": [
    "## Task 1"
   ]
  },
  {
   "cell_type": "code",
   "execution_count": 2,
   "metadata": {},
   "outputs": [
    {
     "data": {
      "text/html": [
       "<div>\n",
       "<style scoped>\n",
       "    .dataframe tbody tr th:only-of-type {\n",
       "        vertical-align: middle;\n",
       "    }\n",
       "\n",
       "    .dataframe tbody tr th {\n",
       "        vertical-align: top;\n",
       "    }\n",
       "\n",
       "    .dataframe thead th {\n",
       "        text-align: right;\n",
       "    }\n",
       "</style>\n",
       "<table border=\"1\" class=\"dataframe\">\n",
       "  <thead>\n",
       "    <tr style=\"text-align: right;\">\n",
       "      <th></th>\n",
       "      <th>user_id</th>\n",
       "      <th>item_id</th>\n",
       "      <th>rating</th>\n",
       "    </tr>\n",
       "  </thead>\n",
       "  <tbody>\n",
       "    <tr>\n",
       "      <th>0</th>\n",
       "      <td>772</td>\n",
       "      <td>36</td>\n",
       "      <td>3</td>\n",
       "    </tr>\n",
       "    <tr>\n",
       "      <th>1</th>\n",
       "      <td>471</td>\n",
       "      <td>228</td>\n",
       "      <td>5</td>\n",
       "    </tr>\n",
       "    <tr>\n",
       "      <th>2</th>\n",
       "      <td>641</td>\n",
       "      <td>401</td>\n",
       "      <td>4</td>\n",
       "    </tr>\n",
       "    <tr>\n",
       "      <th>3</th>\n",
       "      <td>312</td>\n",
       "      <td>98</td>\n",
       "      <td>4</td>\n",
       "    </tr>\n",
       "    <tr>\n",
       "      <th>4</th>\n",
       "      <td>58</td>\n",
       "      <td>504</td>\n",
       "      <td>5</td>\n",
       "    </tr>\n",
       "  </tbody>\n",
       "</table>\n",
       "</div>"
      ],
      "text/plain": [
       "   user_id  item_id  rating\n",
       "0      772       36       3\n",
       "1      471      228       5\n",
       "2      641      401       4\n",
       "3      312       98       4\n",
       "4       58      504       5"
      ]
     },
     "execution_count": 2,
     "metadata": {},
     "output_type": "execute_result"
    }
   ],
   "source": [
    "data = pd.read_csv(\"ratings_train.csv\", index_col=False)\n",
    "data.head()"
   ]
  },
  {
   "cell_type": "code",
   "execution_count": 3,
   "metadata": {},
   "outputs": [
    {
     "data": {
      "text/plain": [
       "(89992, 3)"
      ]
     },
     "execution_count": 3,
     "metadata": {},
     "output_type": "execute_result"
    }
   ],
   "source": [
    "data.shape"
   ]
  },
  {
   "cell_type": "code",
   "execution_count": 4,
   "metadata": {},
   "outputs": [],
   "source": [
    "edges = [tuple(x) for x in data.values.tolist()]\n",
    "\n",
    "unique_user_id = data['user_id'].unique()\n",
    "unique_movie_id = data['item_id'].unique()\n",
    "len(unique_user_id ),len(unique_movie_id)\n",
    "ui=np.max(unique_user_id)+1\n",
    "mi=np.max(unique_movie_id)+1"
   ]
  },
  {
   "cell_type": "code",
   "execution_count": 5,
   "metadata": {},
   "outputs": [
    {
     "data": {
      "text/plain": [
       "((943,), (1681,))"
      ]
     },
     "execution_count": 5,
     "metadata": {},
     "output_type": "execute_result"
    }
   ],
   "source": [
    "def initialize(dim):\n",
    "    bv=np.zeros(dim)\n",
    "    return bv\n",
    "\n",
    "b_i=initialize(ui)\n",
    "c_j=initialize(mi)\n",
    "b_i.shape, c_j.shape\n"
   ]
  },
  {
   "cell_type": "code",
   "execution_count": 7,
   "metadata": {},
   "outputs": [
    {
     "data": {
      "text/plain": [
       "(943, 1681)"
      ]
     },
     "execution_count": 7,
     "metadata": {},
     "output_type": "execute_result"
    }
   ],
   "source": [
    "from scipy.sparse import csr_matrix\n",
    "adjacency_matrix = csr_matrix((ui, mi), dtype=np.int16).toarray()\n",
    "adjacency_matrix.shape"
   ]
  },
  {
   "cell_type": "code",
   "execution_count": 9,
   "metadata": {},
   "outputs": [
    {
     "name": "stdout",
     "output_type": "stream",
     "text": [
      "(943, 2)\n",
      "(2,)\n",
      "(1681, 2)\n"
     ]
    }
   ],
   "source": [
    "# AdjMatrix=np.zeros((ui, mi))\n",
    "edges = [tuple(x) for x in data.values.tolist()]\n",
    "for e in edges:\n",
    "    adjacency_matrix[e[0]][e[1]]=e[2]\n",
    "    \n",
    "\n",
    "U, Sigma, VT = randomized_svd(adjacency_matrix, n_components=2,n_iter=5, random_state=24)\n",
    "print(U.shape)\n",
    "print(Sigma.shape)\n",
    "print(VT.T.shape)\n",
    "V=VT.T"
   ]
  },
  {
   "cell_type": "markdown",
   "metadata": {},
   "source": [
    "<font color='cyan'>Grader function - 1</font>"
   ]
  },
  {
   "cell_type": "code",
   "execution_count": 8,
   "metadata": {},
   "outputs": [
    {
     "data": {
      "text/plain": [
       "True"
      ]
     },
     "execution_count": 8,
     "metadata": {},
     "output_type": "execute_result"
    }
   ],
   "source": [
    "def grader_matrix(matrix):\n",
    "  assert(matrix.shape==(943,1681))\n",
    "  return True\n",
    "grader_matrix(adjacency_matrix)"
   ]
  },
  {
   "cell_type": "code",
   "execution_count": 10,
   "metadata": {},
   "outputs": [],
   "source": [
    "def m_u(ratings):\n",
    "    mu=ratings.mean()\n",
    "    return mu"
   ]
  },
  {
   "cell_type": "code",
   "execution_count": 11,
   "metadata": {},
   "outputs": [
    {
     "name": "stdout",
     "output_type": "stream",
     "text": [
      "3.529480398257623\n"
     ]
    }
   ],
   "source": [
    "mu=m_u(data['rating'])\n",
    "print(mu)"
   ]
  },
  {
   "cell_type": "markdown",
   "metadata": {},
   "source": [
    "<font color='cyan'>Grader function -2 </font>"
   ]
  },
  {
   "cell_type": "code",
   "execution_count": 12,
   "metadata": {},
   "outputs": [
    {
     "data": {
      "text/plain": [
       "True"
      ]
     },
     "execution_count": 12,
     "metadata": {},
     "output_type": "execute_result"
    }
   ],
   "source": [
    "def grader_mean(mu):\n",
    "  assert(np.round(mu,3)==3.529)\n",
    "  return True\n",
    "mu=m_u(data['rating'])\n",
    "grader_mean(mu)"
   ]
  },
  {
   "cell_type": "markdown",
   "metadata": {},
   "source": [
    "<font color='cyan'>Grader function -3 </font>"
   ]
  },
  {
   "cell_type": "code",
   "execution_count": 13,
   "metadata": {},
   "outputs": [
    {
     "data": {
      "text/plain": [
       "True"
      ]
     },
     "execution_count": 13,
     "metadata": {},
     "output_type": "execute_result"
    }
   ],
   "source": [
    "def grader_dim(b_i,c_j):\n",
    "  assert(len(b_i)==943 and np.sum(b_i)==0)\n",
    "  assert(len(c_j)==1681 and np.sum(c_j)==0)\n",
    "  return True\n",
    "grader_dim(b_i,c_j)"
   ]
  },
  {
   "cell_type": "code",
   "execution_count": 18,
   "metadata": {},
   "outputs": [],
   "source": [
    "def derivative_db(ui,vj,bi,cj,alpha,mu,yi):\n",
    "    '''In this function, we will compute dL/db_i'''\n",
    "    db=2*alpha*bi-2*(yi-mu-bi-cj-np.dot(np.transpose(ui),vj))\n",
    "    return db"
   ]
  },
  {
   "cell_type": "markdown",
   "metadata": {},
   "source": [
    "<font color='cyan'>Grader function -4 </font>"
   ]
  },
  {
   "cell_type": "code",
   "execution_count": null,
   "metadata": {},
   "outputs": [],
   "source": [
    "def grader_db (value):\n",
    "    assert(np.round(value,3)==-0.931)\n",
    "    return True\n",
    "\n",
    "U1, Sigma, V1 = randomized_svd(adjacency_matrix, n_components=2,n_iter=5, random_state=24)\n",
    "# Please don't change random state\n",
    "# Here we are considering n_componets = 2 for our convinence\n",
    "alpha=0.01 \n",
    "value=derivative_db(312,98,4,U1,V1,mu,alpha)\n",
    "grader_db(value)"
   ]
  },
  {
   "cell_type": "code",
   "execution_count": 14,
   "metadata": {},
   "outputs": [],
   "source": [
    "def derivative_dc(ui,vj,bi,cj,alpha,mu,yi):\n",
    "    '''In this function, we will compute dL/dc_j'''\n",
    "    dc=2*alpha*cj-2*(yi-mu-bi-cj-np.dot(ui.T,vj))\n",
    "    return dc"
   ]
  },
  {
   "cell_type": "markdown",
   "metadata": {},
   "source": [
    "<font color='cyan'>Grader function - 5 </font>"
   ]
  },
  {
   "cell_type": "code",
   "execution_count": null,
   "metadata": {},
   "outputs": [],
   "source": [
    "def grader_dc(value):\n",
    "    assert(np.round(value,3)==-2.929)\n",
    "    return True\n",
    "U1, Sigma, V1 = randomized_svd(adjacency_matrix, n_components=2,n_iter=5, random_state=24)\n",
    "# Please don't change random state\n",
    "# Here we are considering n_componets = 2 for our convinence\n",
    "r=0.01 \n",
    "value=derivative_dc(58,504,5,U1,V1,alpha,mu)\n",
    "grader_dc(value)"
   ]
  },
  {
   "cell_type": "code",
   "execution_count": 15,
   "metadata": {},
   "outputs": [],
   "source": [
    "def Predict(mu,ui,vj,bi,cj):\n",
    "    yp=mu+bi+cj+np.dot(ui.T,vj)\n",
    "   \n",
    "    return yp"
   ]
  },
  {
   "cell_type": "code",
   "execution_count": 19,
   "metadata": {},
   "outputs": [],
   "source": [
    "def sgd_LogistcRegression(mu, U, V, AdjMatrix, bi_random, cj_random, alpha, lr_rate, n_epochs):\n",
    "    logloss=[]\n",
    "    N=len(U)\n",
    "    M=len(V)\n",
    "        \n",
    "    for epoch in range(n_epochs):\n",
    "    \n",
    "        wtperror=[]\n",
    "        \n",
    "        for i in range(N):\n",
    "            ui=U[i,:]\n",
    "            bi=bi_random[i]\n",
    "            interror=[]\n",
    "            for j in range(M):\n",
    "                vj=V[j,:]\n",
    "                cj=cj_random[j]\n",
    "                yi=AdjMatrix[i,j]\n",
    "                yp=Predict(mu,ui,vj,bi,cj)\n",
    "                \n",
    "                mse=((yi-yp)**2)\n",
    "                bi -= lr_rate* derivative_db(ui,vj,bi,cj,alpha,mu,yi)\n",
    "                cj -= lr_rate* derivative_dc(ui,vj,bi,cj,alpha,mu,yi)\n",
    "               \n",
    "                # value=derivative_db(312,98,4,U,V,mu,alpha)\n",
    "                bi_random[i] = bi\n",
    "                cj_random[j] = cj \n",
    "                interror.append( mse)\n",
    "                \n",
    "            wtperror.append(np.mean(interror))\n",
    "            # logloss_Train.append(wtperror)\n",
    "\n",
    "        logloss.append(np.mean(wtperror))\n",
    "        print(\"Epoch: %d, Loss: %.3f\" %(epoch+1, np.mean(wtperror)))\n",
    "\n",
    "    # Plot train and test error in each iteration\n",
    "    plt.figure()\n",
    "    plt.plot(range(epoch+1), np.reshape(logloss,[len(logloss), 1]), label = \"Train LogLoss\")\n",
    "    plt.title(\"Logloss per iteration\")\n",
    "    plt.xlabel(\"Number of iterations\")\n",
    "    plt.ylabel(\"Logloss\")\n",
    "    plt.legend()\n",
    "    plt.show()\n",
    "    return bi, cj"
   ]
  },
  {
   "cell_type": "code",
   "execution_count": 21,
   "metadata": {},
   "outputs": [
    {
     "name": "stdout",
     "output_type": "stream",
     "text": [
      "Epoch: 1, Loss: 1.314\n",
      "Epoch: 2, Loss: 0.838\n",
      "Epoch: 3, Loss: 0.618\n",
      "Epoch: 4, Loss: 0.616\n",
      "Epoch: 5, Loss: 0.616\n",
      "Epoch: 6, Loss: 0.616\n",
      "Epoch: 7, Loss: 0.616\n",
      "Epoch: 8, Loss: 0.616\n",
      "Epoch: 9, Loss: 0.616\n",
      "Epoch: 10, Loss: 0.616\n",
      "Epoch: 11, Loss: 0.616\n",
      "Epoch: 12, Loss: 0.616\n",
      "Epoch: 13, Loss: 0.616\n",
      "Epoch: 14, Loss: 0.616\n",
      "Epoch: 15, Loss: 0.616\n",
      "Epoch: 16, Loss: 0.616\n",
      "Epoch: 17, Loss: 0.616\n",
      "Epoch: 18, Loss: 0.616\n",
      "Epoch: 19, Loss: 0.616\n",
      "Epoch: 20, Loss: 0.616\n",
      "Epoch: 21, Loss: 0.616\n",
      "Epoch: 22, Loss: 0.616\n",
      "Epoch: 23, Loss: 0.616\n",
      "Epoch: 24, Loss: 0.616\n",
      "Epoch: 25, Loss: 0.616\n",
      "Epoch: 26, Loss: 0.616\n",
      "Epoch: 27, Loss: 0.616\n",
      "Epoch: 28, Loss: 0.616\n",
      "Epoch: 29, Loss: 0.616\n",
      "Epoch: 30, Loss: 0.616\n"
     ]
    },
    {
     "data": {
      "image/png": "[encoded data removed]",
      "text/plain": [
       "<Figure size 432x288 with 1 Axes>"
      ]
     },
     "metadata": {
      "needs_background": "light"
     },
     "output_type": "display_data"
    }
   ],
   "source": [
    "mu=m_u(data['rating'])\n",
    "mu=np.round(mu,3)\n",
    "n_epochs=30\n",
    "lr_rate=0.001\n",
    "alpha=0.01 \n",
    "bi_optimal, cj_optimal = sgd_LogistcRegression(mu,U, V, adjacency_matrix, b_i, c_j, alpha, lr_rate, n_epochs)"
   ]
  },
  {
   "cell_type": "markdown",
   "metadata": {},
   "source": [
    "## Task 2"
   ]
  },
  {
   "cell_type": "code",
   "execution_count": 22,
   "metadata": {},
   "outputs": [],
   "source": [
    "from sklearn.linear_model import SGDClassifier\n",
    "from sklearn.metrics import confusion_matrix\n",
    "from sklearn.metrics import precision_score, recall_score\n",
    "from sklearn.metrics import f1_score"
   ]
  },
  {
   "cell_type": "code",
   "execution_count": 23,
   "metadata": {},
   "outputs": [],
   "source": [
    "user_info = pd.read_csv(\"user_info.csv.txt\")\n",
    "user_info.head()\n",
    "yi=user_info[\"is_male\"]"
   ]
  },
  {
   "cell_type": "code",
   "execution_count": 24,
   "metadata": {},
   "outputs": [
    {
     "name": "stdout",
     "output_type": "stream",
     "text": [
      "k is =  5\n",
      "confusion matrix is =  [[ 81 192]\n",
      " [ 77 593]]\n",
      "precision score is =  0.7554140127388536\n",
      "recallF1 score is =  0.8850746268656716\n",
      "F1 score is =  0.8151202749140893\n",
      "k is =  10\n",
      "confusion matrix is =  [[250  23]\n",
      " [477 193]]\n",
      "precision score is =  0.8935185185185185\n",
      "recallF1 score is =  0.2880597014925373\n",
      "F1 score is =  0.43566591422121886\n",
      "k is =  15\n",
      "confusion matrix is =  [[ 82 191]\n",
      " [ 65 605]]\n",
      "precision score is =  0.7600502512562815\n",
      "recallF1 score is =  0.9029850746268657\n",
      "F1 score is =  0.8253751705320601\n",
      "k is =  20\n",
      "confusion matrix is =  [[ 68 205]\n",
      " [ 51 619]]\n",
      "precision score is =  0.7512135922330098\n",
      "recallF1 score is =  0.9238805970149254\n",
      "F1 score is =  0.8286479250334673\n",
      "k is =  25\n",
      "confusion matrix is =  [[ 41 232]\n",
      " [ 10 660]]\n",
      "precision score is =  0.7399103139013453\n",
      "recallF1 score is =  0.9850746268656716\n",
      "F1 score is =  0.8450704225352114\n",
      "k is =  30\n",
      "confusion matrix is =  [[ 79 194]\n",
      " [ 39 631]]\n",
      "precision score is =  0.7648484848484849\n",
      "recallF1 score is =  0.9417910447761194\n",
      "F1 score is =  0.8441471571906356\n"
     ]
    }
   ],
   "source": [
    "sgd_model = SGDClassifier() # instantiate\n",
    "# sgd_clf.fit(X_train, y_train_5) # train the classifier\n",
    "\n",
    "k_SVD=[5, 10, 15, 20, 25, 30]\n",
    "\n",
    "for k in k_SVD:\n",
    "    SVD= skd.TruncatedSVD( n_components=k)\n",
    "    \n",
    "    U = SVD.fit_transform(adjacency_matrix)\n",
    "    Sigma = SVD.explained_variance_ratio_\n",
    "    VT = SVD.components_\n",
    "    V=VT.T\n",
    "    sgd_model.fit(U,yi)\n",
    "    predicted =sgd_model.predict(U)\n",
    "    \n",
    "    print(\"k is = \",k)\n",
    "    cm=confusion_matrix(yi, predicted)\n",
    "    print(\"confusion matrix is = \",cm)\n",
    "    ps=precision_score(yi, predicted)\n",
    "    print(\"precision score is = \",ps)\n",
    "    rs=recall_score(yi, predicted)\n",
    "    print(\"recallF1 score is = \",rs)\n",
    "    f1s=f1_score(yi, predicted)\n",
    "    print(\"F1 score is = \", f1s)\n",
    "    \n"
   ]
  }
 ],
 "metadata": {
  "kernelspec": {
   "display_name": "Python 3",
   "language": "python",
   "name": "python3"
  },
  "language_info": {
   "codemirror_mode": {
    "name": "ipython",
    "version": 3
   },
   "file_extension": ".py",
   "mimetype": "text/x-python",
   "name": "python",
   "nbconvert_exporter": "python",
   "pygments_lexer": "ipython3",
   "version": "3.7.3"
  }
 },
 "nbformat": 4,
 "nbformat_minor": 2
}
