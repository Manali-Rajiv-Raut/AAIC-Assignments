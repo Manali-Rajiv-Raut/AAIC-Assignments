{
 "cells": [
  {
   "cell_type": "markdown",
   "metadata": {},
   "source": [
    "# BackPropagation"
   ]
  },
  {
   "cell_type": "code",
   "execution_count": 1,
   "metadata": {},
   "outputs": [],
   "source": [
    "import numpy as np\n",
    "import pandas as pd\n",
    "import math\n",
    "from tqdm import tqdm\n",
    "import matplotlib.pyplot as plt"
   ]
  },
  {
   "cell_type": "markdown",
   "metadata": {},
   "source": [
    "## 1. Loading data"
   ]
  },
  {
   "cell_type": "code",
   "execution_count": 2,
   "metadata": {},
   "outputs": [
    {
     "name": "stdout",
     "output_type": "stream",
     "text": [
      "(506, 6)\n",
      "(506, 5) (506,)\n"
     ]
    }
   ],
   "source": [
    "import pickle\n",
    "with open('data.pkl', 'rb') as f:\n",
    "    data = pickle.load(f)\n",
    "print(data.shape)\n",
    "X = data[:, :5]\n",
    "y = data[:, -1]\n",
    "print(X.shape, y.shape)"
   ]
  },
  {
   "cell_type": "markdown",
   "metadata": {},
   "source": [
    "## 2. Computational Graph"
   ]
  },
  {
   "cell_type": "markdown",
   "metadata": {},
   "source": [
    "<img src='https://i.imgur.com/seSGbNS.png'>"
   ]
  },
  {
   "cell_type": "markdown",
   "metadata": {},
   "source": [
    "# Task 1: Implementing backpropagation and Gradient checking "
   ]
  },
  {
   "cell_type": "markdown",
   "metadata": {},
   "source": [
    "# foreward propogation"
   ]
  },
  {
   "cell_type": "code",
   "execution_count": 3,
   "metadata": {},
   "outputs": [],
   "source": [
    "def sigmoid_function(x): \n",
    "    return 1.0 / (1 + np.exp(-x))"
   ]
  },
  {
   "cell_type": "code",
   "execution_count": 4,
   "metadata": {},
   "outputs": [
    {
     "data": {
      "text/plain": [
       "True"
      ]
     },
     "execution_count": 4,
     "metadata": {},
     "output_type": "execute_result"
    }
   ],
   "source": [
    "def grader_sigmoid(z):\n",
    "  val=sigmoid_function(z)\n",
    "  assert(val==0.8807970779778823)\n",
    "  return True\n",
    "grader_sigmoid(2)"
   ]
  },
  {
   "cell_type": "code",
   "execution_count": 5,
   "metadata": {},
   "outputs": [],
   "source": [
    "def foreward_propagation(Xi, yi, wi):\n",
    "    hidden_dict = {}\n",
    "    result_dict = {}\n",
    "    \n",
    "    result_dict[\"o1\"] = wi[0] * Xi[0]  \n",
    "    result_dict[\"o2\"] = wi[1] * Xi[1]\n",
    "    result_dict[\"o3\"] = result_dict[\"o1\"]+result_dict[\"o2\"]\n",
    "    result_dict[\"o4\"] = result_dict[\"o3\"] ** 2\n",
    "    result_dict[\"o5\"] = result_dict[\"o4\"]+wi[5]\n",
    "    result_dict[\"o6\"] = np.exp(result_dict[\"o5\"])\n",
    "    exp = result_dict[\"o6\"]\n",
    "    result_dict[\"o7\"] = result_dict[\"o6\"] + wi[6]\n",
    "    result_dict[\"o8\"] = math.tanh(result_dict[\"o7\"])\n",
    "    tanh= result_dict[\"o8\"]\n",
    "    result_dict[\"o9\"] = wi[2] * Xi[2]\n",
    "    result_dict[\"o10\"] = wi[3] * Xi[3]\n",
    "    result_dict[\"o11\"] = wi[4] * Xi[4]\n",
    "    result_dict[\"o12\"] = math.sin(result_dict[\"o9\"])\n",
    "    result_dict[\"o13\"] = result_dict[\"o10\"] + result_dict[\"o11\"]\n",
    "    result_dict[\"o14\"] = result_dict[\"o12\"] * result_dict[\"o13\"]\n",
    "    result_dict[\"o15\"] = result_dict[\"o14\"] + wi[7]\n",
    "    result_dict[\"o16\"] = sigmoid_function(result_dict[\"o15\"])\n",
    "    sigmoid = result_dict[\"o16\"]\n",
    "    result_dict[\"o17\"] = result_dict[\"o16\"] * wi[8]\n",
    "    y_pred = result_dict[\"o8\"] + result_dict[\"o17\"]\n",
    "    L_loss = (yi - y_pred)**2 \n",
    "    dl = -2 * ( yi-y_pred)\n",
    "    result_dict['dl'] = dl\n",
    "    \n",
    "    hidden_dict['dl'] = dl\n",
    "    hidden_dict['loss'] = L_loss\n",
    "    hidden_dict['exp'] = exp\n",
    "    hidden_dict['tanh'] = tanh\n",
    "    hidden_dict['sigmoid'] = sigmoid\n",
    "    \n",
    "    return L_loss , hidden_dict , result_dict    "
   ]
  },
  {
   "cell_type": "code",
   "execution_count": 6,
   "metadata": {},
   "outputs": [
    {
     "data": {
      "text/plain": [
       "{'dl': -1.9285278284819143,\n",
       " 'loss': 0.9298048963072919,\n",
       " 'exp': 1.1272967040973583,\n",
       " 'tanh': 0.8417934192562146,\n",
       " 'sigmoid': 0.5279179387419721}"
      ]
     },
     "execution_count": 6,
     "metadata": {},
     "output_type": "execute_result"
    }
   ],
   "source": [
    "w = np.ones(9)*0.1\n",
    "loss,foreward_dict,output_dict = foreward_propagation(X[0], y[0], w)\n",
    "foreward_dict"
   ]
  },
  {
   "cell_type": "markdown",
   "metadata": {},
   "source": [
    "## grader function - I"
   ]
  },
  {
   "cell_type": "code",
   "execution_count": 7,
   "metadata": {},
   "outputs": [],
   "source": [
    "def grader_forwardprop(data):\n",
    "    dl = (np.round(data['dl'],4)==-1.9285)\n",
    "    loss=(np.round(data['loss'],4)==0.9298)\n",
    "    part1=(np.round(data['exp'],4)==1.1273)\n",
    "    part2=(np.round(data['tanh'],4)==0.8418)\n",
    "    part3=(np.round(data['sigmoid'],4)==0.5279)\n",
    "    assert(dl and loss and part1 and part2 and part3)\n",
    "    return True"
   ]
  },
  {
   "cell_type": "code",
   "execution_count": 8,
   "metadata": {},
   "outputs": [
    {
     "data": {
      "text/plain": [
       "True"
      ]
     },
     "execution_count": 8,
     "metadata": {},
     "output_type": "execute_result"
    }
   ],
   "source": [
    "w=np.ones(9)*0.1\n",
    "_,d1,_=foreward_propagation(X[0],y[0],w)\n",
    "grader_forwardprop(d1)"
   ]
  },
  {
   "cell_type": "markdown",
   "metadata": {},
   "source": [
    "# backward proagation"
   ]
  },
  {
   "cell_type": "code",
   "execution_count": 9,
   "metadata": {},
   "outputs": [],
   "source": [
    "# derivative of sigmoid activation function\n",
    "def derivative_sigmoid(x):\n",
    "    return sigmoid_function(x) * (1-sigmoid_function(x))"
   ]
  },
  {
   "cell_type": "code",
   "execution_count": 10,
   "metadata": {},
   "outputs": [],
   "source": [
    "def backward_propagation(Xi,yi,wi,dic):\n",
    "    der_dict={}\n",
    "    \n",
    "    #dl_dw1 = dl_do8 * do8_do7 * do7_do6 * do6_do5 * do5_do4 * do4_do3 * do3_do1 * do1_dw1\n",
    "    der_dict[\"dw1\"] = dic[\"dl\"] * (1 - (math.tanh(dic[\"o6\"]+wi[6]) **2)) * 1 * dic[\"o6\"] * 1 * (2 * dic[\"o3\"]) * 1 * Xi[0]\n",
    "    \n",
    "    #dl_dw2 = dl_do8 * do8_do7 * do7_do6 * do6_do5 * do5_do4 * do4_do3 * do3_do2 * do2_dw2\n",
    "    der_dict[\"dw2\"] = dic[\"dl\"] * (1 - (math.tanh(dic[\"o6\"]+wi[6]) **2)) * 1 * dic[\"o6\"] * 1 * (2 * dic[\"o3\"]) * 1 * Xi[1]\n",
    "    \n",
    "    #dl_dw3 = dl_do17 * do17_do16 * do16_do15 * do15_do14* do14_do12 * do12_do9 * do9_dw3\n",
    "    der_dict[\"dw3\"] = dic[\"dl\"] * wi[8] * derivative_sigmoid(dic[\"o15\"]) * 1 * dic[\"o13\"] * math.cos(dic[\"o9\"]) * Xi[2]\n",
    "    \n",
    "    #dl_dw4 = dl_do17 * do17_do16 * do16_do15 * do15_do14 * do14_do13 * do13_do10 * do10_dw4\n",
    "    der_dict[\"dw4\"] = dic[\"dl\"] * wi[8] * derivative_sigmoid(dic[\"o15\"]) * 1 * dic[\"o12\"] * 1 * Xi[3]\n",
    "    \n",
    "    #dl_dw5 = dl_do17 * do17_do16 * do16_do15 * do15_do14 * do14_do13 * do13_do11 * do11_dw5\n",
    "    der_dict[\"dw5\"] = dic[\"dl\"] * wi[8] * derivative_sigmoid(dic[\"o15\"]) * 1 * dic[\"o12\"] * 1 * Xi[4]\n",
    "    \n",
    "    #dl_dw6 = dl_do8 * do8_do7 * do7_do6 *do6_do5\n",
    "    der_dict[\"dw6\"] = dic[\"dl\"] * (1 - (math.tanh(dic[\"o6\"]+wi[6]) **2)) * 1 * dic[\"o6\"]\n",
    "    \n",
    "    #dl_dw7 = dl_do8 * do8_do7 \n",
    "    der_dict[\"dw7\"] =  dic[\"dl\"] * (1 - (math.tanh(dic[\"o6\"]+wi[6]) **2))\n",
    "    \n",
    "    #dl_dw8 = dl_do17 * do17_do16 * do16_do15 \n",
    "    der_dict[\"dw8\"] = dic[\"dl\"] * wi[8] * derivative_sigmoid(dic[\"o15\"])\n",
    "    \n",
    "    #dl_dw9 = dl_do17  * o16\n",
    "    der_dict[\"dw9\"] = dic[\"dl\"] * dic[\"o16\"]\n",
    "    \n",
    "    return der_dict"
   ]
  },
  {
   "cell_type": "code",
   "execution_count": 11,
   "metadata": {},
   "outputs": [
    {
     "data": {
      "text/plain": [
       "{'dw1': -0.22973323498702,\n",
       " 'dw2': -0.02140761471775293,\n",
       " 'dw3': -0.005625405580266319,\n",
       " 'dw4': -0.004657941222712423,\n",
       " 'dw5': -0.0010077228498574246,\n",
       " 'dw6': -0.6334751873437471,\n",
       " 'dw7': -0.561941842854033,\n",
       " 'dw8': -0.04806288407316516,\n",
       " 'dw9': -1.0181044360187037}"
      ]
     },
     "execution_count": 11,
     "metadata": {},
     "output_type": "execute_result"
    }
   ],
   "source": [
    "derivative_list = backward_propagation(X[0],y[0],w,output_dict)\n",
    "derivative_list"
   ]
  },
  {
   "cell_type": "markdown",
   "metadata": {},
   "source": [
    "## grader function -II"
   ]
  },
  {
   "cell_type": "code",
   "execution_count": 12,
   "metadata": {},
   "outputs": [],
   "source": [
    "def grader_backprop(data):\n",
    "    dw1=(np.round(data['dw1'],4)==-0.2297)\n",
    "    dw2=(np.round(data['dw2'],4)==-0.0214)\n",
    "    dw3=(np.round(data['dw3'],4)==-0.0056)\n",
    "    dw4=(np.round(data['dw4'],4)==-0.0047)\n",
    "    dw5=(np.round(data['dw5'],4)==-0.001)\n",
    "    dw6=(np.round(data['dw6'],4)==-0.6335)\n",
    "    dw7=(np.round(data['dw7'],4)==-0.5619)\n",
    "    dw8=(np.round(data['dw8'],4)==-0.0481)\n",
    "    dw9=(np.round(data['dw9'],4)==-1.0181)\n",
    "    assert(dw1 and dw2 and dw3 and dw4 and dw5 and dw6 and dw7 and dw8 and dw9)\n",
    "    return True "
   ]
  },
  {
   "cell_type": "code",
   "execution_count": 13,
   "metadata": {},
   "outputs": [
    {
     "data": {
      "text/plain": [
       "True"
      ]
     },
     "execution_count": 13,
     "metadata": {},
     "output_type": "execute_result"
    }
   ],
   "source": [
    "w=np.ones(9)*0.1\n",
    "epsilon = 1e-7\n",
    "_,_,dic=foreward_propagation(X[0],y[0],w)\n",
    "d1=backward_propagation(X[0],y[0],w,dic)\n",
    "grader_backprop(d1)"
   ]
  },
  {
   "cell_type": "markdown",
   "metadata": {},
   "source": [
    "## Gradient Checking"
   ]
  },
  {
   "cell_type": "code",
   "execution_count": 14,
   "metadata": {},
   "outputs": [],
   "source": [
    "def gradient_checking(X,y) :\n",
    "    approx_gradients = []\n",
    "    gradient_check_list = []\n",
    "    num_diff =[]\n",
    "    \n",
    "    epsilon = 1e-7\n",
    "    w = np.ones(9)*0.1\n",
    "    loss ,_,output_dict=foreward_propagation(X,y,w)\n",
    "    gradient_w = backward_propagation(X,y,w,output_dict)\n",
    "    grad_w = [ v for v in gradient_w.values()]\n",
    "    \n",
    "    for r in range(len(w)) :\n",
    "        w[r]  = w[r]+epsilon\n",
    "        L_val_plus,_,_ = foreward_propagation(X, y, w)\n",
    "        \n",
    "        w[r] = w[r] - (2*epsilon)\n",
    "        L_val_minus,_,_ = foreward_propagation(X, y, w) \n",
    "        \n",
    "        approx_w = (L_val_plus - L_val_minus) / (2 * epsilon)\n",
    "        approx_gradients.append(approx_w)\n",
    "        \n",
    "        diff = (grad_w[r] - approx_w ) \n",
    "        num_diff.append(diff)\n",
    "        w[r]  = w[r]+epsilon     \n",
    "    \n",
    "    numerator = np.linalg.norm(num_diff)\n",
    "    denominator = np.linalg.norm (grad_w) + np.linalg.norm (approx_gradients)\n",
    "    grad_check = numerator / denominator\n",
    "    \n",
    "    if grad_check < epsilon :\n",
    "        print(\"Backprapagation is implemented correctly\")\n",
    "    else:\n",
    "        print(\"There is potentially a mistake in backpropagation implementation\")\n",
    "    \n",
    "    print(\"The gradient checking difference is\",grad_check)    "
   ]
  },
  {
   "cell_type": "code",
   "execution_count": 15,
   "metadata": {},
   "outputs": [
    {
     "name": "stdout",
     "output_type": "stream",
     "text": [
      "Backprapagation is implemented correctly\n",
      "The gradient checking difference is 4.889563319781164e-10\n"
     ]
    }
   ],
   "source": [
    "gradient_checking(X[0],y[0])"
   ]
  },
  {
   "cell_type": "markdown",
   "metadata": {},
   "source": [
    "## Task2 :Optimizers"
   ]
  },
  {
   "cell_type": "markdown",
   "metadata": {},
   "source": [
    "## 1. Algorithm with Vanilla update of weights :"
   ]
  },
  {
   "cell_type": "code",
   "execution_count": 16,
   "metadata": {},
   "outputs": [],
   "source": [
    "def vanilla_weight_update(w,grad_wt):\n",
    "    up_wt =[]\n",
    "    learning_rate = 0.0001\n",
    "    for r in range (len(w)):\n",
    "        up_weight = w[r] - learning_rate * grad_wt[r]\n",
    "        up_wt.append(up_weight)\n",
    "        \n",
    "    return up_wt"
   ]
  },
  {
   "cell_type": "code",
   "execution_count": 19,
   "metadata": {},
   "outputs": [],
   "source": [
    "#from sklearn.utils import shuffle\n",
    "def backprapogation_with_vanilla(X,y,w,epochs):\n",
    "    main_loss = []\n",
    "    for r in range(epochs) :\n",
    "        #X, y = shuffle(X, y, random_state=0)\n",
    "        loss = []\n",
    "        \n",
    "        for d in range(len(X)) :\n",
    "            #print(w)\n",
    "            L_loss,_,output_dict = foreward_propagation(X[d],y[d],w)\n",
    "            gradient_w = backward_propagation(X[d],y[d],w,output_dict)\n",
    "            grad_wt = [ v for v in gradient_w.values()]\n",
    "            new_wt = vanilla_weight_update(w,grad_wt)\n",
    "            w= new_wt\n",
    "            #print(new_wt)\n",
    "            loss.append(L_loss)\n",
    "            \n",
    "        main_loss.append(np.mean(loss))\n",
    "        print(\"Epoch: %d, Loss: %.3f\" %(r+1, np.mean(loss)))\n",
    "    \n",
    "    # Plot loss in each iteration\n",
    "    plt.figure()\n",
    "    #plt.scatter(X,y)\n",
    "    plt.plot(np.array(main_loss), label='MSE')\n",
    "    plt.title(\"Loss per iteration with vanilla weight update\")\n",
    "    plt.xlabel(\"Number of iterations\")\n",
    "    plt.ylabel(\"Loss\")\n",
    "    plt.legend()\n",
    "    plt.show()  \n",
    "    return main_loss"
   ]
  },
  {
   "cell_type": "code",
   "execution_count": 20,
   "metadata": {
    "scrolled": false
   },
   "outputs": [
    {
     "name": "stdout",
     "output_type": "stream",
     "text": [
      "Epoch: 1, Loss: 0.771\n",
      "Epoch: 2, Loss: 0.705\n",
      "Epoch: 3, Loss: 0.648\n",
      "Epoch: 4, Loss: 0.598\n",
      "Epoch: 5, Loss: 0.553\n",
      "Epoch: 6, Loss: 0.512\n",
      "Epoch: 7, Loss: 0.475\n",
      "Epoch: 8, Loss: 0.442\n",
      "Epoch: 9, Loss: 0.412\n",
      "Epoch: 10, Loss: 0.384\n",
      "Epoch: 11, Loss: 0.358\n",
      "Epoch: 12, Loss: 0.334\n",
      "Epoch: 13, Loss: 0.312\n",
      "Epoch: 14, Loss: 0.291\n",
      "Epoch: 15, Loss: 0.272\n",
      "Epoch: 16, Loss: 0.254\n",
      "Epoch: 17, Loss: 0.238\n",
      "Epoch: 18, Loss: 0.223\n",
      "Epoch: 19, Loss: 0.208\n",
      "Epoch: 20, Loss: 0.195\n",
      "Epoch: 21, Loss: 0.183\n",
      "Epoch: 22, Loss: 0.171\n",
      "Epoch: 23, Loss: 0.160\n",
      "Epoch: 24, Loss: 0.150\n",
      "Epoch: 25, Loss: 0.141\n",
      "Epoch: 26, Loss: 0.132\n",
      "Epoch: 27, Loss: 0.124\n",
      "Epoch: 28, Loss: 0.117\n",
      "Epoch: 29, Loss: 0.110\n",
      "Epoch: 30, Loss: 0.103\n",
      "Epoch: 31, Loss: 0.097\n",
      "Epoch: 32, Loss: 0.092\n",
      "Epoch: 33, Loss: 0.086\n",
      "Epoch: 34, Loss: 0.082\n",
      "Epoch: 35, Loss: 0.077\n",
      "Epoch: 36, Loss: 0.073\n",
      "Epoch: 37, Loss: 0.069\n",
      "Epoch: 38, Loss: 0.066\n",
      "Epoch: 39, Loss: 0.063\n",
      "Epoch: 40, Loss: 0.060\n",
      "Epoch: 41, Loss: 0.057\n",
      "Epoch: 42, Loss: 0.055\n",
      "Epoch: 43, Loss: 0.052\n",
      "Epoch: 44, Loss: 0.050\n",
      "Epoch: 45, Loss: 0.048\n",
      "Epoch: 46, Loss: 0.046\n",
      "Epoch: 47, Loss: 0.045\n",
      "Epoch: 48, Loss: 0.043\n",
      "Epoch: 49, Loss: 0.042\n",
      "Epoch: 50, Loss: 0.041\n",
      "Epoch: 51, Loss: 0.039\n",
      "Epoch: 52, Loss: 0.038\n",
      "Epoch: 53, Loss: 0.037\n",
      "Epoch: 54, Loss: 0.036\n",
      "Epoch: 55, Loss: 0.036\n",
      "Epoch: 56, Loss: 0.035\n",
      "Epoch: 57, Loss: 0.034\n",
      "Epoch: 58, Loss: 0.034\n",
      "Epoch: 59, Loss: 0.033\n",
      "Epoch: 60, Loss: 0.032\n",
      "Epoch: 61, Loss: 0.032\n",
      "Epoch: 62, Loss: 0.031\n",
      "Epoch: 63, Loss: 0.031\n",
      "Epoch: 64, Loss: 0.031\n",
      "Epoch: 65, Loss: 0.030\n",
      "Epoch: 66, Loss: 0.030\n",
      "Epoch: 67, Loss: 0.030\n",
      "Epoch: 68, Loss: 0.029\n",
      "Epoch: 69, Loss: 0.029\n",
      "Epoch: 70, Loss: 0.029\n",
      "Epoch: 71, Loss: 0.029\n",
      "Epoch: 72, Loss: 0.028\n",
      "Epoch: 73, Loss: 0.028\n",
      "Epoch: 74, Loss: 0.028\n",
      "Epoch: 75, Loss: 0.028\n",
      "Epoch: 76, Loss: 0.028\n",
      "Epoch: 77, Loss: 0.028\n",
      "Epoch: 78, Loss: 0.027\n",
      "Epoch: 79, Loss: 0.027\n",
      "Epoch: 80, Loss: 0.027\n",
      "Epoch: 81, Loss: 0.027\n",
      "Epoch: 82, Loss: 0.027\n",
      "Epoch: 83, Loss: 0.027\n",
      "Epoch: 84, Loss: 0.027\n",
      "Epoch: 85, Loss: 0.027\n",
      "Epoch: 86, Loss: 0.027\n",
      "Epoch: 87, Loss: 0.027\n",
      "Epoch: 88, Loss: 0.026\n",
      "Epoch: 89, Loss: 0.026\n",
      "Epoch: 90, Loss: 0.026\n",
      "Epoch: 91, Loss: 0.026\n",
      "Epoch: 92, Loss: 0.026\n",
      "Epoch: 93, Loss: 0.026\n",
      "Epoch: 94, Loss: 0.026\n",
      "Epoch: 95, Loss: 0.026\n",
      "Epoch: 96, Loss: 0.026\n",
      "Epoch: 97, Loss: 0.026\n",
      "Epoch: 98, Loss: 0.026\n",
      "Epoch: 99, Loss: 0.026\n",
      "Epoch: 100, Loss: 0.026\n"
     ]
    },
    {
     "data": {
      "image/png": "[encoded data removed]",
      "text/plain": [
       "<Figure size 432x288 with 1 Axes>"
      ]
     },
     "metadata": {
      "needs_background": "light"
     },
     "output_type": "display_data"
    }
   ],
   "source": [
    "no_of_epochs = 100\n",
    "epsilon = 1e-7\n",
    "w = np.ones(9)*0.1\n",
    "type(w[0])\n",
    "vanilla_loss = backprapogation_with_vanilla(X,y,w,no_of_epochs)"
   ]
  },
  {
   "cell_type": "markdown",
   "metadata": {},
   "source": [
    "## 2. Algorithm with momentum update of weights :"
   ]
  },
  {
   "cell_type": "code",
   "execution_count": 21,
   "metadata": {},
   "outputs": [],
   "source": [
    "def initialize_velocity(grad_wt):\n",
    "    velocity = []\n",
    "    learning_rate = 0.0001\n",
    "    v = 0\n",
    "    mu = 0.9\n",
    "    # Initialize velocity\n",
    "    for l in range(len(grad_wt)):\n",
    "        v = mu * v - learning_rate * grad_wt[l]\n",
    "        velocity.append(v)   \n",
    "    return velocity"
   ]
  },
  {
   "cell_type": "code",
   "execution_count": 22,
   "metadata": {},
   "outputs": [],
   "source": [
    "def momentum_weight_update(wo,grad_wt):\n",
    "    up_wt = []\n",
    "    velocity = initialize_velocity(grad_wt)\n",
    "    \n",
    "    for r in range(len(wo)):\n",
    "        up_weight = wo[r]\n",
    "        up_weight += velocity[r]\n",
    "        up_wt.append(up_weight)    \n",
    "    \n",
    "    return up_wt "
   ]
  },
  {
   "cell_type": "code",
   "execution_count": 24,
   "metadata": {},
   "outputs": [],
   "source": [
    "def backprapogation_with_momentum(X,y,w,epochs):\n",
    "    main_loss = []\n",
    "    for r in range(epochs) :\n",
    "        loss = []\n",
    "        for d in range(len(X)) :\n",
    "            \n",
    "            L_loss,_,output_dict = foreward_propagation(X[d],y[d],w)\n",
    "            gradient_w = backward_propagation(X[d],y[d],w,output_dict)\n",
    "            grad_wt = [ v for v in gradient_w.values()]\n",
    "            new_wt = momentum_weight_update(w,grad_wt)\n",
    "            w = new_wt\n",
    "            loss.append(L_loss)\n",
    "            \n",
    "        main_loss.append(np.mean(loss))\n",
    "        print(\"Epoch: %d, Loss: %.3f\" %(r+1, np.mean(loss)))\n",
    "    \n",
    "    # Plot loss in each iteration\n",
    "    plt.figure()\n",
    "    plt.plot(np.array(main_loss), label='MSE')\n",
    "    plt.title(\"Loss per iteration with momentum weight update\")\n",
    "    plt.xlabel(\"Number of iterations\")\n",
    "    plt.ylabel(\"Loss\")\n",
    "    plt.legend()\n",
    "    plt.show()\n",
    "    return main_loss"
   ]
  },
  {
   "cell_type": "code",
   "execution_count": 25,
   "metadata": {
    "scrolled": false
   },
   "outputs": [
    {
     "name": "stdout",
     "output_type": "stream",
     "text": [
      "Epoch: 1, Loss: 0.737\n",
      "Epoch: 2, Loss: 0.618\n",
      "Epoch: 3, Loss: 0.524\n",
      "Epoch: 4, Loss: 0.448\n",
      "Epoch: 5, Loss: 0.384\n",
      "Epoch: 6, Loss: 0.331\n",
      "Epoch: 7, Loss: 0.286\n",
      "Epoch: 8, Loss: 0.247\n",
      "Epoch: 9, Loss: 0.214\n",
      "Epoch: 10, Loss: 0.186\n",
      "Epoch: 11, Loss: 0.162\n",
      "Epoch: 12, Loss: 0.141\n",
      "Epoch: 13, Loss: 0.123\n",
      "Epoch: 14, Loss: 0.107\n",
      "Epoch: 15, Loss: 0.094\n",
      "Epoch: 16, Loss: 0.083\n",
      "Epoch: 17, Loss: 0.073\n",
      "Epoch: 18, Loss: 0.065\n",
      "Epoch: 19, Loss: 0.058\n",
      "Epoch: 20, Loss: 0.052\n",
      "Epoch: 21, Loss: 0.047\n",
      "Epoch: 22, Loss: 0.042\n",
      "Epoch: 23, Loss: 0.039\n",
      "Epoch: 24, Loss: 0.036\n",
      "Epoch: 25, Loss: 0.033\n",
      "Epoch: 26, Loss: 0.031\n",
      "Epoch: 27, Loss: 0.029\n",
      "Epoch: 28, Loss: 0.027\n",
      "Epoch: 29, Loss: 0.026\n",
      "Epoch: 30, Loss: 0.025\n",
      "Epoch: 31, Loss: 0.024\n",
      "Epoch: 32, Loss: 0.023\n",
      "Epoch: 33, Loss: 0.023\n",
      "Epoch: 34, Loss: 0.022\n",
      "Epoch: 35, Loss: 0.022\n",
      "Epoch: 36, Loss: 0.021\n",
      "Epoch: 37, Loss: 0.021\n",
      "Epoch: 38, Loss: 0.021\n",
      "Epoch: 39, Loss: 0.020\n",
      "Epoch: 40, Loss: 0.020\n",
      "Epoch: 41, Loss: 0.020\n",
      "Epoch: 42, Loss: 0.020\n",
      "Epoch: 43, Loss: 0.020\n",
      "Epoch: 44, Loss: 0.019\n",
      "Epoch: 45, Loss: 0.019\n",
      "Epoch: 46, Loss: 0.019\n",
      "Epoch: 47, Loss: 0.019\n",
      "Epoch: 48, Loss: 0.019\n",
      "Epoch: 49, Loss: 0.019\n",
      "Epoch: 50, Loss: 0.019\n",
      "Epoch: 51, Loss: 0.019\n",
      "Epoch: 52, Loss: 0.019\n",
      "Epoch: 53, Loss: 0.018\n",
      "Epoch: 54, Loss: 0.018\n",
      "Epoch: 55, Loss: 0.018\n",
      "Epoch: 56, Loss: 0.018\n",
      "Epoch: 57, Loss: 0.018\n",
      "Epoch: 58, Loss: 0.018\n",
      "Epoch: 59, Loss: 0.018\n",
      "Epoch: 60, Loss: 0.018\n",
      "Epoch: 61, Loss: 0.018\n",
      "Epoch: 62, Loss: 0.018\n",
      "Epoch: 63, Loss: 0.018\n",
      "Epoch: 64, Loss: 0.017\n",
      "Epoch: 65, Loss: 0.017\n",
      "Epoch: 66, Loss: 0.017\n",
      "Epoch: 67, Loss: 0.017\n",
      "Epoch: 68, Loss: 0.017\n",
      "Epoch: 69, Loss: 0.017\n",
      "Epoch: 70, Loss: 0.017\n",
      "Epoch: 71, Loss: 0.017\n",
      "Epoch: 72, Loss: 0.017\n",
      "Epoch: 73, Loss: 0.017\n",
      "Epoch: 74, Loss: 0.016\n",
      "Epoch: 75, Loss: 0.016\n",
      "Epoch: 76, Loss: 0.016\n",
      "Epoch: 77, Loss: 0.016\n",
      "Epoch: 78, Loss: 0.016\n",
      "Epoch: 79, Loss: 0.016\n",
      "Epoch: 80, Loss: 0.016\n",
      "Epoch: 81, Loss: 0.016\n",
      "Epoch: 82, Loss: 0.016\n",
      "Epoch: 83, Loss: 0.015\n",
      "Epoch: 84, Loss: 0.015\n",
      "Epoch: 85, Loss: 0.015\n",
      "Epoch: 86, Loss: 0.015\n",
      "Epoch: 87, Loss: 0.015\n",
      "Epoch: 88, Loss: 0.015\n",
      "Epoch: 89, Loss: 0.015\n",
      "Epoch: 90, Loss: 0.015\n",
      "Epoch: 91, Loss: 0.015\n",
      "Epoch: 92, Loss: 0.014\n",
      "Epoch: 93, Loss: 0.014\n",
      "Epoch: 94, Loss: 0.014\n",
      "Epoch: 95, Loss: 0.014\n",
      "Epoch: 96, Loss: 0.014\n",
      "Epoch: 97, Loss: 0.014\n",
      "Epoch: 98, Loss: 0.014\n",
      "Epoch: 99, Loss: 0.014\n",
      "Epoch: 100, Loss: 0.014\n"
     ]
    },
    {
     "data": {
      "image/png": "[encoded data removed]",
      "text/plain": [
       "<Figure size 432x288 with 1 Axes>"
      ]
     },
     "metadata": {
      "needs_background": "light"
     },
     "output_type": "display_data"
    }
   ],
   "source": [
    "no_of_epochs = 100\n",
    "epsilon = 1e-7\n",
    "momentum_loss = backprapogation_with_momentum(X,y,w,no_of_epochs)"
   ]
  },
  {
   "cell_type": "markdown",
   "metadata": {},
   "source": [
    "## 3. Algorithm with Adam update of weights :"
   ]
  },
  {
   "cell_type": "code",
   "execution_count": 57,
   "metadata": {},
   "outputs": [],
   "source": [
    "def adam_weight_update(w,grad_wt):\n",
    "    eps = 1e-8\n",
    "    beta1 = 0.9\n",
    "    beta2 = 0.999\n",
    "    learning_rate = 0.0001\n",
    "    \n",
    "    up_wt = []\n",
    "    m= 0\n",
    "    v= 0\n",
    "    t = 0\n",
    "    for r in range(len(w)):\n",
    "        t+=1\n",
    "        m = beta1 * m + (1-beta1) * grad_wt[r]\n",
    "        m_t = m / (1-beta1**t)\n",
    "        v = beta2 * v + (1-beta2) * (grad_wt[r]**2)\n",
    "        v_t = v / (1-beta2**t)\n",
    "        up_weight = w[r]\n",
    "        up_weight += (-learning_rate * m_t)/(np.sqrt(v_t) + eps)\n",
    "        up_wt.append(up_weight)    \n",
    "    \n",
    "    return up_wt"
   ]
  },
  {
   "cell_type": "code",
   "execution_count": 61,
   "metadata": {},
   "outputs": [],
   "source": [
    "def backprapogation_with_adam(X,y,w,epochs):\n",
    "    main_loss = []\n",
    "    for r in range(epochs) :\n",
    "        loss = []\n",
    "        for d in range(len(X)) :\n",
    "            \n",
    "            L_loss,_,output_dict = foreward_propagation(X[d],y[d],w)\n",
    "            gradient_w = backward_propagation(X[d],y[d],w,output_dict)\n",
    "            grad_wt = [ v for v in gradient_w.values()]\n",
    "            new_wt = adam_weight_update(w,grad_wt)\n",
    "            w = new_wt\n",
    "            loss.append(L_loss)\n",
    "            \n",
    "        main_loss.append(np.mean(loss))\n",
    "        print(\"Epoch: %d, Loss: %.3f\" %(r+1, np.mean(loss)))\n",
    "    \n",
    "    # Plot loss in each iteration\n",
    "    plt.figure()\n",
    "    plt.plot(np.array(main_loss), label='mse')\n",
    "    plt.title(\"Loss per iteration with adam weight update\")\n",
    "    plt.xlabel(\"Number of iterations\")\n",
    "    plt.ylabel(\"Loss\")\n",
    "    plt.legend()\n",
    "    plt.show()\n",
    "    return main_loss"
   ]
  },
  {
   "cell_type": "code",
   "execution_count": 62,
   "metadata": {
    "scrolled": false
   },
   "outputs": [
    {
     "name": "stdout",
     "output_type": "stream",
     "text": [
      "Epoch: 1, Loss: 0.762\n",
      "Epoch: 2, Loss: 0.680\n",
      "Epoch: 3, Loss: 0.605\n",
      "Epoch: 4, Loss: 0.540\n",
      "Epoch: 5, Loss: 0.483\n",
      "Epoch: 6, Loss: 0.434\n",
      "Epoch: 7, Loss: 0.393\n",
      "Epoch: 8, Loss: 0.357\n",
      "Epoch: 9, Loss: 0.324\n",
      "Epoch: 10, Loss: 0.295\n",
      "Epoch: 11, Loss: 0.268\n",
      "Epoch: 12, Loss: 0.243\n",
      "Epoch: 13, Loss: 0.219\n",
      "Epoch: 14, Loss: 0.196\n",
      "Epoch: 15, Loss: 0.174\n",
      "Epoch: 16, Loss: 0.154\n",
      "Epoch: 17, Loss: 0.135\n",
      "Epoch: 18, Loss: 0.116\n",
      "Epoch: 19, Loss: 0.099\n",
      "Epoch: 20, Loss: 0.084\n",
      "Epoch: 21, Loss: 0.069\n",
      "Epoch: 22, Loss: 0.056\n",
      "Epoch: 23, Loss: 0.045\n",
      "Epoch: 24, Loss: 0.035\n",
      "Epoch: 25, Loss: 0.026\n",
      "Epoch: 26, Loss: 0.019\n",
      "Epoch: 27, Loss: 0.013\n",
      "Epoch: 28, Loss: 0.009\n",
      "Epoch: 29, Loss: 0.006\n",
      "Epoch: 30, Loss: 0.004\n",
      "Epoch: 31, Loss: 0.002\n",
      "Epoch: 32, Loss: 0.002\n",
      "Epoch: 33, Loss: 0.001\n",
      "Epoch: 34, Loss: 0.001\n",
      "Epoch: 35, Loss: 0.001\n",
      "Epoch: 36, Loss: 0.001\n",
      "Epoch: 37, Loss: 0.001\n",
      "Epoch: 38, Loss: 0.000\n",
      "Epoch: 39, Loss: 0.000\n",
      "Epoch: 40, Loss: 0.000\n",
      "Epoch: 41, Loss: 0.000\n",
      "Epoch: 42, Loss: 0.000\n",
      "Epoch: 43, Loss: 0.000\n",
      "Epoch: 44, Loss: 0.000\n",
      "Epoch: 45, Loss: 0.000\n",
      "Epoch: 46, Loss: 0.000\n",
      "Epoch: 47, Loss: 0.000\n",
      "Epoch: 48, Loss: 0.000\n",
      "Epoch: 49, Loss: 0.000\n",
      "Epoch: 50, Loss: 0.000\n",
      "Epoch: 51, Loss: 0.000\n",
      "Epoch: 52, Loss: 0.000\n",
      "Epoch: 53, Loss: 0.000\n",
      "Epoch: 54, Loss: 0.000\n",
      "Epoch: 55, Loss: 0.000\n",
      "Epoch: 56, Loss: 0.000\n",
      "Epoch: 57, Loss: 0.000\n",
      "Epoch: 58, Loss: 0.000\n",
      "Epoch: 59, Loss: 0.000\n",
      "Epoch: 60, Loss: 0.000\n",
      "Epoch: 61, Loss: 0.000\n",
      "Epoch: 62, Loss: 0.000\n",
      "Epoch: 63, Loss: 0.000\n",
      "Epoch: 64, Loss: 0.000\n",
      "Epoch: 65, Loss: 0.000\n",
      "Epoch: 66, Loss: 0.000\n",
      "Epoch: 67, Loss: 0.000\n",
      "Epoch: 68, Loss: 0.000\n",
      "Epoch: 69, Loss: 0.000\n",
      "Epoch: 70, Loss: 0.000\n",
      "Epoch: 71, Loss: 0.000\n",
      "Epoch: 72, Loss: 0.000\n",
      "Epoch: 73, Loss: 0.000\n",
      "Epoch: 74, Loss: 0.000\n",
      "Epoch: 75, Loss: 0.000\n",
      "Epoch: 76, Loss: 0.000\n",
      "Epoch: 77, Loss: 0.000\n",
      "Epoch: 78, Loss: 0.000\n",
      "Epoch: 79, Loss: 0.000\n",
      "Epoch: 80, Loss: 0.000\n",
      "Epoch: 81, Loss: 0.000\n",
      "Epoch: 82, Loss: 0.000\n",
      "Epoch: 83, Loss: 0.000\n",
      "Epoch: 84, Loss: 0.000\n",
      "Epoch: 85, Loss: 0.000\n",
      "Epoch: 86, Loss: 0.000\n",
      "Epoch: 87, Loss: 0.000\n",
      "Epoch: 88, Loss: 0.000\n",
      "Epoch: 89, Loss: 0.000\n",
      "Epoch: 90, Loss: 0.000\n",
      "Epoch: 91, Loss: 0.000\n",
      "Epoch: 92, Loss: 0.000\n",
      "Epoch: 93, Loss: 0.000\n",
      "Epoch: 94, Loss: 0.000\n",
      "Epoch: 95, Loss: 0.000\n",
      "Epoch: 96, Loss: 0.000\n",
      "Epoch: 97, Loss: 0.000\n",
      "Epoch: 98, Loss: 0.000\n",
      "Epoch: 99, Loss: 0.000\n",
      "Epoch: 100, Loss: 0.000\n"
     ]
    },
    {
     "data": {
      "image/png": "[encoded data removed]",
      "text/plain": [
       "<Figure size 432x288 with 1 Axes>"
      ]
     },
     "metadata": {
      "needs_background": "light"
     },
     "output_type": "display_data"
    }
   ],
   "source": [
    "no_of_epochs = 100\n",
    "epsilon = 1e-7\n",
    "adagrad_loss = backprapogation_with_adam(X,y,w,no_of_epochs)"
   ]
  },
  {
   "cell_type": "markdown",
   "metadata": {},
   "source": [
    "### Comparision plot between epochs and loss with different optimizers\n"
   ]
  },
  {
   "cell_type": "code",
   "execution_count": 63,
   "metadata": {},
   "outputs": [
    {
     "data": {
      "image/png": "[encoded data removed]",
      "text/plain": [
       "<Figure size 432x288 with 1 Axes>"
      ]
     },
     "metadata": {
      "needs_background": "light"
     },
     "output_type": "display_data"
    }
   ],
   "source": [
    "plt.figure()\n",
    "plt.plot(np.array(vanilla_loss), label='vanilla_loss',color = 'b')\n",
    "plt.plot(np.array(momentum_loss), label='momentum_loss',color = 'g')\n",
    "plt.plot(np.array(adagrad_loss), label='adam_loss',color = 'r')\n",
    "plt.title(\"Loss per iteration\")\n",
    "plt.xlabel(\"Number of iterations\")\n",
    "plt.ylabel(\"Loss\")\n",
    "plt.legend()\n",
    "plt.show()"
   ]
  },
  {
   "cell_type": "markdown",
   "metadata": {},
   "source": [
    "Observation :\n",
    "         I have observed that , in three optimizers of backpropogation , adam weight update work better than vanilla and \n",
    "        momentum. The loss minimization is good compared to remaining optimizers in nearly 35 to 40 epocchs."
   ]
  },
  {
   "cell_type": "code",
   "execution_count": null,
   "metadata": {},
   "outputs": [],
   "source": []
  }
 ],
 "metadata": {
  "kernelspec": {
   "display_name": "Python 3",
   "language": "python",
   "name": "python3"
  },
  "language_info": {
   "codemirror_mode": {
    "name": "ipython",
    "version": 3
   },
   "file_extension": ".py",
   "mimetype": "text/x-python",
   "name": "python",
   "nbconvert_exporter": "python",
   "pygments_lexer": "ipython3",
   "version": "3.7.4"
  }
 },
 "nbformat": 4,
 "nbformat_minor": 2
}
