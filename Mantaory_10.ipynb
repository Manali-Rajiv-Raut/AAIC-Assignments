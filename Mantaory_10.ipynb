{
  "nbformat": 4,
  "nbformat_minor": 0,
  "metadata": {
    "colab": {
      "name": "new_bootstrap_final_file.ipynb",
      "provenance": [],
      "collapsed_sections": []
    },
    "kernelspec": {
      "display_name": "Python 3",
      "language": "python",
      "name": "python3"
    },
    "language_info": {
      "codemirror_mode": {
        "name": "ipython",
        "version": 3
      },
      "file_extension": ".py",
      "mimetype": "text/x-python",
      "name": "python",
      "nbconvert_exporter": "python",
      "pygments_lexer": "ipython3",
      "version": "3.7.3"
    }
  },
  "cells": [
    {
      "cell_type": "markdown",
      "metadata": {
        "colab_type": "text",
        "id": "3vWnKY2VWInW"
      },
      "source": [
        "# Application of Bootstrap samples in Random Forest"
      ]
    },
    {
      "cell_type": "code",
      "metadata": {
        "colab_type": "code",
        "id": "SQiUXziIWInX",
        "colab": {}
      },
      "source": [
        "import numpy as np\n",
        "from sklearn.datasets import load_boston\n",
        "from sklearn.metrics import mean_squared_error\n",
        "import warnings\n",
        "warnings.filterwarnings(\"ignore\")"
      ],
      "execution_count": 0,
      "outputs": []
    },
    {
      "cell_type": "markdown",
      "metadata": {
        "colab_type": "text",
        "id": "M_Ucx_KEWInc"
      },
      "source": [
        "### 1. Load the boston house dataset"
      ]
    },
    {
      "cell_type": "code",
      "metadata": {
        "colab_type": "code",
        "id": "snIbim4YWInc",
        "colab": {}
      },
      "source": [
        "boston = load_boston()\n",
        "X=boston.data #independent variables\n",
        "y=boston.target #target variable"
      ],
      "execution_count": 0,
      "outputs": []
    },
    {
      "cell_type": "code",
      "metadata": {
        "colab_type": "code",
        "id": "q2uBUG86WInh",
        "outputId": "4c41527e-b3ea-4364-f073-8a066b60f0af",
        "colab": {
          "base_uri": "https://localhost:8080/",
          "height": 50
        }
      },
      "source": [
        "print(X.shape)\n",
        "print(y.shape)"
      ],
      "execution_count": 9,
      "outputs": [
        {
          "output_type": "stream",
          "text": [
            "(506, 13)\n",
            "(506,)\n"
          ],
          "name": "stdout"
        }
      ]
    },
    {
      "cell_type": "markdown",
      "metadata": {
        "colab_type": "text",
        "id": "XQMRgDmQWInl"
      },
      "source": [
        "## Task 1"
      ]
    },
    {
      "cell_type": "markdown",
      "metadata": {
        "colab_type": "text",
        "id": "2ds7PbTnWInm"
      },
      "source": [
        "### 2. Creating samples"
      ]
    },
    {
      "cell_type": "code",
      "metadata": {
        "colab_type": "code",
        "id": "1-euesiNWInn",
        "colab": {}
      },
      "source": [
        "import random\n",
        "def create_sample(data_x,data_y):\n",
        "    #col = np.random.randint(1,10)\n",
        "    size_1 = int((len(data_x))* (60/100))\n",
        "    random_indices = random.sample(range(len(data_x)), size_1)\n",
        "    sample_1_x = data_x[random_indices,:]\n",
        "    sample_1_y = data_y[random_indices]\n",
        "    \n",
        "    size_2 = len(data_x)-size_1\n",
        "    random_indices1 = random.sample(range(len(sample_1_x)), size_2)\n",
        "    sample_2_x = sample_1_x[random_indices1,:]\n",
        "    sample_2_y = sample_1_y[random_indices1]\n",
        "    \n",
        "    main_sample_x = np.concatenate((sample_1_x , sample_2_x ))\n",
        "    main_sample_y = np.concatenate((sample_1_y , sample_2_y ))\n",
        "    return main_sample_x , main_sample_y, random_indices"
      ],
      "execution_count": 0,
      "outputs": []
    },
    {
      "cell_type": "code",
      "metadata": {
        "colab_type": "code",
        "id": "9z5zpM_7WInq",
        "colab": {}
      },
      "source": [
        "def create_30 (data_x,data_y) :\n",
        "    x_list = []\n",
        "    y_list = []\n",
        "    selected_Ind=[]\n",
        "    selected_Col=[]\n",
        "    no_of_sample = 30\n",
        "    for i in range (no_of_sample) :\n",
        "        sample_x, sample_y, selIdx = create_sample(data_x,data_y)\n",
        "        selected_Ind.append(selIdx)\n",
        "        col_num = np.random.randint(3,14)\n",
        "        # col_num = round(13 * ratio)\n",
        "        selCol=random.sample(range(0,13), col_num)\n",
        "        selected_Col.append(selCol)\n",
        "        s = sample_x[:,selCol]\n",
        "        x_list.append(s)\n",
        "        y_list.append(sample_y)\n",
        "        \n",
        "    return x_list, y_list, selected_Ind, selected_Col"
      ],
      "execution_count": 0,
      "outputs": []
    },
    {
      "cell_type": "code",
      "metadata": {
        "colab_type": "code",
        "id": "CtJUnO3PWInt",
        "colab": {
          "base_uri": "https://localhost:8080/",
          "height": 34
        },
        "outputId": "688ce5bc-2c47-4bfa-c9da-6be9f0b64cb5"
      },
      "source": [
        "sample_x , sample_y, selected_Ind, selected_Col = create_30 (X,y)\n",
        "len(sample_x)"
      ],
      "execution_count": 42,
      "outputs": [
        {
          "output_type": "execute_result",
          "data": {
            "text/plain": [
              "30"
            ]
          },
          "metadata": {
            "tags": []
          },
          "execution_count": 42
        }
      ]
    },
    {
      "cell_type": "code",
      "metadata": {
        "colab_type": "code",
        "id": "COE8IvrKWIny",
        "colab": {}
      },
      "source": [
        "# applied decision tree regressor on 30 samples n model saved in a list\n",
        "from sklearn.tree import DecisionTreeRegressor\n",
        "def TrainDTR(sample_x,sample_y):\n",
        "    no_of_samples = len(sample_x)\n",
        "    AllregTree=[]\n",
        "    \n",
        "    for sm in range(no_of_samples):\n",
        "        sx=sample_x[sm]\n",
        "        sy=sample_y[sm]\n",
        "        \n",
        "        regressor = DecisionTreeRegressor( max_depth=None )\n",
        "        #regressor = DecisionTreeRegressor()\n",
        "        reg =regressor.fit(sx,sy)\n",
        "        AllregTree.append(reg)\n",
        "        \n",
        "    return AllregTree"
      ],
      "execution_count": 0,
      "outputs": []
    },
    {
      "cell_type": "code",
      "metadata": {
        "colab_type": "code",
        "id": "-2ooJlgKWIn1",
        "colab": {}
      },
      "source": [
        "def main_function_MSE(sx, sy, AllregTree, selCol):\n",
        "    mseList=[]\n",
        "    mse=[]\n",
        "  \n",
        "    for r in range(len(sx)):\n",
        "        srow=sx[r].reshape(1,-1)\n",
        "        yrow=sy[r]\n",
        "        y_predicted=[]\n",
        "        for art in range(len(AllregTree)):\n",
        "            scol=np.array(selCol[art])\n",
        "            reg =AllregTree[art]\n",
        "            serow=srow[0,scol].reshape(1,-1)\n",
        "            preY=reg.predict(serow)\n",
        "            y_predicted.append( preY )\n",
        "               \n",
        "        yp = np.mean(y_predicted)\n",
        "                \n",
        "        mse.append( (yrow - yp)**2)\n",
        "    mseList.append(np.mean(mse))\n",
        "    return mseList"
      ],
      "execution_count": 0,
      "outputs": []
    },
    {
      "cell_type": "code",
      "metadata": {
        "colab_type": "code",
        "id": "mGnmwppdWIn4",
        "outputId": "2dcd57e0-20cc-4e59-aa4d-c33f27305aa7",
        "colab": {
          "base_uri": "https://localhost:8080/",
          "height": 67
        }
      },
      "source": [
        "AllregTree = TrainDTR(sample_x,sample_y)\n",
        "mse_30_list = main_function_MSE(X,y, AllregTree, selected_Col)\n",
        "print(\"\\n The Mean Standard Error of randomly created 30 samples is :\")\n",
        "print(mse_30_list)"
      ],
      "execution_count": 43,
      "outputs": [
        {
          "output_type": "stream",
          "text": [
            "\n",
            " The Mean Standard Error of randomly created 30 samples is :\n",
            "[2.3781190890365003]\n"
          ],
          "name": "stdout"
        }
      ]
    },
    {
      "cell_type": "code",
      "metadata": {
        "colab_type": "code",
        "id": "54Du6bCqWIn7",
        "colab": {}
      },
      "source": [
        "def main_function_OOB(sx, sy, AllregTree, selInd, selCol):\n",
        "    oobList=[]\n",
        "\n",
        "    oob=[]\n",
        "    \n",
        "    for r in range(len(sx)):\n",
        "        srow=sx[r].reshape(1,-1)\n",
        "        yrow=sy[r]\n",
        "        y_predicted=[]\n",
        "        for art in range(len(AllregTree)):\n",
        "            sidx=selInd[art]\n",
        "            if r in sidx:\n",
        "                continue\n",
        "            scol=np.array(selCol[art])\n",
        "            reg =AllregTree[art]\n",
        "            serow=srow[0,scol].reshape(1,-1)\n",
        "            y_predicted.append( reg.predict(serow))\n",
        "               \n",
        "        yp = np.mean(y_predicted)\n",
        "                \n",
        "        oob.append( (yrow - yp)**2)\n",
        "\n",
        "       \n",
        "    oobList.append(np.mean(oob))\n",
        "        \n",
        "    return oobList"
      ],
      "execution_count": 0,
      "outputs": []
    },
    {
      "cell_type": "code",
      "metadata": {
        "colab_type": "code",
        "id": "MY6EczrxWIoA",
        "outputId": "cf8721b5-addc-4372-8120-76ff0f6e59d0",
        "colab": {
          "base_uri": "https://localhost:8080/",
          "height": 67
        }
      },
      "source": [
        "oob_30_list = main_function_OOB(X,y, AllregTree, selected_Ind, selected_Col)\n",
        "print(\"\\n The oob score of randomly created 30 samples is :\")\n",
        "print(oob_30_list)"
      ],
      "execution_count": 44,
      "outputs": [
        {
          "output_type": "stream",
          "text": [
            "\n",
            " The oob score of randomly created 30 samples is :\n",
            "[13.424591669111669]\n"
          ],
          "name": "stdout"
        }
      ]
    },
    {
      "cell_type": "markdown",
      "metadata": {
        "colab_type": "text",
        "id": "aSPxGRQ_WIoG"
      },
      "source": [
        "## Task 2 : Computing CI of OOB Score and Train MSE"
      ]
    },
    {
      "cell_type": "code",
      "metadata": {
        "colab_type": "code",
        "id": "zPo7_OV3WIoH",
        "colab": {}
      },
      "source": [
        "def calculate_Train_MSE_OOB (X,y, AllregTree, selected_Ind, selected_Col):\n",
        "    train_MSE = []\n",
        "    train_OOB = []\n",
        "    no_of_iteration = 35\n",
        "    for r in range(no_of_iteration):\n",
        "        new_mse = main_function_MSE(X,y, AllregTree, selected_Col)\n",
        "        new_oob = main_function_OOB(X,y, AllregTree, selected_Ind, selected_Col)\n",
        "        train_MSE.append(new_mse) \n",
        "        train_OOB.append(new_oob)\n",
        "    return train_MSE, train_OOB"
      ],
      "execution_count": 0,
      "outputs": []
    },
    {
      "cell_type": "code",
      "metadata": {
        "colab_type": "code",
        "id": "779H2pXWWIoJ",
        "colab": {}
      },
      "source": [
        "train_mse_list,train_oob_list = calculate_Train_MSE_OOB (X,y, AllregTree, selected_Ind, selected_Col)"
      ],
      "execution_count": 0,
      "outputs": []
    },
    {
      "cell_type": "code",
      "metadata": {
        "colab_type": "code",
        "id": "CYJxvFGpWIoM",
        "outputId": "a25f74b2-5ef2-4272-cf97-184a1946716c",
        "colab": {
          "base_uri": "https://localhost:8080/",
          "height": 34
        }
      },
      "source": [
        "MSE = np.array(train_mse_list)\n",
        "OOB =np.array(train_oob_list)\n",
        "MSE.shape, OOB.shape"
      ],
      "execution_count": 46,
      "outputs": [
        {
          "output_type": "execute_result",
          "data": {
            "text/plain": [
              "((35, 1), (35, 1))"
            ]
          },
          "metadata": {
            "tags": []
          },
          "execution_count": 46
        }
      ]
    },
    {
      "cell_type": "code",
      "metadata": {
        "id": "hbNVSuuL5Ehj",
        "colab_type": "code",
        "colab": {}
      },
      "source": [
        "mean_mse = np.mean(MSE)\n",
        "std_mse= np.std(MSE)\n",
        "std_error_mse = std_mse/np.sqrt(len(MSE))\n",
        "left_limit_mse  = mean_mse - 2*(std_error_mse)\n",
        "right_limit_mse = mean_mse + 2*(std_error_mse)\n",
        "catch_mse =(mean_mse <= right_limit_mse) and (mean_mse >= left_limit_mse)\n",
        "\n",
        "mean_oob = np.mean(OOB)\n",
        "std_oob = np.std(OOB)\n",
        "std_error_oob = std_oob/np.sqrt(len(OOB))\n",
        "left_limit_oob  = mean_oob - 2*(std_error_oob)\n",
        "right_limit_oob = mean_oob + 2*(std_error_oob)\n",
        "catch_oob =(mean_oob <= right_limit_oob) and (mean_oob >= left_limit_oob)"
      ],
      "execution_count": 0,
      "outputs": []
    },
    {
      "cell_type": "code",
      "metadata": {
        "colab_type": "code",
        "id": "2FlpbPOgWIoO",
        "colab": {}
      },
      "source": [
        "import matplotlib.pyplot as plt\n",
        "import seaborn as sns\n",
        "def plt_confidence_interval(data, sample_mean, population_std, color1):\n",
        "    sns.distplot(data, color=color1)\n",
        "    plt.axvline(data.mean(), linestyle=\"-\", color='k', label=\"p_mean\")\n",
        "    plt.axvline(sample_mean, linestyle=\"--\", color='m', label=\"s_mean\")\n",
        "    plt.axvline(sample_mean+2*(population_std/np.sqrt(100)), linestyle=\":\", color='g', label=\"s_mean+2*SE\")\n",
        "    plt.axvline(sample_mean-2*(population_std/np.sqrt(100)), linestyle=\":\", color='g', label=\"s_mean-2*SE\")\n",
        "    plt.legend()"
      ],
      "execution_count": 0,
      "outputs": []
    },
    {
      "cell_type": "markdown",
      "metadata": {
        "colab_type": "text",
        "id": "GDQ1JOqZWIoR"
      },
      "source": [
        "### 3. Graph plot for Train MSE List"
      ]
    },
    {
      "cell_type": "code",
      "metadata": {
        "id": "D9mkM_O35Ehr",
        "colab_type": "code",
        "outputId": "bcd4d145-2f76-4751-8ea1-3553a8374933",
        "colab": {
          "base_uri": "https://localhost:8080/",
          "height": 281
        }
      },
      "source": [
        "colrs =['blue','pink']\n",
        "plt_confidence_interval(MSE, mean_mse , std_error_mse, colrs[0])\n",
        "plt.title(\"MSE Confidence Interval Graph\")\n",
        "plt.show()"
      ],
      "execution_count": 49,
      "outputs": [
        {
          "output_type": "display_data",
          "data": {
            "image/png": "[encoded data removed]",
            "text/plain": [
              "<Figure size 432x288 with 1 Axes>"
            ]
          },
          "metadata": {
            "tags": [],
            "needs_background": "light"
          }
        }
      ]
    },
    {
      "cell_type": "markdown",
      "metadata": {
        "colab_type": "text",
        "id": "utq77xloWIoX"
      },
      "source": [
        "### 4. Graph plot for Train OOB List"
      ]
    },
    {
      "cell_type": "code",
      "metadata": {
        "id": "pSjnTKlB5Ehw",
        "colab_type": "code",
        "outputId": "1080f856-fb02-4de8-e54d-ba1fe9b6a884",
        "colab": {
          "base_uri": "https://localhost:8080/",
          "height": 281
        }
      },
      "source": [
        "plt_confidence_interval(OOB, mean_oob , std_error_oob, colrs[1])\n",
        "plt.title(\"OOB Confidence Interval Graph\")\n",
        "plt.show()"
      ],
      "execution_count": 50,
      "outputs": [
        {
          "output_type": "display_data",
          "data": {
            "image/png": "[encoded data removed]",
            "text/plain": [
              "<Figure size 432x288 with 1 Axes>"
            ]
          },
          "metadata": {
            "tags": [],
            "needs_background": "light"
          }
        }
      ]
    },
    {
      "cell_type": "code",
      "metadata": {
        "id": "gz2DaRwE5Eh4",
        "colab_type": "code",
        "outputId": "4ff590d9-76d9-408f-e5b0-eadbf25a6eb8",
        "colab": {
          "base_uri": "https://localhost:8080/",
          "height": 118
        }
      },
      "source": [
        "from prettytable import PrettyTable\n",
        "tb = PrettyTable()\n",
        "tb.field_names= (\"#samples\", \"Sample Size\", \"Sample mean\", \" Std error\",\"Left C.I\",\"Right C.I\",\"Catch\")\n",
        "tb.add_row([\"MSE \",len(MSE), mean_mse ,std_error_mse,left_limit_mse,right_limit_mse,catch_mse ])\n",
        "tb.add_row([\" OOB \",len(OOB),mean_oob,std_error_oob,left_limit_oob,right_limit_oob,catch_oob])\n",
        "\n",
        "print(tb.get_string(titles = \"Confidence Interval for MSE and OOB\"))"
      ],
      "execution_count": 51,
      "outputs": [
        {
          "output_type": "stream",
          "text": [
            "+----------+-------------+--------------------+------------------------+--------------------+--------------------+-------+\n",
            "| #samples | Sample Size |    Sample mean     |        Std error       |      Left C.I      |     Right C.I      | Catch |\n",
            "+----------+-------------+--------------------+------------------------+--------------------+--------------------+-------+\n",
            "|   MSE    |      35     | 2.3781190890365003 |          0.0           | 2.3781190890365003 | 2.3781190890365003 |  True |\n",
            "|   OOB    |      35     | 13.42459166911167  | 3.0025910814704436e-16 | 13.42459166911167  | 13.42459166911167  |  True |\n",
            "+----------+-------------+--------------------+------------------------+--------------------+--------------------+-------+\n"
          ],
          "name": "stdout"
        }
      ]
    },
    {
      "cell_type": "markdown",
      "metadata": {
        "colab_type": "text",
        "id": "Xbrp9lHiWIoh"
      },
      "source": [
        "## Task 3 : with single query point predict the price of house"
      ]
    },
    {
      "cell_type": "code",
      "metadata": {
        "colab_type": "code",
        "id": "HhMsGFc8WIoh",
        "colab": {}
      },
      "source": [
        "xq= [0.18,20.0,5.00,0.0,0.421,5.60,72.2,7.95,7.0,30.0,19.1,372.13,18.60]\n",
        "xq_array = np.asarray(xq)\n",
        "query_point = xq_array.reshape(1,-1)\n",
        "xq_size = query_point.shape[1]"
      ],
      "execution_count": 0,
      "outputs": []
    },
    {
      "cell_type": "code",
      "metadata": {
        "id": "fCPg7Na57d8o",
        "colab_type": "code",
        "outputId": "f3d15e98-e481-48cb-8ff0-4734b014e32c",
        "colab": {
          "base_uri": "https://localhost:8080/",
          "height": 34
        }
      },
      "source": [
        "\n",
        "for r in range(len(X)):\n",
        "        \n",
        "        y_predicted=[]\n",
        "        for art in range(len(AllregTree)):\n",
        "            scol=np.array(selected_Col[art])\n",
        "            reg =AllregTree[art]\n",
        "            serow=xq_array[scol].reshape(1,-1)\n",
        "            preY=reg.predict(serow)\n",
        "            y_predicted.append( preY )\n",
        "               \n",
        "        y_pred_mean = np.mean(y_predicted)\n",
        "        \n",
        "print(\"Predicted house price value for above query point is :\", y_pred_mean)"
      ],
      "execution_count": 31,
      "outputs": [
        {
          "output_type": "stream",
          "text": [
            "Predicted house price value for above query point is : 19.163055555555555\n"
          ],
          "name": "stdout"
        }
      ]
    }
  ]
}