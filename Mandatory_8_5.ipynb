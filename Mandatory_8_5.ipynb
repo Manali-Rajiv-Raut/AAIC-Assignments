{
 "cells": [
  {
   "cell_type": "markdown",
   "metadata": {},
   "source": [
    "# E. Implementing Decision Function of SVM RBF Kernel"
   ]
  },
  {
   "cell_type": "code",
   "execution_count": 1,
   "metadata": {},
   "outputs": [],
   "source": [
    "import numpy as np\n",
    "import pandas as pd\n",
    "from sklearn.datasets import make_classification\n",
    "from sklearn.svm import SVC\n",
    "import matplotlib.pyplot as plt"
   ]
  },
  {
   "cell_type": "code",
   "execution_count": 2,
   "metadata": {},
   "outputs": [],
   "source": [
    "X, y = make_classification(n_samples=5000, n_features=5, n_redundant=2,\n",
    "                           n_classes=2, weights=[0.7], class_sep=0.7, random_state=15)"
   ]
  },
  {
   "cell_type": "code",
   "execution_count": 3,
   "metadata": {},
   "outputs": [
    {
     "name": "stdout",
     "output_type": "stream",
     "text": [
      "(5000, 5)\n",
      "(5000,)\n"
     ]
    }
   ],
   "source": [
    "print(X.shape)\n",
    "print(y.shape)"
   ]
  },
  {
   "cell_type": "markdown",
   "metadata": {},
   "source": [
    "####  Split the data into  𝑋𝑡𝑟𝑎𝑖𝑛 (60),  𝑋𝑐𝑣 (20),  𝑋𝑡𝑒𝑠𝑡 (20)"
   ]
  },
  {
   "cell_type": "code",
   "execution_count": 4,
   "metadata": {},
   "outputs": [],
   "source": [
    "X_train, X_cv, X_test = np.split(X, [int(.6*len(X)), int(.8*len(X))])\n",
    "y_train, y_cv, y_test = np.split(y, [int(.6*len(y)), int(.8*len(y))])"
   ]
  },
  {
   "cell_type": "code",
   "execution_count": 5,
   "metadata": {},
   "outputs": [
    {
     "name": "stdout",
     "output_type": "stream",
     "text": [
      "(3000, 5)\n",
      "(1000, 5)\n",
      "(1000, 5)\n",
      "(3000,)\n",
      "(1000,)\n",
      "(1000,)\n"
     ]
    }
   ],
   "source": [
    "print(X_train.shape)\n",
    "print(X_cv.shape)\n",
    "print(X_test.shape)\n",
    "print(y_train.shape)\n",
    "print(y_cv.shape)\n",
    "print(y_test.shape)"
   ]
  },
  {
   "cell_type": "code",
   "execution_count": 6,
   "metadata": {},
   "outputs": [
    {
     "data": {
      "text/plain": [
       "SVC(C=100, cache_size=200, class_weight=None, coef0=0.0,\n",
       "  decision_function_shape='ovr', degree=3, gamma=0.001, kernel='rbf',\n",
       "  max_iter=-1, probability=False, random_state=None, shrinking=True,\n",
       "  tol=0.001, verbose=False)"
      ]
     },
     "execution_count": 6,
     "metadata": {},
     "output_type": "execute_result"
    }
   ],
   "source": [
    "clf = SVC(gamma=0.001, C=100)\n",
    "clf.fit(X_train, y_train)"
   ]
  },
  {
   "cell_type": "code",
   "execution_count": 7,
   "metadata": {},
   "outputs": [],
   "source": [
    "y_pred = clf.predict(X_test)\n",
    "support_vectors = clf.support_vectors_\n",
    "N = len(clf.support_vectors_)\n",
    "intercept = clf.intercept_\n",
    "alpha = clf.dual_coef_"
   ]
  },
  {
   "cell_type": "code",
   "execution_count": 8,
   "metadata": {},
   "outputs": [
    {
     "data": {
      "text/plain": [
       "538"
      ]
     },
     "execution_count": 8,
     "metadata": {},
     "output_type": "execute_result"
    }
   ],
   "source": [
    "len(alpha[0])"
   ]
  },
  {
   "cell_type": "code",
   "execution_count": 9,
   "metadata": {},
   "outputs": [],
   "source": [
    "def RBF_kernal(a,b):\n",
    "    rbf = 0\n",
    "    gamma = 0.001\n",
    "    l2_norm = np.linalg.norm(a-b)\n",
    "    rbf = np.exp(- gamma * (l2_norm**2))\n",
    "    return rbf"
   ]
  },
  {
   "cell_type": "code",
   "execution_count": 10,
   "metadata": {},
   "outputs": [],
   "source": [
    "#fcv= fcv + ((alpha[0][i] * (RBF_kernal_1(X_cv[i],X_cv[q]))) + intercept[0])\n",
    "def decision_function(X_cv,intercept,N): \n",
    "    fcv_list = []\n",
    "    \n",
    "    for q in range(len(X_cv)):\n",
    "        sum = 0\n",
    "        for s in range(len(support_vectors)):\n",
    "            sum = sum + alpha[0][s] * RBF_kernal(X_cv[q],support_vectors[s])\n",
    "        \n",
    "        final_sum = sum + intercept\n",
    "        fcv_list.append(final_sum)\n",
    "    return fcv_list  "
   ]
  },
  {
   "cell_type": "code",
   "execution_count": 11,
   "metadata": {},
   "outputs": [
    {
     "name": "stdout",
     "output_type": "stream",
     "text": [
      "1000\n"
     ]
    }
   ],
   "source": [
    "fcv_calculated = np.array(decision_function(X_cv,intercept,N))\n",
    "print(len(fcv_calculated))"
   ]
  },
  {
   "cell_type": "code",
   "execution_count": 12,
   "metadata": {},
   "outputs": [
    {
     "data": {
      "text/plain": [
       "array([[ 0.91901357],\n",
       "       [ 1.66158685],\n",
       "       [-2.07767   ],\n",
       "       [-2.57429854],\n",
       "       [-2.50803725],\n",
       "       [-2.95389177],\n",
       "       [ 1.4127627 ],\n",
       "       [-2.26160487],\n",
       "       [ 0.25485495],\n",
       "       [ 1.67789609]])"
      ]
     },
     "execution_count": 12,
     "metadata": {},
     "output_type": "execute_result"
    }
   ],
   "source": [
    "fcv_calculated[0:10]"
   ]
  },
  {
   "cell_type": "code",
   "execution_count": 13,
   "metadata": {},
   "outputs": [
    {
     "data": {
      "text/plain": [
       "1000"
      ]
     },
     "execution_count": 13,
     "metadata": {},
     "output_type": "execute_result"
    }
   ],
   "source": [
    "fcv = clf.decision_function(X_cv)\n",
    "len(fcv)"
   ]
  },
  {
   "cell_type": "code",
   "execution_count": 14,
   "metadata": {
    "scrolled": true
   },
   "outputs": [
    {
     "data": {
      "text/plain": [
       "array([ 0.91901357,  1.66158685, -2.07767   , -2.57429854, -2.50803725,\n",
       "       -2.95389177,  1.4127627 , -2.26160487,  0.25485495,  1.67789609])"
      ]
     },
     "execution_count": 14,
     "metadata": {},
     "output_type": "execute_result"
    }
   ],
   "source": [
    "fcv[0:10]"
   ]
  },
  {
   "cell_type": "markdown",
   "metadata": {},
   "source": [
    "Observation :\n",
    "    I have compared calculated fcv  and fcv wih the decision function. Both have exactly same values."
   ]
  },
  {
   "cell_type": "code",
   "execution_count": 15,
   "metadata": {},
   "outputs": [],
   "source": [
    "sign_val = np.sign(fcv_calculated)\n",
    "final_list_fcv = []\n",
    "for r in range(len(sign_val)):\n",
    "    if sign_val[r] >= 0 :\n",
    "        final_list_fcv.append(\"Positive\")\n",
    "    else :\n",
    "        final_list_fcv.append(\"Negative\")      "
   ]
  },
  {
   "cell_type": "code",
   "execution_count": 16,
   "metadata": {},
   "outputs": [
    {
     "data": {
      "text/plain": [
       "['Positive',\n",
       " 'Positive',\n",
       " 'Negative',\n",
       " 'Negative',\n",
       " 'Negative',\n",
       " 'Negative',\n",
       " 'Positive',\n",
       " 'Negative',\n",
       " 'Positive',\n",
       " 'Positive']"
      ]
     },
     "execution_count": 16,
     "metadata": {},
     "output_type": "execute_result"
    }
   ],
   "source": [
    "final_list_fcv[0:10]"
   ]
  },
  {
   "cell_type": "code",
   "execution_count": null,
   "metadata": {},
   "outputs": [],
   "source": []
  },
  {
   "cell_type": "markdown",
   "metadata": {},
   "source": [
    "# F: Implementing Platt Scaling to find P(Y==1|X)"
   ]
  },
  {
   "cell_type": "code",
   "execution_count": 17,
   "metadata": {},
   "outputs": [],
   "source": [
    "def sigmoid_function(w, x, b):\n",
    "    yp=np.dot(x,w.T)+b\n",
    "    return 1.0 / (1 + np.exp(-yp))"
   ]
  },
  {
   "cell_type": "code",
   "execution_count": 18,
   "metadata": {},
   "outputs": [],
   "source": [
    "def log_loss(w, b, X, Y,y_pos,y_neg):\n",
    "    N=len(X)\n",
    "    sum_log=0\n",
    "    \n",
    "    if N==1:\n",
    "        \n",
    "        sum_log += Y * np.log10(sigmoid_function(w, X, b)) + (1-Y) * np.log10(1-sigmoid_function(w, X, b))\n",
    "    else:\n",
    "        for i in range(N):\n",
    "            if Y[i]>0 :\n",
    "                Y[i] = y_pos\n",
    "            else:\n",
    "                Y[i] = y_neg\n",
    "            \n",
    "            sum_log += Y[i] * np.log10(sigmoid_function(w, X[i], b)) + (1-Y[i]) * np.log10(1-sigmoid_function(w, X[i], b))\n",
    "\n",
    "    return -1 * sum_log/N"
   ]
  },
  {
   "cell_type": "code",
   "execution_count": 19,
   "metadata": {},
   "outputs": [],
   "source": [
    "def sgd_Logistic_Regression(X_train, y_train, n_epochs,w,b,y_pos,y_neg):\n",
    "    eta0  = 0.0001\n",
    "    alpha = 0.0001\n",
    "    logloss_Train=[]\n",
    "    N=len(X_train)\n",
    "    \n",
    "    for epoch in range(0,n_epochs):\n",
    "       \n",
    "        for i in range(0,N):\n",
    "            Xi=X_train[i]\n",
    "            yi=y_train[i]\n",
    "                        \n",
    "            w = ((1- eta0 * (alpha / N)) * w)+((eta0 * Xi)*(yi - sigmoid_function(w,Xi,b)))\n",
    "            b = b + (eta0 * (yi-sigmoid_function(w,Xi,b)))\n",
    "        \n",
    "        train_loss = log_loss (w,b,X_train, y_train,y_pos,y_neg)\n",
    "        logloss_Train.append(train_loss)\n",
    "        \n",
    "    # Plot train error in each iteration\n",
    "    plt.figure()\n",
    "    plt.plot(np.array(logloss_Train), label='Train LogLoss')\n",
    "    #plt.plot(np.array(logloss_Test), label='Test LogLoss')\n",
    "    plt.title(\"SGD Log Loss per iteration\")\n",
    "    plt.xlabel(\"Number of iterations\")\n",
    "    plt.ylabel(\"Loss\")\n",
    "    plt.legend()\n",
    "    plt.show()\n",
    "    return w, b"
   ]
  },
  {
   "cell_type": "code",
   "execution_count": 20,
   "metadata": {},
   "outputs": [
    {
     "data": {
      "image/png": "[encoded data removed]",
      "text/plain": [
       "<Figure size 432x288 with 1 Axes>"
      ]
     },
     "metadata": {
      "needs_background": "light"
     },
     "output_type": "display_data"
    }
   ],
   "source": [
    "N_pos = 0\n",
    "N_neg = 0\n",
    "for r in range(len(final_list_fcv)):\n",
    "    if final_list_fcv[r] == 'Positive':\n",
    "        N_pos +=1\n",
    "    else:\n",
    "        N_neg +=1\n",
    "\n",
    "y_pos = (N_pos + 1)/(N_pos+2)\n",
    "y_neg = 1 /(N_neg +2)\n",
    "w = np.zeros_like(fcv_calculated[0])\n",
    "b = 0\n",
    "n_epochs=10\n",
    "#lr_rate=0.01\n",
    "w_optimal, b_optimal = sgd_Logistic_Regression(fcv_calculated, y_train,n_epochs,w,b,y_pos,y_neg)"
   ]
  },
  {
   "cell_type": "code",
   "execution_count": 21,
   "metadata": {},
   "outputs": [
    {
     "data": {
      "text/plain": [
       "(array([0.32211801]), (1,), -0.3692194129061505)"
      ]
     },
     "execution_count": 21,
     "metadata": {},
     "output_type": "execute_result"
    }
   ],
   "source": [
    "w_optimal, w_optimal.shape, b_optimal"
   ]
  },
  {
   "cell_type": "code",
   "execution_count": 22,
   "metadata": {},
   "outputs": [
    {
     "name": "stdout",
     "output_type": "stream",
     "text": [
      "1000\n"
     ]
    }
   ],
   "source": [
    "ftest_calculated = np.array(decision_function(X_test,b_optimal,N))\n",
    "print(len(ftest_calculated))"
   ]
  },
  {
   "cell_type": "code",
   "execution_count": 25,
   "metadata": {},
   "outputs": [
    {
     "data": {
      "text/plain": [
       "array([-3.6971949 , -5.52863654, -7.70077836, -2.53003421, -1.66431819,\n",
       "       -2.9082659 , -5.34052115, -6.26658636, -6.75085565, -5.29589637])"
      ]
     },
     "execution_count": 25,
     "metadata": {},
     "output_type": "execute_result"
    }
   ],
   "source": [
    "ftest_calculated[0:10]"
   ]
  },
  {
   "cell_type": "code",
   "execution_count": 65,
   "metadata": {},
   "outputs": [],
   "source": [
    "probability_list = []\n",
    "\n",
    "for r in range(len(y_test)):\n",
    "    if y_test[r] == 1 :\n",
    "        prob = 1 / (1 + np.exp(-((w_optimal* ftest_calculated[r])+ b_optimal)))\n",
    "        probability_list.append(prob)"
   ]
  },
  {
   "cell_type": "code",
   "execution_count": 67,
   "metadata": {},
   "outputs": [
    {
     "data": {
      "text/plain": [
       "314"
      ]
     },
     "execution_count": 67,
     "metadata": {},
     "output_type": "execute_result"
    }
   ],
   "source": [
    "len(probability_list)"
   ]
  },
  {
   "cell_type": "code",
   "execution_count": 68,
   "metadata": {},
   "outputs": [
    {
     "data": {
      "text/plain": [
       "[array([0.28795718]),\n",
       " array([0.21315289]),\n",
       " array([0.29075721]),\n",
       " array([0.29025363]),\n",
       " array([0.24039342]),\n",
       " array([0.24208809]),\n",
       " array([0.20802808]),\n",
       " array([0.33444646]),\n",
       " array([0.27859011]),\n",
       " array([0.27297395])]"
      ]
     },
     "execution_count": 68,
     "metadata": {},
     "output_type": "execute_result"
    }
   ],
   "source": [
    "probability_list[0:10]"
   ]
  },
  {
   "cell_type": "code",
   "execution_count": null,
   "metadata": {},
   "outputs": [],
   "source": []
  }
 ],
 "metadata": {
  "kernelspec": {
   "display_name": "Python 3",
   "language": "python",
   "name": "python3"
  },
  "language_info": {
   "codemirror_mode": {
    "name": "ipython",
    "version": 3
   },
   "file_extension": ".py",
   "mimetype": "text/x-python",
   "name": "python",
   "nbconvert_exporter": "python",
   "pygments_lexer": "ipython3",
   "version": "3.7.3"
  }
 },
 "nbformat": 4,
 "nbformat_minor": 2
}
