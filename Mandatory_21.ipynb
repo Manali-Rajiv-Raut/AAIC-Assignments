{
 "cells": [
  {
   "cell_type": "markdown",
   "metadata": {
    "colab_type": "text",
    "id": "h9464I-uxLiw"
   },
   "source": [
    "# Assignment"
   ]
  },
  {
   "cell_type": "markdown",
   "metadata": {
    "colab_type": "text",
    "id": "IvLvmewlxLix"
   },
   "source": [
    "<font face='georgia'>\n",
    "    \n",
    "   <h4><strong>What does tf-idf mean?</strong></h4>\n",
    "\n",
    "   <p>    \n",
    "Tf-idf stands for <em>term frequency-inverse document frequency</em>, and the tf-idf weight is a weight often used in information retrieval and text mining. This weight is a statistical measure used to evaluate how important a word is to a document in a collection or corpus. The importance increases proportionally to the number of times a word appears in the document but is offset by the frequency of the word in the corpus. Variations of the tf-idf weighting scheme are often used by search engines as a central tool in scoring and ranking a document's relevance given a user query.\n",
    "</p>\n",
    "    \n",
    "   <p>\n",
    "One of the simplest ranking functions is computed by summing the tf-idf for each query term; many more sophisticated ranking functions are variants of this simple model.\n",
    "</p>\n",
    "    \n",
    "   <p>\n",
    "Tf-idf can be successfully used for stop-words filtering in various subject fields including text summarization and classification.\n",
    "</p>\n",
    "    \n",
    "</font>"
   ]
  },
  {
   "cell_type": "markdown",
   "metadata": {
    "colab_type": "text",
    "id": "4XLaGFUMxLiy"
   },
   "source": [
    "<font face='georgia'>\n",
    "    <h4><strong>How to Compute:</strong></h4>\n",
    "\n",
    "Typically, the tf-idf weight is composed by two terms: the first computes the normalized Term Frequency (TF), aka. the number of times a word appears in a document, divided by the total number of words in that document; the second term is the Inverse Document Frequency (IDF), computed as the logarithm of the number of the documents in the corpus divided by the number of documents where the specific term appears.\n",
    "\n",
    " <ul>\n",
    "    <li>\n",
    "<strong>TF:</strong> Term Frequency, which measures how frequently a term occurs in a document. Since every document is different in length, it is possible that a term would appear much more times in long documents than shorter ones. Thus, the term frequency is often divided by the document length (aka. the total number of terms in the document) as a way of normalization: <br>\n",
    "\n",
    "$TF(t) = \\frac{\\text{Number of times term t appears in a document}}{\\text{Total number of terms in the document}}.$\n",
    "</li>\n",
    "<li>\n",
    "<strong>IDF:</strong> Inverse Document Frequency, which measures how important a term is. While computing TF, all terms are considered equally important. However it is known that certain terms, such as \"is\", \"of\", and \"that\", may appear a lot of times but have little importance. Thus we need to weigh down the frequent terms while scale up the rare ones, by computing the following: <br>\n",
    "\n",
    "$IDF(t) = \\log_{e}\\frac{\\text{Total  number of documents}} {\\text{Number of documents with term t in it}}.$\n",
    "for numerical stabiltiy we will be changing this formula little bit\n",
    "$IDF(t) = \\log_{e}\\frac{\\text{Total  number of documents}} {\\text{Number of documents with term t in it}+1}.$\n",
    "</li>\n",
    "</ul>\n",
    "\n",
    "<br>\n",
    "<h4><strong>Example</strong></h4>\n",
    "<p>\n",
    "\n",
    "Consider a document containing 100 words wherein the word cat appears 3 times. The term frequency (i.e., tf) for cat is then (3 / 100) = 0.03. Now, assume we have 10 million documents and the word cat appears in one thousand of these. Then, the inverse document frequency (i.e., idf) is calculated as log(10,000,000 / 1,000) = 4. Thus, the Tf-idf weight is the product of these quantities: 0.03 * 4 = 0.12.\n",
    "</p>\n",
    "</font>"
   ]
  },
  {
   "cell_type": "markdown",
   "metadata": {
    "colab_type": "text",
    "id": "dg2ooa4DxLiz"
   },
   "source": [
    "## Task-1"
   ]
  },
  {
   "cell_type": "markdown",
   "metadata": {
    "colab_type": "text",
    "id": "TAcTjhO8xLiz"
   },
   "source": [
    "<font face='georgia'>\n",
    "    <h4><strong>1. Build a TFIDF Vectorizer & compare its results with Sklearn:</strong></h4>\n",
    "\n",
    "<ul>\n",
    "    <li> As a part of this task you will be implementing TFIDF vectorizer on a collection of text documents.</li>\n",
    "    <br>\n",
    "    <li> You should compare the results of your own implementation of TFIDF vectorizer with that of sklearns implemenation TFIDF vectorizer.</li>\n",
    "    <br>\n",
    "    <li> Sklearn does few more tweaks in the implementation of its version of TFIDF vectorizer, so to replicate the exact results you would need to add following things to your custom implementation of tfidf vectorizer:\n",
    "       <ol>\n",
    "        <li> Sklearn has its vocabulary generated from idf sroted in alphabetical order</li>\n",
    "        <li> Sklearn formula of idf is different from the standard textbook formula. Here the constant <strong>\"1\"</strong> is added to the numerator and denominator of the idf as if an extra document was seen containing every term in the collection exactly once, which prevents zero divisions.\n",
    "            \n",
    " $IDF(t) = 1+\\log_{e}\\frac{1\\text{ }+\\text{ Total  number of documents in collection}} {1+\\text{Number of documents with term t in it}}.$\n",
    "        </li>\n",
    "        <li> Sklearn applies L2-normalization on its output matrix.</li>\n",
    "        <li> The final output of sklearn tfidf vectorizer is a sparse matrix.</li>\n",
    "    </ol>\n",
    "    <br>\n",
    "    <li>Steps to approach this task:\n",
    "    <ol>\n",
    "        <li> You would have to write both fit and transform methods for your custom implementation of tfidf vectorizer.</li>\n",
    "        <li> Print out the alphabetically sorted voacb after you fit your data and check if its the same as that of the feature names from sklearn tfidf vectorizer. </li>\n",
    "        <li> Print out the idf values from your implementation and check if its the same as that of sklearns tfidf vectorizer idf values. </li>\n",
    "        <li> Once you get your voacb and idf values to be same as that of sklearns implementation of tfidf vectorizer, proceed to the below steps. </li>\n",
    "        <li> Make sure the output of your implementation is a sparse matrix. Before generating the final output, you need to normalize your sparse matrix using L2 normalization. You can refer to this link https://scikit-learn.org/stable/modules/generated/sklearn.preprocessing.normalize.html </li>\n",
    "        <li> After completing the above steps, print the output of your custom implementation and compare it with sklearns implementation of tfidf vectorizer.</li>\n",
    "        <li> To check the output of a single document in your collection of documents,  you can convert the sparse matrix related only to that document into dense matrix and print it.</li>\n",
    "        </ol>\n",
    "    </li>\n",
    "    <br>\n",
    "   </ul>\n",
    "\n",
    "  <p> <font color=\"#e60000\"><strong>Note-1: </strong></font> All the necessary outputs of sklearns tfidf vectorizer have been provided as reference in this notebook, you can compare your outputs as mentioned in the above steps, with these outputs.<br>\n",
    "   <font color=\"#e60000\"><strong>Note-2: </strong></font> The output of your custom implementation and that of sklearns implementation would match only with the collection of document strings provided to you as reference in this notebook. It would not match for strings that contain capital letters or punctuations, etc, because sklearn version of tfidf vectorizer deals with such strings in a different way. To know further details about how sklearn tfidf vectorizer works with such string, you can always refer to its official documentation.<br>\n",
    "   <font color=\"#e60000\"><strong>Note-3: </strong></font> During this task, it would be helpful for you to debug the code you write with print statements wherever necessary. But when you are finally submitting the assignment, make sure your code is readable and try not to print things which are not part of this task.\n",
    "    </p>"
   ]
  },
  {
   "cell_type": "markdown",
   "metadata": {
    "colab_type": "text",
    "id": "OnV82tg1xLi0"
   },
   "source": [
    "### Corpus"
   ]
  },
  {
   "cell_type": "code",
   "execution_count": 1,
   "metadata": {
    "colab": {},
    "colab_type": "code",
    "id": "bUsYm9wjxLi1"
   },
   "outputs": [],
   "source": [
    "## SkLearn# Collection of string documents\n",
    "\n",
    "corpus = [\n",
    "     'this is the first document',\n",
    "     'this document is the second document',\n",
    "     'and this is the third one',\n",
    "     'is this the first document',\n",
    "]"
   ]
  },
  {
   "cell_type": "markdown",
   "metadata": {
    "colab_type": "text",
    "id": "eLwmFZfKxLi4"
   },
   "source": [
    "### SkLearn Implementation"
   ]
  },
  {
   "cell_type": "code",
   "execution_count": 2,
   "metadata": {
    "colab": {},
    "colab_type": "code",
    "id": "Np4dfQOkxLi4"
   },
   "outputs": [],
   "source": [
    "from sklearn.feature_extraction.text import TfidfVectorizer\n",
    "vectorizer = TfidfVectorizer()\n",
    "vectorizer.fit(corpus)\n",
    "skl_output = vectorizer.transform(corpus)"
   ]
  },
  {
   "cell_type": "code",
   "execution_count": 3,
   "metadata": {
    "colab": {},
    "colab_type": "code",
    "id": "-7Om8YpYxLi6",
    "outputId": "0a3bd0f5-4424-4400-944f-4482a80bd799"
   },
   "outputs": [
    {
     "name": "stdout",
     "output_type": "stream",
     "text": [
      "['and', 'document', 'first', 'is', 'one', 'second', 'the', 'third', 'this']\n"
     ]
    }
   ],
   "source": [
    "# sklearn feature names, they are sorted in alphabetic order by default.\n",
    "\n",
    "print(vectorizer.get_feature_names())"
   ]
  },
  {
   "cell_type": "code",
   "execution_count": 4,
   "metadata": {
    "colab": {},
    "colab_type": "code",
    "id": "dTKplK96xLi-",
    "outputId": "53722fa2-6756-4aa0-f179-37b578bb6890"
   },
   "outputs": [
    {
     "name": "stdout",
     "output_type": "stream",
     "text": [
      "[1.91629073 1.22314355 1.51082562 1.         1.91629073 1.91629073\n",
      " 1.         1.91629073 1.        ]\n"
     ]
    }
   ],
   "source": [
    "# Here we will print the sklearn tfidf vectorizer idf values after applying the fit method\n",
    "# After using the fit function on the corpus the vocab has 9 words in it, and each has its idf value.\n",
    "\n",
    "print(vectorizer.idf_)"
   ]
  },
  {
   "cell_type": "code",
   "execution_count": 5,
   "metadata": {
    "colab": {},
    "colab_type": "code",
    "id": "-CTiWHygxLjA",
    "outputId": "8d5a9cde-2c29-4afe-f7b4-1547e88dba4f"
   },
   "outputs": [
    {
     "data": {
      "text/plain": [
       "(4, 9)"
      ]
     },
     "execution_count": 5,
     "metadata": {},
     "output_type": "execute_result"
    }
   ],
   "source": [
    "# shape of sklearn tfidf vectorizer output after applying transform method.\n",
    "\n",
    "skl_output.shape"
   ]
  },
  {
   "cell_type": "code",
   "execution_count": 6,
   "metadata": {
    "colab": {},
    "colab_type": "code",
    "id": "bDKEpbA-xLjD",
    "outputId": "87dafd65-5313-443f-8c6e-1b05cc8c2543"
   },
   "outputs": [
    {
     "name": "stdout",
     "output_type": "stream",
     "text": [
      "  (0, 8)\t0.38408524091481483\n",
      "  (0, 6)\t0.38408524091481483\n",
      "  (0, 3)\t0.38408524091481483\n",
      "  (0, 2)\t0.5802858236844359\n",
      "  (0, 1)\t0.46979138557992045\n"
     ]
    }
   ],
   "source": [
    "# sklearn tfidf values for first line of the above corpus.\n",
    "# Here the output is a sparse matrix\n",
    "\n",
    "print(skl_output[0])"
   ]
  },
  {
   "cell_type": "code",
   "execution_count": 7,
   "metadata": {
    "colab": {},
    "colab_type": "code",
    "id": "3QWo34hexLjF",
    "outputId": "cdc04e08-989f-4bdc-dd7f-f1c82a9f90be"
   },
   "outputs": [
    {
     "name": "stdout",
     "output_type": "stream",
     "text": [
      "[[0.         0.46979139 0.58028582 0.38408524 0.         0.\n",
      "  0.38408524 0.         0.38408524]]\n"
     ]
    }
   ],
   "source": [
    "# sklearn tfidf values for first line of the above corpus.\n",
    "# To understand the output better, here we are converting the sparse output matrix to dense matrix and printing it.\n",
    "# Notice that this output is normalized using L2 normalization. sklearn does this by default.\n",
    "\n",
    "print(skl_output[0].toarray())"
   ]
  },
  {
   "cell_type": "markdown",
   "metadata": {
    "colab_type": "text",
    "id": "qfIwx5LzxLjI"
   },
   "source": [
    "### MY custom implementation"
   ]
  },
  {
   "cell_type": "code",
   "execution_count": 8,
   "metadata": {
    "colab": {},
    "colab_type": "code",
    "id": "HjuCcJwXxLjJ"
   },
   "outputs": [],
   "source": [
    "from collections import Counter\n",
    "from tqdm import tqdm\n",
    "from scipy.sparse import csr_matrix\n",
    "import math\n",
    "import operator\n",
    "from sklearn.preprocessing import normalize\n",
    "import numpy as np\n",
    "import warnings\n",
    "warnings.filterwarnings(\"ignore\")\n",
    "import pandas as pd\n",
    "import os\n",
    "import re"
   ]
  },
  {
   "cell_type": "code",
   "execution_count": 9,
   "metadata": {},
   "outputs": [],
   "source": [
    "# Preprocessing on the given daaset\n",
    "\n",
    "corpus = [\n",
    "     \"this is the first document\",\n",
    "     \"this document is the second document\",\n",
    "     \"and this is the third one\",\n",
    "     \"is this the first document\",\n",
    "]\n",
    "\n",
    "document = list()\n",
    "for line in corpus :\n",
    "     for l in re.split(r\"\\.\\s|\\?\\s|\\!\\s|\\n\",line):\n",
    "            if l:\n",
    "                document.append(l)\n",
    "#print(document)\n",
    "\n",
    "def lower_case(doc):\n",
    "    doc  = np.char.lower(doc)\n",
    "    return doc\n",
    "\n",
    "def punctionation(doc):\n",
    "    symbols = \"!\\\"#$%&()*+-./:;<=>?@[\\]^_`{|}~\\n\"\n",
    "    for i in symbols:\n",
    "        doc = np.char.replace(doc, i, '')\n",
    "    return doc\n",
    "\n",
    "def apostrophe (doc):\n",
    "    doc = np.char.replace(doc, \"'\", \"\") \n",
    "    return doc\n",
    "\n",
    "# preprocessing :\n",
    "document = lower_case(document)\n",
    "document = punctionation(document)\n",
    "document = apostrophe(document)\n",
    "#print(document)"
   ]
  },
  {
   "cell_type": "code",
   "execution_count": 10,
   "metadata": {},
   "outputs": [],
   "source": [
    "# calulation for BOW for each sentences from final document\n",
    "BOW_list = []\n",
    "for r in range (len(document)) :\n",
    "    BOW = document[r].split()\n",
    "    BOW_list.append(BOW)\n",
    " \n",
    "BOW = []\n",
    "for r in range(len(BOW_list)):\n",
    "    l =len( BOW_list[r])\n",
    "    BOW.append(l)\n",
    "#print(BOW)"
   ]
  },
  {
   "cell_type": "code",
   "execution_count": 11,
   "metadata": {},
   "outputs": [
    {
     "name": "stdout",
     "output_type": "stream",
     "text": [
      "['and', 'document', 'first', 'is', 'one', 'second', 'the', 'third', 'this']\n"
     ]
    }
   ],
   "source": [
    "# fit function for TF-IDF to find unique words\n",
    "\n",
    "def fit(dataset) :\n",
    "    unique_words = set()\n",
    "    \n",
    "    if isinstance(dataset,(list,)):\n",
    "        for row in dataset :\n",
    "            for word in row.split(\" \"):\n",
    "                if len(word)< 2 :\n",
    "                    continue\n",
    "                unique_words.add(word)\n",
    "        unique_words = sorted(list(unique_words))\n",
    "        vocab_list = [j for i,j in enumerate (unique_words)]                #vocab = list\n",
    "        vocab_dict ={ j:i for i , j in enumerate (unique_words) }          #vocab = dictionray\n",
    "        return vocab_list,vocab_dict\n",
    "        \n",
    "    else:\n",
    "        print(\"please plass the proper list of sentence\")\n",
    "                    \n",
    "vocab_list, vocab_dict = fit(corpus)\n",
    "print(vocab_list)"
   ]
  },
  {
   "cell_type": "code",
   "execution_count": 12,
   "metadata": {},
   "outputs": [
    {
     "name": "stderr",
     "output_type": "stream",
     "text": [
      "100%|██████████| 4/4 [00:00<?, ?it/s]\n"
     ]
    },
    {
     "name": "stdout",
     "output_type": "stream",
     "text": [
      "[[0 1 1 1 0 0 1 0 1]\n",
      " [0 2 0 1 0 1 1 0 1]\n",
      " [1 0 0 1 1 0 1 1 1]\n",
      " [0 1 1 1 0 0 1 0 1]]\n"
     ]
    }
   ],
   "source": [
    "# transform function for TF-IDF\n",
    "\n",
    "def transform(dataset,vocab):\n",
    "    rows = []\n",
    "    columns = []\n",
    "    values = []\n",
    "    if isinstance(dataset, (list,)):\n",
    "        for idx, row in enumerate(tqdm(dataset)): \n",
    "            \n",
    "            word_freq = dict(Counter(row.split()))\n",
    "            \n",
    "            for word, freq in word_freq.items():                 \n",
    "                if len(word) < 2:\n",
    "                    continue\n",
    "                \n",
    "                col_index = vocab.get(word, -1) \n",
    "                \n",
    "                if col_index !=-1:\n",
    "                    \n",
    "                    rows.append(idx)\n",
    "                    \n",
    "                    columns.append(col_index)\n",
    "                    \n",
    "                    values.append(freq)\n",
    "        return csr_matrix((values, (rows,columns)), shape=(len(dataset),len(vocab)))\n",
    "    else:\n",
    "        print(\"you need to pass list of strings\")\n",
    "        \n",
    "        \n",
    "mat = transform(corpus,vocab_dict).toarray()\n",
    "print(mat)\n",
    "\n",
    "# conversion of mat matrix into dictionary \n",
    "dictionary = [dict(zip(vocab_dict, values)) for values in mat[0:]]\n",
    "#print(dictionary)"
   ]
  },
  {
   "cell_type": "code",
   "execution_count": 13,
   "metadata": {},
   "outputs": [
    {
     "name": "stdout",
     "output_type": "stream",
     "text": [
      "{'and': 1, 'document': 3, 'first': 2, 'is': 4, 'one': 1, 'second': 1, 'the': 4, 'third': 1, 'this': 4}\n"
     ]
    }
   ],
   "source": [
    "#recode \n",
    "#calculation of word frequency of each unique word\n",
    "def cal_document_frequency(bow, vocab):\n",
    "    word_list = []\n",
    "    for v in range(len(vocab)) :\n",
    "        count = 0\n",
    "        for d in range(len(bow)):\n",
    "            if vocab[v] in bow[d]:\n",
    "                count = count+1\n",
    "        word_list.append(count)\n",
    "    return word_list       \n",
    "        \n",
    "DF_list  = cal_document_frequency(BOW_list, vocab_list)\n",
    "DF_dict = {vocab_list[i]: DF_list[i] for i in range(len(vocab_list))} \n",
    "print(DF_dict)"
   ]
  },
  {
   "cell_type": "code",
   "execution_count": 14,
   "metadata": {},
   "outputs": [
    {
     "name": "stdout",
     "output_type": "stream",
     "text": [
      "4\n"
     ]
    }
   ],
   "source": [
    "#calculation of term frquency(TF) for each sentence:\n",
    "tf_list = []\n",
    "for r in range (len(mat)):\n",
    "    tf = mat[r]/BOW[r]\n",
    "    tf_list.append(tf)\n",
    "#print(tf_list)\n",
    "# conversion of tf matrix into dictionary\n",
    "tf_dict =[ dict(zip(vocab_dict, values)) for values in tf_list[0:]]\n",
    "print(len(tf_dict))"
   ]
  },
  {
   "cell_type": "code",
   "execution_count": 15,
   "metadata": {},
   "outputs": [
    {
     "name": "stdout",
     "output_type": "stream",
     "text": [
      "[('and', 1.916290731874155), ('document', 1.2231435513142097), ('first', 1.5108256237659907), ('is', 1.0), ('one', 1.916290731874155), ('second', 1.916290731874155), ('the', 1.0), ('third', 1.916290731874155), ('this', 1.0)]\n"
     ]
    }
   ],
   "source": [
    "#calculate Inverse document frequency (IDF)\n",
    "def calculate_IDF(document, DF_dict):\n",
    "    IDF_dict = {}\n",
    "    N = len(document)\n",
    "    \n",
    "    IDF_dict = dict.fromkeys(IDF_dict,0)\n",
    "    for word, val in DF_dict.items():\n",
    "        IDF_dict[word] =  1+ (math.log((1+N) / (1+float(val))))\n",
    "    \n",
    "    return IDF_dict\n",
    "\n",
    "IDF_val = calculate_IDF(document, DF_dict)           # dictionary of idf value\n",
    "IDF_val_sorted = sorted(IDF_val.items())\n",
    "print(IDF_val_sorted)"
   ]
  },
  {
   "cell_type": "markdown",
   "metadata": {},
   "source": [
    "Observation : compared the result of IDF value with TfidfVectorizer for IDF values \n",
    "              each of vaocb unique word got the exact value for idf"
   ]
  },
  {
   "cell_type": "code",
   "execution_count": 16,
   "metadata": {},
   "outputs": [],
   "source": [
    "# calculation of tf-idf values\n",
    "\n",
    "def calculate_TF_IDF(tf,idf) :\n",
    "    tfidf_list = []\n",
    "    for word,val in tf.items():\n",
    "        tfidf = val * idf[word]\n",
    "        tfidf_list.append(tfidf)\n",
    "    return tfidf_list\n",
    "\n",
    "TF_IDF_list = []\n",
    "for r in range(len(tf_dict)):\n",
    "    row = calculate_TF_IDF(tf_dict[r], IDF_val)\n",
    "    TF_IDF_list.append(row)\n",
    "#print(TF_IDF_list)"
   ]
  },
  {
   "cell_type": "code",
   "execution_count": 17,
   "metadata": {},
   "outputs": [],
   "source": [
    "#conversion into matrix array\n",
    "matrix_tfidf = np.asarray(TF_IDF_list)\n",
    "#print(matrix_tfidf)"
   ]
  },
  {
   "cell_type": "code",
   "execution_count": 18,
   "metadata": {},
   "outputs": [],
   "source": [
    "#L2 Normalization\n",
    "t = normalize(matrix_tfidf, norm='l2', axis=1, copy=True, return_norm=False)\n",
    "#print(t)"
   ]
  },
  {
   "cell_type": "code",
   "execution_count": 19,
   "metadata": {},
   "outputs": [
    {
     "name": "stdout",
     "output_type": "stream",
     "text": [
      "(4, 9)\n"
     ]
    }
   ],
   "source": [
    "print(t.shape)"
   ]
  },
  {
   "cell_type": "code",
   "execution_count": 20,
   "metadata": {},
   "outputs": [
    {
     "name": "stdout",
     "output_type": "stream",
     "text": [
      "  (0, 1)\t0.4697913855799205\n",
      "  (0, 2)\t0.580285823684436\n",
      "  (0, 3)\t0.3840852409148149\n",
      "  (0, 6)\t0.3840852409148149\n",
      "  (0, 8)\t0.3840852409148149\n"
     ]
    }
   ],
   "source": [
    "# Sparse Matrix representation\n",
    "Sparse_matrix = csr_matrix(t[0])\n",
    "print(Sparse_matrix)"
   ]
  },
  {
   "cell_type": "code",
   "execution_count": 21,
   "metadata": {},
   "outputs": [
    {
     "name": "stdout",
     "output_type": "stream",
     "text": [
      "[0.         0.46979139 0.58028582 0.38408524 0.         0.\n",
      " 0.38408524 0.         0.38408524]\n"
     ]
    }
   ],
   "source": [
    "# convertion of the sparse output matrix to dense matrix\n",
    "print(np.asarray(t[0]))"
   ]
  },
  {
   "cell_type": "markdown",
   "metadata": {
    "colab_type": "text",
    "id": "MMxBmVZExLjK"
   },
   "source": [
    "## Task-2"
   ]
  },
  {
   "cell_type": "markdown",
   "metadata": {
    "colab_type": "text",
    "id": "51j_OtqAxLjL"
   },
   "source": [
    "<font face='georgia'>\n",
    "    <h4><strong>2. Implement max features functionality:</strong></h4>\n",
    "\n",
    "<ul>\n",
    "    <li> As a part of this task you have to modify your fit and transform functions so that your vocab will contain only 50 terms with top idf scores.</li>\n",
    "    <br>\n",
    "    <li>This task is similar to your previous task, just that here your vocabulary is limited to only top 50 features names based on their idf values. Basically your output will have exactly 50 columns and the number of rows will depend on the number of documents you have in your corpus.</li>\n",
    "    <br>\n",
    "    <li>Here you will be give a pickle file, with file name <strong>cleaned_strings</strong>. You would have to load the corpus from this file and use it as input to your tfidf vectorizer.</li>\n",
    "    <br>\n",
    "    <li>Steps to approach this task:\n",
    "    <ol>\n",
    "        <li> You would have to write both fit and transform methods for your custom implementation of tfidf vectorizer, just like in the previous task. Additionally, here you have to limit the number of features generated to 50 as described above.</li>\n",
    "        <li> Now sort your vocab based in descending order of idf values and print out the words in the sorted voacb after you fit your data. Here you should be getting only 50 terms in your vocab. And make sure to print idf values for each term in your vocab. </li>\n",
    "        <li> Make sure the output of your implementation is a sparse matrix. Before generating the final output, you need to normalize your sparse matrix using L2 normalization. You can refer to this link https://scikit-learn.org/stable/modules/generated/sklearn.preprocessing.normalize.html </li>\n",
    "        <li> Now check the output of a single document in your collection of documents,  you can convert the sparse matrix related only to that document into dense matrix and print it. And this dense matrix should contain 1 row and 50 columns. </li>\n",
    "        </ol>\n",
    "    </li>\n",
    "    <br>\n",
    "   </ul>"
   ]
  },
  {
   "cell_type": "markdown",
   "metadata": {},
   "source": [
    "## SKlearn Implementation for cleaned_strings File"
   ]
  },
  {
   "cell_type": "code",
   "execution_count": 26,
   "metadata": {},
   "outputs": [
    {
     "name": "stdout",
     "output_type": "stream",
     "text": [
      "Number of documents in corpus =  746\n"
     ]
    }
   ],
   "source": [
    "import pickle\n",
    "with open('cleaned_strings', 'rb') as f:\n",
    "    corpus = pickle.load(f)\n",
    "# printing the length of the corpus loaded\n",
    "\n",
    "#corpus_1=corpus[0:10]\n",
    "print(\"Number of documents in corpus = \",len(corpus))"
   ]
  },
  {
   "cell_type": "code",
   "execution_count": 27,
   "metadata": {},
   "outputs": [],
   "source": [
    "from sklearn.feature_extraction.text import TfidfVectorizer\n",
    "vectorizer = TfidfVectorizer().fit(corpus)\n",
    "features=vectorizer.get_feature_names()"
   ]
  },
  {
   "cell_type": "code",
   "execution_count": 28,
   "metadata": {},
   "outputs": [
    {
     "data": {
      "text/plain": [
       "array([6.922918  , 6.922918  , 6.22977082, ..., 6.922918  , 6.5174529 ,\n",
       "       6.922918  ])"
      ]
     },
     "execution_count": 28,
     "metadata": {},
     "output_type": "execute_result"
    }
   ],
   "source": [
    "vectorizer.idf_"
   ]
  },
  {
   "cell_type": "code",
   "execution_count": 29,
   "metadata": {},
   "outputs": [
    {
     "name": "stdout",
     "output_type": "stream",
     "text": [
      "['leading', 'flaw', 'flashbacks', 'flaming', 'flakes', 'flag', 'five', 'fit', 'fisted', 'fishnet', 'fish', 'first', 'fire', 'finished', 'fingernails', 'finest', 'fine', 'finds', 'find', 'financial', 'finally', 'flat', 'flawed', 'glad', 'flaws', 'ford', 'forces', 'forced', 'force', 'football', 'footage', 'foolish', 'follows', 'following', 'follow', 'fodder', 'focus', 'flynn', 'flying', 'flowed', 'florida', 'flicks', 'flick', 'fleshed', 'finale', 'final', 'films', 'filmography', 'fear', 'favourite']\n"
     ]
    }
   ],
   "source": [
    "sorted_idf = sorted(vectorizer.idf_ , reverse = True)\n",
    "top_no_features = 50\n",
    "indices = np.argsort(sorted_idf)[::-1]\n",
    "top_features = [features[i] for i in indices[:top_no_features]]\n",
    "print (top_features)"
   ]
  },
  {
   "cell_type": "code",
   "execution_count": 57,
   "metadata": {},
   "outputs": [
    {
     "data": {
      "text/plain": [
       "array([4.23867845, 4.23867845, 4.23867845, 4.23867845, 4.23867845,\n",
       "       4.23867845, 4.23867845, 4.23867845, 4.23867845, 4.23867845,\n",
       "       4.23867845, 4.23867845, 4.23867845, 4.23867845, 4.23867845,\n",
       "       4.23867845, 4.23867845, 4.23867845, 4.23867845, 4.23867845,\n",
       "       4.23867845, 4.23867845, 4.23867845, 4.23867845, 4.23867845,\n",
       "       4.23867845, 4.23867845, 4.23867845, 4.23867845, 4.23867845,\n",
       "       4.23867845, 4.23867845, 4.23867845, 4.23867845, 4.23867845,\n",
       "       4.23867845, 4.23867845, 4.23867845, 4.23867845, 4.23867845,\n",
       "       4.23867845, 4.23867845, 4.23867845, 4.23867845, 4.23867845,\n",
       "       4.23867845, 4.23867845, 4.23867845, 4.23867845, 4.23867845])"
      ]
     },
     "execution_count": 57,
     "metadata": {},
     "output_type": "execute_result"
    }
   ],
   "source": [
    "new_vocab = TfidfVectorizer().fit(top_features)\n",
    "sparse = new_vocab.transform(corpus)\n",
    "new_vocab.idf_"
   ]
  },
  {
   "cell_type": "code",
   "execution_count": 31,
   "metadata": {},
   "outputs": [
    {
     "data": {
      "text/plain": [
       "(746, 50)"
      ]
     },
     "execution_count": 31,
     "metadata": {},
     "output_type": "execute_result"
    }
   ],
   "source": [
    "sparse.shape"
   ]
  },
  {
   "cell_type": "code",
   "execution_count": 32,
   "metadata": {},
   "outputs": [
    {
     "name": "stdout",
     "output_type": "stream",
     "text": [
      "  (0, 25)\t1.0\n"
     ]
    }
   ],
   "source": [
    "print(sparse[1])"
   ]
  },
  {
   "cell_type": "code",
   "execution_count": 33,
   "metadata": {},
   "outputs": [
    {
     "name": "stdout",
     "output_type": "stream",
     "text": [
      "[[0. 0. 0. 0. 0. 0. 0. 0. 0. 0. 0. 0. 0. 0. 0. 0. 0. 0. 0. 0. 0. 0. 0. 0.\n",
      "  0. 1. 0. 0. 0. 0. 0. 0. 0. 0. 0. 0. 0. 0. 0. 0. 0. 0. 0. 0. 0. 0. 0. 0.\n",
      "  0. 0.]]\n"
     ]
    }
   ],
   "source": [
    "print(sparse[1].toarray())"
   ]
  },
  {
   "cell_type": "markdown",
   "metadata": {},
   "source": [
    "### My implementation of task 2"
   ]
  },
  {
   "cell_type": "code",
   "execution_count": 34,
   "metadata": {},
   "outputs": [
    {
     "name": "stdout",
     "output_type": "stream",
     "text": [
      "746\n"
     ]
    }
   ],
   "source": [
    "# calulation for BOW for each sentences from final document\n",
    "final_document = corpus\n",
    "BOW_list = []\n",
    "for r in range (len(final_document)) :\n",
    "    BOW = final_document[r].split()\n",
    "    BOW_list.append(BOW)\n",
    "    \n",
    "BOW = []\n",
    "for r in range(len(BOW_list)):\n",
    "    l =len( BOW_list[r])\n",
    "    BOW.append(l)\n",
    "print(len(BOW))"
   ]
  },
  {
   "cell_type": "code",
   "execution_count": 35,
   "metadata": {},
   "outputs": [
    {
     "name": "stdout",
     "output_type": "stream",
     "text": [
      "2886\n"
     ]
    }
   ],
   "source": [
    "# fit function for TF-IDF to find the vocabulary\n",
    "from sklearn.feature_extraction.text import TfidfVectorizer\n",
    "def fit(dataset) :\n",
    "    unique_words = set()\n",
    "    \n",
    "    if isinstance(dataset,(list,)):\n",
    "        for row in dataset :\n",
    "            for word in row.split(\" \"):\n",
    "                if len(word)< 2 :\n",
    "                    continue\n",
    "                else:\n",
    "                    unique_words.add(word)\n",
    "        unique_words = sorted(list(unique_words))\n",
    "        vocab_list = [j for i,j in enumerate (unique_words)]                #vocab = list\n",
    "        vocab_dict ={ j:i for i , j in enumerate (unique_words) }          #vocab = dictionray\n",
    "        return vocab_list,vocab_dict\n",
    "        \n",
    "    else:\n",
    "        print(\"please plass the proper list of sentence\")\n",
    "                    \n",
    "vocab_list, vocab_dict = fit(corpus)\n",
    "print(len(vocab_list))"
   ]
  },
  {
   "cell_type": "code",
   "execution_count": 36,
   "metadata": {},
   "outputs": [
    {
     "name": "stderr",
     "output_type": "stream",
     "text": [
      "100%|██████████| 746/746 [00:00<00:00, 61323.12it/s]\n"
     ]
    },
    {
     "name": "stdout",
     "output_type": "stream",
     "text": [
      "[[0 0 0 ... 0 0 0]\n",
      " [0 0 0 ... 0 0 0]\n",
      " [0 0 0 ... 0 0 0]\n",
      " ...\n",
      " [0 0 0 ... 0 0 0]\n",
      " [0 0 0 ... 0 0 0]\n",
      " [0 0 0 ... 0 0 0]]\n"
     ]
    }
   ],
   "source": [
    "# transform function for TF-IDF\n",
    "\n",
    "def transform(dataset,vocab):\n",
    "    rows = []\n",
    "    columns = []\n",
    "    values = []\n",
    "    if isinstance(dataset, (list,)):\n",
    "        for idx, row in enumerate(tqdm(dataset)): \n",
    "            word_freq = dict(Counter(row.split()))\n",
    "            for word, freq in word_freq.items():                 \n",
    "                if len(word) < 2:\n",
    "                    continue\n",
    "                col_index = vocab.get(word, -1) \n",
    "                if col_index !=-1:\n",
    "                    rows.append(idx)\n",
    "                    columns.append(col_index)\n",
    "                    values.append(freq)\n",
    "        return csr_matrix((values, (rows,columns)), shape=(len(dataset),len(vocab)))\n",
    "    else:\n",
    "        print(\"you need to pass list of strings\")\n",
    "        \n",
    "        \n",
    "mat = transform(corpus,vocab_dict).toarray()\n",
    "print(mat)"
   ]
  },
  {
   "cell_type": "code",
   "execution_count": 37,
   "metadata": {},
   "outputs": [],
   "source": [
    "#calculation of word frequency of each unique word\n",
    "def cal_document_frequency(bow, vocab):\n",
    "    word_list = []\n",
    "    for v in range(len(vocab)) :\n",
    "        count = 0\n",
    "        for d in range(len(bow)):\n",
    "            if vocab[v] in bow[d]:\n",
    "                count = count+1\n",
    "            \n",
    "        word_list.append(count)\n",
    "    return word_list       \n",
    "        \n",
    "DF_list  = cal_document_frequency(BOW_list, vocab_list)\n",
    "DF_dict = {vocab_list[i]: DF_list[i] for i in range(len(vocab_list))} \n",
    "#print(DF_dict)"
   ]
  },
  {
   "cell_type": "code",
   "execution_count": 38,
   "metadata": {},
   "outputs": [
    {
     "name": "stdout",
     "output_type": "stream",
     "text": [
      "746\n"
     ]
    }
   ],
   "source": [
    "# calculation of term frquency(TF) for each sentence:\n",
    "tf_list = []\n",
    "for r in range (len(mat)):\n",
    "    tf = mat[r]/BOW[r]\n",
    "    tf_list.append(tf)\n",
    "# conversion of tf matrix into dictionary\n",
    "tf_dict =[ dict(zip(vocab_list, values)) for values in tf_list[0:]]\n",
    "print(len(tf_dict))"
   ]
  },
  {
   "cell_type": "code",
   "execution_count": 39,
   "metadata": {},
   "outputs": [],
   "source": [
    "#calculate Inverse document frequency (IDF)\n",
    "def calculate_IDF(document, DF):\n",
    "    IDF_dict = {}\n",
    "    N = len(document)\n",
    "    IDF_dict = dict.fromkeys(IDF_dict,0)\n",
    "    for word, val in DF.items():\n",
    "        IDF_dict[word] = 1+(math.log((1+N) / (1+float(val))))\n",
    "    return IDF_dict\n",
    "\n",
    "IDF_val = calculate_IDF(final_document, DF_dict)                                           # dictionary of idf value\n",
    "IDF_val_sorted = sorted(IDF_val.values(),reverse = True)"
   ]
  },
  {
   "cell_type": "code",
   "execution_count": 40,
   "metadata": {},
   "outputs": [
    {
     "name": "stdout",
     "output_type": "stream",
     "text": [
      "['leading', 'flaw', 'flashbacks', 'flaming', 'flakes', 'flag', 'five', 'fit', 'fisted', 'fishnet', 'fish', 'first', 'fire', 'finished', 'fingernails', 'finest', 'fine', 'finds', 'find', 'financial', 'finally', 'flat', 'flawed', 'glad', 'flaws', 'ford', 'forces', 'forced', 'force', 'football', 'footage', 'foolish', 'follows', 'following', 'follow', 'fodder', 'focus', 'flynn', 'flying', 'flowed', 'florida', 'flicks', 'flick', 'fleshed', 'finale', 'final', 'films', 'filmography', 'fear', 'favourite']\n"
     ]
    }
   ],
   "source": [
    "indices = np.argsort(IDF_val_sorted)[::-1]\n",
    "top_features_50 = [vocab_list[i] for i in indices[:top_no_features]]\n",
    "print (top_features_50)"
   ]
  },
  {
   "cell_type": "markdown",
   "metadata": {},
   "source": [
    "Observaion : Compared my implemneted top 50 features with TFIDF vectorizer feaures. They are exactly equal."
   ]
  },
  {
   "cell_type": "code",
   "execution_count": 42,
   "metadata": {},
   "outputs": [
    {
     "data": {
      "text/plain": [
       "50"
      ]
     },
     "execution_count": 42,
     "metadata": {},
     "output_type": "execute_result"
    }
   ],
   "source": [
    "new_vocab_list , new_vocab_dict = fit(top_features_50)\n",
    "len(new_vocab_list)"
   ]
  },
  {
   "cell_type": "code",
   "execution_count": 43,
   "metadata": {},
   "outputs": [
    {
     "name": "stderr",
     "output_type": "stream",
     "text": [
      "100%|██████████| 746/746 [00:00<00:00, 84806.91it/s]\n"
     ]
    },
    {
     "name": "stdout",
     "output_type": "stream",
     "text": [
      "[[0 0 0 ... 0 0 0]\n",
      " [0 0 0 ... 0 0 0]\n",
      " [0 0 0 ... 0 0 0]\n",
      " ...\n",
      " [0 0 0 ... 0 0 0]\n",
      " [0 0 0 ... 0 0 0]\n",
      " [0 0 0 ... 0 0 0]]\n"
     ]
    }
   ],
   "source": [
    "mat_50 = transform(corpus,new_vocab_dict).toarray()\n",
    "print(mat_50)"
   ]
  },
  {
   "cell_type": "code",
   "execution_count": 44,
   "metadata": {},
   "outputs": [],
   "source": [
    "DF_list_50  = cal_document_frequency(BOW_list, new_vocab_list)\n",
    "DF_dict_50 = {new_vocab_list[i]: DF_list_50[i] for i in range(len(new_vocab_list))} "
   ]
  },
  {
   "cell_type": "code",
   "execution_count": 46,
   "metadata": {},
   "outputs": [],
   "source": [
    "# calculation of term frquency(TF) for each sentence:\n",
    "tf_list_50 = []\n",
    "for r in range (len(mat)):\n",
    "    tf = mat_50[r]/BOW[r]\n",
    "    tf_list_50.append(tf)\n",
    "\n",
    "tf_dict_50 =[ dict(zip(new_vocab_list, values)) for values in tf_list_50[0:]]"
   ]
  },
  {
   "cell_type": "code",
   "execution_count": 61,
   "metadata": {},
   "outputs": [
    {
     "name": "stdout",
     "output_type": "stream",
     "text": [
      "{'favourite': 3.545531271604435, 'fear': 3.545531271604435, 'filmography': 4.238678452164381, 'films': 1.9873866535578852, 'final': 3.545531271604435, 'finale': 4.238678452164381, 'finally': 3.545531271604435, 'financial': 4.238678452164381, 'find': 2.5339303599259555, 'finds': 4.238678452164381, 'fine': 3.1400661634962708, 'finest': 4.238678452164381, 'fingernails': 4.238678452164381, 'finished': 4.238678452164381, 'fire': 4.238678452164381, 'first': 2.5339303599259555, 'fish': 4.238678452164381, 'fishnet': 4.238678452164381, 'fisted': 4.238678452164381, 'fit': 4.238678452164381, 'five': 3.833213344056216, 'flag': 4.238678452164381, 'flakes': 4.238678452164381, 'flaming': 4.238678452164381, 'flashbacks': 4.238678452164381, 'flat': 3.833213344056216, 'flaw': 4.238678452164381, 'flawed': 3.833213344056216, 'flaws': 3.833213344056216, 'fleshed': 4.238678452164381, 'flick': 3.1400661634962708, 'flicks': 4.238678452164381, 'florida': 4.238678452164381, 'flowed': 4.238678452164381, 'flying': 4.238678452164381, 'flynn': 3.833213344056216, 'focus': 3.833213344056216, 'fodder': 4.238678452164381, 'follow': 3.545531271604435, 'following': 3.833213344056216, 'follows': 4.238678452164381, 'foolish': 4.238678452164381, 'footage': 3.545531271604435, 'football': 4.238678452164381, 'force': 4.238678452164381, 'forced': 4.238678452164381, 'forces': 3.833213344056216, 'ford': 4.238678452164381, 'glad': 3.545531271604435, 'leading': 4.238678452164381}\n"
     ]
    }
   ],
   "source": [
    "#calculate Inverse document frequency (IDF)\n",
    "IDF_val_50 = calculate_IDF(new_vocab_list, DF_dict_50)                                           # dictionary of idf value\n",
    "IDF_val_sorted = sorted(IDF_val_50.values(),reverse = True)\n",
    "print(IDF_val_50)"
   ]
  },
  {
   "cell_type": "code",
   "execution_count": 62,
   "metadata": {},
   "outputs": [],
   "source": [
    "# calculation of tf-idf values\n",
    "def calculate_TF_IDF(tf,idf) :\n",
    "    tfidf_list = []\n",
    "    for word,val in tf.items():\n",
    "        if word in idf:\n",
    "            tfidf = val * idf[word]\n",
    "        else:\n",
    "            tfidf = 0.0\n",
    "            \n",
    "        tfidf_list.append(tfidf)\n",
    "    return tfidf_list\n",
    "\n",
    "TF_IDF_list_50 = []\n",
    "for r in range(len(tf_dict_50)):\n",
    "    row = calculate_TF_IDF(tf_dict_50[r], IDF_val_50)\n",
    "    TF_IDF_list_50.append(row)"
   ]
  },
  {
   "cell_type": "code",
   "execution_count": 63,
   "metadata": {},
   "outputs": [
    {
     "name": "stdout",
     "output_type": "stream",
     "text": [
      "[[0. 0. 0. ... 0. 0. 0.]\n",
      " [0. 0. 0. ... 0. 0. 0.]\n",
      " [0. 0. 0. ... 0. 0. 0.]\n",
      " ...\n",
      " [0. 0. 0. ... 0. 0. 0.]\n",
      " [0. 0. 0. ... 0. 0. 0.]\n",
      " [0. 0. 0. ... 0. 0. 0.]]\n"
     ]
    }
   ],
   "source": [
    "#conversion into matrix array\n",
    "matrix_tfidf_50 = np.asarray(TF_IDF_list_50)\n",
    "#L2 Normalization\n",
    "t_50 = normalize(matrix_tfidf_50, norm='l2', axis=1, copy=True, return_norm=False)\n",
    "print(t_50)"
   ]
  },
  {
   "cell_type": "code",
   "execution_count": 64,
   "metadata": {},
   "outputs": [
    {
     "name": "stdout",
     "output_type": "stream",
     "text": [
      "  (0, 25)\t1.0\n"
     ]
    }
   ],
   "source": [
    "# Sparse Matrix representation\n",
    "Sparse_matrix = csr_matrix(t_50)\n",
    "print(Sparse_matrix[1])"
   ]
  },
  {
   "cell_type": "code",
   "execution_count": 65,
   "metadata": {},
   "outputs": [
    {
     "name": "stdout",
     "output_type": "stream",
     "text": [
      "[0. 0. 0. 0. 0. 0. 0. 0. 0. 0. 0. 0. 0. 0. 0. 0. 0. 0. 0. 0. 0. 0. 0. 0.\n",
      " 0. 1. 0. 0. 0. 0. 0. 0. 0. 0. 0. 0. 0. 0. 0. 0. 0. 0. 0. 0. 0. 0. 0. 0.\n",
      " 0. 0.]\n"
     ]
    }
   ],
   "source": [
    "# convertion of the sparse output matrix to dense matrix\n",
    "print(np.asarray(t_50[1]))"
   ]
  },
  {
   "cell_type": "markdown",
   "metadata": {},
   "source": [
    "Observation : compared the values of sparse matrix of bothe the two implementation. The values are exactly same."
   ]
  },
  {
   "cell_type": "code",
   "execution_count": null,
   "metadata": {},
   "outputs": [],
   "source": []
  }
 ],
 "metadata": {
  "colab": {
   "collapsed_sections": [],
   "name": "Assignment_3_Instructions.ipynb",
   "provenance": [],
   "version": "0.3.2"
  },
  "kernelspec": {
   "display_name": "Python 3",
   "language": "python",
   "name": "python3"
  },
  "language_info": {
   "codemirror_mode": {
    "name": "ipython",
    "version": 3
   },
   "file_extension": ".py",
   "mimetype": "text/x-python",
   "name": "python",
   "nbconvert_exporter": "python",
   "pygments_lexer": "ipython3",
   "version": "3.7.3"
  }
 },
 "nbformat": 4,
 "nbformat_minor": 1
}
